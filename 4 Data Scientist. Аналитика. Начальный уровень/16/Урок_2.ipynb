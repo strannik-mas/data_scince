{
  "nbformat": 4,
  "nbformat_minor": 0,
  "metadata": {
    "kernelspec": {
      "display_name": "Python 3",
      "language": "python",
      "name": "python3"
    },
    "language_info": {
      "codemirror_mode": {
        "name": "ipython",
        "version": 3
      },
      "file_extension": ".py",
      "mimetype": "text/x-python",
      "name": "python",
      "nbconvert_exporter": "python",
      "pygments_lexer": "ipython3",
      "version": "3.7.4"
    },
    "colab": {
      "provenance": [],
      "toc_visible": true
    }
  },
  "cells": [
    {
      "cell_type": "markdown",
      "metadata": {
        "id": "zTshKYDsWREH"
      },
      "source": [
        "# Чтение и запись данных\n",
        "\n",
        "## Урок 2. Чтение данных в формате CSV\n",
        "\n",
        "CSV (Comma-Separated Values, значения, разделённые запятыми) — текстовый файл, позволяющий хранить табличные данные. Каждая строка файла представляет собой строку таблицы, а столбцы внутри каждой таблицы разделены запятыми.\n",
        "\n",
        "### Чтение файла"
      ]
    },
    {
      "cell_type": "code",
      "metadata": {
        "id": "PmtEGq8vWREM"
      },
      "source": [
        "import pandas as pd"
      ],
      "execution_count": null,
      "outputs": []
    },
    {
      "cell_type": "code",
      "metadata": {
        "id": "KdXUZw2EWREj",
        "outputId": "745ce5a1-ebf6-4208-8a29-960dce7e8833"
      },
      "source": [
        "df = pd.read_csv('2-1.csv')\n",
        "df.head()"
      ],
      "execution_count": null,
      "outputs": [
        {
          "output_type": "execute_result",
          "data": {
            "text/html": [
              "<div>\n",
              "<style scoped>\n",
              "    .dataframe tbody tr th:only-of-type {\n",
              "        vertical-align: middle;\n",
              "    }\n",
              "\n",
              "    .dataframe tbody tr th {\n",
              "        vertical-align: top;\n",
              "    }\n",
              "\n",
              "    .dataframe thead th {\n",
              "        text-align: right;\n",
              "    }\n",
              "</style>\n",
              "<table border=\"1\" class=\"dataframe\">\n",
              "  <thead>\n",
              "    <tr style=\"text-align: right;\">\n",
              "      <th></th>\n",
              "      <th>Date</th>\n",
              "      <th>Country</th>\n",
              "      <th>State</th>\n",
              "      <th>City</th>\n",
              "      <th>AvgTemperature</th>\n",
              "    </tr>\n",
              "  </thead>\n",
              "  <tbody>\n",
              "    <tr>\n",
              "      <th>0</th>\n",
              "      <td>2012-01-01</td>\n",
              "      <td>US</td>\n",
              "      <td>Alabama</td>\n",
              "      <td>Birmingham</td>\n",
              "      <td>59.1</td>\n",
              "    </tr>\n",
              "    <tr>\n",
              "      <th>1</th>\n",
              "      <td>2012-01-02</td>\n",
              "      <td>US</td>\n",
              "      <td>Alabama</td>\n",
              "      <td>Birmingham</td>\n",
              "      <td>43.0</td>\n",
              "    </tr>\n",
              "    <tr>\n",
              "      <th>2</th>\n",
              "      <td>2012-01-03</td>\n",
              "      <td>US</td>\n",
              "      <td>Alabama</td>\n",
              "      <td>Birmingham</td>\n",
              "      <td>30.9</td>\n",
              "    </tr>\n",
              "    <tr>\n",
              "      <th>3</th>\n",
              "      <td>2012-01-04</td>\n",
              "      <td>US</td>\n",
              "      <td>Alabama</td>\n",
              "      <td>Birmingham</td>\n",
              "      <td>34.7</td>\n",
              "    </tr>\n",
              "    <tr>\n",
              "      <th>4</th>\n",
              "      <td>2012-01-05</td>\n",
              "      <td>US</td>\n",
              "      <td>Alabama</td>\n",
              "      <td>Birmingham</td>\n",
              "      <td>44.1</td>\n",
              "    </tr>\n",
              "  </tbody>\n",
              "</table>\n",
              "</div>"
            ],
            "text/plain": [
              "         Date Country    State        City  AvgTemperature\n",
              "0  2012-01-01      US  Alabama  Birmingham            59.1\n",
              "1  2012-01-02      US  Alabama  Birmingham            43.0\n",
              "2  2012-01-03      US  Alabama  Birmingham            30.9\n",
              "3  2012-01-04      US  Alabama  Birmingham            34.7\n",
              "4  2012-01-05      US  Alabama  Birmingham            44.1"
            ]
          },
          "metadata": {
            "tags": []
          },
          "execution_count": 2
        }
      ]
    },
    {
      "cell_type": "code",
      "metadata": {
        "id": "rfQM7WSIWRE2",
        "outputId": "cd5d5933-238e-4636-bb51-4cd49e82d765"
      },
      "source": [
        "df = pd.read_csv('2-2.csv', sep=';')\n",
        "df.head()"
      ],
      "execution_count": null,
      "outputs": [
        {
          "output_type": "execute_result",
          "data": {
            "text/html": [
              "<div>\n",
              "<style scoped>\n",
              "    .dataframe tbody tr th:only-of-type {\n",
              "        vertical-align: middle;\n",
              "    }\n",
              "\n",
              "    .dataframe tbody tr th {\n",
              "        vertical-align: top;\n",
              "    }\n",
              "\n",
              "    .dataframe thead th {\n",
              "        text-align: right;\n",
              "    }\n",
              "</style>\n",
              "<table border=\"1\" class=\"dataframe\">\n",
              "  <thead>\n",
              "    <tr style=\"text-align: right;\">\n",
              "      <th></th>\n",
              "      <th>Date</th>\n",
              "      <th>Country</th>\n",
              "      <th>State</th>\n",
              "      <th>City</th>\n",
              "      <th>AvgTemperature</th>\n",
              "    </tr>\n",
              "  </thead>\n",
              "  <tbody>\n",
              "    <tr>\n",
              "      <th>0</th>\n",
              "      <td>2012-01-01</td>\n",
              "      <td>US</td>\n",
              "      <td>Alabama</td>\n",
              "      <td>Birmingham</td>\n",
              "      <td>59.1</td>\n",
              "    </tr>\n",
              "    <tr>\n",
              "      <th>1</th>\n",
              "      <td>2012-01-02</td>\n",
              "      <td>US</td>\n",
              "      <td>Alabama</td>\n",
              "      <td>Birmingham</td>\n",
              "      <td>43.0</td>\n",
              "    </tr>\n",
              "    <tr>\n",
              "      <th>2</th>\n",
              "      <td>2012-01-03</td>\n",
              "      <td>US</td>\n",
              "      <td>Alabama</td>\n",
              "      <td>Birmingham</td>\n",
              "      <td>30.9</td>\n",
              "    </tr>\n",
              "    <tr>\n",
              "      <th>3</th>\n",
              "      <td>2012-01-04</td>\n",
              "      <td>US</td>\n",
              "      <td>Alabama</td>\n",
              "      <td>Birmingham</td>\n",
              "      <td>34.7</td>\n",
              "    </tr>\n",
              "    <tr>\n",
              "      <th>4</th>\n",
              "      <td>2012-01-05</td>\n",
              "      <td>US</td>\n",
              "      <td>Alabama</td>\n",
              "      <td>Birmingham</td>\n",
              "      <td>44.1</td>\n",
              "    </tr>\n",
              "  </tbody>\n",
              "</table>\n",
              "</div>"
            ],
            "text/plain": [
              "         Date Country    State        City  AvgTemperature\n",
              "0  2012-01-01      US  Alabama  Birmingham            59.1\n",
              "1  2012-01-02      US  Alabama  Birmingham            43.0\n",
              "2  2012-01-03      US  Alabama  Birmingham            30.9\n",
              "3  2012-01-04      US  Alabama  Birmingham            34.7\n",
              "4  2012-01-05      US  Alabama  Birmingham            44.1"
            ]
          },
          "metadata": {
            "tags": []
          },
          "execution_count": 3
        }
      ]
    },
    {
      "cell_type": "code",
      "metadata": {
        "id": "bimGfM3sWRFV",
        "outputId": "67ed20e5-c100-4e6b-8516-379a19e52b8f"
      },
      "source": [
        "df = pd.read_csv('2-3.csv')\n",
        "df.head()"
      ],
      "execution_count": null,
      "outputs": [
        {
          "output_type": "execute_result",
          "data": {
            "text/html": [
              "<div>\n",
              "<style scoped>\n",
              "    .dataframe tbody tr th:only-of-type {\n",
              "        vertical-align: middle;\n",
              "    }\n",
              "\n",
              "    .dataframe tbody tr th {\n",
              "        vertical-align: top;\n",
              "    }\n",
              "\n",
              "    .dataframe thead th {\n",
              "        text-align: right;\n",
              "    }\n",
              "</style>\n",
              "<table border=\"1\" class=\"dataframe\">\n",
              "  <thead>\n",
              "    <tr style=\"text-align: right;\">\n",
              "      <th></th>\n",
              "      <th>index</th>\n",
              "      <th>Date</th>\n",
              "      <th>Country</th>\n",
              "      <th>State</th>\n",
              "      <th>City</th>\n",
              "      <th>AvgTemperature</th>\n",
              "    </tr>\n",
              "  </thead>\n",
              "  <tbody>\n",
              "    <tr>\n",
              "      <th>0</th>\n",
              "      <td>44300</td>\n",
              "      <td>2012-01-01</td>\n",
              "      <td>US</td>\n",
              "      <td>Alabama</td>\n",
              "      <td>Birmingham</td>\n",
              "      <td>59.1</td>\n",
              "    </tr>\n",
              "    <tr>\n",
              "      <th>1</th>\n",
              "      <td>44301</td>\n",
              "      <td>2012-01-02</td>\n",
              "      <td>US</td>\n",
              "      <td>Alabama</td>\n",
              "      <td>Birmingham</td>\n",
              "      <td>43.0</td>\n",
              "    </tr>\n",
              "    <tr>\n",
              "      <th>2</th>\n",
              "      <td>44302</td>\n",
              "      <td>2012-01-03</td>\n",
              "      <td>US</td>\n",
              "      <td>Alabama</td>\n",
              "      <td>Birmingham</td>\n",
              "      <td>30.9</td>\n",
              "    </tr>\n",
              "    <tr>\n",
              "      <th>3</th>\n",
              "      <td>44303</td>\n",
              "      <td>2012-01-04</td>\n",
              "      <td>US</td>\n",
              "      <td>Alabama</td>\n",
              "      <td>Birmingham</td>\n",
              "      <td>34.7</td>\n",
              "    </tr>\n",
              "    <tr>\n",
              "      <th>4</th>\n",
              "      <td>44304</td>\n",
              "      <td>2012-01-05</td>\n",
              "      <td>US</td>\n",
              "      <td>Alabama</td>\n",
              "      <td>Birmingham</td>\n",
              "      <td>44.1</td>\n",
              "    </tr>\n",
              "  </tbody>\n",
              "</table>\n",
              "</div>"
            ],
            "text/plain": [
              "   index        Date Country    State        City  AvgTemperature\n",
              "0  44300  2012-01-01      US  Alabama  Birmingham            59.1\n",
              "1  44301  2012-01-02      US  Alabama  Birmingham            43.0\n",
              "2  44302  2012-01-03      US  Alabama  Birmingham            30.9\n",
              "3  44303  2012-01-04      US  Alabama  Birmingham            34.7\n",
              "4  44304  2012-01-05      US  Alabama  Birmingham            44.1"
            ]
          },
          "metadata": {
            "tags": []
          },
          "execution_count": 4
        }
      ]
    },
    {
      "cell_type": "code",
      "metadata": {
        "id": "nymMBeA9WRFm",
        "outputId": "0651dbfd-de22-430d-e9ab-c39e380914a7"
      },
      "source": [
        "df = pd.read_csv('2-3.csv', index_col='index')\n",
        "df.head()"
      ],
      "execution_count": null,
      "outputs": [
        {
          "output_type": "execute_result",
          "data": {
            "text/html": [
              "<div>\n",
              "<style scoped>\n",
              "    .dataframe tbody tr th:only-of-type {\n",
              "        vertical-align: middle;\n",
              "    }\n",
              "\n",
              "    .dataframe tbody tr th {\n",
              "        vertical-align: top;\n",
              "    }\n",
              "\n",
              "    .dataframe thead th {\n",
              "        text-align: right;\n",
              "    }\n",
              "</style>\n",
              "<table border=\"1\" class=\"dataframe\">\n",
              "  <thead>\n",
              "    <tr style=\"text-align: right;\">\n",
              "      <th></th>\n",
              "      <th>Date</th>\n",
              "      <th>Country</th>\n",
              "      <th>State</th>\n",
              "      <th>City</th>\n",
              "      <th>AvgTemperature</th>\n",
              "    </tr>\n",
              "    <tr>\n",
              "      <th>index</th>\n",
              "      <th></th>\n",
              "      <th></th>\n",
              "      <th></th>\n",
              "      <th></th>\n",
              "      <th></th>\n",
              "    </tr>\n",
              "  </thead>\n",
              "  <tbody>\n",
              "    <tr>\n",
              "      <th>44300</th>\n",
              "      <td>2012-01-01</td>\n",
              "      <td>US</td>\n",
              "      <td>Alabama</td>\n",
              "      <td>Birmingham</td>\n",
              "      <td>59.1</td>\n",
              "    </tr>\n",
              "    <tr>\n",
              "      <th>44301</th>\n",
              "      <td>2012-01-02</td>\n",
              "      <td>US</td>\n",
              "      <td>Alabama</td>\n",
              "      <td>Birmingham</td>\n",
              "      <td>43.0</td>\n",
              "    </tr>\n",
              "    <tr>\n",
              "      <th>44302</th>\n",
              "      <td>2012-01-03</td>\n",
              "      <td>US</td>\n",
              "      <td>Alabama</td>\n",
              "      <td>Birmingham</td>\n",
              "      <td>30.9</td>\n",
              "    </tr>\n",
              "    <tr>\n",
              "      <th>44303</th>\n",
              "      <td>2012-01-04</td>\n",
              "      <td>US</td>\n",
              "      <td>Alabama</td>\n",
              "      <td>Birmingham</td>\n",
              "      <td>34.7</td>\n",
              "    </tr>\n",
              "    <tr>\n",
              "      <th>44304</th>\n",
              "      <td>2012-01-05</td>\n",
              "      <td>US</td>\n",
              "      <td>Alabama</td>\n",
              "      <td>Birmingham</td>\n",
              "      <td>44.1</td>\n",
              "    </tr>\n",
              "  </tbody>\n",
              "</table>\n",
              "</div>"
            ],
            "text/plain": [
              "             Date Country    State        City  AvgTemperature\n",
              "index                                                         \n",
              "44300  2012-01-01      US  Alabama  Birmingham            59.1\n",
              "44301  2012-01-02      US  Alabama  Birmingham            43.0\n",
              "44302  2012-01-03      US  Alabama  Birmingham            30.9\n",
              "44303  2012-01-04      US  Alabama  Birmingham            34.7\n",
              "44304  2012-01-05      US  Alabama  Birmingham            44.1"
            ]
          },
          "metadata": {
            "tags": []
          },
          "execution_count": 5
        }
      ]
    },
    {
      "cell_type": "code",
      "metadata": {
        "id": "kH6kDNtCWRF4",
        "outputId": "55880002-a04d-4f06-c8fd-1c44047885ee"
      },
      "source": [
        "df = pd.read_csv('2-4.csv', index_col=0)\n",
        "df.head()"
      ],
      "execution_count": null,
      "outputs": [
        {
          "output_type": "execute_result",
          "data": {
            "text/html": [
              "<div>\n",
              "<style scoped>\n",
              "    .dataframe tbody tr th:only-of-type {\n",
              "        vertical-align: middle;\n",
              "    }\n",
              "\n",
              "    .dataframe tbody tr th {\n",
              "        vertical-align: top;\n",
              "    }\n",
              "\n",
              "    .dataframe thead th {\n",
              "        text-align: right;\n",
              "    }\n",
              "</style>\n",
              "<table border=\"1\" class=\"dataframe\">\n",
              "  <thead>\n",
              "    <tr style=\"text-align: right;\">\n",
              "      <th></th>\n",
              "      <th>Date</th>\n",
              "      <th>Country</th>\n",
              "      <th>State</th>\n",
              "      <th>City</th>\n",
              "      <th>AvgTemperature</th>\n",
              "    </tr>\n",
              "  </thead>\n",
              "  <tbody>\n",
              "    <tr>\n",
              "      <th>0</th>\n",
              "      <td>2012-01-01</td>\n",
              "      <td>US</td>\n",
              "      <td>Alabama</td>\n",
              "      <td>Birmingham</td>\n",
              "      <td>59.1</td>\n",
              "    </tr>\n",
              "    <tr>\n",
              "      <th>1</th>\n",
              "      <td>2012-01-02</td>\n",
              "      <td>US</td>\n",
              "      <td>Alabama</td>\n",
              "      <td>Birmingham</td>\n",
              "      <td>43.0</td>\n",
              "    </tr>\n",
              "    <tr>\n",
              "      <th>2</th>\n",
              "      <td>2012-01-03</td>\n",
              "      <td>US</td>\n",
              "      <td>Alabama</td>\n",
              "      <td>Birmingham</td>\n",
              "      <td>30.9</td>\n",
              "    </tr>\n",
              "    <tr>\n",
              "      <th>3</th>\n",
              "      <td>2012-01-04</td>\n",
              "      <td>US</td>\n",
              "      <td>Alabama</td>\n",
              "      <td>Birmingham</td>\n",
              "      <td>34.7</td>\n",
              "    </tr>\n",
              "    <tr>\n",
              "      <th>4</th>\n",
              "      <td>2012-01-05</td>\n",
              "      <td>US</td>\n",
              "      <td>Alabama</td>\n",
              "      <td>Birmingham</td>\n",
              "      <td>44.1</td>\n",
              "    </tr>\n",
              "  </tbody>\n",
              "</table>\n",
              "</div>"
            ],
            "text/plain": [
              "         Date Country    State        City  AvgTemperature\n",
              "0  2012-01-01      US  Alabama  Birmingham            59.1\n",
              "1  2012-01-02      US  Alabama  Birmingham            43.0\n",
              "2  2012-01-03      US  Alabama  Birmingham            30.9\n",
              "3  2012-01-04      US  Alabama  Birmingham            34.7\n",
              "4  2012-01-05      US  Alabama  Birmingham            44.1"
            ]
          },
          "metadata": {
            "tags": []
          },
          "execution_count": 6
        }
      ]
    },
    {
      "cell_type": "code",
      "metadata": {
        "id": "GLSGe6NEWRGM"
      },
      "source": [],
      "execution_count": null,
      "outputs": []
    }
  ]
}