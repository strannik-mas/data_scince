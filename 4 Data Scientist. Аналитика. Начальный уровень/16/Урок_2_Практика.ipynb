{
 "nbformat": 4,
 "nbformat_minor": 0,
 "metadata": {
  "kernelspec": {
   "display_name": "Python 3",
   "language": "python",
   "name": "python3"
  },
  "language_info": {
   "codemirror_mode": {
    "name": "ipython",
    "version": 3
   },
   "file_extension": ".py",
   "mimetype": "text/x-python",
   "name": "python",
   "nbconvert_exporter": "python",
   "pygments_lexer": "ipython3",
   "version": "3.7.4"
  },
  "colab": {
   "provenance": []
  }
 },
 "cells": [
  {
   "cell_type": "markdown",
   "metadata": {
    "id": "0IjWMBr-bEaW"
   },
   "source": [
    "# Чтение и запись данных\n"
   ]
  },
  {
   "cell_type": "code",
   "metadata": {
    "id": "uxDnEMa-bEaY",
    "ExecuteTime": {
     "end_time": "2024-09-13T15:21:24.767153Z",
     "start_time": "2024-09-13T15:21:24.755004Z"
    }
   },
   "source": [
    "import pandas as pd"
   ],
   "outputs": [],
   "execution_count": 5
  },
  {
   "cell_type": "markdown",
   "metadata": {
    "id": "HGo1RQEqbEac"
   },
   "source": [
    "## Урок 2. Чтение файлов в формате CSV\n",
    "\n",
    "### Практика\n",
    "\n",
    "#### Задание 1\n",
    "\n",
    "Откройте файл Practice1_1.csv, загрузите его в DataFrame с помощью библиотеки pandas и выведите первые 5 строк этого файла на экран. Выведите на экран название **предпоследнего** столбца этого файла. Обратите внимание, что при загрузке файла вам может потребоваться явно указать разделитель столбцов."
   ]
  },
  {
   "cell_type": "code",
   "metadata": {
    "id": "KJ475YH4bEac",
    "ExecuteTime": {
     "end_time": "2024-09-13T15:21:49.616532Z",
     "start_time": "2024-09-13T15:21:49.559798Z"
    }
   },
   "source": [
    "df = pd.read_csv('../beach.csv')\n",
    "df.head()"
   ],
   "outputs": [
    {
     "data": {
      "text/plain": [
       "   Unnamed: 0.2  Unnamed: 0.1  Unnamed: 0   mode   price   catch  pbeach  \\\n",
       "0             6             6           7  beach  51.934  0.0678  51.934   \n",
       "1            14            14          15  beach  74.514  0.2537  74.514   \n",
       "2            16            16          17  beach  48.114  0.1049  48.114   \n",
       "3            25            25          26  beach  67.784  0.5333  67.784   \n",
       "4            33            33          34  beach   9.522  0.0678   9.522   \n",
       "\n",
       "    ppier    pboat  pcharter  cbeach   cpier   cboat  ccharter     income  \\\n",
       "0  51.934  191.930   220.930  0.0678  0.0789  0.1643    0.5391  8750.0010   \n",
       "1  74.514   74.514    93.014  0.2537  0.1498  0.2339    0.6288  8750.0010   \n",
       "2  48.114   33.534    57.534  0.1049  0.0451  0.1574    0.4671  5416.6667   \n",
       "3  67.784   17.862    52.862  0.5333  0.4522  0.2413    1.0266  1249.9998   \n",
       "4   9.522   78.292   107.292  0.0678  0.0789  0.0014    0.0029  3749.9999   \n",
       "\n",
       "   log_income  pdiff  \n",
       "0    9.076809    0.0  \n",
       "1    9.076809    0.0  \n",
       "2    8.597236    0.0  \n",
       "3    7.130899    0.0  \n",
       "4    8.229511    0.0  "
      ],
      "text/html": [
       "<div>\n",
       "<style scoped>\n",
       "    .dataframe tbody tr th:only-of-type {\n",
       "        vertical-align: middle;\n",
       "    }\n",
       "\n",
       "    .dataframe tbody tr th {\n",
       "        vertical-align: top;\n",
       "    }\n",
       "\n",
       "    .dataframe thead th {\n",
       "        text-align: right;\n",
       "    }\n",
       "</style>\n",
       "<table border=\"1\" class=\"dataframe\">\n",
       "  <thead>\n",
       "    <tr style=\"text-align: right;\">\n",
       "      <th></th>\n",
       "      <th>Unnamed: 0.2</th>\n",
       "      <th>Unnamed: 0.1</th>\n",
       "      <th>Unnamed: 0</th>\n",
       "      <th>mode</th>\n",
       "      <th>price</th>\n",
       "      <th>catch</th>\n",
       "      <th>pbeach</th>\n",
       "      <th>ppier</th>\n",
       "      <th>pboat</th>\n",
       "      <th>pcharter</th>\n",
       "      <th>cbeach</th>\n",
       "      <th>cpier</th>\n",
       "      <th>cboat</th>\n",
       "      <th>ccharter</th>\n",
       "      <th>income</th>\n",
       "      <th>log_income</th>\n",
       "      <th>pdiff</th>\n",
       "    </tr>\n",
       "  </thead>\n",
       "  <tbody>\n",
       "    <tr>\n",
       "      <th>0</th>\n",
       "      <td>6</td>\n",
       "      <td>6</td>\n",
       "      <td>7</td>\n",
       "      <td>beach</td>\n",
       "      <td>51.934</td>\n",
       "      <td>0.0678</td>\n",
       "      <td>51.934</td>\n",
       "      <td>51.934</td>\n",
       "      <td>191.930</td>\n",
       "      <td>220.930</td>\n",
       "      <td>0.0678</td>\n",
       "      <td>0.0789</td>\n",
       "      <td>0.1643</td>\n",
       "      <td>0.5391</td>\n",
       "      <td>8750.0010</td>\n",
       "      <td>9.076809</td>\n",
       "      <td>0.0</td>\n",
       "    </tr>\n",
       "    <tr>\n",
       "      <th>1</th>\n",
       "      <td>14</td>\n",
       "      <td>14</td>\n",
       "      <td>15</td>\n",
       "      <td>beach</td>\n",
       "      <td>74.514</td>\n",
       "      <td>0.2537</td>\n",
       "      <td>74.514</td>\n",
       "      <td>74.514</td>\n",
       "      <td>74.514</td>\n",
       "      <td>93.014</td>\n",
       "      <td>0.2537</td>\n",
       "      <td>0.1498</td>\n",
       "      <td>0.2339</td>\n",
       "      <td>0.6288</td>\n",
       "      <td>8750.0010</td>\n",
       "      <td>9.076809</td>\n",
       "      <td>0.0</td>\n",
       "    </tr>\n",
       "    <tr>\n",
       "      <th>2</th>\n",
       "      <td>16</td>\n",
       "      <td>16</td>\n",
       "      <td>17</td>\n",
       "      <td>beach</td>\n",
       "      <td>48.114</td>\n",
       "      <td>0.1049</td>\n",
       "      <td>48.114</td>\n",
       "      <td>48.114</td>\n",
       "      <td>33.534</td>\n",
       "      <td>57.534</td>\n",
       "      <td>0.1049</td>\n",
       "      <td>0.0451</td>\n",
       "      <td>0.1574</td>\n",
       "      <td>0.4671</td>\n",
       "      <td>5416.6667</td>\n",
       "      <td>8.597236</td>\n",
       "      <td>0.0</td>\n",
       "    </tr>\n",
       "    <tr>\n",
       "      <th>3</th>\n",
       "      <td>25</td>\n",
       "      <td>25</td>\n",
       "      <td>26</td>\n",
       "      <td>beach</td>\n",
       "      <td>67.784</td>\n",
       "      <td>0.5333</td>\n",
       "      <td>67.784</td>\n",
       "      <td>67.784</td>\n",
       "      <td>17.862</td>\n",
       "      <td>52.862</td>\n",
       "      <td>0.5333</td>\n",
       "      <td>0.4522</td>\n",
       "      <td>0.2413</td>\n",
       "      <td>1.0266</td>\n",
       "      <td>1249.9998</td>\n",
       "      <td>7.130899</td>\n",
       "      <td>0.0</td>\n",
       "    </tr>\n",
       "    <tr>\n",
       "      <th>4</th>\n",
       "      <td>33</td>\n",
       "      <td>33</td>\n",
       "      <td>34</td>\n",
       "      <td>beach</td>\n",
       "      <td>9.522</td>\n",
       "      <td>0.0678</td>\n",
       "      <td>9.522</td>\n",
       "      <td>9.522</td>\n",
       "      <td>78.292</td>\n",
       "      <td>107.292</td>\n",
       "      <td>0.0678</td>\n",
       "      <td>0.0789</td>\n",
       "      <td>0.0014</td>\n",
       "      <td>0.0029</td>\n",
       "      <td>3749.9999</td>\n",
       "      <td>8.229511</td>\n",
       "      <td>0.0</td>\n",
       "    </tr>\n",
       "  </tbody>\n",
       "</table>\n",
       "</div>"
      ]
     },
     "execution_count": 7,
     "metadata": {},
     "output_type": "execute_result"
    }
   ],
   "execution_count": 7
  },
  {
   "cell_type": "code",
   "metadata": {
    "id": "EuSnaIUYbEai",
    "ExecuteTime": {
     "end_time": "2024-09-13T15:21:57.867126Z",
     "start_time": "2024-09-13T15:21:57.856199Z"
    }
   },
   "source": "df.columns[-2]",
   "outputs": [
    {
     "data": {
      "text/plain": [
       "'log_income'"
      ]
     },
     "execution_count": 8,
     "metadata": {},
     "output_type": "execute_result"
    }
   ],
   "execution_count": 8
  },
  {
   "cell_type": "markdown",
   "metadata": {
    "id": "RzPKh-d_bEal"
   },
   "source": [
    "#### Задание 2.\n",
    "\n",
    "Откройте файл Practice1_2.csv и загрузите его в DataFrame с помощью библиотеки pandas, указав правильный разделитель столбцов и выбрав столбец-индекс."
   ]
  },
  {
   "cell_type": "code",
   "metadata": {
    "id": "8uepvG0bbEan",
    "ExecuteTime": {
     "end_time": "2024-09-13T15:22:22.091998Z",
     "start_time": "2024-09-13T15:22:22.061995Z"
    }
   },
   "source": [
    "df = pd.read_csv('../partly free.csv', sep=';')\n",
    "# df.head()\n",
    "df.index"
   ],
   "outputs": [
    {
     "data": {
      "text/plain": [
       "RangeIndex(start=0, stop=60, step=1)"
      ]
     },
     "execution_count": 9,
     "metadata": {},
     "output_type": "execute_result"
    }
   ],
   "execution_count": 9
  },
  {
   "cell_type": "markdown",
   "metadata": {
    "id": "N1uR_1qQbEar"
   },
   "source": [
    "#### Задание 3\n",
    "\n",
    "Откройте файл Practice1_3.csv, загрузите его в DataFrame с помощью библиотеки pandas и выведите первые 5 строк этого файла на экран. Выведите на экран все записи, в которых значение температуры превышает 30 градусов. Обратите внимание, что вам может потребоваться явно указать разделитель столбцов."
   ]
  },
  {
   "cell_type": "code",
   "metadata": {
    "id": "HLZiNQ2rbEar",
    "ExecuteTime": {
     "end_time": "2024-09-13T15:24:56.790765Z",
     "start_time": "2024-09-13T15:24:56.722523Z"
    }
   },
   "source": [
    "df = pd.read_csv('../beach.csv', index_col=0)\n",
    "df = df[df['price'] > 30]\n",
    "df.head()"
   ],
   "outputs": [
    {
     "data": {
      "text/plain": [
       "    Unnamed: 0.1  Unnamed: 0   mode   price   catch  pbeach   ppier    pboat  \\\n",
       "6              6           7  beach  51.934  0.0678  51.934  51.934  191.930   \n",
       "14            14          15  beach  74.514  0.2537  74.514  74.514   74.514   \n",
       "16            16          17  beach  48.114  0.1049  48.114  48.114   33.534   \n",
       "25            25          26  beach  67.784  0.5333  67.784  67.784   17.862   \n",
       "99            99         100  beach  31.740  0.2537  31.740  31.740   38.088   \n",
       "\n",
       "    pcharter  cbeach   cpier   cboat  ccharter     income  log_income  pdiff  \n",
       "6    220.930  0.0678  0.0789  0.1643    0.5391  8750.0010    9.076809    0.0  \n",
       "14    93.014  0.2537  0.1498  0.2339    0.6288  8750.0010    9.076809    0.0  \n",
       "16    57.534  0.1049  0.0451  0.1574    0.4671  5416.6667    8.597236    0.0  \n",
       "25    52.862  0.5333  0.4522  0.2413    1.0266  1249.9998    7.130899    0.0  \n",
       "99    56.588  0.2537  0.1498  0.2339    0.6288  3749.9999    8.229511    0.0  "
      ],
      "text/html": [
       "<div>\n",
       "<style scoped>\n",
       "    .dataframe tbody tr th:only-of-type {\n",
       "        vertical-align: middle;\n",
       "    }\n",
       "\n",
       "    .dataframe tbody tr th {\n",
       "        vertical-align: top;\n",
       "    }\n",
       "\n",
       "    .dataframe thead th {\n",
       "        text-align: right;\n",
       "    }\n",
       "</style>\n",
       "<table border=\"1\" class=\"dataframe\">\n",
       "  <thead>\n",
       "    <tr style=\"text-align: right;\">\n",
       "      <th></th>\n",
       "      <th>Unnamed: 0.1</th>\n",
       "      <th>Unnamed: 0</th>\n",
       "      <th>mode</th>\n",
       "      <th>price</th>\n",
       "      <th>catch</th>\n",
       "      <th>pbeach</th>\n",
       "      <th>ppier</th>\n",
       "      <th>pboat</th>\n",
       "      <th>pcharter</th>\n",
       "      <th>cbeach</th>\n",
       "      <th>cpier</th>\n",
       "      <th>cboat</th>\n",
       "      <th>ccharter</th>\n",
       "      <th>income</th>\n",
       "      <th>log_income</th>\n",
       "      <th>pdiff</th>\n",
       "    </tr>\n",
       "  </thead>\n",
       "  <tbody>\n",
       "    <tr>\n",
       "      <th>6</th>\n",
       "      <td>6</td>\n",
       "      <td>7</td>\n",
       "      <td>beach</td>\n",
       "      <td>51.934</td>\n",
       "      <td>0.0678</td>\n",
       "      <td>51.934</td>\n",
       "      <td>51.934</td>\n",
       "      <td>191.930</td>\n",
       "      <td>220.930</td>\n",
       "      <td>0.0678</td>\n",
       "      <td>0.0789</td>\n",
       "      <td>0.1643</td>\n",
       "      <td>0.5391</td>\n",
       "      <td>8750.0010</td>\n",
       "      <td>9.076809</td>\n",
       "      <td>0.0</td>\n",
       "    </tr>\n",
       "    <tr>\n",
       "      <th>14</th>\n",
       "      <td>14</td>\n",
       "      <td>15</td>\n",
       "      <td>beach</td>\n",
       "      <td>74.514</td>\n",
       "      <td>0.2537</td>\n",
       "      <td>74.514</td>\n",
       "      <td>74.514</td>\n",
       "      <td>74.514</td>\n",
       "      <td>93.014</td>\n",
       "      <td>0.2537</td>\n",
       "      <td>0.1498</td>\n",
       "      <td>0.2339</td>\n",
       "      <td>0.6288</td>\n",
       "      <td>8750.0010</td>\n",
       "      <td>9.076809</td>\n",
       "      <td>0.0</td>\n",
       "    </tr>\n",
       "    <tr>\n",
       "      <th>16</th>\n",
       "      <td>16</td>\n",
       "      <td>17</td>\n",
       "      <td>beach</td>\n",
       "      <td>48.114</td>\n",
       "      <td>0.1049</td>\n",
       "      <td>48.114</td>\n",
       "      <td>48.114</td>\n",
       "      <td>33.534</td>\n",
       "      <td>57.534</td>\n",
       "      <td>0.1049</td>\n",
       "      <td>0.0451</td>\n",
       "      <td>0.1574</td>\n",
       "      <td>0.4671</td>\n",
       "      <td>5416.6667</td>\n",
       "      <td>8.597236</td>\n",
       "      <td>0.0</td>\n",
       "    </tr>\n",
       "    <tr>\n",
       "      <th>25</th>\n",
       "      <td>25</td>\n",
       "      <td>26</td>\n",
       "      <td>beach</td>\n",
       "      <td>67.784</td>\n",
       "      <td>0.5333</td>\n",
       "      <td>67.784</td>\n",
       "      <td>67.784</td>\n",
       "      <td>17.862</td>\n",
       "      <td>52.862</td>\n",
       "      <td>0.5333</td>\n",
       "      <td>0.4522</td>\n",
       "      <td>0.2413</td>\n",
       "      <td>1.0266</td>\n",
       "      <td>1249.9998</td>\n",
       "      <td>7.130899</td>\n",
       "      <td>0.0</td>\n",
       "    </tr>\n",
       "    <tr>\n",
       "      <th>99</th>\n",
       "      <td>99</td>\n",
       "      <td>100</td>\n",
       "      <td>beach</td>\n",
       "      <td>31.740</td>\n",
       "      <td>0.2537</td>\n",
       "      <td>31.740</td>\n",
       "      <td>31.740</td>\n",
       "      <td>38.088</td>\n",
       "      <td>56.588</td>\n",
       "      <td>0.2537</td>\n",
       "      <td>0.1498</td>\n",
       "      <td>0.2339</td>\n",
       "      <td>0.6288</td>\n",
       "      <td>3749.9999</td>\n",
       "      <td>8.229511</td>\n",
       "      <td>0.0</td>\n",
       "    </tr>\n",
       "  </tbody>\n",
       "</table>\n",
       "</div>"
      ]
     },
     "execution_count": 10,
     "metadata": {},
     "output_type": "execute_result"
    }
   ],
   "execution_count": 10
  },
  {
   "cell_type": "code",
   "metadata": {
    "id": "8IJ-8GG3bEav"
   },
   "source": [],
   "execution_count": null,
   "outputs": []
  }
 ]
}
