{
  "nbformat": 4,
  "nbformat_minor": 0,
  "metadata": {
    "kernelspec": {
      "display_name": "Python 3",
      "language": "python",
      "name": "python3"
    },
    "language_info": {
      "codemirror_mode": {
        "name": "ipython",
        "version": 3
      },
      "file_extension": ".py",
      "mimetype": "text/x-python",
      "name": "python",
      "nbconvert_exporter": "python",
      "pygments_lexer": "ipython3",
      "version": "3.7.4"
    },
    "colab": {
      "provenance": []
    }
  },
  "cells": [
    {
      "cell_type": "markdown",
      "metadata": {
        "id": "qnRO0lD6Ydv5"
      },
      "source": [
        "# Чтение и запись данных\n"
      ]
    },
    {
      "cell_type": "code",
      "metadata": {
        "id": "BiZ1POMfYdv9"
      },
      "source": [
        "import pandas as pd"
      ],
      "execution_count": null,
      "outputs": []
    },
    {
      "cell_type": "markdown",
      "metadata": {
        "id": "18eIIcuwYdwJ"
      },
      "source": [
        "## Урок 3. Запись файлов в формате csv\n",
        "\n",
        "### Проверка практики\n",
        "\n",
        "#### Задание 1\n",
        "\n",
        "Откройте файл Practice1_1.csv, загрузите его в DataFrame с помощью библиотеки pandas и выведите первые пять строк этого файла на экран. Выведите на экран название **предпоследнего** столбца этого файла. Обратите внимание, что при загрузке файла вам может потребоваться явно указать разделитель столбцов."
      ]
    },
    {
      "cell_type": "code",
      "metadata": {
        "id": "ZKQcpUJLYdwK",
        "outputId": "4c0e1be0-bb1a-4def-965a-fdd432e46858"
      },
      "source": [
        "df = pd.read_csv('Practice1_1.csv')\n",
        "df.head()"
      ],
      "execution_count": null,
      "outputs": [
        {
          "output_type": "execute_result",
          "data": {
            "text/html": [
              "<div>\n",
              "<style scoped>\n",
              "    .dataframe tbody tr th:only-of-type {\n",
              "        vertical-align: middle;\n",
              "    }\n",
              "\n",
              "    .dataframe tbody tr th {\n",
              "        vertical-align: top;\n",
              "    }\n",
              "\n",
              "    .dataframe thead th {\n",
              "        text-align: right;\n",
              "    }\n",
              "</style>\n",
              "<table border=\"1\" class=\"dataframe\">\n",
              "  <thead>\n",
              "    <tr style=\"text-align: right;\">\n",
              "      <th></th>\n",
              "      <th>Date</th>\n",
              "      <th>Country</th>\n",
              "      <th>State</th>\n",
              "      <th>City</th>\n",
              "      <th>AvgTemperature</th>\n",
              "    </tr>\n",
              "  </thead>\n",
              "  <tbody>\n",
              "    <tr>\n",
              "      <th>0</th>\n",
              "      <td>2012-12-02</td>\n",
              "      <td>US</td>\n",
              "      <td>Additional Territories</td>\n",
              "      <td>San Juan Puerto Rico</td>\n",
              "      <td>79.4</td>\n",
              "    </tr>\n",
              "    <tr>\n",
              "      <th>1</th>\n",
              "      <td>2012-12-03</td>\n",
              "      <td>US</td>\n",
              "      <td>Additional Territories</td>\n",
              "      <td>San Juan Puerto Rico</td>\n",
              "      <td>77.9</td>\n",
              "    </tr>\n",
              "    <tr>\n",
              "      <th>2</th>\n",
              "      <td>2012-12-04</td>\n",
              "      <td>US</td>\n",
              "      <td>Additional Territories</td>\n",
              "      <td>San Juan Puerto Rico</td>\n",
              "      <td>79.8</td>\n",
              "    </tr>\n",
              "    <tr>\n",
              "      <th>3</th>\n",
              "      <td>2012-12-05</td>\n",
              "      <td>US</td>\n",
              "      <td>Additional Territories</td>\n",
              "      <td>San Juan Puerto Rico</td>\n",
              "      <td>80.2</td>\n",
              "    </tr>\n",
              "    <tr>\n",
              "      <th>4</th>\n",
              "      <td>2012-12-06</td>\n",
              "      <td>US</td>\n",
              "      <td>Additional Territories</td>\n",
              "      <td>San Juan Puerto Rico</td>\n",
              "      <td>78.2</td>\n",
              "    </tr>\n",
              "  </tbody>\n",
              "</table>\n",
              "</div>"
            ],
            "text/plain": [
              "         Date Country                   State                  City  \\\n",
              "0  2012-12-02      US  Additional Territories  San Juan Puerto Rico   \n",
              "1  2012-12-03      US  Additional Territories  San Juan Puerto Rico   \n",
              "2  2012-12-04      US  Additional Territories  San Juan Puerto Rico   \n",
              "3  2012-12-05      US  Additional Territories  San Juan Puerto Rico   \n",
              "4  2012-12-06      US  Additional Territories  San Juan Puerto Rico   \n",
              "\n",
              "   AvgTemperature  \n",
              "0            79.4  \n",
              "1            77.9  \n",
              "2            79.8  \n",
              "3            80.2  \n",
              "4            78.2  "
            ]
          },
          "metadata": {
            "tags": []
          },
          "execution_count": 14
        }
      ]
    },
    {
      "cell_type": "code",
      "metadata": {
        "id": "hoezc1hkYdwY",
        "outputId": "f85ee21a-2261-4d13-e7cf-cfb340db4144"
      },
      "source": [
        "df.columns[-2]"
      ],
      "execution_count": null,
      "outputs": [
        {
          "output_type": "execute_result",
          "data": {
            "text/plain": [
              "'City'"
            ]
          },
          "metadata": {
            "tags": []
          },
          "execution_count": 15
        }
      ]
    },
    {
      "cell_type": "markdown",
      "metadata": {
        "id": "8xz_VLg1Ydwi"
      },
      "source": [
        "#### Задание 2.\n",
        "\n",
        "Откройте файл Practice1_2.csv и загрузите его в DataFrame с помощью библиотеки pandas, указав правильный разделитель столбцов и выбрав столбец-индекс."
      ]
    },
    {
      "cell_type": "code",
      "metadata": {
        "id": "az3rmDUcYdwk",
        "outputId": "83588693-6124-4127-979b-95b53d445d6b"
      },
      "source": [
        "df = pd.read_csv('Practice1_2.csv', sep=';', index_col=0)\n",
        "df.head()"
      ],
      "execution_count": null,
      "outputs": [
        {
          "output_type": "execute_result",
          "data": {
            "text/html": [
              "<div>\n",
              "<style scoped>\n",
              "    .dataframe tbody tr th:only-of-type {\n",
              "        vertical-align: middle;\n",
              "    }\n",
              "\n",
              "    .dataframe tbody tr th {\n",
              "        vertical-align: top;\n",
              "    }\n",
              "\n",
              "    .dataframe thead th {\n",
              "        text-align: right;\n",
              "    }\n",
              "</style>\n",
              "<table border=\"1\" class=\"dataframe\">\n",
              "  <thead>\n",
              "    <tr style=\"text-align: right;\">\n",
              "      <th></th>\n",
              "      <th>Date</th>\n",
              "      <th>Country</th>\n",
              "      <th>State</th>\n",
              "      <th>City</th>\n",
              "      <th>AvgTemperature</th>\n",
              "    </tr>\n",
              "  </thead>\n",
              "  <tbody>\n",
              "    <tr>\n",
              "      <th>56334</th>\n",
              "      <td>2012-12-02</td>\n",
              "      <td>US</td>\n",
              "      <td>Additional Territories</td>\n",
              "      <td>San Juan Puerto Rico</td>\n",
              "      <td>79.4</td>\n",
              "    </tr>\n",
              "    <tr>\n",
              "      <th>56335</th>\n",
              "      <td>2012-12-03</td>\n",
              "      <td>US</td>\n",
              "      <td>Additional Territories</td>\n",
              "      <td>San Juan Puerto Rico</td>\n",
              "      <td>77.9</td>\n",
              "    </tr>\n",
              "    <tr>\n",
              "      <th>56336</th>\n",
              "      <td>2012-12-04</td>\n",
              "      <td>US</td>\n",
              "      <td>Additional Territories</td>\n",
              "      <td>San Juan Puerto Rico</td>\n",
              "      <td>79.8</td>\n",
              "    </tr>\n",
              "    <tr>\n",
              "      <th>56337</th>\n",
              "      <td>2012-12-05</td>\n",
              "      <td>US</td>\n",
              "      <td>Additional Territories</td>\n",
              "      <td>San Juan Puerto Rico</td>\n",
              "      <td>80.2</td>\n",
              "    </tr>\n",
              "    <tr>\n",
              "      <th>56338</th>\n",
              "      <td>2012-12-06</td>\n",
              "      <td>US</td>\n",
              "      <td>Additional Territories</td>\n",
              "      <td>San Juan Puerto Rico</td>\n",
              "      <td>78.2</td>\n",
              "    </tr>\n",
              "  </tbody>\n",
              "</table>\n",
              "</div>"
            ],
            "text/plain": [
              "             Date Country                   State                  City  \\\n",
              "56334  2012-12-02      US  Additional Territories  San Juan Puerto Rico   \n",
              "56335  2012-12-03      US  Additional Territories  San Juan Puerto Rico   \n",
              "56336  2012-12-04      US  Additional Territories  San Juan Puerto Rico   \n",
              "56337  2012-12-05      US  Additional Territories  San Juan Puerto Rico   \n",
              "56338  2012-12-06      US  Additional Territories  San Juan Puerto Rico   \n",
              "\n",
              "       AvgTemperature  \n",
              "56334            79.4  \n",
              "56335            77.9  \n",
              "56336            79.8  \n",
              "56337            80.2  \n",
              "56338            78.2  "
            ]
          },
          "metadata": {
            "tags": []
          },
          "execution_count": 16
        }
      ]
    },
    {
      "cell_type": "markdown",
      "metadata": {
        "id": "mwObpyQRYdwr"
      },
      "source": [
        "#### Задание 3\n",
        "\n",
        "Откройте файл Practice1_3.csv, загрузите его в DataFrame с помощью библиотеки pandas и выведите первые пять строк этого файла на экран. Выведите на экран все записи, в которых значение температуры превышает 30 градусов. Обратите внимание, что вам может потребоваться явно указать разделитель столбцов."
      ]
    },
    {
      "cell_type": "code",
      "metadata": {
        "id": "WoySdolGYdwt",
        "outputId": "691add35-f8d9-4900-d311-4a922d133ee5"
      },
      "source": [
        "df = pd.read_csv('Practice1_3.csv')\n",
        "df.head()"
      ],
      "execution_count": null,
      "outputs": [
        {
          "output_type": "execute_result",
          "data": {
            "text/html": [
              "<div>\n",
              "<style scoped>\n",
              "    .dataframe tbody tr th:only-of-type {\n",
              "        vertical-align: middle;\n",
              "    }\n",
              "\n",
              "    .dataframe tbody tr th {\n",
              "        vertical-align: top;\n",
              "    }\n",
              "\n",
              "    .dataframe thead th {\n",
              "        text-align: right;\n",
              "    }\n",
              "</style>\n",
              "<table border=\"1\" class=\"dataframe\">\n",
              "  <thead>\n",
              "    <tr style=\"text-align: right;\">\n",
              "      <th></th>\n",
              "      <th>Date</th>\n",
              "      <th>Country</th>\n",
              "      <th>State</th>\n",
              "      <th>City</th>\n",
              "      <th>AvgTemperature</th>\n",
              "    </tr>\n",
              "  </thead>\n",
              "  <tbody>\n",
              "    <tr>\n",
              "      <th>0</th>\n",
              "      <td>2012-01-03</td>\n",
              "      <td>US</td>\n",
              "      <td>Alabama</td>\n",
              "      <td>Birmingham</td>\n",
              "      <td>30.9</td>\n",
              "    </tr>\n",
              "    <tr>\n",
              "      <th>1</th>\n",
              "      <td>2012-01-04</td>\n",
              "      <td>US</td>\n",
              "      <td>Alabama</td>\n",
              "      <td>Birmingham</td>\n",
              "      <td>34.7</td>\n",
              "    </tr>\n",
              "    <tr>\n",
              "      <th>2</th>\n",
              "      <td>2012-01-13</td>\n",
              "      <td>US</td>\n",
              "      <td>Alabama</td>\n",
              "      <td>Birmingham</td>\n",
              "      <td>31.6</td>\n",
              "    </tr>\n",
              "    <tr>\n",
              "      <th>3</th>\n",
              "      <td>2012-02-12</td>\n",
              "      <td>US</td>\n",
              "      <td>Alabama</td>\n",
              "      <td>Birmingham</td>\n",
              "      <td>29.5</td>\n",
              "    </tr>\n",
              "    <tr>\n",
              "      <th>4</th>\n",
              "      <td>2012-02-13</td>\n",
              "      <td>US</td>\n",
              "      <td>Alabama</td>\n",
              "      <td>Birmingham</td>\n",
              "      <td>34.8</td>\n",
              "    </tr>\n",
              "  </tbody>\n",
              "</table>\n",
              "</div>"
            ],
            "text/plain": [
              "         Date Country    State        City  AvgTemperature\n",
              "0  2012-01-03      US  Alabama  Birmingham            30.9\n",
              "1  2012-01-04      US  Alabama  Birmingham            34.7\n",
              "2  2012-01-13      US  Alabama  Birmingham            31.6\n",
              "3  2012-02-12      US  Alabama  Birmingham            29.5\n",
              "4  2012-02-13      US  Alabama  Birmingham            34.8"
            ]
          },
          "metadata": {
            "tags": []
          },
          "execution_count": 17
        }
      ]
    },
    {
      "cell_type": "code",
      "metadata": {
        "id": "kX1_3CDCYdw1",
        "outputId": "7b7cadd5-4a66-4fa1-cc85-5021a4f0b126"
      },
      "source": [
        "df[df['AvgTemperature'] > 30]"
      ],
      "execution_count": null,
      "outputs": [
        {
          "output_type": "execute_result",
          "data": {
            "text/html": [
              "<div>\n",
              "<style scoped>\n",
              "    .dataframe tbody tr th:only-of-type {\n",
              "        vertical-align: middle;\n",
              "    }\n",
              "\n",
              "    .dataframe tbody tr th {\n",
              "        vertical-align: top;\n",
              "    }\n",
              "\n",
              "    .dataframe thead th {\n",
              "        text-align: right;\n",
              "    }\n",
              "</style>\n",
              "<table border=\"1\" class=\"dataframe\">\n",
              "  <thead>\n",
              "    <tr style=\"text-align: right;\">\n",
              "      <th></th>\n",
              "      <th>Date</th>\n",
              "      <th>Country</th>\n",
              "      <th>State</th>\n",
              "      <th>City</th>\n",
              "      <th>AvgTemperature</th>\n",
              "    </tr>\n",
              "  </thead>\n",
              "  <tbody>\n",
              "    <tr>\n",
              "      <th>0</th>\n",
              "      <td>2012-01-03</td>\n",
              "      <td>US</td>\n",
              "      <td>Alabama</td>\n",
              "      <td>Birmingham</td>\n",
              "      <td>30.9</td>\n",
              "    </tr>\n",
              "    <tr>\n",
              "      <th>1</th>\n",
              "      <td>2012-01-04</td>\n",
              "      <td>US</td>\n",
              "      <td>Alabama</td>\n",
              "      <td>Birmingham</td>\n",
              "      <td>34.7</td>\n",
              "    </tr>\n",
              "    <tr>\n",
              "      <th>2</th>\n",
              "      <td>2012-01-13</td>\n",
              "      <td>US</td>\n",
              "      <td>Alabama</td>\n",
              "      <td>Birmingham</td>\n",
              "      <td>31.6</td>\n",
              "    </tr>\n",
              "    <tr>\n",
              "      <th>4</th>\n",
              "      <td>2012-02-13</td>\n",
              "      <td>US</td>\n",
              "      <td>Alabama</td>\n",
              "      <td>Birmingham</td>\n",
              "      <td>34.8</td>\n",
              "    </tr>\n",
              "    <tr>\n",
              "      <th>5</th>\n",
              "      <td>2012-12-27</td>\n",
              "      <td>US</td>\n",
              "      <td>Alabama</td>\n",
              "      <td>Birmingham</td>\n",
              "      <td>34.3</td>\n",
              "    </tr>\n",
              "    <tr>\n",
              "      <th>6</th>\n",
              "      <td>2012-12-30</td>\n",
              "      <td>US</td>\n",
              "      <td>Alabama</td>\n",
              "      <td>Birmingham</td>\n",
              "      <td>34.5</td>\n",
              "    </tr>\n",
              "    <tr>\n",
              "      <th>8</th>\n",
              "      <td>2012-01-04</td>\n",
              "      <td>US</td>\n",
              "      <td>Alabama</td>\n",
              "      <td>Huntsville</td>\n",
              "      <td>32.6</td>\n",
              "    </tr>\n",
              "    <tr>\n",
              "      <th>9</th>\n",
              "      <td>2012-01-13</td>\n",
              "      <td>US</td>\n",
              "      <td>Alabama</td>\n",
              "      <td>Huntsville</td>\n",
              "      <td>30.1</td>\n",
              "    </tr>\n",
              "    <tr>\n",
              "      <th>10</th>\n",
              "      <td>2012-02-11</td>\n",
              "      <td>US</td>\n",
              "      <td>Alabama</td>\n",
              "      <td>Huntsville</td>\n",
              "      <td>34.8</td>\n",
              "    </tr>\n",
              "    <tr>\n",
              "      <th>12</th>\n",
              "      <td>2012-02-13</td>\n",
              "      <td>US</td>\n",
              "      <td>Alabama</td>\n",
              "      <td>Huntsville</td>\n",
              "      <td>31.5</td>\n",
              "    </tr>\n",
              "    <tr>\n",
              "      <th>13</th>\n",
              "      <td>2012-12-30</td>\n",
              "      <td>US</td>\n",
              "      <td>Alabama</td>\n",
              "      <td>Huntsville</td>\n",
              "      <td>34.1</td>\n",
              "    </tr>\n",
              "    <tr>\n",
              "      <th>14</th>\n",
              "      <td>2012-01-04</td>\n",
              "      <td>US</td>\n",
              "      <td>Alabama</td>\n",
              "      <td>Montgomery</td>\n",
              "      <td>34.3</td>\n",
              "    </tr>\n",
              "    <tr>\n",
              "      <th>15</th>\n",
              "      <td>2012-02-12</td>\n",
              "      <td>US</td>\n",
              "      <td>Alabama</td>\n",
              "      <td>Montgomery</td>\n",
              "      <td>33.3</td>\n",
              "    </tr>\n",
              "  </tbody>\n",
              "</table>\n",
              "</div>"
            ],
            "text/plain": [
              "          Date Country    State        City  AvgTemperature\n",
              "0   2012-01-03      US  Alabama  Birmingham            30.9\n",
              "1   2012-01-04      US  Alabama  Birmingham            34.7\n",
              "2   2012-01-13      US  Alabama  Birmingham            31.6\n",
              "4   2012-02-13      US  Alabama  Birmingham            34.8\n",
              "5   2012-12-27      US  Alabama  Birmingham            34.3\n",
              "6   2012-12-30      US  Alabama  Birmingham            34.5\n",
              "8   2012-01-04      US  Alabama  Huntsville            32.6\n",
              "9   2012-01-13      US  Alabama  Huntsville            30.1\n",
              "10  2012-02-11      US  Alabama  Huntsville            34.8\n",
              "12  2012-02-13      US  Alabama  Huntsville            31.5\n",
              "13  2012-12-30      US  Alabama  Huntsville            34.1\n",
              "14  2012-01-04      US  Alabama  Montgomery            34.3\n",
              "15  2012-02-12      US  Alabama  Montgomery            33.3"
            ]
          },
          "metadata": {
            "tags": []
          },
          "execution_count": 18
        }
      ]
    },
    {
      "cell_type": "markdown",
      "metadata": {
        "id": "KZoVVVlvYdw-"
      },
      "source": [
        "### Сохранение DataFrame в файл CSV"
      ]
    },
    {
      "cell_type": "code",
      "metadata": {
        "id": "39sEAjX-YdxA",
        "outputId": "8a4c6231-2341-4e88-c127-4ca39c5cdddb"
      },
      "source": [
        "df = pd.read_csv('2-1.csv')\n",
        "df.head()"
      ],
      "execution_count": null,
      "outputs": [
        {
          "output_type": "execute_result",
          "data": {
            "text/html": [
              "<div>\n",
              "<style scoped>\n",
              "    .dataframe tbody tr th:only-of-type {\n",
              "        vertical-align: middle;\n",
              "    }\n",
              "\n",
              "    .dataframe tbody tr th {\n",
              "        vertical-align: top;\n",
              "    }\n",
              "\n",
              "    .dataframe thead th {\n",
              "        text-align: right;\n",
              "    }\n",
              "</style>\n",
              "<table border=\"1\" class=\"dataframe\">\n",
              "  <thead>\n",
              "    <tr style=\"text-align: right;\">\n",
              "      <th></th>\n",
              "      <th>Date</th>\n",
              "      <th>Country</th>\n",
              "      <th>State</th>\n",
              "      <th>City</th>\n",
              "      <th>AvgTemperature</th>\n",
              "    </tr>\n",
              "  </thead>\n",
              "  <tbody>\n",
              "    <tr>\n",
              "      <th>0</th>\n",
              "      <td>2012-01-01</td>\n",
              "      <td>US</td>\n",
              "      <td>Alabama</td>\n",
              "      <td>Birmingham</td>\n",
              "      <td>59.1</td>\n",
              "    </tr>\n",
              "    <tr>\n",
              "      <th>1</th>\n",
              "      <td>2012-01-02</td>\n",
              "      <td>US</td>\n",
              "      <td>Alabama</td>\n",
              "      <td>Birmingham</td>\n",
              "      <td>43.0</td>\n",
              "    </tr>\n",
              "    <tr>\n",
              "      <th>2</th>\n",
              "      <td>2012-01-03</td>\n",
              "      <td>US</td>\n",
              "      <td>Alabama</td>\n",
              "      <td>Birmingham</td>\n",
              "      <td>30.9</td>\n",
              "    </tr>\n",
              "    <tr>\n",
              "      <th>3</th>\n",
              "      <td>2012-01-04</td>\n",
              "      <td>US</td>\n",
              "      <td>Alabama</td>\n",
              "      <td>Birmingham</td>\n",
              "      <td>34.7</td>\n",
              "    </tr>\n",
              "    <tr>\n",
              "      <th>4</th>\n",
              "      <td>2012-01-05</td>\n",
              "      <td>US</td>\n",
              "      <td>Alabama</td>\n",
              "      <td>Birmingham</td>\n",
              "      <td>44.1</td>\n",
              "    </tr>\n",
              "  </tbody>\n",
              "</table>\n",
              "</div>"
            ],
            "text/plain": [
              "         Date Country    State        City  AvgTemperature\n",
              "0  2012-01-01      US  Alabama  Birmingham            59.1\n",
              "1  2012-01-02      US  Alabama  Birmingham            43.0\n",
              "2  2012-01-03      US  Alabama  Birmingham            30.9\n",
              "3  2012-01-04      US  Alabama  Birmingham            34.7\n",
              "4  2012-01-05      US  Alabama  Birmingham            44.1"
            ]
          },
          "metadata": {
            "tags": []
          },
          "execution_count": 19
        }
      ]
    },
    {
      "cell_type": "code",
      "metadata": {
        "id": "4dVaoHxBYdxI"
      },
      "source": [
        "df.to_csv('result.csv', index_label='index')"
      ],
      "execution_count": null,
      "outputs": []
    },
    {
      "cell_type": "code",
      "metadata": {
        "id": "U3jYyHSgYdxS",
        "outputId": "522ac5f0-0fef-4ab9-b72a-8d81616b1773"
      },
      "source": [
        "df = pd.read_csv('3-1.csv')\n",
        "df.head()"
      ],
      "execution_count": null,
      "outputs": [
        {
          "output_type": "execute_result",
          "data": {
            "text/html": [
              "<div>\n",
              "<style scoped>\n",
              "    .dataframe tbody tr th:only-of-type {\n",
              "        vertical-align: middle;\n",
              "    }\n",
              "\n",
              "    .dataframe tbody tr th {\n",
              "        vertical-align: top;\n",
              "    }\n",
              "\n",
              "    .dataframe thead th {\n",
              "        text-align: right;\n",
              "    }\n",
              "</style>\n",
              "<table border=\"1\" class=\"dataframe\">\n",
              "  <thead>\n",
              "    <tr style=\"text-align: right;\">\n",
              "      <th></th>\n",
              "      <th>Date</th>\n",
              "      <th>Country</th>\n",
              "      <th>State</th>\n",
              "      <th>City</th>\n",
              "      <th>AvgTemperature</th>\n",
              "      <th>Name</th>\n",
              "    </tr>\n",
              "  </thead>\n",
              "  <tbody>\n",
              "    <tr>\n",
              "      <th>0</th>\n",
              "      <td>2012-01-01</td>\n",
              "      <td>US</td>\n",
              "      <td>Alabama</td>\n",
              "      <td>Birmingham</td>\n",
              "      <td>59.1</td>\n",
              "      <td>Joshua Harrison</td>\n",
              "    </tr>\n",
              "    <tr>\n",
              "      <th>1</th>\n",
              "      <td>2012-01-02</td>\n",
              "      <td>US</td>\n",
              "      <td>Alabama</td>\n",
              "      <td>Birmingham</td>\n",
              "      <td>43.0</td>\n",
              "      <td>Mauricio Hinton</td>\n",
              "    </tr>\n",
              "    <tr>\n",
              "      <th>2</th>\n",
              "      <td>2012-01-03</td>\n",
              "      <td>US</td>\n",
              "      <td>Alabama</td>\n",
              "      <td>Birmingham</td>\n",
              "      <td>30.9</td>\n",
              "      <td>Scott Kaur</td>\n",
              "    </tr>\n",
              "    <tr>\n",
              "      <th>3</th>\n",
              "      <td>2012-01-04</td>\n",
              "      <td>US</td>\n",
              "      <td>Alabama</td>\n",
              "      <td>Birmingham</td>\n",
              "      <td>34.7</td>\n",
              "      <td>Davion Moss</td>\n",
              "    </tr>\n",
              "    <tr>\n",
              "      <th>4</th>\n",
              "      <td>2012-01-05</td>\n",
              "      <td>US</td>\n",
              "      <td>Alabama</td>\n",
              "      <td>Birmingham</td>\n",
              "      <td>44.1</td>\n",
              "      <td>Mauricio Hinton</td>\n",
              "    </tr>\n",
              "  </tbody>\n",
              "</table>\n",
              "</div>"
            ],
            "text/plain": [
              "         Date Country    State        City  AvgTemperature             Name\n",
              "0  2012-01-01      US  Alabama  Birmingham            59.1  Joshua Harrison\n",
              "1  2012-01-02      US  Alabama  Birmingham            43.0  Mauricio Hinton\n",
              "2  2012-01-03      US  Alabama  Birmingham            30.9       Scott Kaur\n",
              "3  2012-01-04      US  Alabama  Birmingham            34.7      Davion Moss\n",
              "4  2012-01-05      US  Alabama  Birmingham            44.1  Mauricio Hinton"
            ]
          },
          "metadata": {
            "tags": []
          },
          "execution_count": 21
        }
      ]
    },
    {
      "cell_type": "code",
      "metadata": {
        "id": "3L5-_GElYdxc"
      },
      "source": [
        "df.to_csv('result1.csv', sep=';', index_label='index')"
      ],
      "execution_count": null,
      "outputs": []
    },
    {
      "cell_type": "code",
      "metadata": {
        "id": "mswlgCpfYdxk",
        "outputId": "3b771e9d-3999-40d1-e14b-9ad3e3470404"
      },
      "source": [
        "df = pd.read_csv('result1.csv', sep=';', index_col='index')\n",
        "df.head()"
      ],
      "execution_count": null,
      "outputs": [
        {
          "output_type": "execute_result",
          "data": {
            "text/html": [
              "<div>\n",
              "<style scoped>\n",
              "    .dataframe tbody tr th:only-of-type {\n",
              "        vertical-align: middle;\n",
              "    }\n",
              "\n",
              "    .dataframe tbody tr th {\n",
              "        vertical-align: top;\n",
              "    }\n",
              "\n",
              "    .dataframe thead th {\n",
              "        text-align: right;\n",
              "    }\n",
              "</style>\n",
              "<table border=\"1\" class=\"dataframe\">\n",
              "  <thead>\n",
              "    <tr style=\"text-align: right;\">\n",
              "      <th></th>\n",
              "      <th>Date</th>\n",
              "      <th>Country</th>\n",
              "      <th>State</th>\n",
              "      <th>City</th>\n",
              "      <th>AvgTemperature</th>\n",
              "      <th>Name</th>\n",
              "    </tr>\n",
              "    <tr>\n",
              "      <th>index</th>\n",
              "      <th></th>\n",
              "      <th></th>\n",
              "      <th></th>\n",
              "      <th></th>\n",
              "      <th></th>\n",
              "      <th></th>\n",
              "    </tr>\n",
              "  </thead>\n",
              "  <tbody>\n",
              "    <tr>\n",
              "      <th>0</th>\n",
              "      <td>2012-01-01</td>\n",
              "      <td>US</td>\n",
              "      <td>Alabama</td>\n",
              "      <td>Birmingham</td>\n",
              "      <td>59.1</td>\n",
              "      <td>Joshua Harrison</td>\n",
              "    </tr>\n",
              "    <tr>\n",
              "      <th>1</th>\n",
              "      <td>2012-01-02</td>\n",
              "      <td>US</td>\n",
              "      <td>Alabama</td>\n",
              "      <td>Birmingham</td>\n",
              "      <td>43.0</td>\n",
              "      <td>Mauricio Hinton</td>\n",
              "    </tr>\n",
              "    <tr>\n",
              "      <th>2</th>\n",
              "      <td>2012-01-03</td>\n",
              "      <td>US</td>\n",
              "      <td>Alabama</td>\n",
              "      <td>Birmingham</td>\n",
              "      <td>30.9</td>\n",
              "      <td>Scott Kaur</td>\n",
              "    </tr>\n",
              "    <tr>\n",
              "      <th>3</th>\n",
              "      <td>2012-01-04</td>\n",
              "      <td>US</td>\n",
              "      <td>Alabama</td>\n",
              "      <td>Birmingham</td>\n",
              "      <td>34.7</td>\n",
              "      <td>Davion Moss</td>\n",
              "    </tr>\n",
              "    <tr>\n",
              "      <th>4</th>\n",
              "      <td>2012-01-05</td>\n",
              "      <td>US</td>\n",
              "      <td>Alabama</td>\n",
              "      <td>Birmingham</td>\n",
              "      <td>44.1</td>\n",
              "      <td>Mauricio Hinton</td>\n",
              "    </tr>\n",
              "  </tbody>\n",
              "</table>\n",
              "</div>"
            ],
            "text/plain": [
              "             Date Country    State        City  AvgTemperature  \\\n",
              "index                                                            \n",
              "0      2012-01-01      US  Alabama  Birmingham            59.1   \n",
              "1      2012-01-02      US  Alabama  Birmingham            43.0   \n",
              "2      2012-01-03      US  Alabama  Birmingham            30.9   \n",
              "3      2012-01-04      US  Alabama  Birmingham            34.7   \n",
              "4      2012-01-05      US  Alabama  Birmingham            44.1   \n",
              "\n",
              "                  Name  \n",
              "index                   \n",
              "0      Joshua Harrison  \n",
              "1      Mauricio Hinton  \n",
              "2           Scott Kaur  \n",
              "3          Davion Moss  \n",
              "4      Mauricio Hinton  "
            ]
          },
          "metadata": {
            "tags": []
          },
          "execution_count": 23
        }
      ]
    },
    {
      "cell_type": "code",
      "metadata": {
        "id": "pRZ-IE8VYdxy"
      },
      "source": [],
      "execution_count": null,
      "outputs": []
    }
  ]
}