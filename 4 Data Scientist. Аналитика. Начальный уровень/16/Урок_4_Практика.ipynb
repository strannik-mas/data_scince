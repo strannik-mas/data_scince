{
 "nbformat": 4,
 "nbformat_minor": 0,
 "metadata": {
  "kernelspec": {
   "display_name": "Python 3",
   "language": "python",
   "name": "python3"
  },
  "language_info": {
   "codemirror_mode": {
    "name": "ipython",
    "version": 3
   },
   "file_extension": ".py",
   "mimetype": "text/x-python",
   "name": "python",
   "nbconvert_exporter": "python",
   "pygments_lexer": "ipython3",
   "version": "3.7.4"
  },
  "colab": {
   "provenance": []
  }
 },
 "cells": [
  {
   "cell_type": "markdown",
   "metadata": {
    "id": "jl_pG5GC5ceN"
   },
   "source": [
    "# Чтение и запись данных\n"
   ]
  },
  {
   "cell_type": "code",
   "metadata": {
    "id": "TploE7yd5ceO",
    "ExecuteTime": {
     "end_time": "2024-09-13T16:36:32.607698Z",
     "start_time": "2024-09-13T16:36:32.589413Z"
    }
   },
   "source": [
    "import pandas as pd"
   ],
   "outputs": [],
   "execution_count": 1
  },
  {
   "cell_type": "markdown",
   "metadata": {
    "id": "0lIFNVV65ceT"
   },
   "source": [
    "## Урок 4. Форматирование дат\n",
    "\n",
    "### Практика\n",
    "\n",
    "#### Задание 1.\n",
    "\n",
    "Скачайте файл Practice3_1.csv, загрузите его в DataFrame с помощью библиотеки pandas и выведите первые 5 строк этого файла на экран. Определите, какой формат дат используется в столбце `Date`. После этого загрузите файл Practice3_1.csv в DataFrame снова, использовав параметры `parse_dates` и `dayfirst`."
   ]
  },
  {
   "cell_type": "code",
   "metadata": {
    "id": "TJk1TLCh5ceU",
    "ExecuteTime": {
     "end_time": "2024-09-13T16:45:57.613618Z",
     "start_time": "2024-09-13T16:45:57.572607Z"
    }
   },
   "source": [
    "df = pd.read_csv('meteo1.csv', sep=';', encoding='utf8', parse_dates=['дата'], dayfirst=True)\n",
    "df.head()"
   ],
   "outputs": [
    {
     "data": {
      "text/plain": [
       "        дата t_avg  t_min  t_max\n",
       "0 2020-11-23  11,5    6.0   16.0\n",
       "1 2020-11-24     7    5.0    9.0\n",
       "2 2020-11-25   NaN    NaN    NaN\n",
       "3 2020-11-26  14,9   13.0   18.0\n",
       "4 2020-11-27  13,3   11.0   16.0"
      ],
      "text/html": [
       "<div>\n",
       "<style scoped>\n",
       "    .dataframe tbody tr th:only-of-type {\n",
       "        vertical-align: middle;\n",
       "    }\n",
       "\n",
       "    .dataframe tbody tr th {\n",
       "        vertical-align: top;\n",
       "    }\n",
       "\n",
       "    .dataframe thead th {\n",
       "        text-align: right;\n",
       "    }\n",
       "</style>\n",
       "<table border=\"1\" class=\"dataframe\">\n",
       "  <thead>\n",
       "    <tr style=\"text-align: right;\">\n",
       "      <th></th>\n",
       "      <th>дата</th>\n",
       "      <th>t_avg</th>\n",
       "      <th>t_min</th>\n",
       "      <th>t_max</th>\n",
       "    </tr>\n",
       "  </thead>\n",
       "  <tbody>\n",
       "    <tr>\n",
       "      <th>0</th>\n",
       "      <td>2020-11-23</td>\n",
       "      <td>11,5</td>\n",
       "      <td>6.0</td>\n",
       "      <td>16.0</td>\n",
       "    </tr>\n",
       "    <tr>\n",
       "      <th>1</th>\n",
       "      <td>2020-11-24</td>\n",
       "      <td>7</td>\n",
       "      <td>5.0</td>\n",
       "      <td>9.0</td>\n",
       "    </tr>\n",
       "    <tr>\n",
       "      <th>2</th>\n",
       "      <td>2020-11-25</td>\n",
       "      <td>NaN</td>\n",
       "      <td>NaN</td>\n",
       "      <td>NaN</td>\n",
       "    </tr>\n",
       "    <tr>\n",
       "      <th>3</th>\n",
       "      <td>2020-11-26</td>\n",
       "      <td>14,9</td>\n",
       "      <td>13.0</td>\n",
       "      <td>18.0</td>\n",
       "    </tr>\n",
       "    <tr>\n",
       "      <th>4</th>\n",
       "      <td>2020-11-27</td>\n",
       "      <td>13,3</td>\n",
       "      <td>11.0</td>\n",
       "      <td>16.0</td>\n",
       "    </tr>\n",
       "  </tbody>\n",
       "</table>\n",
       "</div>"
      ]
     },
     "execution_count": 9,
     "metadata": {},
     "output_type": "execute_result"
    }
   ],
   "execution_count": 9
  },
  {
   "cell_type": "markdown",
   "metadata": {
    "id": "edg9eYS35ceZ"
   },
   "source": [
    "#### Задание 2.\n",
    "\n",
    "На основе столбца \"Date\" создайте новый столбец \"Month\", который будет содержать _номер месяца_ (от 1 до 12), соответствующего дате в каждой строке. Затем сохраните этот DataFrame в файл MyPractice3_1.csv, используя в качестве разделителя точку с запятой `;`."
   ]
  },
  {
   "cell_type": "code",
   "metadata": {
    "id": "KwWakEIc5cea",
    "ExecuteTime": {
     "end_time": "2024-09-13T16:49:34.598496Z",
     "start_time": "2024-09-13T16:49:34.555763Z"
    }
   },
   "source": [
    "df['Month'] = df['дата'].dt.month\n",
    "df.head()"
   ],
   "outputs": [
    {
     "data": {
      "text/plain": [
       "        дата t_avg  t_min  t_max  Month\n",
       "0 2020-11-23  11,5    6.0   16.0     11\n",
       "1 2020-11-24     7    5.0    9.0     11\n",
       "2 2020-11-25   NaN    NaN    NaN     11\n",
       "3 2020-11-26  14,9   13.0   18.0     11\n",
       "4 2020-11-27  13,3   11.0   16.0     11"
      ],
      "text/html": [
       "<div>\n",
       "<style scoped>\n",
       "    .dataframe tbody tr th:only-of-type {\n",
       "        vertical-align: middle;\n",
       "    }\n",
       "\n",
       "    .dataframe tbody tr th {\n",
       "        vertical-align: top;\n",
       "    }\n",
       "\n",
       "    .dataframe thead th {\n",
       "        text-align: right;\n",
       "    }\n",
       "</style>\n",
       "<table border=\"1\" class=\"dataframe\">\n",
       "  <thead>\n",
       "    <tr style=\"text-align: right;\">\n",
       "      <th></th>\n",
       "      <th>дата</th>\n",
       "      <th>t_avg</th>\n",
       "      <th>t_min</th>\n",
       "      <th>t_max</th>\n",
       "      <th>Month</th>\n",
       "    </tr>\n",
       "  </thead>\n",
       "  <tbody>\n",
       "    <tr>\n",
       "      <th>0</th>\n",
       "      <td>2020-11-23</td>\n",
       "      <td>11,5</td>\n",
       "      <td>6.0</td>\n",
       "      <td>16.0</td>\n",
       "      <td>11</td>\n",
       "    </tr>\n",
       "    <tr>\n",
       "      <th>1</th>\n",
       "      <td>2020-11-24</td>\n",
       "      <td>7</td>\n",
       "      <td>5.0</td>\n",
       "      <td>9.0</td>\n",
       "      <td>11</td>\n",
       "    </tr>\n",
       "    <tr>\n",
       "      <th>2</th>\n",
       "      <td>2020-11-25</td>\n",
       "      <td>NaN</td>\n",
       "      <td>NaN</td>\n",
       "      <td>NaN</td>\n",
       "      <td>11</td>\n",
       "    </tr>\n",
       "    <tr>\n",
       "      <th>3</th>\n",
       "      <td>2020-11-26</td>\n",
       "      <td>14,9</td>\n",
       "      <td>13.0</td>\n",
       "      <td>18.0</td>\n",
       "      <td>11</td>\n",
       "    </tr>\n",
       "    <tr>\n",
       "      <th>4</th>\n",
       "      <td>2020-11-27</td>\n",
       "      <td>13,3</td>\n",
       "      <td>11.0</td>\n",
       "      <td>16.0</td>\n",
       "      <td>11</td>\n",
       "    </tr>\n",
       "  </tbody>\n",
       "</table>\n",
       "</div>"
      ]
     },
     "execution_count": 10,
     "metadata": {},
     "output_type": "execute_result"
    }
   ],
   "execution_count": 10
  },
  {
   "cell_type": "code",
   "metadata": {
    "id": "Jtn7l0Ds5cef",
    "ExecuteTime": {
     "end_time": "2024-09-13T16:50:04.420556Z",
     "start_time": "2024-09-13T16:50:04.402990Z"
    }
   },
   "source": "df.to_csv('result.csv', sep=';')",
   "outputs": [],
   "execution_count": 11
  }
 ]
}
