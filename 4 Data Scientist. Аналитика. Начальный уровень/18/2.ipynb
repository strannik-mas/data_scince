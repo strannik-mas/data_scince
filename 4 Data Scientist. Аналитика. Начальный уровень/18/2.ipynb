{
 "nbformat": 4,
 "nbformat_minor": 0,
 "metadata": {
  "kernelspec": {
   "display_name": "Python 3",
   "language": "python",
   "name": "python3"
  },
  "language_info": {
   "codemirror_mode": {
    "name": "ipython",
    "version": 3
   },
   "file_extension": ".py",
   "mimetype": "text/x-python",
   "name": "python",
   "nbconvert_exporter": "python",
   "pygments_lexer": "ipython3",
   "version": "3.7.4"
  },
  "colab": {
   "provenance": []
  }
 },
 "cells": [
  {
   "cell_type": "markdown",
   "metadata": {
    "id": "g5_bJDTG_QJw"
   },
   "source": [
    "# Чтение и запись данных\n"
   ]
  },
  {
   "cell_type": "code",
   "metadata": {
    "id": "vc64K_il_QJ0",
    "ExecuteTime": {
     "end_time": "2024-09-16T17:09:12.371014Z",
     "start_time": "2024-09-16T17:09:10.221789Z"
    }
   },
   "source": [
    "import urllib.request as req\n",
    "import json\n",
    "import pandas as pd"
   ],
   "outputs": [],
   "execution_count": 1
  },
  {
   "cell_type": "markdown",
   "metadata": {
    "id": "azHzSUyx_QKF"
   },
   "source": [
    "## Урок 2. Чтение и запись файлов в формате JSON\n",
    "\n",
    "### Практика\n",
    "\n",
    "#### Задание 1\n",
    "\n",
    "Используя сервис MetaWeather, найдите идентификатор Москвы (Moscow). Для запроса используйте адрес из следующей ячейки, заменив `%city%` на имя города."
   ]
  },
  {
   "cell_type": "code",
   "metadata": {
    "id": "S-mrH_cC_QKJ"
   },
   "source": "url = \"https://www.metaweather.com/api/location/search/?query=%city%\"\n",
   "execution_count": null,
   "outputs": []
  },
  {
   "cell_type": "markdown",
   "metadata": {
    "id": "rCWH6UNH_QKX"
   },
   "source": [
    "#### Задание 2\n",
    "\n",
    "Используя полученный идентификатор города, запросите данные о погоде в Москве за 28 апреля 2020 года. Для запроса используйте адрес из следующей ячейки, заменив `%city_id%`, `%year%`, `%month%`, `%day%` на идентификатор города, год, месяц и день соответственно."
   ]
  },
  {
   "cell_type": "code",
   "metadata": {
    "id": "fKYwn-Iz_QKa",
    "ExecuteTime": {
     "end_time": "2024-09-16T17:11:48.497181Z",
     "start_time": "2024-09-16T17:11:47.764229Z"
    }
   },
   "source": [
    "# url = 'https://www.metaweather.com/api/location/%city_id%/%year%/%month%/%day%/'\n",
    "url = \"http://api.weatherapi.com/v1/current.json?key=12560a4c205941fe91a203214231505&q=Moscow\"\n",
    "with req.urlopen(url) as session:\n",
    "    response1 = session.read().decode()\n",
    "    data = json.loads(response1)\n",
    "# response1\n",
    "data"
   ],
   "outputs": [
    {
     "data": {
      "text/plain": [
       "{'location': {'name': 'Moscow',\n",
       "  'region': 'Moscow City',\n",
       "  'country': 'Russia',\n",
       "  'lat': 55.75,\n",
       "  'lon': 37.62,\n",
       "  'tz_id': 'Europe/Moscow',\n",
       "  'localtime_epoch': 1726506689,\n",
       "  'localtime': '2024-09-16 20:11'},\n",
       " 'current': {'last_updated_epoch': 1726506000,\n",
       "  'last_updated': '2024-09-16 20:00',\n",
       "  'temp_c': 20.1,\n",
       "  'temp_f': 68.2,\n",
       "  'is_day': 0,\n",
       "  'condition': {'text': 'Clear',\n",
       "   'icon': '//cdn.weatherapi.com/weather/64x64/night/113.png',\n",
       "   'code': 1000},\n",
       "  'wind_mph': 5.8,\n",
       "  'wind_kph': 9.4,\n",
       "  'wind_degree': 102,\n",
       "  'wind_dir': 'ESE',\n",
       "  'pressure_mb': 1029.0,\n",
       "  'pressure_in': 30.39,\n",
       "  'precip_mm': 0.0,\n",
       "  'precip_in': 0.0,\n",
       "  'humidity': 46,\n",
       "  'cloud': 0,\n",
       "  'feelslike_c': 20.1,\n",
       "  'feelslike_f': 68.2,\n",
       "  'windchill_c': 19.7,\n",
       "  'windchill_f': 67.4,\n",
       "  'heatindex_c': 19.7,\n",
       "  'heatindex_f': 67.4,\n",
       "  'dewpoint_c': 7.6,\n",
       "  'dewpoint_f': 45.6,\n",
       "  'vis_km': 10.0,\n",
       "  'vis_miles': 6.0,\n",
       "  'uv': 1.0,\n",
       "  'gust_mph': 10.1,\n",
       "  'gust_kph': 16.2}}"
      ]
     },
     "execution_count": 2,
     "metadata": {},
     "output_type": "execute_result"
    }
   ],
   "execution_count": 2
  },
  {
   "cell_type": "markdown",
   "metadata": {
    "id": "VeTB_VLo_QKl"
   },
   "source": [
    "#### Задание 3\n",
    "\n",
    "Сохраните полученные данные в файл `file.json`. Для форматирования файла используйте четыре пробела."
   ]
  },
  {
   "cell_type": "code",
   "metadata": {
    "id": "6RKs950M_QKm",
    "ExecuteTime": {
     "end_time": "2024-09-16T17:13:00.353240Z",
     "start_time": "2024-09-16T17:13:00.343546Z"
    }
   },
   "source": [
    "with open('file.json', 'w') as file:\n",
    "    json.dump(data, file, indent=4)"
   ],
   "outputs": [],
   "execution_count": 3
  },
  {
   "cell_type": "markdown",
   "metadata": {
    "id": "dpCG2qxv_QKw"
   },
   "source": [
    "#### Задание 4\n",
    "\n",
    "Загрузите содержимое файла `file.json` в DataFrame и выведите первые пять строк на экран."
   ]
  },
  {
   "cell_type": "code",
   "metadata": {
    "id": "1wug7UER_QKx",
    "ExecuteTime": {
     "end_time": "2024-09-16T17:17:51.369097Z",
     "start_time": "2024-09-16T17:17:51.312468Z"
    }
   },
   "source": [
    "with open('file.json', 'r') as file:\n",
    "    s = json.load(file)\n",
    "df = pd.DataFrame(s)\n",
    "df.head()"
   ],
   "outputs": [
    {
     "data": {
      "text/plain": [
       "            location current\n",
       "name          Moscow     NaN\n",
       "region   Moscow City     NaN\n",
       "country       Russia     NaN\n",
       "lat            55.75     NaN\n",
       "lon            37.62     NaN"
      ],
      "text/html": [
       "<div>\n",
       "<style scoped>\n",
       "    .dataframe tbody tr th:only-of-type {\n",
       "        vertical-align: middle;\n",
       "    }\n",
       "\n",
       "    .dataframe tbody tr th {\n",
       "        vertical-align: top;\n",
       "    }\n",
       "\n",
       "    .dataframe thead th {\n",
       "        text-align: right;\n",
       "    }\n",
       "</style>\n",
       "<table border=\"1\" class=\"dataframe\">\n",
       "  <thead>\n",
       "    <tr style=\"text-align: right;\">\n",
       "      <th></th>\n",
       "      <th>location</th>\n",
       "      <th>current</th>\n",
       "    </tr>\n",
       "  </thead>\n",
       "  <tbody>\n",
       "    <tr>\n",
       "      <th>name</th>\n",
       "      <td>Moscow</td>\n",
       "      <td>NaN</td>\n",
       "    </tr>\n",
       "    <tr>\n",
       "      <th>region</th>\n",
       "      <td>Moscow City</td>\n",
       "      <td>NaN</td>\n",
       "    </tr>\n",
       "    <tr>\n",
       "      <th>country</th>\n",
       "      <td>Russia</td>\n",
       "      <td>NaN</td>\n",
       "    </tr>\n",
       "    <tr>\n",
       "      <th>lat</th>\n",
       "      <td>55.75</td>\n",
       "      <td>NaN</td>\n",
       "    </tr>\n",
       "    <tr>\n",
       "      <th>lon</th>\n",
       "      <td>37.62</td>\n",
       "      <td>NaN</td>\n",
       "    </tr>\n",
       "  </tbody>\n",
       "</table>\n",
       "</div>"
      ]
     },
     "execution_count": 5,
     "metadata": {},
     "output_type": "execute_result"
    }
   ],
   "execution_count": 5
  }
 ]
}
