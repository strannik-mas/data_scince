{
 "nbformat": 4,
 "nbformat_minor": 0,
 "metadata": {
  "kernelspec": {
   "display_name": "Python 3",
   "language": "python",
   "name": "python3"
  },
  "language_info": {
   "codemirror_mode": {
    "name": "ipython",
    "version": 3
   },
   "file_extension": ".py",
   "mimetype": "text/x-python",
   "name": "python",
   "nbconvert_exporter": "python",
   "pygments_lexer": "ipython3",
   "version": "3.6.3"
  },
  "colab": {
   "name": "jun_anl_functions.ipynb",
   "provenance": [],
   "collapsed_sections": []
  }
 },
 "cells": [
  {
   "cell_type": "markdown",
   "metadata": {
    "id": "fm2YWUGvts2-",
    "colab_type": "text"
   },
   "source": [
    "# Функции\n",
    "### Домашнее задание"
   ]
  },
  {
   "cell_type": "markdown",
   "metadata": {
    "id": "vtadtcbgts3A",
    "colab_type": "text"
   },
   "source": [
    "#### 1.\n",
    "Почему возникла ошибка? Объясните и исправьте."
   ]
  },
  {
   "cell_type": "code",
   "metadata": {
    "id": "wYCHLbgJts3C",
    "colab_type": "code",
    "outputId": "a5d47ca5-71fb-4003-ce4b-101f4c938e38",
    "colab": {},
    "ExecuteTime": {
     "end_time": "2025-01-05T18:45:29.554569Z",
     "start_time": "2025-01-05T18:45:29.545567Z"
    }
   },
   "source": [
    "def factorial(n):\n",
    "    f = 1\n",
    "    for i in range(2, n + 1):\n",
    "        f = f * i\n",
    "    return f\n",
    "\n",
    "fuck = factorial(3)\n",
    "print(fuck)"
   ],
   "outputs": [
    {
     "name": "stdout",
     "output_type": "stream",
     "text": [
      "6\n"
     ]
    }
   ],
   "execution_count": 1
  },
  {
   "cell_type": "markdown",
   "metadata": {
    "id": "4AEgqr_Its3I",
    "colab_type": "text"
   },
   "source": [
    "**Объяснение:** \n",
    "<br><br>"
   ]
  },
  {
   "cell_type": "markdown",
   "metadata": {
    "id": "A9jbY_Ixts3K",
    "colab_type": "text"
   },
   "source": [
    "#### 2.\n",
    "Почему переменная S после запуска функции сохранила значение ноль?"
   ]
  },
  {
   "cell_type": "code",
   "metadata": {
    "id": "A_cfBf0Dts3L",
    "colab_type": "code",
    "outputId": "6f596828-96d2-45bc-d050-56292af00604",
    "colab": {}
   },
   "source": [
    "S = 0\n",
    "def sum(n, m):\n",
    "    S = n + m\n",
    "    return S\n",
    "\n",
    "print(sum(3, 4))\n",
    "print(S)"
   ],
   "execution_count": 0,
   "outputs": [
    {
     "output_type": "stream",
     "text": [
      "7\n",
      "0\n"
     ],
     "name": "stdout"
    }
   ]
  },
  {
   "cell_type": "markdown",
   "metadata": {
    "id": "oxwz4yVYts3P",
    "colab_type": "text"
   },
   "source": [
    "**Объяснение:** \n",
    "<br><br>"
   ]
  },
  {
   "cell_type": "markdown",
   "metadata": {
    "id": "ws1lmJfhts3R",
    "colab_type": "text"
   },
   "source": [
    "#### 3.\n",
    "Почему возникла ошибка? Объясните и исправьте, чтобы функция могла работать с данными на входе в примере с `res`."
   ]
  },
  {
   "cell_type": "code",
   "metadata": {
    "id": "ad8eYc35ts3S",
    "colab_type": "code",
    "outputId": "c991c697-d867-4403-f1fd-5851d65b7942",
    "colab": {},
    "ExecuteTime": {
     "end_time": "2024-08-11T09:44:19.847466Z",
     "start_time": "2024-08-11T09:44:19.828419Z"
    }
   },
   "source": [
    "def mult(*, q, w, e, r, t, y):\n",
    "    return q + w + e + r + t + y\n",
    "res = mult(q=1, w=2, e=3, r=4, t=5, y=6)\n",
    "print(res)"
   ],
   "outputs": [
    {
     "name": "stdout",
     "output_type": "stream",
     "text": [
      "21\n"
     ]
    }
   ],
   "execution_count": 5
  },
  {
   "cell_type": "markdown",
   "metadata": {
    "id": "yVwoWfiWts3Y",
    "colab_type": "text"
   },
   "source": [
    "**Объяснение:** \n",
    "<br><br>"
   ]
  },
  {
   "cell_type": "markdown",
   "metadata": {
    "id": "UTT3sbJXts3a",
    "colab_type": "text"
   },
   "source": [
    "#### 4.\n",
    "Почему возникла ошибка? Объясните и исправьте, чтобы функция могла работать с данными на входе в примере."
   ]
  },
  {
   "cell_type": "code",
   "metadata": {
    "id": "xizQ5rdqts3b",
    "colab_type": "code",
    "outputId": "a52d4f28-5521-48fe-a968-13b7491cfb65",
    "colab": {},
    "ExecuteTime": {
     "end_time": "2024-08-11T09:45:01.993090Z",
     "start_time": "2024-08-11T09:45:01.985544Z"
    }
   },
   "source": [
    "def power(a, s, *, d):\n",
    "    res = a ** s ** d\n",
    "    print(res)\n",
    "    \n",
    "power(5, 6, d = 4)\n"
   ],
   "outputs": [
    {
     "name": "stdout",
     "output_type": "stream",
     "text": [
      "733036532959081958493044038604220573003076872623105825587799726719137081664242889213090239865705342028379233496941111919796792708971905802219444504019006104332493489107721493845412453899793946281899700834091715387952751830219643610349979360602856524762182507733859966860842500858768382394753399581156286449561160783713877222895092808637540218804927005623038569306841733685039433236910980897592858987002063924013988530964522502594931500371157643132061597303111367258489022159044511817010529399435883286083212695075903281596592105429678751689059533454035251548334986509241552406961532864939006610513597608967402985707857424513196823658884413602881077337616965779954194874666031301491450438900838443296921074535307486056701074634195717288344127864971903293281532919139948732795811179970577905638353069459326437465009401802406334569163539571111057039009740125070184999823974525412495495402254164218902587890625\n"
     ]
    }
   ],
   "execution_count": 6
  },
  {
   "cell_type": "markdown",
   "metadata": {
    "id": "GfY6txsXts3f",
    "colab_type": "text"
   },
   "source": [
    "#### 5.\n",
    "Почему возникла ошибка? Объясните и исправьте, чтобы функция могла работать с данными на входе в примере."
   ]
  },
  {
   "cell_type": "code",
   "metadata": {
    "id": "oYQQA2PBts3g",
    "colab_type": "code",
    "outputId": "7036c68d-1c7f-4034-f3de-816e075f6059",
    "colab": {},
    "ExecuteTime": {
     "end_time": "2024-08-11T09:47:09.943072Z",
     "start_time": "2024-08-11T09:47:09.934694Z"
    }
   },
   "source": [
    "def mult2(*args):\n",
    "    res = 1\n",
    "    for i in args:\n",
    "        res += i\n",
    "    return res\n",
    "\n",
    "List = [1, 2, 3, 4, 5, 6, 7]\n",
    "print(mult2(*List))"
   ],
   "outputs": [
    {
     "name": "stdout",
     "output_type": "stream",
     "text": [
      "29\n"
     ]
    }
   ],
   "execution_count": 7
  },
  {
   "cell_type": "markdown",
   "metadata": {
    "id": "QcuTA23Uts3l",
    "colab_type": "text"
   },
   "source": [
    "#### 6.\n",
    "Почему возникла ошибка? Объясните и исправьте."
   ]
  },
  {
   "cell_type": "code",
   "metadata": {
    "id": "N51MkraMts3n",
    "colab_type": "code",
    "outputId": "21cd0746-6fa8-45d8-dab1-d050fc5c6034",
    "colab": {},
    "ExecuteTime": {
     "end_time": "2024-08-11T09:47:40.561811Z",
     "start_time": "2024-08-11T09:47:40.555516Z"
    }
   },
   "source": [
    "def some_function(a, b, *args, **kwargs):\n",
    "    pass"
   ],
   "outputs": [],
   "execution_count": 8
  },
  {
   "cell_type": "markdown",
   "metadata": {
    "id": "Mj0qEUurts36",
    "colab_type": "text"
   },
   "source": [
    "**Объяснение:** \n",
    "<br><br>"
   ]
  },
  {
   "cell_type": "markdown",
   "metadata": {
    "id": "Me-VY77Bts37",
    "colab_type": "text"
   },
   "source": [
    "#### 7.\n",
    "Почему не был создан новый список при повторном запуске функции? Объясните и исправьте."
   ]
  },
  {
   "cell_type": "code",
   "metadata": {
    "id": "wXhSLV5xts3-",
    "colab_type": "code",
    "outputId": "aa4dbf80-bc9a-42c0-c402-e63a1a2c71b1",
    "colab": {}
   },
   "source": [
    "def to_buy(*new_items, shopping_list = []):\n",
    "    for i in new_items:\n",
    "        shopping_list.append(i)\n",
    "    return shopping_list\n",
    "\n",
    "monday = to_buy('яблоки', 'молоко', 'хлеб')\n",
    "print(monday)\n",
    "\n",
    "tuesday = to_buy('груши', 'йогурт', 'мясо')\n",
    "print(tuesday)\n"
   ],
   "execution_count": 0,
   "outputs": [
    {
     "output_type": "stream",
     "text": [
      "['яблоки', 'молоко', 'хлеб']\n",
      "['яблоки', 'молоко', 'хлеб', 'груши', 'йогурт', 'мясо']\n"
     ],
     "name": "stdout"
    }
   ]
  },
  {
   "cell_type": "markdown",
   "metadata": {
    "id": "nfb7HR6Lts4I",
    "colab_type": "text"
   },
   "source": [
    "**Объяснение:** \n",
    "<br><br>"
   ]
  },
  {
   "cell_type": "markdown",
   "metadata": {
    "id": "nXWDuX9Kts4J",
    "colab_type": "text"
   },
   "source": [
    "#### 8.\n",
    "Измените данную функцию так, чтобы она распечатывала названия продуктов из словаря в примере.\n"
   ]
  },
  {
   "cell_type": "code",
   "metadata": {
    "id": "SBW9DRlots4L",
    "colab_type": "code",
    "outputId": "500ecd98-600a-4075-83fa-5c897ef31df8",
    "colab": {},
    "ExecuteTime": {
     "end_time": "2024-08-11T10:02:35.377044Z",
     "start_time": "2024-08-11T10:02:35.367797Z"
    }
   },
   "source": [
    "def print_all(**kwargs):\n",
    "    print(kwargs)\n",
    "    for i, v in kwargs.items():\n",
    "        print(v)\n",
    "        \n",
    "print_all(**{'1' : 'яблоки', '2' :'молоко', '3' : 'хлеб', '4' : 'груши', '5' : 'йогурт', '6' : 'мясо'})"
   ],
   "outputs": [
    {
     "name": "stdout",
     "output_type": "stream",
     "text": [
      "{'1': 'яблоки', '2': 'молоко', '3': 'хлеб', '4': 'груши', '5': 'йогурт', '6': 'мясо'}\n",
      "яблоки\n",
      "молоко\n",
      "хлеб\n",
      "груши\n",
      "йогурт\n",
      "мясо\n"
     ]
    }
   ],
   "execution_count": 13
  },
  {
   "cell_type": "markdown",
   "metadata": {
    "id": "Qse7He_ets4W",
    "colab_type": "text"
   },
   "source": [
    "#### 9.\n",
    "Программисты договорились, что переменные такого рода являются.. *(вопрос из лекции)*"
   ]
  },
  {
   "cell_type": "code",
   "metadata": {
    "id": "GZldqNGTts4Y",
    "colab_type": "code",
    "colab": {}
   },
   "source": [
    "TOKEN = ..."
   ],
   "execution_count": 0,
   "outputs": []
  },
  {
   "cell_type": "markdown",
   "metadata": {
    "id": "XwagZX5bts4c",
    "colab_type": "text"
   },
   "source": [
    "**Ответ:** \n",
    "<br>\n",
    "<br>"
   ]
  },
  {
   "cell_type": "markdown",
   "metadata": {
    "id": "GhEM45Mots4d",
    "colab_type": "text"
   },
   "source": [
    "#### 10.\n",
    "Напишите функцию, которая с помощью рекурсии считает сумму последовательности с шагом m. В качестве аргументов подаются целые положительные числа n (последний элемент последовательности) и m (шаг последовательности). Считается, что все члены последовательности являются целыми положительными числами.\n",
    "\n",
    "Пример:\n",
    "\n",
    "```\n",
    "sum_of_seq(5, 1)\n",
    "15\n",
    " \n",
    "sum_of_seq(5, 9)\n",
    "5\n",
    "\n",
    "sum_of_seq(8, 2)\n",
    "20\n",
    "```\n"
   ]
  },
  {
   "cell_type": "code",
   "metadata": {
    "id": "vPXkJ79ats4e",
    "colab_type": "code",
    "colab": {},
    "ExecuteTime": {
     "end_time": "2024-08-11T10:29:36.308487Z",
     "start_time": "2024-08-11T10:29:36.293943Z"
    }
   },
   "source": [
    "### YOUR CODE HERE ###\n",
    "def sum_of_seq(n, m):\n",
    "    if n < 1:\n",
    "        return 0\n",
    "    elif n == 1:\n",
    "        return 1\n",
    "    return n + sum_of_seq(n - m, m)\n",
    "print(sum_of_seq(8,2))\n",
    "print(sum_of_seq(5,9))\n",
    "print(sum_of_seq(5,1))"
   ],
   "outputs": [
    {
     "name": "stdout",
     "output_type": "stream",
     "text": [
      "20\n",
      "5\n",
      "15\n"
     ]
    }
   ],
   "execution_count": 19
  },
  {
   "cell_type": "markdown",
   "metadata": {
    "id": "_nuDRzdBts4k",
    "colab_type": "text"
   },
   "source": [
    "#### 11.\n",
    "Напишите функцию, которая возводит число в положительную степень с помощью рекурсии. В качестве аргументов подаются целые положительные числа n (число) и m (степень)."
   ]
  },
  {
   "cell_type": "code",
   "metadata": {
    "id": "_9_BMZCxts4m",
    "colab_type": "code",
    "colab": {},
    "ExecuteTime": {
     "end_time": "2024-08-11T11:06:30.504885Z",
     "start_time": "2024-08-11T11:06:30.496268Z"
    }
   },
   "source": [
    "### YOUR CODE HERE ###\n",
    "def chislo_pow(n, m):\n",
    "    if m == 0:\n",
    "        return 1\n",
    "    return n * chislo_pow(n, m - 1)\n",
    "print(chislo_pow(3,3))"
   ],
   "outputs": [
    {
     "name": "stdout",
     "output_type": "stream",
     "text": [
      "27\n"
     ]
    }
   ],
   "execution_count": 21
  },
  {
   "cell_type": "markdown",
   "metadata": {
    "id": "1K4dbMwcts4v",
    "colab_type": "text"
   },
   "source": [
    "#### 12.\n",
    "Напишите функцию, которая возводит число в отрицательную степень число с помощью рекурсии. В качестве аргументов подаются целое положительное число n (число) и целое отрицательное число m (степень)."
   ]
  },
  {
   "cell_type": "code",
   "metadata": {
    "id": "ddZY7Fdxts4x",
    "colab_type": "code",
    "colab": {},
    "ExecuteTime": {
     "end_time": "2024-08-11T11:25:43.615397Z",
     "start_time": "2024-08-11T11:25:43.607651Z"
    }
   },
   "source": [
    "### YOUR CODE HERE ###\n",
    "def chislo_minus_pow(n, m):\n",
    "    if m == 0:\n",
    "        return 1\n",
    "    return (1 / n) * chislo_minus_pow(n, m + 1)\n",
    "print(chislo_minus_pow(3,-2))\n"
   ],
   "outputs": [
    {
     "name": "stdout",
     "output_type": "stream",
     "text": [
      "0.1111111111111111\n"
     ]
    }
   ],
   "execution_count": 27
  },
  {
   "cell_type": "markdown",
   "metadata": {
    "id": "IxBt4VyQts41",
    "colab_type": "text"
   },
   "source": [
    "#### 13.\n",
    "\n",
    "Напишите функцию, которая находит число Фиббоначи по его номеру. В качестве аргумента подается целое положительное число n (число)."
   ]
  },
  {
   "cell_type": "code",
   "metadata": {
    "id": "8DEaBWjkts43",
    "colab_type": "code",
    "colab": {},
    "ExecuteTime": {
     "end_time": "2024-08-11T11:32:18.708218Z",
     "start_time": "2024-08-11T11:32:18.699437Z"
    }
   },
   "source": [
    "### YOUR CODE HERE ###\n",
    "def fib3(n):\n",
    "    a, b = 0, 1\n",
    "    for _ in range(n-1):   #without index\n",
    "        a, b = b, a + b #переприсваивание b ->a a+b -> b\n",
    "    return a        #O(n)\n",
    "\n",
    "print(fib3(9))"
   ],
   "outputs": [
    {
     "name": "stdout",
     "output_type": "stream",
     "text": [
      "21\n"
     ]
    }
   ],
   "execution_count": 30
  }
 ]
}
