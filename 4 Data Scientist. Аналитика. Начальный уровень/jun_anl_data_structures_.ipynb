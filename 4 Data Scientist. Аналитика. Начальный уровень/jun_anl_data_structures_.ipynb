{
 "nbformat": 4,
 "nbformat_minor": 0,
 "metadata": {
  "colab": {
   "name": "jun_anl_data_structures_.ipynb",
   "provenance": [],
   "collapsed_sections": [
    "t6Fgb0AkLIPK",
    "s2K0_TThLIPR",
    "WyhA3ipeLIPU",
    "Clfo7jhOLIPY",
    "U9glCsGCLIPb",
    "CHz6UIKyLIPi",
    "ZZehpNQuLIPm",
    "kwWQ1al2LIPr",
    "qnWdcLseLIP_",
    "BnxMhHlDLIQB",
    "ZxMi6_58LIQG",
    "6q6JEgziLIQK",
    "3NglY6CQLIQN",
    "oWERt2BRLIQR",
    "Q0u91-MILIQX",
    "nIgc10tKLIQc",
    "3FocVZkgLIQn",
    "vVhNCrtLLIQs",
    "BPQ5R-PkLIQ2",
    "HCE0aq_BLIQ7"
   ]
  },
  "kernelspec": {
   "display_name": "Python 3",
   "language": "python",
   "name": "python3"
  },
  "language_info": {
   "codemirror_mode": {
    "name": "ipython",
    "version": 3
   },
   "file_extension": ".py",
   "mimetype": "text/x-python",
   "name": "python",
   "nbconvert_exporter": "python",
   "pygments_lexer": "ipython3",
   "version": "3.6.3"
  }
 },
 "cells": [
  {
   "cell_type": "markdown",
   "metadata": {
    "colab_type": "text",
    "id": "7lPyzNzeLIOj"
   },
   "source": [
    "# Базовые структуры данных\n",
    "\n",
    "\n",
    "\n",
    "## Домашнее задание \n",
    "\n",
    "### Описание домашнего задания и формат сдачи\n",
    "\n",
    "Решите предложенные задачи по программированию — впишите свой код в ячейки после условий задач вместо комментария `### YOUR CODE HERE ###` в файле *jun_anl_data_structures.ipynb* и сохраните изменения, используя опцию *Save and Checkpoint* из вкладки меню *File* или кнопку *Save and Checkpoint* на панели инструментов. Итоговый файл в формате `.ipynb` (файл Jupyter Notebook) загрузите в личный кабинет обучающей онлайн-платформы Skillbox (https://go.skillbox.ru/) и отправьте на проверку."
   ]
  },
  {
   "cell_type": "markdown",
   "metadata": {
    "colab_type": "text",
    "id": "awb1K2hlLIOl"
   },
   "source": [
    "**NB!** Во всех заданиях обязательно наличие выдачи."
   ]
  },
  {
   "cell_type": "markdown",
   "metadata": {
    "colab_type": "text",
    "id": "3ndIOSVeLIOm"
   },
   "source": [
    "## Индексация списка"
   ]
  },
  {
   "cell_type": "markdown",
   "metadata": {
    "id": "YBj2DZxnmQzq",
    "colab_type": "text"
   },
   "source": [
    "**Цель блока заданий:** в данном блоке задач вы потренируетесь вызывать элементы или группы элементов из списка. \n",
    "\n",
    "**Рекомендации к выполнению блока заданий:** попробуйте разделить задание на части, поэтапно вызывайте по индексу составные части (которые могут также являться списками) из списка, пока не дойдёте до нужного элемента.\n",
    "\n",
    "**Критерии оценки:** задания считаются выполненными, если выдача строго соответствует примеру из каждого задания. Допустим, в пятом задании результатом должен быть список с единственным элементом, равным 74."
   ]
  },
  {
   "cell_type": "code",
   "metadata": {
    "colab_type": "code",
    "id": "XSWqZnZ2LIOo",
    "colab": {},
    "ExecuteTime": {
     "end_time": "2024-08-06T18:00:13.147199Z",
     "start_time": "2024-08-06T18:00:13.130946Z"
    }
   },
   "source": [
    "L = [[[1, 2, 3, 4, 5, 6, 7, 8, 9, 10], [11, 12, 13, 14, 15, 16, 17, 18, 19, 20]], \n",
    "    [[21, 22, 23, 24, 25, 26, 27, 28, 29, 30], [31, 32, 33, 34, 35, 36, 37, 38, 39, 40]], \n",
    "    [[41, 42, 43, 44, 45], [46, [47, 48], 49, 50], [51, 52, 53, 54, 55], [56, 57, 58, 59, 60]], \n",
    "    [61, 62, 63, [64, 65, 66, 67, 68, 69, 70, 71], 72, 73, 74, [75, [76, 77, 78], 79], 80], \n",
    "    [81, 82, 83, 84, 85, 86, 87, 88, 89, 90, 91, 92, 93, 94, 95, 96, 97, 98, 99, 100]]"
   ],
   "outputs": [],
   "execution_count": 2
  },
  {
   "cell_type": "markdown",
   "metadata": {
    "colab_type": "text",
    "id": "jwigC9WlLIOt"
   },
   "source": [
    "### 1.\n",
    "Из приведённого выше списка списков выведите с помощью индексов число `7`."
   ]
  },
  {
   "cell_type": "code",
   "metadata": {
    "colab_type": "code",
    "id": "PDaSjPzRLIOu",
    "colab": {},
    "ExecuteTime": {
     "end_time": "2024-08-06T18:35:26.373392Z",
     "start_time": "2024-08-06T18:35:26.363945Z"
    }
   },
   "source": [
    "### YOUR CODE HERE ###\n",
    "L[0][0][6]"
   ],
   "outputs": [
    {
     "data": {
      "text/plain": [
       "7"
      ]
     },
     "execution_count": 4,
     "metadata": {},
     "output_type": "execute_result"
    }
   ],
   "execution_count": 4
  },
  {
   "cell_type": "markdown",
   "metadata": {
    "colab_type": "text",
    "id": "TF6eb9fYLIOw"
   },
   "source": [
    "### 2.\n",
    "Из приведённого выше списка списков выведите с помощью индексов число `49`."
   ]
  },
  {
   "cell_type": "code",
   "metadata": {
    "colab_type": "code",
    "id": "l_oW37-qLIOx",
    "colab": {},
    "ExecuteTime": {
     "end_time": "2024-08-06T18:36:59.225952Z",
     "start_time": "2024-08-06T18:36:59.212689Z"
    }
   },
   "source": [
    "### YOUR CODE HERE ###\n",
    "L[2][1][2]"
   ],
   "outputs": [
    {
     "data": {
      "text/plain": [
       "49"
      ]
     },
     "execution_count": 5,
     "metadata": {},
     "output_type": "execute_result"
    }
   ],
   "execution_count": 5
  },
  {
   "cell_type": "markdown",
   "metadata": {
    "colab_type": "text",
    "id": "FBDB0JeBLIO1"
   },
   "source": [
    "### 3.\n",
    "Из приведённого выше списка списков выведите с помощью индексов число `78`."
   ]
  },
  {
   "cell_type": "code",
   "metadata": {
    "colab_type": "code",
    "id": "tpM-jm4bLIO2",
    "colab": {},
    "ExecuteTime": {
     "end_time": "2024-08-06T18:38:32.039390Z",
     "start_time": "2024-08-06T18:38:32.026832Z"
    }
   },
   "source": [
    "### YOUR CODE HERE ###\n",
    "L[3][-2][-1]"
   ],
   "outputs": [
    {
     "data": {
      "text/plain": [
       "79"
      ]
     },
     "execution_count": 6,
     "metadata": {},
     "output_type": "execute_result"
    }
   ],
   "execution_count": 6
  },
  {
   "cell_type": "markdown",
   "metadata": {
    "colab_type": "text",
    "id": "gnaTfR3BLIO5"
   },
   "source": [
    "### 4.\n",
    "Из приведённого выше списка списков выведите с помощью индексов (используя **отрицательные значения**) число `99`."
   ]
  },
  {
   "cell_type": "code",
   "metadata": {
    "colab_type": "code",
    "id": "sA0ImW8oLIO6",
    "colab": {},
    "ExecuteTime": {
     "end_time": "2024-08-06T19:44:40.119578Z",
     "start_time": "2024-08-06T19:44:40.109175Z"
    }
   },
   "source": [
    "### YOUR CODE HERE ###\n",
    "L[4][-2]\n"
   ],
   "outputs": [
    {
     "data": {
      "text/plain": [
       "99"
      ]
     },
     "execution_count": 15,
     "metadata": {},
     "output_type": "execute_result"
    }
   ],
   "execution_count": 15
  },
  {
   "cell_type": "markdown",
   "metadata": {
    "colab_type": "text",
    "id": "07mV6-oeLIO-"
   },
   "source": [
    "### 5.\n",
    "Из приведённого выше списка списков сделайте **срез** с числом `74`. "
   ]
  },
  {
   "cell_type": "code",
   "metadata": {
    "colab_type": "code",
    "id": "OM-zgJ15LIO-",
    "colab": {},
    "ExecuteTime": {
     "end_time": "2024-08-06T19:39:43.127528Z",
     "start_time": "2024-08-06T19:39:43.116873Z"
    }
   },
   "source": [
    "### YOUR CODE HERE ###\n",
    "\n",
    "L[3][-3:-2]"
   ],
   "outputs": [
    {
     "data": {
      "text/plain": [
       "[74]"
      ]
     },
     "execution_count": 11,
     "metadata": {},
     "output_type": "execute_result"
    }
   ],
   "execution_count": 11
  },
  {
   "cell_type": "markdown",
   "metadata": {
    "colab_type": "text",
    "id": "TE82rH0CLIPB"
   },
   "source": [
    "### 6.\n",
    "Из приведённого выше списка списков сделайте **срез** с числами `47, 48`. "
   ]
  },
  {
   "cell_type": "code",
   "metadata": {
    "colab_type": "code",
    "id": "MKpqyOINLIPD",
    "colab": {},
    "ExecuteTime": {
     "end_time": "2024-08-06T19:41:19.258097Z",
     "start_time": "2024-08-06T19:41:19.247433Z"
    }
   },
   "source": [
    "### YOUR CODE HERE ###\n",
    "L[2][1][1][:]\n"
   ],
   "outputs": [
    {
     "data": {
      "text/plain": [
       "[47, 48]"
      ]
     },
     "execution_count": 12,
     "metadata": {},
     "output_type": "execute_result"
    }
   ],
   "execution_count": 12
  },
  {
   "cell_type": "markdown",
   "metadata": {
    "colab_type": "text",
    "id": "t6Fgb0AkLIPK"
   },
   "source": [
    "### 7.\n",
    "Из приведённого выше списка списков сделайте **срез** с числами `77, 78`. "
   ]
  },
  {
   "cell_type": "code",
   "metadata": {
    "colab_type": "code",
    "id": "l1pGFe7uLIPM",
    "colab": {},
    "ExecuteTime": {
     "end_time": "2024-08-06T19:45:31.438821Z",
     "start_time": "2024-08-06T19:45:31.427948Z"
    }
   },
   "source": [
    "### YOUR CODE HERE ###\n",
    "L[3][-2][1][1:]\n"
   ],
   "outputs": [
    {
     "data": {
      "text/plain": [
       "[77, 78]"
      ]
     },
     "execution_count": 16,
     "metadata": {},
     "output_type": "execute_result"
    }
   ],
   "execution_count": 16
  },
  {
   "cell_type": "markdown",
   "metadata": {
    "colab_type": "text",
    "id": "RwOlYKGhLIPR"
   },
   "source": [
    "## Функция range()"
   ]
  },
  {
   "cell_type": "markdown",
   "metadata": {
    "id": "xsF_OmeImQ1t",
    "colab_type": "text"
   },
   "source": [
    "**Цель блока заданий:** в данном блоке задач вы закрепите навык генерации числовых последовательностей через функцию range(). В дальнейшем функция range() будет часто использоваться в счётных циклах, а также для решения других задач.\n",
    "\n",
    "**Рекомендации к выполнению блока заданий:** обратите внимание, что шаг последовательности может быть как «вперед», так и «назад». Для вывода результата в формате списка можно использовать функцию list().\n",
    "\n",
    "**Критерии оценки:** задания считаются выполненными, если выдача строго соответствует примеру из задания. Использование функций сортировки не допускается."
   ]
  },
  {
   "cell_type": "markdown",
   "metadata": {
    "colab_type": "text",
    "id": "s2K0_TThLIPR"
   },
   "source": [
    "### 8.\n",
    "С помощью функции `range` сгенерируйте следующую последовательность: <br>\n",
    "`[0, 1, 2, 3, 4]`"
   ]
  },
  {
   "cell_type": "code",
   "metadata": {
    "colab_type": "code",
    "id": "vpuvqwqdLIPS",
    "colab": {},
    "ExecuteTime": {
     "end_time": "2024-08-06T19:46:34.047708Z",
     "start_time": "2024-08-06T19:46:34.037157Z"
    }
   },
   "source": [
    "### YOUR CODE HERE ###\n",
    "list(range(5))\n"
   ],
   "outputs": [
    {
     "data": {
      "text/plain": [
       "[0, 1, 2, 3, 4]"
      ]
     },
     "execution_count": 17,
     "metadata": {},
     "output_type": "execute_result"
    }
   ],
   "execution_count": 17
  },
  {
   "cell_type": "markdown",
   "metadata": {
    "colab_type": "text",
    "id": "WyhA3ipeLIPU"
   },
   "source": [
    "### 9.\n",
    "С помощью функции `range` сгенерируйте следующую последовательность: <br>\n",
    "`[3, 4]`"
   ]
  },
  {
   "cell_type": "code",
   "metadata": {
    "colab_type": "code",
    "id": "WHoyVxCeLIPV",
    "colab": {},
    "ExecuteTime": {
     "end_time": "2024-08-06T19:47:01.824935Z",
     "start_time": "2024-08-06T19:47:01.810452Z"
    }
   },
   "source": [
    "### YOUR CODE HERE ###\n",
    "list(range(3,5))\n"
   ],
   "outputs": [
    {
     "data": {
      "text/plain": [
       "[3, 4]"
      ]
     },
     "execution_count": 18,
     "metadata": {},
     "output_type": "execute_result"
    }
   ],
   "execution_count": 18
  },
  {
   "cell_type": "markdown",
   "metadata": {
    "colab_type": "text",
    "id": "Clfo7jhOLIPY"
   },
   "source": [
    "### 10.\n",
    "С помощью функции `range` сгенерируйте следующую последовательность: <br>\n",
    "`[4, 8, 12, 16]`"
   ]
  },
  {
   "cell_type": "code",
   "metadata": {
    "colab_type": "code",
    "id": "WepJj6ZfLIPY",
    "colab": {},
    "ExecuteTime": {
     "end_time": "2024-08-06T19:47:34.070268Z",
     "start_time": "2024-08-06T19:47:34.058052Z"
    }
   },
   "source": [
    "### YOUR CODE HERE ###\n",
    "list(range(4,17,4))\n"
   ],
   "outputs": [
    {
     "data": {
      "text/plain": [
       "[4, 8, 12, 16]"
      ]
     },
     "execution_count": 19,
     "metadata": {},
     "output_type": "execute_result"
    }
   ],
   "execution_count": 19
  },
  {
   "cell_type": "markdown",
   "metadata": {
    "colab_type": "text",
    "id": "U9glCsGCLIPb"
   },
   "source": [
    "### 11.\n",
    "С помощью функции `range` сгенерируйте следующую последовательность: <br>\n",
    "`[16, 12, 8, 4]`"
   ]
  },
  {
   "cell_type": "code",
   "metadata": {
    "colab_type": "code",
    "id": "NDm-DmpTLIPc",
    "colab": {},
    "ExecuteTime": {
     "end_time": "2024-08-06T19:48:38.774035Z",
     "start_time": "2024-08-06T19:48:38.764528Z"
    }
   },
   "source": [
    "### YOUR CODE HERE ###\n",
    "\n",
    "list(range(16,3,-4))"
   ],
   "outputs": [
    {
     "data": {
      "text/plain": [
       "[16, 12, 8, 4]"
      ]
     },
     "execution_count": 21,
     "metadata": {},
     "output_type": "execute_result"
    }
   ],
   "execution_count": 21
  },
  {
   "cell_type": "markdown",
   "metadata": {
    "colab_type": "text",
    "id": "CHz6UIKyLIPi"
   },
   "source": [
    "### 12.\n",
    "С помощью функции `range` сгенерируйте следующую последовательность: <br>\n",
    "`[0, 5, 10]`"
   ]
  },
  {
   "cell_type": "code",
   "metadata": {
    "colab_type": "code",
    "id": "9C06f5sTLIPj",
    "colab": {},
    "ExecuteTime": {
     "end_time": "2024-08-06T19:49:17.541274Z",
     "start_time": "2024-08-06T19:49:17.531173Z"
    }
   },
   "source": [
    "### YOUR CODE HERE ###\n",
    "list(range(0,11,5))\n"
   ],
   "outputs": [
    {
     "data": {
      "text/plain": [
       "[0, 5, 10]"
      ]
     },
     "execution_count": 23,
     "metadata": {},
     "output_type": "execute_result"
    }
   ],
   "execution_count": 23
  },
  {
   "cell_type": "markdown",
   "metadata": {
    "colab_type": "text",
    "id": "ZZehpNQuLIPm"
   },
   "source": [
    "### 13.\n",
    "С помощью функции `range` сгенерируйте следующую последовательность: <br>\n",
    "`[10, 5, 0]`"
   ]
  },
  {
   "cell_type": "code",
   "metadata": {
    "colab_type": "code",
    "id": "H4QmyUfZLIPm",
    "colab": {},
    "ExecuteTime": {
     "end_time": "2024-08-06T19:50:14.689927Z",
     "start_time": "2024-08-06T19:50:14.676666Z"
    }
   },
   "source": [
    "### YOUR CODE HERE ###\n",
    "list(range(10,-1,-5))\n"
   ],
   "outputs": [
    {
     "data": {
      "text/plain": [
       "[10, 5, 0]"
      ]
     },
     "execution_count": 25,
     "metadata": {},
     "output_type": "execute_result"
    }
   ],
   "execution_count": 25
  },
  {
   "cell_type": "markdown",
   "metadata": {
    "colab_type": "text",
    "id": "kwWQ1al2LIPr"
   },
   "source": [
    "### 14.\n",
    "С помощью функции `range` сгенерируйте следующую последовательность: <br>\n",
    "`[-10, -9, -8, -7, -6, -5, -4, -3, -2, -1]`"
   ]
  },
  {
   "cell_type": "code",
   "metadata": {
    "colab_type": "code",
    "id": "85HO3S_cLIPu",
    "colab": {},
    "ExecuteTime": {
     "end_time": "2024-08-06T19:50:53.499221Z",
     "start_time": "2024-08-06T19:50:53.489678Z"
    }
   },
   "source": [
    "### YOUR CODE HERE ###\n",
    "list(range(-10,0))\n"
   ],
   "outputs": [
    {
     "data": {
      "text/plain": [
       "[-10, -9, -8, -7, -6, -5, -4, -3, -2, -1]"
      ]
     },
     "execution_count": 26,
     "metadata": {},
     "output_type": "execute_result"
    }
   ],
   "execution_count": 26
  },
  {
   "cell_type": "markdown",
   "metadata": {
    "colab_type": "text",
    "id": "sbCO0FbLLIP3"
   },
   "source": [
    "### 15.\n",
    "С помощью функции `range` сгенерируйте следующую последовательность: <br>\n",
    "`[-10, -16, -22, -28, -34]`"
   ]
  },
  {
   "cell_type": "code",
   "metadata": {
    "colab_type": "code",
    "id": "Frychu-HLIP4",
    "colab": {},
    "ExecuteTime": {
     "end_time": "2024-08-06T19:51:52.257500Z",
     "start_time": "2024-08-06T19:51:52.246558Z"
    }
   },
   "source": [
    "### YOUR CODE HERE ###\n",
    "list(range(-10,-35,-6))\n"
   ],
   "outputs": [
    {
     "data": {
      "text/plain": [
       "[-10, -16, -22, -28, -34]"
      ]
     },
     "execution_count": 28,
     "metadata": {},
     "output_type": "execute_result"
    }
   ],
   "execution_count": 28
  },
  {
   "cell_type": "markdown",
   "metadata": {
    "colab_type": "text",
    "id": "1Gfu4kFqLIP-"
   },
   "source": [
    "## Операторы и типы данных\n",
    "\n",
    "Этот блок должен быть решён **БЕЗ** использования готовых функций и сторонних библиотек. Используйте операторы."
   ]
  },
  {
   "cell_type": "markdown",
   "metadata": {
    "id": "0csxPvg4mQ3H",
    "colab_type": "text"
   },
   "source": [
    "**Цель блока заданий:** в данном блоке задач вы потренируетесь в использовании базовых операторов в Python.\n",
    "\n",
    "**Рекомендации к выполнению блока заданий:** выполнить данные задания можно опираясь на знания, полученные в этом и предшествующих модулях. Подумайте, как можно решить задачу простыми инструментами, если вам кажется, что для её выполнения необходим метод, с которым вы не знакомились в этом и предшествующих модулях.\n",
    "\n",
    "**Критерии оценки:** задания считаются выполенными, если программа выводит корректный ответ в нужном формате. Формат выдачи приведён к каждому заданию. В решении не должны быть задействованы циклы, условия, функции, исключения, которые являются темами следующих модулей. Проверка корректности входных значений не требуется."
   ]
  },
  {
   "cell_type": "markdown",
   "metadata": {
    "colab_type": "text",
    "id": "qnWdcLseLIP_"
   },
   "source": [
    "### 16.\n",
    "Часы показывают время в формате h:mm:ss (количество часов (от 0 до 23), двузначное количество минут, двузначное количество секунд). Количество минут и секунд при необходимости дополняются до двузначного числа нулями.\n",
    "\n",
    "Программа должна запрашивать количество секунд S, которое прошло с начала суток, и выводить в формате h:mm:ss, какое время будут показывать часы. <br><br>\n",
    "\n",
    "*Формат ввода:* <br>\n",
    "3600<br><br>\n",
    "\n",
    "*Формат вывода:* <br>\n",
    "1:00:00"
   ]
  },
  {
   "cell_type": "code",
   "metadata": {
    "colab_type": "code",
    "id": "UaM4-TFYLIP_",
    "colab": {},
    "ExecuteTime": {
     "end_time": "2024-08-06T20:14:07.348995Z",
     "start_time": "2024-08-06T20:14:03.083936Z"
    }
   },
   "source": [
    "### YOUR CODE HERE ###\n",
    "sec = input('enter seconds')\n",
    "h = min = secons = 0\n",
    "if sec.isdigit():\n",
    "    sec = int(sec)\n",
    "    h = str(sec // 3600)\n",
    "    ostSec = sec % 3600\n",
    "    if ostSec > 0:\n",
    "        min = ostSec // 60\n",
    "        seconds = ostSec % 60\n",
    "        if min < 10:\n",
    "            min = f'0{min}'\n",
    "        if secons < 10:\n",
    "            seconds = f'0{seconds}'\n",
    "            \n",
    "print(':'.join([h,min,seconds]))\n",
    "\n"
   ],
   "outputs": [
    {
     "name": "stdout",
     "output_type": "stream",
     "text": [
      "1:01:00\n"
     ]
    }
   ],
   "execution_count": 29
  },
  {
   "cell_type": "markdown",
   "metadata": {
    "colab_type": "text",
    "id": "BnxMhHlDLIQB"
   },
   "source": [
    "### 17.\n",
    "Машина выезжает на нулевой километр МКАД и едет по часовой стрелке с постоянной скоростью V километров в час. На каком километре МКАД машина окажется через T часов? \n",
    "<br> Длина МКАД: 109 км. <br><br> \n",
    "\n",
    "*Формат ввода:* <br>\n",
    "60 <br>\n",
    "1\n",
    "<br><br>\n",
    "*Формат вывода:* <br>\n",
    "60"
   ]
  },
  {
   "cell_type": "code",
   "metadata": {
    "colab_type": "code",
    "id": "66aeGuRbLIQC",
    "colab": {},
    "ExecuteTime": {
     "end_time": "2024-08-06T20:27:00.553065Z",
     "start_time": "2024-08-06T20:26:56.478021Z"
    }
   },
   "source": [
    "### YOUR CODE HERE ###\n",
    "v = input('enter speed')\n",
    "t = input('enter chasi')\n",
    "l = 109\n",
    "s = int(v) * int(t)\n",
    "rez = s % l\n",
    "print(f'mashina okazhetsya na {rez} kilometre')"
   ],
   "outputs": [
    {
     "name": "stdout",
     "output_type": "stream",
     "text": [
      "mashina okazhetsya na 73 kilometre\n"
     ]
    }
   ],
   "execution_count": 31
  },
  {
   "cell_type": "markdown",
   "metadata": {
    "colab_type": "text",
    "id": "ZxMi6_58LIQG"
   },
   "source": [
    "### 18.\n",
    "Напишите программу, которая запрашивает целое пятизначное число и выводит сумму его цифр.\n",
    "\n",
    "*Формат ввода:* <br>\n",
    "11111\n",
    "<br><br>\n",
    "*Формат вывода:* <br>\n",
    "5"
   ]
  },
  {
   "cell_type": "code",
   "metadata": {
    "colab_type": "code",
    "id": "wasIkbwELIQH",
    "colab": {},
    "ExecuteTime": {
     "end_time": "2024-08-08T18:33:56.964105Z",
     "start_time": "2024-08-08T18:33:50.488267Z"
    }
   },
   "source": [
    "### YOUR CODE HERE ###\n",
    "chislo = input('enter 5 digits chislo')\n",
    "res = 0\n",
    "for i in chislo:\n",
    "    res += int(i)\n",
    "    \n",
    "print(res)\n"
   ],
   "outputs": [
    {
     "name": "stdout",
     "output_type": "stream",
     "text": [
      "5\n"
     ]
    }
   ],
   "execution_count": 1
  },
  {
   "cell_type": "markdown",
   "metadata": {
    "colab_type": "text",
    "id": "6q6JEgziLIQK"
   },
   "source": [
    "### 19.\n",
    "Напишите программу, которая запрашивает целое четырёхзначное число и меняет местами его две первые и две последние цифры.\n",
    "\n",
    "*Формат ввода:* <br>\n",
    "5236 \n",
    "<br><br>\n",
    "*Формат вывода:* <br>\n",
    "3652"
   ]
  },
  {
   "cell_type": "code",
   "metadata": {
    "colab_type": "code",
    "id": "tupFycemLIQK",
    "colab": {},
    "ExecuteTime": {
     "end_time": "2024-08-08T18:35:15.759333Z",
     "start_time": "2024-08-08T18:35:12.437462Z"
    }
   },
   "source": [
    "### YOUR CODE HERE ###\n",
    "chislo = input('enter 4 digits chislo')\n",
    "print(chislo[1] + chislo[0] + chislo[3] + chislo[2])"
   ],
   "outputs": [
    {
     "name": "stdout",
     "output_type": "stream",
     "text": [
      "2143\n"
     ]
    }
   ],
   "execution_count": 2
  },
  {
   "cell_type": "markdown",
   "metadata": {
    "colab_type": "text",
    "id": "3NglY6CQLIQN"
   },
   "source": [
    "### 20.\n",
    "Напишите программу, которая на основании параметра D (сколько километров в день преодолевает машина) рассчитывает, сколько дней она затратит на путь длиной P километров.  <br><br>\n",
    "*Формат ввода:* <br>\n",
    "105 <br>\n",
    "120\n",
    "<br><br>\n",
    "*Формат вывода:* <br>\n",
    "2"
   ]
  },
  {
   "cell_type": "code",
   "metadata": {
    "colab_type": "code",
    "id": "7sCggR--LIQN",
    "colab": {},
    "ExecuteTime": {
     "end_time": "2024-08-08T18:40:28.179227Z",
     "start_time": "2024-08-08T18:40:22.718493Z"
    }
   },
   "source": [
    "### YOUR CODE HERE ###\n",
    "km = input('km v den')\n",
    "p = input('ves put')\n",
    "res = int(p) // int(km)\n",
    "if res * int(km) < int(p):\n",
    "    res += 1\n",
    "print(res)"
   ],
   "outputs": [
    {
     "name": "stdout",
     "output_type": "stream",
     "text": [
      "3\n"
     ]
    }
   ],
   "execution_count": 5
  },
  {
   "cell_type": "markdown",
   "metadata": {
    "colab_type": "text",
    "id": "oWERt2BRLIQR"
   },
   "source": [
    "### 21.\n",
    "Напишите программу, которая считает, сколько рублей и копеек нужно заплатить за N авокадо, если одно авокадо стоит R рублей и K копеек. <br><br>\n",
    "*Формат ввода:* <br>\n",
    "40 20 <br>\n",
    "5\n",
    "<br><br>\n",
    "*Формат вывода:* <br>\n",
    "201 руб. 00 коп."
   ]
  },
  {
   "cell_type": "code",
   "metadata": {
    "colab_type": "code",
    "id": "Zvx5ybP7LIQU",
    "colab": {},
    "ExecuteTime": {
     "end_time": "2024-08-08T18:48:08.710350Z",
     "start_time": "2024-08-08T18:48:05.478196Z"
    }
   },
   "source": [
    "### YOUR CODE HERE ###\n",
    "cena = input('vvedi cheres probel cenu avo')\n",
    "kol = int(input('vvedi kolvo'))\n",
    "rub = int(cena.split(' ')[0])\n",
    "kop = int(cena.split(' ')[1])\n",
    "resKop = kop * kol % 100\n",
    "if (resKop < 10):\n",
    "    resKop = f'0{resKop}'\n",
    "resRub = rub * kol + kop * kol // 100\n",
    "print(f'{resRub} руб. {resKop} коп.')"
   ],
   "outputs": [
    {
     "name": "stdout",
     "output_type": "stream",
     "text": [
      "201 руб. 00 коп.\n"
     ]
    }
   ],
   "execution_count": 8
  },
  {
   "cell_type": "markdown",
   "metadata": {
    "colab_type": "text",
    "id": "Q0u91-MILIQX"
   },
   "source": [
    "### 22.\n",
    "Пусть организаторы мероприятия неправильно составили гугл-форму и просили людей указывать ФИО в неправильном порядке. Сначала спрашивали имя, потом отчество, затем фамилию. Напишите программу, которая будет переставлять ФИО в нужный порядок. <br> <br> \n",
    "\n",
    "*Формат ввода:* <br>\n",
    "Иван Иванович Иванов<br><br>\n",
    "*Формат вывода:* <br>\n",
    "Иванов Иван Иванович"
   ]
  },
  {
   "cell_type": "code",
   "metadata": {
    "colab_type": "code",
    "id": "hrXguBL7LIQX",
    "colab": {}
   },
   "source": [
    "### YOUR CODE HERE ###\n",
    "fio = input('vvedi fio')\n",
    "fioSpisok = fio.split(' ')"
   ],
   "execution_count": null,
   "outputs": []
  },
  {
   "cell_type": "markdown",
   "metadata": {
    "colab_type": "text",
    "id": "vwexBPelLIQb"
   },
   "source": [
    "## Cловари и списки"
   ]
  },
  {
   "cell_type": "markdown",
   "metadata": {
    "id": "K51IjN6QmQ30",
    "colab_type": "text"
   },
   "source": [
    "**Цель блока заданий:** в данном блоке задач вы зарепите навык работы со словарями и списками. В текущем блоке также пригодятся навыки, отработанные в первом блоке настоящего домашнего задания.\n",
    "\n",
    "**Рекомендации к выполнению блока заданий:** попробуйте работать с большим словарём по тому же принципу, по которому вы вызывали составные элементы из большого списка в первом блоке заданий настоящей работы. Поэтапно вызывайте сначала один многосоставный объект, затем из него извлеките другой, но уже меньший, пока не доберётесь до целевого элемента.\n",
    "\n",
    "**Критерии оценки:** задания считаются выполненными, если произошли нужные изменения (или их отстутсвие, если того требует условие задания), но при этом не произошло никаких других изменений, которые не описаны в задании. Обратите, пожалуйста, внимание, что программа в 23-й задаче должна быть универсальной, то есть работать не только для нулевого элемента."
   ]
  },
  {
   "cell_type": "markdown",
   "metadata": {
    "colab_type": "text",
    "id": "nIgc10tKLIQc"
   },
   "source": [
    "### 23.\n",
    "У вас есть список с заказом в ресторане. Напишите программу, которая меняет указанное по названию блюдо на другое. При этом новое блюдо в списке будет расположено на месте того, что было заменено.\n",
    "\n",
    "*Формат ввода:* <br>\n",
    "белое вино<br>\n",
    "красное вино <br><br>\n",
    "*Формат вывода:* <br>\n",
    "`['красное вино', 'салат Цезарь', 'паста Карбонара', 'чизкейк', 'шоколадный сорбет']`"
   ]
  },
  {
   "cell_type": "code",
   "metadata": {
    "colab_type": "code",
    "id": "O0k3dslvLIQd",
    "colab": {},
    "ExecuteTime": {
     "end_time": "2024-08-08T19:08:10.168233Z",
     "start_time": "2024-08-08T19:08:10.157916Z"
    }
   },
   "source": [
    "order = ['белое вино', 'салат Цезарь', 'паста Карбонара', 'чизкейк', 'шоколадный сорбет']"
   ],
   "outputs": [],
   "execution_count": 9
  },
  {
   "cell_type": "code",
   "metadata": {
    "colab_type": "code",
    "id": "D9s6foo_LIQh",
    "colab": {},
    "ExecuteTime": {
     "end_time": "2024-08-08T19:13:59.935703Z",
     "start_time": "2024-08-08T19:13:51.755032Z"
    }
   },
   "source": [
    "### YOUR CODE HERE ###\n",
    "star_bl = input('vvedi star bludo')\n",
    "new_bl = input('vvedi new bludo')\n",
    "# i = 0\n",
    "# for o in order:\n",
    "#     if o == star_bl:\n",
    "#         order[i] = new_bl\n",
    "#     i += 1\n",
    "i = order.index(star_bl)\n",
    "order[i] = new_bl\n",
    "\n",
    "print(order)\n"
   ],
   "outputs": [
    {
     "name": "stdout",
     "output_type": "stream",
     "text": [
      "['белое вино', 'салат Цезарь', 'паста Карбонара', 'наполеон', 'napoleon']\n"
     ]
    }
   ],
   "execution_count": 12
  },
  {
   "cell_type": "markdown",
   "metadata": {
    "colab_type": "text",
    "id": "GLx0EKUiLIQj"
   },
   "source": [
    "__________________\n",
    "Вам дан словарь c расписанием на неделю. "
   ]
  },
  {
   "cell_type": "code",
   "metadata": {
    "colab_type": "code",
    "id": "fbPqWtv_LIQl",
    "colab": {},
    "ExecuteTime": {
     "end_time": "2024-08-08T19:14:18.545014Z",
     "start_time": "2024-08-08T19:14:18.530810Z"
    }
   },
   "source": [
    "diary = {'понедельник': {\n",
    "                          'утро': ['погулять с собакой'],\n",
    "                          'день': [],\n",
    "                          'вечер': ['погулять с собакой']\n",
    "                                      },\n",
    "        'вторник': {\n",
    "                          'утро': ['погулять с собакой'],\n",
    "                          'день': [],\n",
    "                          'вечер': ['погулять с собакой']\n",
    "                                      },\n",
    "        'среда': {\n",
    "                          'утро': ['погулять с собакой'],\n",
    "                          'день': [],\n",
    "                          'вечер': ['погулять с собакой']\n",
    "                                      },\n",
    "        'четверг': {\n",
    "                          'утро': ['погулять с собакой'],\n",
    "                          'день': [],\n",
    "                          'вечер': ['погулять с собакой']\n",
    "                                      },\n",
    "        'пятница': {\n",
    "                          'утро': ['заехать в шиномонтаж', 'помыть машину'],\n",
    "                          'день': [],\n",
    "                          'вечер': ['поход в театр',  'ужин в кафе']\n",
    "                                      },\n",
    "        'суббота': {\n",
    "                          'утро': [],\n",
    "                          'день': [],\n",
    "                          'вечер': []\n",
    "                                      },\n",
    "        'воскресенье': {\n",
    "                          'утро': [],\n",
    "                          'день': [],\n",
    "                          'вечер': []\n",
    "                                      }}"
   ],
   "outputs": [],
   "execution_count": 13
  },
  {
   "cell_type": "markdown",
   "metadata": {
    "colab_type": "text",
    "id": "3FocVZkgLIQn"
   },
   "source": [
    "### 24.\n",
    "Удалите ключи `суббота` и `воскресенье`. Вместо них добавьте пару, где ключ — это кортеж `суббота, воскресенье`, а значение — список с делом `посадить цветы на даче`. Можно ли сделать ключ `суббота, воскресенье` списком?"
   ]
  },
  {
   "cell_type": "code",
   "metadata": {
    "colab_type": "code",
    "id": "lcw8GWcnLIQo",
    "colab": {},
    "ExecuteTime": {
     "end_time": "2024-08-08T19:19:06.412667Z",
     "start_time": "2024-08-08T19:19:06.402546Z"
    }
   },
   "source": [
    "### YOUR CODE HERE ###\n",
    "subbota = voskr = tuple(['посадить цветы на даче'])\n",
    "diary['суббота'] = subbota\n",
    "diary['воскресенье'] = voskr\n",
    "print(diary)"
   ],
   "outputs": [
    {
     "name": "stdout",
     "output_type": "stream",
     "text": [
      "{'понедельник': {'утро': ['погулять с собакой'], 'день': [], 'вечер': ['погулять с собакой']}, 'вторник': {'утро': ['погулять с собакой'], 'день': [], 'вечер': ['погулять с собакой']}, 'среда': {'утро': ['погулять с собакой'], 'день': [], 'вечер': ['погулять с собакой']}, 'четверг': {'утро': ['погулять с собакой'], 'день': [], 'вечер': ['погулять с собакой']}, 'пятница': {'утро': ['заехать в шиномонтаж', 'помыть машину'], 'день': [], 'вечер': ['поход в театр', 'ужин в кафе']}, 'суббота': ('посадить цветы на даче',), 'воскресенье': ('посадить цветы на даче',)}\n"
     ]
    }
   ],
   "execution_count": 15
  },
  {
   "metadata": {},
   "cell_type": "code",
   "outputs": [],
   "execution_count": null,
   "source": ""
  },
  {
   "cell_type": "markdown",
   "metadata": {
    "colab_type": "text",
    "id": "vVhNCrtLLIQs"
   },
   "source": [
    "### 25.\n",
    "Добавьте в список дел во вторник утром `поход к зубному`."
   ]
  },
  {
   "cell_type": "code",
   "metadata": {
    "colab_type": "code",
    "id": "R4BiwaWlLIQu",
    "colab": {},
    "ExecuteTime": {
     "end_time": "2024-08-08T19:20:28.677908Z",
     "start_time": "2024-08-08T19:20:28.668560Z"
    }
   },
   "source": [
    "### YOUR CODE HERE ###\n",
    "diary['вторник']['утро'].append('поход к зубному')\n",
    "print(diary)\n"
   ],
   "outputs": [
    {
     "name": "stdout",
     "output_type": "stream",
     "text": [
      "{'понедельник': {'утро': ['погулять с собакой'], 'день': [], 'вечер': ['погулять с собакой']}, 'вторник': {'утро': ['погулять с собакой', 'поход к зубному'], 'день': [], 'вечер': ['погулять с собакой']}, 'среда': {'утро': ['погулять с собакой'], 'день': [], 'вечер': ['погулять с собакой']}, 'четверг': {'утро': ['погулять с собакой'], 'день': [], 'вечер': ['погулять с собакой']}, 'пятница': {'утро': ['заехать в шиномонтаж', 'помыть машину'], 'день': [], 'вечер': ['поход в театр', 'ужин в кафе']}, 'суббота': ('посадить цветы на даче',), 'воскресенье': ('посадить цветы на даче',)}\n"
     ]
    }
   ],
   "execution_count": 16
  },
  {
   "cell_type": "markdown",
   "metadata": {
    "colab_type": "text",
    "id": "BPQ5R-PkLIQ2"
   },
   "source": [
    "### 26.\n",
    "Замените `поход в театр` на `поход в кино` в списке дел в пятницу вечером."
   ]
  },
  {
   "cell_type": "code",
   "metadata": {
    "colab_type": "code",
    "id": "nhqzOrZILIQ5",
    "colab": {},
    "ExecuteTime": {
     "end_time": "2024-08-08T19:25:32.487815Z",
     "start_time": "2024-08-08T19:25:32.480845Z"
    }
   },
   "source": [
    "### YOUR CODE HERE ###\n",
    "diary['пятница']['вечер'][0] = 'поход в кино'\n",
    "print(diary)\n"
   ],
   "outputs": [
    {
     "name": "stdout",
     "output_type": "stream",
     "text": [
      "{'понедельник': {'утро': ['погулять с собакой'], 'день': [], 'вечер': ['погулять с собакой']}, 'вторник': {'утро': ['погулять с собакой', 'поход к зубному'], 'день': [], 'вечер': ['погулять с собакой']}, 'среда': {'утро': ['погулять с собакой'], 'день': [], 'вечер': ['погулять с собакой']}, 'четверг': {'утро': ['погулять с собакой'], 'день': [], 'вечер': ['погулять с собакой']}, 'пятница': {'утро': ['заехать в шиномонтаж', 'помыть машину'], 'день': [], 'вечер': ['поход в кино', 'ужин в кафе']}, 'суббота': ('посадить цветы на даче',), 'воскресенье': ('посадить цветы на даче',)}\n"
     ]
    }
   ],
   "execution_count": 17
  },
  {
   "cell_type": "markdown",
   "metadata": {
    "colab_type": "text",
    "id": "HCE0aq_BLIQ7"
   },
   "source": [
    "### 27.\n",
    "Ваш друг вернётся из отпуска на один день раньше, поэтому он заберёт свою собаку в среду, а не в четверг. Удалите дело `погулять с собакой` из соответствующих списков."
   ]
  },
  {
   "cell_type": "code",
   "metadata": {
    "colab_type": "code",
    "id": "WPnIXdTVLIQ7",
    "colab": {},
    "ExecuteTime": {
     "end_time": "2024-08-08T19:27:57.487157Z",
     "start_time": "2024-08-08T19:27:57.475533Z"
    }
   },
   "source": [
    "### YOUR CODE HERE ###\n",
    "del diary['четверг']['утро'][0]\n",
    "del diary['четверг']['вечер'][0]\n",
    "print(diary)"
   ],
   "outputs": [
    {
     "name": "stdout",
     "output_type": "stream",
     "text": [
      "{'понедельник': {'утро': ['погулять с собакой'], 'день': [], 'вечер': ['погулять с собакой']}, 'вторник': {'утро': ['погулять с собакой', 'поход к зубному'], 'день': [], 'вечер': ['погулять с собакой']}, 'среда': {'утро': [], 'день': [], 'вечер': []}, 'четверг': {'утро': [], 'день': [], 'вечер': []}, 'пятница': {'утро': ['заехать в шиномонтаж', 'помыть машину'], 'день': [], 'вечер': ['поход в кино', 'ужин в кафе']}, 'суббота': ('посадить цветы на даче',), 'воскресенье': ('посадить цветы на даче',)}\n"
     ]
    }
   ],
   "execution_count": 19
  },
  {
   "cell_type": "markdown",
   "metadata": {
    "colab_type": "text",
    "id": "A80KVUrZLIQ9"
   },
   "source": [
    "### 28.\n",
    "Выведите второе дело из списка дел, которые вам нужно сделать в пятницу утром."
   ]
  },
  {
   "cell_type": "code",
   "metadata": {
    "colab_type": "code",
    "id": "ofqEBNuZLIQ-",
    "colab": {},
    "ExecuteTime": {
     "end_time": "2024-08-08T19:28:46.545867Z",
     "start_time": "2024-08-08T19:28:46.537727Z"
    }
   },
   "source": [
    "### YOUR CODE HERE ###\n",
    "print(diary['пятница']['утро'][1])\n"
   ],
   "outputs": [
    {
     "name": "stdout",
     "output_type": "stream",
     "text": [
      "помыть машину\n"
     ]
    }
   ],
   "execution_count": 20
  }
 ]
}
