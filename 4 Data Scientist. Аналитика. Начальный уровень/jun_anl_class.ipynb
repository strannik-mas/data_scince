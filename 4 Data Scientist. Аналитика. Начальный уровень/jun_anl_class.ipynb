{
 "nbformat": 4,
 "nbformat_minor": 0,
 "metadata": {
  "kernelspec": {
   "display_name": "Python 3",
   "language": "python",
   "name": "python3"
  },
  "language_info": {
   "codemirror_mode": {
    "name": "ipython",
    "version": 3
   },
   "file_extension": ".py",
   "mimetype": "text/x-python",
   "name": "python",
   "nbconvert_exporter": "python",
   "pygments_lexer": "ipython3",
   "version": "3.6.3"
  },
  "colab": {
   "name": "jun_anl_class.ipynb",
   "provenance": [],
   "collapsed_sections": []
  }
 },
 "cells": [
  {
   "cell_type": "markdown",
   "metadata": {
    "id": "RbR5OTe50Za4",
    "colab_type": "text"
   },
   "source": [
    "# Классы\n",
    "## Домашнее задание"
   ]
  },
  {
   "cell_type": "markdown",
   "metadata": {
    "id": "Xh_DBCdu0Za5",
    "colab_type": "text"
   },
   "source": [
    "### Вопросы по лекциям\n",
    "\n",
    "#### 1.\n",
    "\n",
    "Напишите название функции, которая является конструктором класса."
   ]
  },
  {
   "cell_type": "markdown",
   "metadata": {
    "id": "8-Tj4AMg0Za6",
    "colab_type": "text"
   },
   "source": [
    "**Ответ:**"
   ]
  },
  {
   "cell_type": "markdown",
   "metadata": {
    "id": "lf14yx330Za7",
    "colab_type": "text"
   },
   "source": [
    "#### 2.\n",
    "\n",
    "На что указывает переменная `self`?"
   ]
  },
  {
   "cell_type": "markdown",
   "metadata": {
    "id": "wI-0FWlF0Za8",
    "colab_type": "text"
   },
   "source": [
    "**Ответ:**"
   ]
  },
  {
   "cell_type": "markdown",
   "metadata": {
    "id": "j_8_O_nl0Za8",
    "colab_type": "text"
   },
   "source": [
    "#### 3.\n",
    "С помощью какой функции можно проверить, что некая строка является именем одного из атрибутов объекта?"
   ]
  },
  {
   "cell_type": "markdown",
   "metadata": {
    "id": "5h8ASTrV0Za9",
    "colab_type": "text"
   },
   "source": [
    "**Ответ:**"
   ]
  },
  {
   "cell_type": "markdown",
   "metadata": {
    "id": "G104VWgj0Za-",
    "colab_type": "text"
   },
   "source": [
    "#### 4.\n",
    "Когда вызывается метод `__del__`? (относительно события удаления объекта)"
   ]
  },
  {
   "cell_type": "markdown",
   "metadata": {
    "id": "Ukzoyxkn0Za-",
    "colab_type": "text"
   },
   "source": [
    "**Ответ:**"
   ]
  },
  {
   "cell_type": "markdown",
   "metadata": {
    "id": "MkF-HyBM0ZbA",
    "colab_type": "text"
   },
   "source": [
    "#### 5.\n",
    "Верно ли, что атрибут класса перекрывает атрибут объекта?"
   ]
  },
  {
   "cell_type": "markdown",
   "metadata": {
    "id": "o7B52kVt0ZbC",
    "colab_type": "text"
   },
   "source": [
    "**Ответ:**"
   ]
  },
  {
   "cell_type": "markdown",
   "metadata": {
    "id": "kSwZWV2B0ZbC",
    "colab_type": "text"
   },
   "source": [
    "#### 6.\n",
    "Можно ли атрибуты базового класса вызывать в дочернем классе? Если да, то напишите, нет ли исклчений?"
   ]
  },
  {
   "cell_type": "markdown",
   "metadata": {
    "id": "6i74Koih0ZbE",
    "colab_type": "text"
   },
   "source": [
    "**Ответ:**"
   ]
  },
  {
   "cell_type": "markdown",
   "metadata": {
    "id": "tl1St2O20ZbE",
    "colab_type": "text"
   },
   "source": [
    "#### 7.\n",
    "Объясните своими словами для чего нужен метод `super`."
   ]
  },
  {
   "cell_type": "markdown",
   "metadata": {
    "id": "rg3u1PoY0ZbF",
    "colab_type": "text"
   },
   "source": [
    "**Ответ:**"
   ]
  },
  {
   "cell_type": "markdown",
   "metadata": {
    "id": "5AiJn8ut0ZbG",
    "colab_type": "text"
   },
   "source": [
    "### Практика\n",
    "\n",
    "1. Напишите класс `Fraction` для работы с дробями. Пусть дробь в нашем классе предстает в виде `числитель/знаменатель`. Дробное число должно создаваться по запросу `Fraction(a, b)`, где `a` – это числитель, а `b` – знаменатель дроби. \n",
    "2. Добавьте возможность сложения (сложения через оператор сложения) для дроби. Предполагается, что операция сложения может проводиться как только между дробями, так и между дробью и целым числом. Результат операции должен быть представлен в виде дроби.\n",
    "3. Добавьте возможность взятия разности (вычитания через оператор вычитания) для дробей. Предполагается, что операция вычитания может проводиться как только для двух дробей, так и для дроби и целого числа. Результат операции должен быть представлен в виде дроби.\n",
    "4. Добавьте возможность умножения (умножения через оператор умножения) для дробей. Предполагается, что операция умножения может проводиться как только для двух дробей, так и для дроби и целого числа. Результат операции должен быть представлен в виде дроби.\n",
    "5. Добавьте возможность приведения дроби к целому числу через стандартную функцию `int()`.\n",
    "6. Добавьте возможность приведения дроби к числу с плавающей точкой через стандартную функцию `float()`.\n",
    "7. Создайте дочерний класс `OperationsOnFraction` и добавьте туда собственные методы `getint` и `getfloat`, которые будут возвращать целую часть дроби и представление дроби в виде числа с плавающей точкой соответственно. \n",
    " "
   ]
  },
  {
   "cell_type": "code",
   "metadata": {
    "id": "ru3BJ52J0ZbG",
    "colab_type": "code",
    "colab": {},
    "ExecuteTime": {
     "end_time": "2024-08-16T12:00:56.230400Z",
     "start_time": "2024-08-16T12:00:55.891840Z"
    }
   },
   "source": [
    "### YOUR CODE HERE ###\n",
    "class Fraction:\n",
    "    def __init__(self, a, b):\n",
    "        self.a = a\n",
    "        self.b = b\n",
    "        \n",
    "    def __add__(self, other):\n",
    "        if isinstance(other, Fraction):\n",
    "            znamenatel = other.b\n",
    "            ch2 = other.a\n",
    "        else:\n",
    "            znamenatel = 1\n",
    "            ch2 = other\n",
    "        nok = self.getNok(znamenatel)\n",
    "        mn1 = nok / self.b\n",
    "        mn2 = nok / znamenatel\n",
    "        chislitel = int(mn1 * self.a + mn2 * ch2)\n",
    "        return Fraction(chislitel, nok)\n",
    "    \n",
    "    def __sub__(self, other):\n",
    "        if isinstance(other, Fraction):\n",
    "            znamenatel = other.b\n",
    "            ch2 = other.a\n",
    "        else:\n",
    "            znamenatel = 1\n",
    "            ch2 = other\n",
    "        nok = self.getNok(znamenatel)\n",
    "        mn1 = nok / self.b\n",
    "        mn2 = nok / znamenatel\n",
    "        chislitel = int(mn1 * self.a - mn2 * ch2)\n",
    "        return Fraction(chislitel, nok)\n",
    "    \n",
    "    def __mul__(self, other):\n",
    "        if isinstance(other, Fraction):\n",
    "            chisl = self.a * other.a\n",
    "            zn = self.b * other.b\n",
    "        else:\n",
    "            chisl = self.a * other\n",
    "            zn = self.b\n",
    "        return Fraction(chisl, zn)\n",
    "            \n",
    "    \n",
    "    def __int__(self):\n",
    "        return round(self.a / self.b)\n",
    "    \n",
    "    def __float__(self):\n",
    "        return round(self.a / self.b, 4)\n",
    "            \n",
    "            \n",
    "    def getNok(self, znamenatel):\n",
    "        mnozhiteli = []\n",
    "        curZn = znamenatel\n",
    "        nok = 1\n",
    "        for i in range(2, curZn + 1):\n",
    "            if curZn % i == 0:\n",
    "                if i not in mnozhiteli:\n",
    "                    mnozhiteli.append(i)\n",
    "                    curZn = curZn / i\n",
    "                    nok *= i\n",
    "                \n",
    "        curZn = self.b\n",
    "        for i in range(2, curZn + 1):\n",
    "            if curZn % i == 0:\n",
    "                if i not in mnozhiteli:\n",
    "                    mnozhiteli.append(i)\n",
    "                    curZn = curZn / i\n",
    "                    nok *= i\n",
    "        return nok\n",
    "    \n",
    "    # def __str__(self):\n",
    "    #     return f'Дробь {self.a}/{self.b}'\n",
    "            \n",
    "f1 = Fraction(1, 3)\n",
    "f2 = Fraction(2, 5)\n",
    "f3 = Fraction(25, 4)\n",
    "add = f1 + f2\n",
    "vich = f1 - f2\n",
    "mul = f1 * f2\n",
    "# print(add)\n",
    "# print(vich)\n",
    "# print(mul)\n",
    "print(f'Дробь {add.a}/{add.b}')\n",
    "print(f'Дробь {vich.a}/{vich.b}')\n",
    "print(f'Дробь {mul.a}/{mul.b}')\n",
    "# print(int(f3))\n",
    "# print(float(f3))\n",
    "            \n"
   ],
   "outputs": [
    {
     "name": "stdout",
     "output_type": "stream",
     "text": [
      "Дробь 11/15\n",
      "Дробь -1/15\n",
      "Дробь 2/15\n",
      "6\n",
      "6.25\n"
     ]
    }
   ],
   "execution_count": 20
  },
  {
   "metadata": {
    "ExecuteTime": {
     "end_time": "2024-08-16T12:05:15.778719Z",
     "start_time": "2024-08-16T12:05:15.771751Z"
    }
   },
   "cell_type": "code",
   "source": [
    "class OperationsOnFraction(Fraction):\n",
    "    def __init__(self, f):\n",
    "        super().__init__(a=f.a, b=f.b)\n",
    "    \n",
    "    def getInt(self):\n",
    "        return self.a // self.b\n",
    "    \n",
    "    def getFloat(self):\n",
    "        return super().__float__()"
   ],
   "outputs": [],
   "execution_count": 23
  },
  {
   "metadata": {
    "ExecuteTime": {
     "end_time": "2024-08-16T12:05:18.730233Z",
     "start_time": "2024-08-16T12:05:18.718785Z"
    }
   },
   "cell_type": "code",
   "source": [
    "f31 = OperationsOnFraction(f3)\n",
    "print(f31.getInt())\n",
    "print(f31.getFloat())"
   ],
   "outputs": [
    {
     "name": "stdout",
     "output_type": "stream",
     "text": [
      "6\n",
      "6.25\n"
     ]
    }
   ],
   "execution_count": 24
  }
 ]
}
