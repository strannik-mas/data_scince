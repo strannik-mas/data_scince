{
 "nbformat": 4,
 "nbformat_minor": 0,
 "metadata": {
  "colab": {
   "name": "3.8 homework-numpy1.ipynb",
   "version": "0.3.2",
   "provenance": []
  },
  "language_info": {
   "codemirror_mode": {
    "name": "ipython",
    "version": 3
   },
   "file_extension": ".py",
   "mimetype": "text/x-python",
   "name": "python",
   "nbconvert_exporter": "python",
   "pygments_lexer": "ipython3",
   "version": "3.6.3"
  },
  "kernelspec": {
   "display_name": "Python 3",
   "language": "python",
   "name": "python3"
  }
 },
 "cells": [
  {
   "cell_type": "markdown",
   "metadata": {
    "id": "KkW9XLpDgFAF",
    "colab_type": "text"
   },
   "source": [
    "# Библиотека `NumPy`: часть 1\n",
    "\n",
    "*Алла Тамбовцева*\n",
    "\n",
    "## Домашнее задание \n",
    "\n",
    "### Описание домашнего задания и формат сдачи\n",
    "\n",
    "В домашнем задании необходимо решить предложенные задачи по программированию – вписать свой код в ячейки после условий задач вместо комментария `### YOUR CODE HERE ###` в файле *homework-numpy1.ipynb* и сохранить изменения, используя опцию *Save and Checkpoint* из вкладки меню *File* или кнопку *Save and Checkpoint* на панели инструментов. Итоговый файл в формате `.ipynb` (файл Jupyter Notebook) необходимо загрузить в личный кабинет обучающей онлайн платформы Skillbox (https://go.skillbox.ru/) и отправить на проверку."
   ]
  },
  {
   "cell_type": "markdown",
   "metadata": {
    "id": "HWyKtbvPgFAF",
    "colab_type": "text"
   },
   "source": [
    "Дан массив, содержащий баллы слушателей курса по английскому языку за вступительный экзамен. Слушатели распределены по 15 группам по 10 человек."
   ]
  },
  {
   "cell_type": "code",
   "metadata": {
    "id": "XViQYLNHgFAG",
    "colab_type": "code",
    "colab": {},
    "ExecuteTime": {
     "end_time": "2024-08-22T12:11:45.695239Z",
     "start_time": "2024-08-22T12:11:43.216455Z"
    }
   },
   "source": [
    "import numpy as np\n",
    "scores = np.array([[20, 40, 56, 80, 0, 5, 25, 27, 74, 1],\n",
    "         [0, 98, 67, 100, 8, 56, 34, 82, 100, 7],\n",
    "         [78, 54, 23, 79, 100, 0, 0, 42, 95, 83],\n",
    "         [51, 50, 47, 23, 100, 94, 25, 48, 38, 77],\n",
    "         [90, 87, 41, 89, 52, 0, 5, 17, 28, 99],\n",
    "         [32, 18, 21, 18, 29, 31, 48, 62, 76, 22],\n",
    "         [6, 0, 65, 78, 43, 22, 38, 88, 94, 100],\n",
    "         [77, 28, 39, 41, 0, 81, 45, 54, 98, 12],\n",
    "         [66, 0, 88, 0, 44, 0, 55, 100, 12, 11],\n",
    "         [17, 70, 86, 96, 56, 23, 32, 49, 70, 80],\n",
    "         [20, 24, 76, 50, 29, 40, 3, 2, 5, 11],\n",
    "         [33, 63, 28, 40, 51, 100, 98, 87, 22, 30],\n",
    "         [16, 54, 78, 12, 25, 35, 10, 19, 67, 0],\n",
    "         [100, 88, 24, 33, 47, 56, 62, 34, 77, 53],\n",
    "         [50, 89, 70, 72, 56, 29, 15, 20, 0, 0]])"
   ],
   "outputs": [],
   "execution_count": 2
  },
  {
   "cell_type": "markdown",
   "metadata": {
    "id": "FZyP6_u4gFAI",
    "colab_type": "text"
   },
   "source": [
    "### Задание 1\n",
    "\n",
    "Посчитать, сколько слушателей получили 0 за вступительный экзамен."
   ]
  },
  {
   "cell_type": "code",
   "metadata": {
    "id": "ny-bpAn_gFAI",
    "colab_type": "code",
    "colab": {},
    "ExecuteTime": {
     "end_time": "2024-08-21T17:15:34.862581Z",
     "start_time": "2024-08-21T17:15:34.846168Z"
    }
   },
   "source": [
    "### YOUR CODE HERE ###\n",
    "tupie = scores == 0\n",
    "tupie.sum()"
   ],
   "outputs": [
    {
     "data": {
      "text/plain": [
       "np.int64(13)"
      ]
     },
     "execution_count": 4,
     "metadata": {},
     "output_type": "execute_result"
    }
   ],
   "execution_count": 4
  },
  {
   "cell_type": "markdown",
   "metadata": {
    "id": "zqXOMBPCgFAL",
    "colab_type": "text"
   },
   "source": [
    "### Задание 2\n",
    "\n",
    "Посчитать, сколько слушателей получили балл выше 50."
   ]
  },
  {
   "cell_type": "code",
   "metadata": {
    "id": "mUD76BUigFAL",
    "colab_type": "code",
    "colab": {},
    "ExecuteTime": {
     "end_time": "2024-08-21T17:17:19.683981Z",
     "start_time": "2024-08-21T17:17:19.657761Z"
    }
   },
   "source": [
    "### YOUR CODE HERE ###\n",
    "srednie = scores > 50\n",
    "srednie.sum()"
   ],
   "outputs": [
    {
     "data": {
      "text/plain": [
       "np.int64(64)"
      ]
     },
     "execution_count": 7,
     "metadata": {},
     "output_type": "execute_result"
    }
   ],
   "execution_count": 7
  },
  {
   "cell_type": "markdown",
   "metadata": {
    "id": "OocnEIqdgFAN",
    "colab_type": "text"
   },
   "source": [
    "### Задание 3\n",
    "\n",
    "Посчитать, сколько человек получили балл не ниже 50, но не выше 70."
   ]
  },
  {
   "cell_type": "code",
   "metadata": {
    "id": "RvzMz6lTgFAO",
    "colab_type": "code",
    "colab": {},
    "ExecuteTime": {
     "end_time": "2024-08-21T17:22:50.715201Z",
     "start_time": "2024-08-21T17:22:50.700121Z"
    }
   },
   "source": [
    "### YOUR CODE HERE ###\n",
    "srednie_plus = (scores > 50) & (scores <= 70)\n",
    "srednie_plus.sum()"
   ],
   "outputs": [
    {
     "data": {
      "text/plain": [
       "np.int64(23)"
      ]
     },
     "execution_count": 10,
     "metadata": {},
     "output_type": "execute_result"
    }
   ],
   "execution_count": 10
  },
  {
   "cell_type": "markdown",
   "metadata": {
    "id": "Q9dNpdEBgFAP",
    "colab_type": "text"
   },
   "source": [
    "### Задание 4\n",
    "\n",
    "Определить, в какой группе средний балл за вступительный экзамен выше."
   ]
  },
  {
   "cell_type": "code",
   "metadata": {
    "id": "Fto_aImFgFAQ",
    "colab_type": "code",
    "colab": {},
    "ExecuteTime": {
     "end_time": "2024-08-21T18:53:12.672509Z",
     "start_time": "2024-08-21T18:53:12.657293Z"
    }
   },
   "source": [
    "### YOUR CODE HERE ###\n",
    "meanArr = scores.mean(axis=1)\n",
    "print(meanArr)\n",
    "m = meanArr.max()\n",
    "np.where(meanArr==m)"
   ],
   "outputs": [
    {
     "name": "stdout",
     "output_type": "stream",
     "text": [
      "[32.8 55.2 55.4 55.3 50.8 35.7 53.4 47.5 37.6 57.9 26.  55.2 31.6 57.4\n",
      " 40.1]\n"
     ]
    },
    {
     "data": {
      "text/plain": [
       "(array([9]),)"
      ]
     },
     "execution_count": 37,
     "metadata": {},
     "output_type": "execute_result"
    }
   ],
   "execution_count": 37
  },
  {
   "cell_type": "markdown",
   "metadata": {
    "id": "IjZUz0KkgFAR",
    "colab_type": "text"
   },
   "source": [
    "### Задание 5\n",
    "\n",
    "Сохранить баллы слушателей выше 0 в массив `nonzero`. "
   ]
  },
  {
   "cell_type": "code",
   "metadata": {
    "id": "PRViY--agFAT",
    "colab_type": "code",
    "colab": {},
    "ExecuteTime": {
     "end_time": "2024-08-21T17:27:57.122488Z",
     "start_time": "2024-08-21T17:27:57.108492Z"
    }
   },
   "source": [
    "### YOUR CODE HERE ###\n",
    "nonzero = scores[scores > 0]\n",
    "nonzero"
   ],
   "outputs": [
    {
     "data": {
      "text/plain": [
       "array([ 20,  40,  56,  80,   5,  25,  27,  74,   1,  98,  67, 100,   8,\n",
       "        56,  34,  82, 100,   7,  78,  54,  23,  79, 100,  42,  95,  83,\n",
       "        51,  50,  47,  23, 100,  94,  25,  48,  38,  77,  90,  87,  41,\n",
       "        89,  52,   5,  17,  28,  99,  32,  18,  21,  18,  29,  31,  48,\n",
       "        62,  76,  22,   6,  65,  78,  43,  22,  38,  88,  94, 100,  77,\n",
       "        28,  39,  41,  81,  45,  54,  98,  12,  66,  88,  44,  55, 100,\n",
       "        12,  11,  17,  70,  86,  96,  56,  23,  32,  49,  70,  80,  20,\n",
       "        24,  76,  50,  29,  40,   3,   2,   5,  11,  33,  63,  28,  40,\n",
       "        51, 100,  98,  87,  22,  30,  16,  54,  78,  12,  25,  35,  10,\n",
       "        19,  67, 100,  88,  24,  33,  47,  56,  62,  34,  77,  53,  50,\n",
       "        89,  70,  72,  56,  29,  15,  20])"
      ]
     },
     "execution_count": 14,
     "metadata": {},
     "output_type": "execute_result"
    }
   ],
   "execution_count": 14
  },
  {
   "cell_type": "markdown",
   "metadata": {
    "id": "-ve1VG1XgFAV",
    "colab_type": "text"
   },
   "source": [
    "### Задание 6\n",
    "\n",
    "Используя массив `nonzero`, определить минимальный балл за вступительный балл по всем группам."
   ]
  },
  {
   "cell_type": "code",
   "metadata": {
    "id": "ZnGg9mcUgFAV",
    "colab_type": "code",
    "colab": {},
    "ExecuteTime": {
     "end_time": "2024-08-21T19:01:09.429130Z",
     "start_time": "2024-08-21T19:01:09.417150Z"
    }
   },
   "source": [
    "### YOUR CODE HERE ###\n",
    "scores.argmin(axis=1)"
   ],
   "outputs": [
    {
     "data": {
      "text/plain": [
       "array([4, 0, 5, 3, 5, 1, 1, 4, 1, 0, 7, 8, 9, 2, 8])"
      ]
     },
     "execution_count": 41,
     "metadata": {},
     "output_type": "execute_result"
    }
   ],
   "execution_count": 41
  },
  {
   "cell_type": "markdown",
   "metadata": {
    "id": "5eaQJGatgFAZ",
    "colab_type": "text"
   },
   "source": [
    "### Задание 7\n",
    "\n",
    "Выбрать из массива `nonzero` только те значения, которые соответствуют продвинутому уровню знания языка – баллу за экзамен выше 80. Сохранить полученный результат в массив `advanced`. В заданиях 8-10 нужно работать с массивом `advanced`."
   ]
  },
  {
   "cell_type": "code",
   "metadata": {
    "id": "nmMA59fAgFAZ",
    "colab_type": "code",
    "colab": {},
    "ExecuteTime": {
     "end_time": "2024-08-21T18:27:00.662667Z",
     "start_time": "2024-08-21T18:27:00.649687Z"
    }
   },
   "source": [
    "### YOUR CODE HERE ###\n",
    "advanced = nonzero[nonzero > 80]\n",
    "advanced"
   ],
   "outputs": [
    {
     "data": {
      "text/plain": [
       "np.int64(20)"
      ]
     },
     "execution_count": 26,
     "metadata": {},
     "output_type": "execute_result"
    }
   ],
   "execution_count": 26
  },
  {
   "cell_type": "markdown",
   "metadata": {
    "id": "Aq0Lf1f6gFAk",
    "colab_type": "text"
   },
   "source": [
    "### Задание 8\n",
    "\n",
    "Определить размерность массива `advanced`."
   ]
  },
  {
   "cell_type": "code",
   "metadata": {
    "id": "m_9Wm-7xgFAl",
    "colab_type": "code",
    "colab": {},
    "ExecuteTime": {
     "end_time": "2024-08-21T17:48:15.383820Z",
     "start_time": "2024-08-21T17:48:15.369823Z"
    }
   },
   "source": [
    "### YOUR CODE HERE ###\n",
    "razmernost = advanced.ndim\n",
    "razmernost"
   ],
   "outputs": [
    {
     "data": {
      "text/plain": [
       "1"
      ]
     },
     "execution_count": 19,
     "metadata": {},
     "output_type": "execute_result"
    }
   ],
   "execution_count": 19
  },
  {
   "cell_type": "markdown",
   "metadata": {
    "id": "Bc_cX_EYgFAo",
    "colab_type": "text"
   },
   "source": [
    "### Задание 9\n",
    "\n",
    "Определить форму массива `advanced`."
   ]
  },
  {
   "cell_type": "code",
   "metadata": {
    "id": "6VSwGB6fgFAp",
    "colab_type": "code",
    "colab": {},
    "ExecuteTime": {
     "end_time": "2024-08-21T17:48:32.606856Z",
     "start_time": "2024-08-21T17:48:32.594930Z"
    }
   },
   "source": [
    "### YOUR CODE HERE ###\n",
    "razmernost = advanced.shape\n",
    "razmernost"
   ],
   "outputs": [
    {
     "data": {
      "text/plain": [
       "(28,)"
      ]
     },
     "execution_count": 20,
     "metadata": {},
     "output_type": "execute_result"
    }
   ],
   "execution_count": 20
  },
  {
   "cell_type": "markdown",
   "metadata": {
    "id": "tmheEQZ3gFAr",
    "colab_type": "text"
   },
   "source": [
    "### Задание 10\n",
    "\n",
    "Определить общее число элементов в массиве `advanced`."
   ]
  },
  {
   "cell_type": "code",
   "metadata": {
    "id": "OvJ2oJV7gFAr",
    "colab_type": "code",
    "colab": {},
    "ExecuteTime": {
     "end_time": "2024-08-21T17:52:12.810814Z",
     "start_time": "2024-08-21T17:52:12.801079Z"
    }
   },
   "source": [
    "### YOUR CODE HERE ###\n",
    "advanced.size"
   ],
   "outputs": [
    {
     "data": {
      "text/plain": [
       "28"
      ]
     },
     "execution_count": 21,
     "metadata": {},
     "output_type": "execute_result"
    }
   ],
   "execution_count": 21
  },
  {
   "cell_type": "markdown",
   "metadata": {
    "id": "rfufTemUgFAv",
    "colab_type": "text"
   },
   "source": [
    "### Задание 11\n",
    "\n",
    "На основе исходного массива `scores` создать булев массив `sto`, где `True` соответствует баллам за экзамен, равным 100, а `False` – всем остальным баллам. "
   ]
  },
  {
   "cell_type": "code",
   "metadata": {
    "id": "cXVCTZJRgFAw",
    "colab_type": "code",
    "colab": {},
    "ExecuteTime": {
     "end_time": "2024-08-21T17:53:10.062723Z",
     "start_time": "2024-08-21T17:53:10.020659Z"
    }
   },
   "source": [
    "### YOUR CODE HERE ###\n",
    "netupie = scores == 100\n",
    "netupie"
   ],
   "outputs": [
    {
     "data": {
      "text/plain": [
       "array([[False, False, False, False, False, False, False, False, False,\n",
       "        False],\n",
       "       [False, False, False,  True, False, False, False, False,  True,\n",
       "        False],\n",
       "       [False, False, False, False,  True, False, False, False, False,\n",
       "        False],\n",
       "       [False, False, False, False,  True, False, False, False, False,\n",
       "        False],\n",
       "       [False, False, False, False, False, False, False, False, False,\n",
       "        False],\n",
       "       [False, False, False, False, False, False, False, False, False,\n",
       "        False],\n",
       "       [False, False, False, False, False, False, False, False, False,\n",
       "         True],\n",
       "       [False, False, False, False, False, False, False, False, False,\n",
       "        False],\n",
       "       [False, False, False, False, False, False, False,  True, False,\n",
       "        False],\n",
       "       [False, False, False, False, False, False, False, False, False,\n",
       "        False],\n",
       "       [False, False, False, False, False, False, False, False, False,\n",
       "        False],\n",
       "       [False, False, False, False, False,  True, False, False, False,\n",
       "        False],\n",
       "       [False, False, False, False, False, False, False, False, False,\n",
       "        False],\n",
       "       [ True, False, False, False, False, False, False, False, False,\n",
       "        False],\n",
       "       [False, False, False, False, False, False, False, False, False,\n",
       "        False]])"
      ]
     },
     "execution_count": 22,
     "metadata": {},
     "output_type": "execute_result"
    }
   ],
   "execution_count": 22
  },
  {
   "cell_type": "markdown",
   "metadata": {
    "id": "GBKO0EiTgFAy",
    "colab_type": "text"
   },
   "source": [
    "### Задание 12\n",
    "\n",
    "На основе исходного массива `scores` вывести на экран оценки слушателей первых семи групп (включительно, должны быть 7 списков оценок)."
   ]
  },
  {
   "cell_type": "code",
   "metadata": {
    "id": "5MsmBdCggFA0",
    "colab_type": "code",
    "colab": {},
    "ExecuteTime": {
     "end_time": "2024-08-21T17:59:14.671206Z",
     "start_time": "2024-08-21T17:59:14.654646Z"
    }
   },
   "source": [
    "### YOUR CODE HERE ###\n",
    "scores[0:8]"
   ],
   "outputs": [
    {
     "data": {
      "text/plain": [
       "array([[ 20,  40,  56,  80,   0,   5,  25,  27,  74,   1],\n",
       "       [  0,  98,  67, 100,   8,  56,  34,  82, 100,   7],\n",
       "       [ 78,  54,  23,  79, 100,   0,   0,  42,  95,  83],\n",
       "       [ 51,  50,  47,  23, 100,  94,  25,  48,  38,  77],\n",
       "       [ 90,  87,  41,  89,  52,   0,   5,  17,  28,  99],\n",
       "       [ 32,  18,  21,  18,  29,  31,  48,  62,  76,  22],\n",
       "       [  6,   0,  65,  78,  43,  22,  38,  88,  94, 100],\n",
       "       [ 77,  28,  39,  41,   0,  81,  45,  54,  98,  12]])"
      ]
     },
     "execution_count": 23,
     "metadata": {},
     "output_type": "execute_result"
    }
   ],
   "execution_count": 23
  },
  {
   "cell_type": "markdown",
   "metadata": {
    "id": "5cwVuZHAgFA1",
    "colab_type": "text"
   },
   "source": [
    ".<br> .<br> .<br> .<br> .<br> .<br> .<br> .<br> .<br> .<br> .<br> .<br> .<br> .<br> .<br> .<br> .<br> .<br> \n",
    "# Дополнительное (необязательное) задание.\n",
    "<br>\n"
   ]
  },
  {
   "cell_type": "markdown",
   "metadata": {
    "id": "NevmPbRrgFA2",
    "colab_type": "text"
   },
   "source": [
    "В заданиях 1-2 необходимо работать с массивом `A`:"
   ]
  },
  {
   "cell_type": "code",
   "metadata": {
    "id": "b8eeE6EOgFA2",
    "colab_type": "code",
    "colab": {},
    "ExecuteTime": {
     "end_time": "2024-08-23T05:12:28.707582Z",
     "start_time": "2024-08-23T05:12:25.677697Z"
    }
   },
   "source": [
    "import numpy as np\n",
    "A = np.array([[2, 9, 8, 0],\n",
    "             [8, 7, 5, 6], \n",
    "             [3, 1, 0, 2], \n",
    "             [6, 5, 6, 8],\n",
    "             [1, 0, 0, 4]])"
   ],
   "outputs": [],
   "execution_count": 2
  },
  {
   "cell_type": "markdown",
   "metadata": {
    "id": "RAQ4aJhfgFA5",
    "colab_type": "text"
   },
   "source": [
    "### Задание 1\n",
    "\n",
    "Транспонировать массив `A`, не используя встроенных методов `NumPy`. Сохранить полученный массив в переменную `A_tr`. Допустимо использовать циклы и условные конструкции (при необходимости).\n",
    "\n",
    "**Напоминание:** транспонирование – операция замены строк и столбцов местами. Пример:\n",
    "\n",
    "До транспонирования:\n",
    "\n",
    "        [[2, 5, 0], \n",
    "        [7, 8, 1]]\n",
    "\n",
    "После транспонирования:\n",
    "\n",
    "        [[2, 7],\n",
    "        [5, 8],\n",
    "        [0, 1]]\n",
    "\n",
    "**Подсказка:** можно почитать про цикл *for* на [pythontutor.ru](https://pythontutor.ru/lessons/for_loop/). На самом деле, если вспомнить про выбор элементов в массиве `NumPy`, то одного цикла будет достаточно, условные конструкции не понадобятся."
   ]
  },
  {
   "cell_type": "code",
   "metadata": {
    "id": "2HvCIIF0gFA6",
    "colab_type": "code",
    "colab": {},
    "ExecuteTime": {
     "end_time": "2024-08-23T14:03:39.866392Z",
     "start_time": "2024-08-23T14:03:39.849574Z"
    }
   },
   "source": [
    "### YOUR CODE HERE ###\n",
    "razm = A.shape\n",
    "print(razm)\n",
    "listTmp = []\n",
    "for i in range(razm[1]):\n",
    "    listTmp.append([A[0][i], A[1][i], A[2][i], A[3][i], A[4][i]])\n",
    "A_tr = np.array(listTmp)\n",
    "A_tr\n",
    "\n"
   ],
   "outputs": [
    {
     "name": "stdout",
     "output_type": "stream",
     "text": [
      "(5, 4)\n"
     ]
    },
    {
     "data": {
      "text/plain": [
       "array([[2, 8, 3, 6, 1],\n",
       "       [9, 7, 1, 5, 0],\n",
       "       [8, 5, 0, 6, 0],\n",
       "       [0, 6, 2, 8, 4]])"
      ]
     },
     "execution_count": 38,
     "metadata": {},
     "output_type": "execute_result"
    }
   ],
   "execution_count": 38
  },
  {
   "cell_type": "markdown",
   "metadata": {
    "id": "Rb0Np089gFA8",
    "colab_type": "text"
   },
   "source": [
    "### Задание 2\n",
    "\n",
    "Сравнить результаты: проверить равенство полученного выше массива `A_tr` и массива, который получается транспонированием массива `A` с помощью метода `.T`. \n",
    "\n",
    "**Подсказка:** для сравнения массивов целиком, не поэлементно, можно использовать [функцию](https://docs.scipy.org/doc/numpy/reference/generated/numpy.array_equal.html) `array_equal()`."
   ]
  },
  {
   "cell_type": "code",
   "metadata": {
    "id": "oy3tY9Y0gFA9",
    "colab_type": "code",
    "colab": {},
    "ExecuteTime": {
     "end_time": "2024-08-23T14:08:34.477731Z",
     "start_time": "2024-08-23T14:08:34.467443Z"
    }
   },
   "source": [
    "### YOUR CODE HERE ###\n",
    "A2_tr = A.T\n",
    "print(A2_tr)\n",
    "print(np.array_equal(A_tr, A2_tr))"
   ],
   "outputs": [
    {
     "name": "stdout",
     "output_type": "stream",
     "text": [
      "[[2 8 3 6 1]\n",
      " [9 7 1 5 0]\n",
      " [8 5 0 6 0]\n",
      " [0 6 2 8 4]]\n",
      "True\n"
     ]
    }
   ],
   "execution_count": 40
  },
  {
   "cell_type": "markdown",
   "metadata": {
    "id": "0GsTgRbbgFA_",
    "colab_type": "text"
   },
   "source": [
    "### Задание 3\n",
    "\n",
    "Студент N подрабатывает репетитором по математике и ведёт занятия разных типов: готовит к ЕГЭ, к олимпиадам, «подтягивает» математику у школьников младших классов. \n",
    "\n",
    "В массиве `classes` хранится число проведённых уроков за пять рабочих дней, в массиве `prices` — стоимость одного урока (считаем, что студент за день проводит занятия одного типа, одинаковые по стоимости).\n",
    "\n",
    "Определить доход студента за неделю, используя [метод](https://docs.scipy.org/doc/numpy/reference/generated/numpy.dot.html) `.dot()` для нахождения [скалярного произведения](https://ru.wikipedia.org/wiki/%D0%A1%D0%BA%D0%B0%D0%BB%D1%8F%D1%80%D0%BD%D0%BE%D0%B5_%D0%BF%D1%80%D0%BE%D0%B8%D0%B7%D0%B2%D0%B5%D0%B4%D0%B5%D0%BD%D0%B8%D0%B5). "
   ]
  },
  {
   "cell_type": "code",
   "metadata": {
    "id": "IHm4BAzMgFA_",
    "colab_type": "code",
    "colab": {},
    "ExecuteTime": {
     "end_time": "2024-08-23T10:56:10.417837Z",
     "start_time": "2024-08-23T10:56:10.409388Z"
    }
   },
   "source": [
    "classes = np.array([3, 3, 2, 0, 2])\n",
    "prices = np.array([1500, 1500, 2500, 1000, 1000])"
   ],
   "outputs": [],
   "execution_count": 13
  },
  {
   "cell_type": "code",
   "metadata": {
    "id": "naNXR55mgFBD",
    "colab_type": "code",
    "colab": {},
    "ExecuteTime": {
     "end_time": "2024-08-23T10:56:15.367077Z",
     "start_time": "2024-08-23T10:56:15.353080Z"
    }
   },
   "source": [
    "### YOUR CODE HERE ###\n",
    "doh = np.dot(classes, prices)\n",
    "doh"
   ],
   "outputs": [
    {
     "data": {
      "text/plain": [
       "np.int64(16000)"
      ]
     },
     "execution_count": 14,
     "metadata": {},
     "output_type": "execute_result"
    }
   ],
   "execution_count": 14
  },
  {
   "cell_type": "markdown",
   "metadata": {
    "id": "pVhH4MrAgFBH",
    "colab_type": "text"
   },
   "source": [
    "### Задание 4\n",
    "\n",
    "По результатам работы с данными по оценкам за эссе студентов, поставленным двумя разными экспертами, были созданы два булевых массива `expert1` и `expert2`, в которых значение `True` означает оценку «удовлетворительно» и выше, а значение `False` – неудовлетворительно. Всего было оценено 15 эссе, по 5 эссе на каждую из трёх тем."
   ]
  },
  {
   "cell_type": "code",
   "metadata": {
    "id": "XvKTyCPsgFBH",
    "colab_type": "code",
    "colab": {},
    "ExecuteTime": {
     "end_time": "2024-08-23T11:21:42.960024Z",
     "start_time": "2024-08-23T11:21:42.946941Z"
    }
   },
   "source": [
    "expert1 = np.array([[True, False, False, True, True],\n",
    "                   [False, True, False, False, True],\n",
    "                   [True, True, True, False, False]])\n",
    "expert2 = np.array([[True, False, False, False, True],\n",
    "                   [False, False, False, False, False],\n",
    "                   [True, False, True, False, False]])"
   ],
   "outputs": [],
   "execution_count": 19
  },
  {
   "cell_type": "code",
   "metadata": {
    "id": "_ItTN6kugFBI",
    "colab_type": "code",
    "colab": {},
    "ExecuteTime": {
     "end_time": "2024-08-23T11:23:20.203372Z",
     "start_time": "2024-08-23T11:23:20.185366Z"
    }
   },
   "source": [
    "### YOUR CODE HERE ###\n",
    "arrRes = expert1 & expert2\n",
    "result = arrRes.sum()\n",
    "print(arrRes)\n",
    "result"
   ],
   "outputs": [
    {
     "name": "stdout",
     "output_type": "stream",
     "text": [
      "[[ True False False False  True]\n",
      " [False False False False False]\n",
      " [ True False  True False False]]\n"
     ]
    },
    {
     "data": {
      "text/plain": [
       "np.int64(4)"
      ]
     },
     "execution_count": 22,
     "metadata": {},
     "output_type": "execute_result"
    }
   ],
   "execution_count": 22
  },
  {
   "cell_type": "markdown",
   "metadata": {
    "id": "Pu9yicVpgFBL",
    "colab_type": "text"
   },
   "source": [
    "Определить, используя различные логические операторы (`|`, `&`, и проч.) и вспомогательные методы/функции, сколько студентов получат зачёт, если известно, что для этого необходимо получить оценку не ниже удовлетворительной у обоих экспертов."
   ]
  },
  {
   "cell_type": "markdown",
   "metadata": {
    "id": "SNjTSYadgFBM",
    "colab_type": "text"
   },
   "source": [
    "### Задание 5\n",
    "\n",
    "Дан массив `essay` с итоговыми оценками студентов за эссе из задачи 4:"
   ]
  },
  {
   "cell_type": "code",
   "metadata": {
    "id": "m-0uuLMsgFBN",
    "colab_type": "code",
    "colab": {},
    "ExecuteTime": {
     "end_time": "2024-08-23T11:31:02.869919Z",
     "start_time": "2024-08-23T11:31:02.860274Z"
    }
   },
   "source": [
    "# pass - сдал\n",
    "# not pass - не сдал\n",
    "\n",
    "essay = np.array([[\"pass\", \"not pass\", \"not pass\", \"not pass\", \"pass\"],\n",
    "        [\"not pass\", \"not pass\", \"not pass\", \"not pass\", \"not pass\"],\n",
    "        [\"pass\", \"not pass\", \"pass\", \"not pass\", \"not pass\"]])"
   ],
   "outputs": [],
   "execution_count": 23
  },
  {
   "cell_type": "markdown",
   "metadata": {
    "id": "ods6NVgWgFBO",
    "colab_type": "text"
   },
   "source": [
    "Проверить ответ в предыдущей задаче, используя массив `essay`. Решение должно быть представлено в виде кода, не в виде выводов в результате явного подсчёта элементов."
   ]
  },
  {
   "cell_type": "code",
   "metadata": {
    "id": "VrnzKwKfgFBO",
    "colab_type": "code",
    "colab": {},
    "ExecuteTime": {
     "end_time": "2024-08-23T11:33:08.221808Z",
     "start_time": "2024-08-23T11:33:08.181807Z"
    }
   },
   "source": [
    "### YOUR CODE HERE ###\n",
    "resArr = essay == 'pass'\n",
    "print(resArr)\n",
    "res = resArr.sum()\n",
    "res"
   ],
   "outputs": [
    {
     "name": "stdout",
     "output_type": "stream",
     "text": [
      "[[ True False False False  True]\n",
      " [False False False False False]\n",
      " [ True False  True False False]]\n"
     ]
    },
    {
     "data": {
      "text/plain": [
       "np.int64(4)"
      ]
     },
     "execution_count": 28,
     "metadata": {},
     "output_type": "execute_result"
    }
   ],
   "execution_count": 28
  },
  {
   "cell_type": "markdown",
   "metadata": {
    "id": "O4WRS6GagFBQ",
    "colab_type": "text"
   },
   "source": [
    "### Задание 6\n",
    "\n",
    "Используя массивы `expert1` и `expert2` из задачи 4, определить согласованность двух экспертов, используя меру близости Жаккара, которая вычисляется следующим образом:\n",
    "\n",
    "$$\n",
    "J(A, B) = \\frac{|A \\cap B|}{|A| + |B| - |A \\cap B|}\n",
    ",$$ \n",
    "\n",
    "где $A$ – первое множество, $B$ – второе множество, $A \\cap B$ – пересечение множеств, т.е. их общие элементы. Запись $|A|$ означает «количество элементов в множестве». \n",
    "\n",
    "В качестве множеств $A$ и $B$ в данной задаче выступают множества (группы) студентов, которые получили зачёт у первого и второго экспертов."
   ]
  },
  {
   "cell_type": "code",
   "metadata": {
    "id": "uxsA-5kGgFBQ",
    "colab_type": "code",
    "colab": {},
    "ExecuteTime": {
     "end_time": "2024-08-23T11:38:47.548926Z",
     "start_time": "2024-08-23T11:38:47.532392Z"
    }
   },
   "source": [
    "### YOUR CODE HERE ###\n",
    "per = expert1 == expert2\n",
    "sumPer = per.sum()\n",
    "exp1Size = expert1.size\n",
    "exp2Size = expert2.size\n",
    "jak = sumPer / (exp1Size + exp2Size - sumPer)\n",
    "jak"
   ],
   "outputs": [
    {
     "data": {
      "text/plain": [
       "np.float64(0.5789473684210527)"
      ]
     },
     "execution_count": 31,
     "metadata": {},
     "output_type": "execute_result"
    }
   ],
   "execution_count": 31
  }
 ]
}
