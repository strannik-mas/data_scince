{
 "cells": [
  {
   "cell_type": "code",
   "id": "initial_id",
   "metadata": {
    "collapsed": true,
    "ExecuteTime": {
     "end_time": "2024-12-23T21:27:49.301731Z",
     "start_time": "2024-12-23T21:27:48.166449Z"
    }
   },
   "source": [
    "import pandas as pd\n",
    "from matplotlib import pyplot as plt"
   ],
   "outputs": [],
   "execution_count": 28
  },
  {
   "metadata": {
    "ExecuteTime": {
     "end_time": "2024-12-23T20:08:15.336721Z",
     "start_time": "2024-12-23T20:08:13.366798Z"
    }
   },
   "cell_type": "code",
   "source": [
    "df = pd.read_excel('data/tasks.xlsx', sheet_name='initial_data', parse_dates=['date'])\n",
    "df"
   ],
   "id": "1da131c6583cdd2a",
   "outputs": [
    {
     "data": {
      "text/plain": [
       "          userId       date     trafficSource   cost  value\n",
       "0      user_9996 2020-01-10  facebook / video  10.25  157.5\n",
       "1      user_9995 2020-01-03  telegram / posts  15.75    0.0\n",
       "2      user_9995 2020-01-19      yandex / cpc   8.50    0.0\n",
       "3      user_9992 2020-01-02      google / cpc   8.25    0.0\n",
       "4       user_999 2020-01-01  facebook / video  10.25    0.0\n",
       "...          ...        ...               ...    ...    ...\n",
       "9995   user_1003 2020-01-08      yandex / cpc   8.50    0.0\n",
       "9996   user_1002 2020-01-01  telegram / posts  15.75    0.0\n",
       "9997  user_10000 2020-01-15      yandex / cpc   8.50    0.0\n",
       "9998  user_10000 2020-01-17      google / cpc   8.25    0.0\n",
       "9999     user_10 2020-01-03  telegram / posts  15.75  215.0\n",
       "\n",
       "[10000 rows x 5 columns]"
      ],
      "text/html": [
       "<div>\n",
       "<style scoped>\n",
       "    .dataframe tbody tr th:only-of-type {\n",
       "        vertical-align: middle;\n",
       "    }\n",
       "\n",
       "    .dataframe tbody tr th {\n",
       "        vertical-align: top;\n",
       "    }\n",
       "\n",
       "    .dataframe thead th {\n",
       "        text-align: right;\n",
       "    }\n",
       "</style>\n",
       "<table border=\"1\" class=\"dataframe\">\n",
       "  <thead>\n",
       "    <tr style=\"text-align: right;\">\n",
       "      <th></th>\n",
       "      <th>userId</th>\n",
       "      <th>date</th>\n",
       "      <th>trafficSource</th>\n",
       "      <th>cost</th>\n",
       "      <th>value</th>\n",
       "    </tr>\n",
       "  </thead>\n",
       "  <tbody>\n",
       "    <tr>\n",
       "      <th>0</th>\n",
       "      <td>user_9996</td>\n",
       "      <td>2020-01-10</td>\n",
       "      <td>facebook / video</td>\n",
       "      <td>10.25</td>\n",
       "      <td>157.5</td>\n",
       "    </tr>\n",
       "    <tr>\n",
       "      <th>1</th>\n",
       "      <td>user_9995</td>\n",
       "      <td>2020-01-03</td>\n",
       "      <td>telegram / posts</td>\n",
       "      <td>15.75</td>\n",
       "      <td>0.0</td>\n",
       "    </tr>\n",
       "    <tr>\n",
       "      <th>2</th>\n",
       "      <td>user_9995</td>\n",
       "      <td>2020-01-19</td>\n",
       "      <td>yandex / cpc</td>\n",
       "      <td>8.50</td>\n",
       "      <td>0.0</td>\n",
       "    </tr>\n",
       "    <tr>\n",
       "      <th>3</th>\n",
       "      <td>user_9992</td>\n",
       "      <td>2020-01-02</td>\n",
       "      <td>google / cpc</td>\n",
       "      <td>8.25</td>\n",
       "      <td>0.0</td>\n",
       "    </tr>\n",
       "    <tr>\n",
       "      <th>4</th>\n",
       "      <td>user_999</td>\n",
       "      <td>2020-01-01</td>\n",
       "      <td>facebook / video</td>\n",
       "      <td>10.25</td>\n",
       "      <td>0.0</td>\n",
       "    </tr>\n",
       "    <tr>\n",
       "      <th>...</th>\n",
       "      <td>...</td>\n",
       "      <td>...</td>\n",
       "      <td>...</td>\n",
       "      <td>...</td>\n",
       "      <td>...</td>\n",
       "    </tr>\n",
       "    <tr>\n",
       "      <th>9995</th>\n",
       "      <td>user_1003</td>\n",
       "      <td>2020-01-08</td>\n",
       "      <td>yandex / cpc</td>\n",
       "      <td>8.50</td>\n",
       "      <td>0.0</td>\n",
       "    </tr>\n",
       "    <tr>\n",
       "      <th>9996</th>\n",
       "      <td>user_1002</td>\n",
       "      <td>2020-01-01</td>\n",
       "      <td>telegram / posts</td>\n",
       "      <td>15.75</td>\n",
       "      <td>0.0</td>\n",
       "    </tr>\n",
       "    <tr>\n",
       "      <th>9997</th>\n",
       "      <td>user_10000</td>\n",
       "      <td>2020-01-15</td>\n",
       "      <td>yandex / cpc</td>\n",
       "      <td>8.50</td>\n",
       "      <td>0.0</td>\n",
       "    </tr>\n",
       "    <tr>\n",
       "      <th>9998</th>\n",
       "      <td>user_10000</td>\n",
       "      <td>2020-01-17</td>\n",
       "      <td>google / cpc</td>\n",
       "      <td>8.25</td>\n",
       "      <td>0.0</td>\n",
       "    </tr>\n",
       "    <tr>\n",
       "      <th>9999</th>\n",
       "      <td>user_10</td>\n",
       "      <td>2020-01-03</td>\n",
       "      <td>telegram / posts</td>\n",
       "      <td>15.75</td>\n",
       "      <td>215.0</td>\n",
       "    </tr>\n",
       "  </tbody>\n",
       "</table>\n",
       "<p>10000 rows × 5 columns</p>\n",
       "</div>"
      ]
     },
     "execution_count": 6,
     "metadata": {},
     "output_type": "execute_result"
    }
   ],
   "execution_count": 6
  },
  {
   "metadata": {
    "ExecuteTime": {
     "end_time": "2024-12-23T20:46:08.681070Z",
     "start_time": "2024-12-23T20:46:08.667183Z"
    }
   },
   "cell_type": "code",
   "source": [
    "new_df = df[['trafficSource', 'cost', 'value']].groupby('trafficSource').agg('sum')\n",
    "new_df"
   ],
   "id": "740bc86f425c9367",
   "outputs": [
    {
     "data": {
      "text/plain": [
       "                      cost    value\n",
       "trafficSource                      \n",
       "facebook / video  28208.00  33735.0\n",
       "google / cpc      25137.75  42557.5\n",
       "telegram / posts  35374.50  29330.0\n",
       "vk / display       4498.75   4345.0\n",
       "yandex / cpc      14025.00  21377.5"
      ],
      "text/html": [
       "<div>\n",
       "<style scoped>\n",
       "    .dataframe tbody tr th:only-of-type {\n",
       "        vertical-align: middle;\n",
       "    }\n",
       "\n",
       "    .dataframe tbody tr th {\n",
       "        vertical-align: top;\n",
       "    }\n",
       "\n",
       "    .dataframe thead th {\n",
       "        text-align: right;\n",
       "    }\n",
       "</style>\n",
       "<table border=\"1\" class=\"dataframe\">\n",
       "  <thead>\n",
       "    <tr style=\"text-align: right;\">\n",
       "      <th></th>\n",
       "      <th>cost</th>\n",
       "      <th>value</th>\n",
       "    </tr>\n",
       "    <tr>\n",
       "      <th>trafficSource</th>\n",
       "      <th></th>\n",
       "      <th></th>\n",
       "    </tr>\n",
       "  </thead>\n",
       "  <tbody>\n",
       "    <tr>\n",
       "      <th>facebook / video</th>\n",
       "      <td>28208.00</td>\n",
       "      <td>33735.0</td>\n",
       "    </tr>\n",
       "    <tr>\n",
       "      <th>google / cpc</th>\n",
       "      <td>25137.75</td>\n",
       "      <td>42557.5</td>\n",
       "    </tr>\n",
       "    <tr>\n",
       "      <th>telegram / posts</th>\n",
       "      <td>35374.50</td>\n",
       "      <td>29330.0</td>\n",
       "    </tr>\n",
       "    <tr>\n",
       "      <th>vk / display</th>\n",
       "      <td>4498.75</td>\n",
       "      <td>4345.0</td>\n",
       "    </tr>\n",
       "    <tr>\n",
       "      <th>yandex / cpc</th>\n",
       "      <td>14025.00</td>\n",
       "      <td>21377.5</td>\n",
       "    </tr>\n",
       "  </tbody>\n",
       "</table>\n",
       "</div>"
      ]
     },
     "execution_count": 15,
     "metadata": {},
     "output_type": "execute_result"
    }
   ],
   "execution_count": 15
  },
  {
   "metadata": {
    "ExecuteTime": {
     "end_time": "2024-12-23T21:07:54.149432Z",
     "start_time": "2024-12-23T21:07:54.123182Z"
    }
   },
   "cell_type": "code",
   "source": [
    "f_sr = lambda x: x.unique().size\n",
    "nnndf = df[['trafficSource', 'userId']].groupby('trafficSource').agg(f_sr)\n",
    "\n",
    "\n",
    "new_df['ROI'] = new_df['value'] / new_df['cost']\n",
    "new_df['dohod'] = new_df['value'] - new_df['cost']\n",
    "\n",
    "new_df['users'] = df[['trafficSource', 'userId']].groupby('trafficSource').agg(f_sr)\n",
    "new_df['dohod_per_user'] = new_df['dohod'] / new_df['users']\n",
    "\n",
    "new_df.sort_values('ROI', ascending=False, inplace=True)\n",
    "new_df"
   ],
   "id": "2e266b6cac812369",
   "outputs": [
    {
     "data": {
      "text/plain": [
       "                      cost    value       ROI     dohod  users  dohod_per_user\n",
       "trafficSource                                                                 \n",
       "google / cpc      25137.75  42557.5  1.692972  17419.75   2654        6.563583\n",
       "yandex / cpc      14025.00  21377.5  1.524242   7352.50   1518        4.843544\n",
       "facebook / video  28208.00  33735.0  1.195937   5527.00   2410        2.293361\n",
       "vk / display       4498.75   4345.0  0.965824   -153.75    300       -0.512500\n",
       "telegram / posts  35374.50  29330.0  0.829128  -6044.50   2009       -3.008711"
      ],
      "text/html": [
       "<div>\n",
       "<style scoped>\n",
       "    .dataframe tbody tr th:only-of-type {\n",
       "        vertical-align: middle;\n",
       "    }\n",
       "\n",
       "    .dataframe tbody tr th {\n",
       "        vertical-align: top;\n",
       "    }\n",
       "\n",
       "    .dataframe thead th {\n",
       "        text-align: right;\n",
       "    }\n",
       "</style>\n",
       "<table border=\"1\" class=\"dataframe\">\n",
       "  <thead>\n",
       "    <tr style=\"text-align: right;\">\n",
       "      <th></th>\n",
       "      <th>cost</th>\n",
       "      <th>value</th>\n",
       "      <th>ROI</th>\n",
       "      <th>dohod</th>\n",
       "      <th>users</th>\n",
       "      <th>dohod_per_user</th>\n",
       "    </tr>\n",
       "    <tr>\n",
       "      <th>trafficSource</th>\n",
       "      <th></th>\n",
       "      <th></th>\n",
       "      <th></th>\n",
       "      <th></th>\n",
       "      <th></th>\n",
       "      <th></th>\n",
       "    </tr>\n",
       "  </thead>\n",
       "  <tbody>\n",
       "    <tr>\n",
       "      <th>google / cpc</th>\n",
       "      <td>25137.75</td>\n",
       "      <td>42557.5</td>\n",
       "      <td>1.692972</td>\n",
       "      <td>17419.75</td>\n",
       "      <td>2654</td>\n",
       "      <td>6.563583</td>\n",
       "    </tr>\n",
       "    <tr>\n",
       "      <th>yandex / cpc</th>\n",
       "      <td>14025.00</td>\n",
       "      <td>21377.5</td>\n",
       "      <td>1.524242</td>\n",
       "      <td>7352.50</td>\n",
       "      <td>1518</td>\n",
       "      <td>4.843544</td>\n",
       "    </tr>\n",
       "    <tr>\n",
       "      <th>facebook / video</th>\n",
       "      <td>28208.00</td>\n",
       "      <td>33735.0</td>\n",
       "      <td>1.195937</td>\n",
       "      <td>5527.00</td>\n",
       "      <td>2410</td>\n",
       "      <td>2.293361</td>\n",
       "    </tr>\n",
       "    <tr>\n",
       "      <th>vk / display</th>\n",
       "      <td>4498.75</td>\n",
       "      <td>4345.0</td>\n",
       "      <td>0.965824</td>\n",
       "      <td>-153.75</td>\n",
       "      <td>300</td>\n",
       "      <td>-0.512500</td>\n",
       "    </tr>\n",
       "    <tr>\n",
       "      <th>telegram / posts</th>\n",
       "      <td>35374.50</td>\n",
       "      <td>29330.0</td>\n",
       "      <td>0.829128</td>\n",
       "      <td>-6044.50</td>\n",
       "      <td>2009</td>\n",
       "      <td>-3.008711</td>\n",
       "    </tr>\n",
       "  </tbody>\n",
       "</table>\n",
       "</div>"
      ]
     },
     "execution_count": 26,
     "metadata": {},
     "output_type": "execute_result"
    }
   ],
   "execution_count": 26
  },
  {
   "metadata": {
    "ExecuteTime": {
     "end_time": "2024-12-23T21:08:15.440479Z",
     "start_time": "2024-12-23T21:08:15.426118Z"
    }
   },
   "cell_type": "code",
   "source": [
    "google_users = df[df['trafficSource'] == 'google / cpc']['userId'].unique().size\n",
    "yandex_users = df[df['trafficSource'] == 'yandex / cpc']['userId'].unique().size\n",
    "facebook_users = df[df['trafficSource'] == 'facebook / video']['userId'].unique().size\n",
    "vk_users = df[df['trafficSource'] == 'vk / display']['userId'].unique().size\n",
    "telegram_users = df[df['trafficSource'] == 'telegram / posts']['userId'].unique().size\n",
    "print(google_users, yandex_users, facebook_users, vk_users, telegram_users)"
   ],
   "id": "a81be2dd1e9410f",
   "outputs": [
    {
     "name": "stdout",
     "output_type": "stream",
     "text": [
      "2654 1518 2410 300 2009\n"
     ]
    }
   ],
   "execution_count": 27
  },
  {
   "metadata": {
    "ExecuteTime": {
     "end_time": "2024-12-23T21:31:44.741Z",
     "start_time": "2024-12-23T21:31:44.510510Z"
    }
   },
   "cell_type": "code",
   "source": [
    "plt.figure(figsize=(5, 5))\n",
    "plt.bar(new_df.index, new_df['ROI'])\n",
    "plt.xlabel('Channels')\n",
    "plt.ylabel('ROI')\n",
    "plt.title('ROI for channels')\n",
    "plt.show()"
   ],
   "id": "e26cf952fdff907a",
   "outputs": [
    {
     "data": {
      "text/plain": [
       "<Figure size 500x500 with 1 Axes>"
      ],
      "image/png": "[encoded data removed]"
     },
     "metadata": {},
     "output_type": "display_data"
    }
   ],
   "execution_count": 29
  }
 ],
 "metadata": {
  "kernelspec": {
   "display_name": "Python 3",
   "language": "python",
   "name": "python3"
  },
  "language_info": {
   "codemirror_mode": {
    "name": "ipython",
    "version": 2
   },
   "file_extension": ".py",
   "mimetype": "text/x-python",
   "name": "python",
   "nbconvert_exporter": "python",
   "pygments_lexer": "ipython2",
   "version": "2.7.6"
  }
 },
 "nbformat": 4,
 "nbformat_minor": 5
}
