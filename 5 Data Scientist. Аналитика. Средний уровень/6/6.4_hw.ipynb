{
 "cells": [
  {
   "cell_type": "code",
   "id": "initial_id",
   "metadata": {
    "collapsed": true,
    "ExecuteTime": {
     "end_time": "2024-11-24T11:13:55.002692Z",
     "start_time": "2024-11-24T11:13:53.864068Z"
    }
   },
   "source": [
    "import numpy as np\n",
    "import pandas as pd\n",
    "import random"
   ],
   "outputs": [],
   "execution_count": 1
  },
  {
   "metadata": {
    "ExecuteTime": {
     "end_time": "2024-11-24T11:14:20.396582Z",
     "start_time": "2024-11-24T11:14:20.382504Z"
    }
   },
   "cell_type": "code",
   "source": "df = pd.read_csv('data/conversion.csv')",
   "id": "7470dee62e3d8594",
   "outputs": [],
   "execution_count": 2
  },
  {
   "metadata": {
    "ExecuteTime": {
     "end_time": "2024-11-24T11:14:29.305008Z",
     "start_time": "2024-11-24T11:14:29.288378Z"
    }
   },
   "cell_type": "code",
   "source": "df",
   "id": "a74c301aa818b82",
   "outputs": [
    {
     "data": {
      "text/plain": [
       "     Unnamed: 0  OLD  NEW\n",
       "0             1    0    1\n",
       "1             2    0    0\n",
       "2             3    1    1\n",
       "3             4    0    1\n",
       "4             5    0    1\n",
       "..          ...  ...  ...\n",
       "795         796    0    0\n",
       "796         797    0    1\n",
       "797         798    0    1\n",
       "798         799    0    1\n",
       "799         800    0    1\n",
       "\n",
       "[800 rows x 3 columns]"
      ],
      "text/html": [
       "<div>\n",
       "<style scoped>\n",
       "    .dataframe tbody tr th:only-of-type {\n",
       "        vertical-align: middle;\n",
       "    }\n",
       "\n",
       "    .dataframe tbody tr th {\n",
       "        vertical-align: top;\n",
       "    }\n",
       "\n",
       "    .dataframe thead th {\n",
       "        text-align: right;\n",
       "    }\n",
       "</style>\n",
       "<table border=\"1\" class=\"dataframe\">\n",
       "  <thead>\n",
       "    <tr style=\"text-align: right;\">\n",
       "      <th></th>\n",
       "      <th>Unnamed: 0</th>\n",
       "      <th>OLD</th>\n",
       "      <th>NEW</th>\n",
       "    </tr>\n",
       "  </thead>\n",
       "  <tbody>\n",
       "    <tr>\n",
       "      <th>0</th>\n",
       "      <td>1</td>\n",
       "      <td>0</td>\n",
       "      <td>1</td>\n",
       "    </tr>\n",
       "    <tr>\n",
       "      <th>1</th>\n",
       "      <td>2</td>\n",
       "      <td>0</td>\n",
       "      <td>0</td>\n",
       "    </tr>\n",
       "    <tr>\n",
       "      <th>2</th>\n",
       "      <td>3</td>\n",
       "      <td>1</td>\n",
       "      <td>1</td>\n",
       "    </tr>\n",
       "    <tr>\n",
       "      <th>3</th>\n",
       "      <td>4</td>\n",
       "      <td>0</td>\n",
       "      <td>1</td>\n",
       "    </tr>\n",
       "    <tr>\n",
       "      <th>4</th>\n",
       "      <td>5</td>\n",
       "      <td>0</td>\n",
       "      <td>1</td>\n",
       "    </tr>\n",
       "    <tr>\n",
       "      <th>...</th>\n",
       "      <td>...</td>\n",
       "      <td>...</td>\n",
       "      <td>...</td>\n",
       "    </tr>\n",
       "    <tr>\n",
       "      <th>795</th>\n",
       "      <td>796</td>\n",
       "      <td>0</td>\n",
       "      <td>0</td>\n",
       "    </tr>\n",
       "    <tr>\n",
       "      <th>796</th>\n",
       "      <td>797</td>\n",
       "      <td>0</td>\n",
       "      <td>1</td>\n",
       "    </tr>\n",
       "    <tr>\n",
       "      <th>797</th>\n",
       "      <td>798</td>\n",
       "      <td>0</td>\n",
       "      <td>1</td>\n",
       "    </tr>\n",
       "    <tr>\n",
       "      <th>798</th>\n",
       "      <td>799</td>\n",
       "      <td>0</td>\n",
       "      <td>1</td>\n",
       "    </tr>\n",
       "    <tr>\n",
       "      <th>799</th>\n",
       "      <td>800</td>\n",
       "      <td>0</td>\n",
       "      <td>1</td>\n",
       "    </tr>\n",
       "  </tbody>\n",
       "</table>\n",
       "<p>800 rows × 3 columns</p>\n",
       "</div>"
      ]
     },
     "execution_count": 3,
     "metadata": {},
     "output_type": "execute_result"
    }
   ],
   "execution_count": 3
  },
  {
   "metadata": {
    "ExecuteTime": {
     "end_time": "2024-11-24T11:15:15.953179Z",
     "start_time": "2024-11-24T11:15:15.948346Z"
    }
   },
   "cell_type": "code",
   "source": [
    "p_old = df['OLD'].mean()\n",
    "p_new = df['NEW'].mean()"
   ],
   "id": "e04a607ff3c96600",
   "outputs": [],
   "execution_count": 4
  },
  {
   "metadata": {
    "ExecuteTime": {
     "end_time": "2024-11-24T11:15:36.677885Z",
     "start_time": "2024-11-24T11:15:36.673561Z"
    }
   },
   "cell_type": "code",
   "source": "prazn = p_new - p_old",
   "id": "95f1a3607ddbea9e",
   "outputs": [],
   "execution_count": 6
  },
  {
   "metadata": {
    "ExecuteTime": {
     "end_time": "2024-11-24T11:16:12.628209Z",
     "start_time": "2024-11-24T11:16:12.623605Z"
    }
   },
   "cell_type": "code",
   "source": "differences = np.zeros((1, 1500))",
   "id": "457e82cad085fcb2",
   "outputs": [],
   "execution_count": 7
  },
  {
   "metadata": {
    "ExecuteTime": {
     "end_time": "2024-11-24T12:02:17.860943Z",
     "start_time": "2024-11-24T12:02:13.039512Z"
    }
   },
   "cell_type": "code",
   "source": [
    "for i in range(0, 1500):\n",
    "    s1 = random.choices(df['OLD'], k=800)\n",
    "    s2 = random.choices(df['NEW'], k=800)\n",
    "    p1 = np.mean(s1)\n",
    "    p2 = np.mean(s2)\n",
    "    differences[0][i] = p2 - p1"
   ],
   "id": "63679e45bc9cfed9",
   "outputs": [],
   "execution_count": 8
  },
  {
   "metadata": {
    "ExecuteTime": {
     "end_time": "2024-11-24T12:03:17.020776Z",
     "start_time": "2024-11-24T12:03:17.015393Z"
    }
   },
   "cell_type": "code",
   "source": "differences",
   "id": "de010fb07b10bcd0",
   "outputs": [
    {
     "data": {
      "text/plain": [
       "array([[0.6225 , 0.65375, 0.6675 , ..., 0.62875, 0.62875, 0.64875]])"
      ]
     },
     "execution_count": 9,
     "metadata": {},
     "output_type": "execute_result"
    }
   ],
   "execution_count": 9
  },
  {
   "metadata": {},
   "cell_type": "code",
   "outputs": [],
   "execution_count": null,
   "source": "pval = ((differences - np.mean(differences)) >= prazn).sum()",
   "id": "cf63c8fec8b22351"
  }
 ],
 "metadata": {
  "kernelspec": {
   "display_name": "Python 3",
   "language": "python",
   "name": "python3"
  },
  "language_info": {
   "codemirror_mode": {
    "name": "ipython",
    "version": 2
   },
   "file_extension": ".py",
   "mimetype": "text/x-python",
   "name": "python",
   "nbconvert_exporter": "python",
   "pygments_lexer": "ipython2",
   "version": "2.7.6"
  }
 },
 "nbformat": 4,
 "nbformat_minor": 5
}
