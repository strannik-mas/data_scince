{
 "cells": [
  {
   "cell_type": "code",
   "id": "initial_id",
   "metadata": {
    "collapsed": true,
    "ExecuteTime": {
     "end_time": "2024-11-24T21:45:52.285755Z",
     "start_time": "2024-11-24T21:45:52.278411Z"
    }
   },
   "source": [
    "import pandas as pd\n",
    "from statsmodels.stats.proportion import proportions_ztest\n",
    "\n",
    "df = pd.read_csv('data/conversion.csv')"
   ],
   "outputs": [],
   "execution_count": 3
  },
  {
   "metadata": {
    "ExecuteTime": {
     "end_time": "2024-11-24T22:05:52.813867Z",
     "start_time": "2024-11-24T22:05:52.804507Z"
    }
   },
   "cell_type": "code",
   "source": [
    "ns_old = df['OLD'].sum()\n",
    "ns_old"
   ],
   "id": "c059eef10200cf18",
   "outputs": [
    {
     "data": {
      "text/plain": [
       "np.int64(74)"
      ]
     },
     "execution_count": 10,
     "metadata": {},
     "output_type": "execute_result"
    }
   ],
   "execution_count": 10
  },
  {
   "metadata": {
    "ExecuteTime": {
     "end_time": "2024-11-24T21:47:31.362300Z",
     "start_time": "2024-11-24T21:47:31.354809Z"
    }
   },
   "cell_type": "code",
   "source": [
    "ns_new = df['NEW'].sum()\n",
    "ns_new"
   ],
   "id": "91d14c07b1c62845",
   "outputs": [
    {
     "data": {
      "text/plain": [
       "np.int64(580)"
      ]
     },
     "execution_count": 6,
     "metadata": {},
     "output_type": "execute_result"
    }
   ],
   "execution_count": 6
  },
  {
   "metadata": {
    "ExecuteTime": {
     "end_time": "2024-11-24T21:49:37.097372Z",
     "start_time": "2024-11-24T21:49:37.090110Z"
    }
   },
   "cell_type": "code",
   "source": [
    "nTotal = df['NEW'].size\n",
    "nTotal"
   ],
   "id": "f7d46cb14fe8a01",
   "outputs": [
    {
     "data": {
      "text/plain": [
       "800"
      ]
     },
     "execution_count": 8,
     "metadata": {},
     "output_type": "execute_result"
    }
   ],
   "execution_count": 8
  },
  {
   "metadata": {
    "ExecuteTime": {
     "end_time": "2024-11-24T22:05:13.192663Z",
     "start_time": "2024-11-24T22:05:13.180901Z"
    }
   },
   "cell_type": "code",
   "source": [
    "import numpy as np\n",
    "\n",
    "count = np.array([ns_old, ns_new])\n",
    "nobs = np.array([nTotal, nTotal])\n",
    "\n",
    "stat, pvalue = proportions_ztest(count, nobs)\n",
    "pvalue"
   ],
   "id": "6d3a4ce66ec8ef2d",
   "outputs": [
    {
     "data": {
      "text/plain": [
       "np.float64(5.107079474573853e-146)"
      ]
     },
     "execution_count": 9,
     "metadata": {},
     "output_type": "execute_result"
    }
   ],
   "execution_count": 9
  }
 ],
 "metadata": {
  "kernelspec": {
   "display_name": "Python 3",
   "language": "python",
   "name": "python3"
  },
  "language_info": {
   "codemirror_mode": {
    "name": "ipython",
    "version": 2
   },
   "file_extension": ".py",
   "mimetype": "text/x-python",
   "name": "python",
   "nbconvert_exporter": "python",
   "pygments_lexer": "ipython2",
   "version": "2.7.6"
  }
 },
 "nbformat": 4,
 "nbformat_minor": 5
}
