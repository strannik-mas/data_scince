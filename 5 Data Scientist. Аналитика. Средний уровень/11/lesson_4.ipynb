{
 "cells": [
  {
   "cell_type": "code",
   "id": "initial_id",
   "metadata": {
    "collapsed": true,
    "ExecuteTime": {
     "end_time": "2025-01-04T11:46:05.469733Z",
     "start_time": "2025-01-04T11:46:05.461754Z"
    }
   },
   "source": [
    "import plotly.express as px\n",
    "import pandas as pd"
   ],
   "outputs": [],
   "execution_count": 7
  },
  {
   "metadata": {
    "ExecuteTime": {
     "end_time": "2025-01-04T11:46:05.492745Z",
     "start_time": "2025-01-04T11:46:05.471834Z"
    }
   },
   "cell_type": "code",
   "source": [
    "df = pd.read_csv('data/11.4 data_house.csv')\n",
    "df.head()"
   ],
   "id": "e9097e8ad658aa39",
   "outputs": [
    {
     "data": {
      "text/plain": [
       "         date            area  average_price       code  houses_sold  \\\n",
       "0  2001-01-01  city of london         284262  E09000001         24.0   \n",
       "1  2001-02-01  city of london         198137  E09000001         37.0   \n",
       "2  2001-03-01  city of london         189033  E09000001         44.0   \n",
       "3  2001-04-01  city of london         205494  E09000001         38.0   \n",
       "4  2001-05-01  city of london         223459  E09000001         30.0   \n",
       "\n",
       "   no_of_crimes  \n",
       "0           0.0  \n",
       "1           0.0  \n",
       "2           0.0  \n",
       "3           0.0  \n",
       "4           0.0  "
      ],
      "text/html": [
       "<div>\n",
       "<style scoped>\n",
       "    .dataframe tbody tr th:only-of-type {\n",
       "        vertical-align: middle;\n",
       "    }\n",
       "\n",
       "    .dataframe tbody tr th {\n",
       "        vertical-align: top;\n",
       "    }\n",
       "\n",
       "    .dataframe thead th {\n",
       "        text-align: right;\n",
       "    }\n",
       "</style>\n",
       "<table border=\"1\" class=\"dataframe\">\n",
       "  <thead>\n",
       "    <tr style=\"text-align: right;\">\n",
       "      <th></th>\n",
       "      <th>date</th>\n",
       "      <th>area</th>\n",
       "      <th>average_price</th>\n",
       "      <th>code</th>\n",
       "      <th>houses_sold</th>\n",
       "      <th>no_of_crimes</th>\n",
       "    </tr>\n",
       "  </thead>\n",
       "  <tbody>\n",
       "    <tr>\n",
       "      <th>0</th>\n",
       "      <td>2001-01-01</td>\n",
       "      <td>city of london</td>\n",
       "      <td>284262</td>\n",
       "      <td>E09000001</td>\n",
       "      <td>24.0</td>\n",
       "      <td>0.0</td>\n",
       "    </tr>\n",
       "    <tr>\n",
       "      <th>1</th>\n",
       "      <td>2001-02-01</td>\n",
       "      <td>city of london</td>\n",
       "      <td>198137</td>\n",
       "      <td>E09000001</td>\n",
       "      <td>37.0</td>\n",
       "      <td>0.0</td>\n",
       "    </tr>\n",
       "    <tr>\n",
       "      <th>2</th>\n",
       "      <td>2001-03-01</td>\n",
       "      <td>city of london</td>\n",
       "      <td>189033</td>\n",
       "      <td>E09000001</td>\n",
       "      <td>44.0</td>\n",
       "      <td>0.0</td>\n",
       "    </tr>\n",
       "    <tr>\n",
       "      <th>3</th>\n",
       "      <td>2001-04-01</td>\n",
       "      <td>city of london</td>\n",
       "      <td>205494</td>\n",
       "      <td>E09000001</td>\n",
       "      <td>38.0</td>\n",
       "      <td>0.0</td>\n",
       "    </tr>\n",
       "    <tr>\n",
       "      <th>4</th>\n",
       "      <td>2001-05-01</td>\n",
       "      <td>city of london</td>\n",
       "      <td>223459</td>\n",
       "      <td>E09000001</td>\n",
       "      <td>30.0</td>\n",
       "      <td>0.0</td>\n",
       "    </tr>\n",
       "  </tbody>\n",
       "</table>\n",
       "</div>"
      ]
     },
     "execution_count": 8,
     "metadata": {},
     "output_type": "execute_result"
    }
   ],
   "execution_count": 8
  },
  {
   "metadata": {
    "ExecuteTime": {
     "end_time": "2025-01-04T11:46:28.647190Z",
     "start_time": "2025-01-04T11:46:28.638665Z"
    }
   },
   "cell_type": "code",
   "source": "df.area.unique()",
   "id": "ec5e92cc3956adf1",
   "outputs": [
    {
     "data": {
      "text/plain": [
       "array(['city of london', 'barking and dagenham', 'barnet', 'bexley',\n",
       "       'brent', 'bromley', 'camden', 'croydon', 'ealing', 'enfield',\n",
       "       'greenwich', 'hackney', 'hammersmith and fulham', 'haringey',\n",
       "       'harrow', 'havering', 'hillingdon', 'hounslow', 'islington',\n",
       "       'kensington and chelsea', 'kingston upon thames', 'lambeth',\n",
       "       'lewisham', 'merton', 'newham', 'redbridge',\n",
       "       'richmond upon thames', 'southwark', 'sutton', 'tower hamlets',\n",
       "       'waltham forest', 'wandsworth', 'westminster'], dtype=object)"
      ]
     },
     "execution_count": 11,
     "metadata": {},
     "output_type": "execute_result"
    }
   ],
   "execution_count": 11
  },
  {
   "metadata": {
    "ExecuteTime": {
     "end_time": "2025-01-04T12:00:11.197095Z",
     "start_time": "2025-01-04T12:00:11.118697Z"
    }
   },
   "cell_type": "code",
   "source": [
    "df_sample = df[df.area.isin(['hammersmith and fulham', 'kensington and chelsea', 'barking and dagenham', 'camden'])]\n",
    "# fig = px.line(df_sample, x='date', y='average_price', title='Household Prices', color='area', hover_data=['houses_sold'])\n",
    "fig = px.line(df_sample, x='date', y='average_price', title='Household Prices', color='area', hover_data=df_sample.columns)\n",
    "fig.show()"
   ],
   "id": "28e86e938574cc14",
   "outputs": [
    {
     "data": {
      "application/vnd.plotly.v1+json": {
       "data": [
        {
         "customdata": [
          [
           "barking and dagenham",
           "E09000002",
           215.0,
           1771.0
          ],
          [
           "barking and dagenham",
           "E09000002",
           238.0,
           1600.0
          ],
          [
           "barking and dagenham",
           "E09000002",
           274.0,
           1759.0
          ],
          [
           "barking and dagenham",
           "E09000002",
           241.0,
           1643.0
          ],
          [
           "barking and dagenham",
           "E09000002",
           283.0,
           1809.0
          ],
          [
           "barking and dagenham",
           "E09000002",
           292.0,
           1835.0
          ],
          [
           "barking and dagenham",
           "E09000002",
           289.0,
           1774.0
          ],
          [
           "barking and dagenham",
           "E09000002",
           321.0,
           1828.0
          ],
          [
           "barking and dagenham",
           "E09000002",
           251.0,
           1692.0
          ],
          [
           "barking and dagenham",
           "E09000002",
           270.0,
           1743.0
          ],
          [
           "barking and dagenham",
           "E09000002",
           282.0,
           1601.0
          ],
          [
           "barking and dagenham",
           "E09000002",
           247.0,
           1421.0
          ],
          [
           "barking and dagenham",
           "E09000002",
           216.0,
           1751.0
          ],
          [
           "barking and dagenham",
           "E09000002",
           198.0,
           1529.0
          ],
          [
           "barking and dagenham",
           "E09000002",
           261.0,
           1626.0
          ],
          [
           "barking and dagenham",
           "E09000002",
           285.0,
           1685.0
          ],
          [
           "barking and dagenham",
           "E09000002",
           335.0,
           1872.0
          ],
          [
           "barking and dagenham",
           "E09000002",
           307.0,
           1630.0
          ],
          [
           "barking and dagenham",
           "E09000002",
           347.0,
           1757.0
          ],
          [
           "barking and dagenham",
           "E09000002",
           350.0,
           1651.0
          ],
          [
           "barking and dagenham",
           "E09000002",
           268.0,
           1600.0
          ],
          [
           "barking and dagenham",
           "E09000002",
           312.0,
           1753.0
          ],
          [
           "barking and dagenham",
           "E09000002",
           300.0,
           1631.0
          ],
          [
           "barking and dagenham",
           "E09000002",
           270.0,
           1555.0
          ],
          [
           "barking and dagenham",
           "E09000002",
           254.0,
           1652.0
          ],
          [
           "barking and dagenham",
           "E09000002",
           219.0,
           1473.0
          ],
          [
           "barking and dagenham",
           "E09000002",
           247.0,
           1786.0
          ],
          [
           "barking and dagenham",
           "E09000002",
           254.0,
           1620.0
          ],
          [
           "barking and dagenham",
           "E09000002",
           248.0,
           1887.0
          ],
          [
           "barking and dagenham",
           "E09000002",
           325.0,
           1782.0
          ],
          [
           "barking and dagenham",
           "E09000002",
           329.0,
           1832.0
          ],
          [
           "barking and dagenham",
           "E09000002",
           339.0,
           1774.0
          ],
          [
           "barking and dagenham",
           "E09000002",
           361.0,
           1711.0
          ],
          [
           "barking and dagenham",
           "E09000002",
           347.0,
           2049.0
          ],
          [
           "barking and dagenham",
           "E09000002",
           318.0,
           1940.0
          ],
          [
           "barking and dagenham",
           "E09000002",
           374.0,
           1579.0
          ],
          [
           "barking and dagenham",
           "E09000002",
           321.0,
           1768.0
          ],
          [
           "barking and dagenham",
           "E09000002",
           297.0,
           1823.0
          ],
          [
           "barking and dagenham",
           "E09000002",
           368.0,
           1974.0
          ],
          [
           "barking and dagenham",
           "E09000002",
           302.0,
           1860.0
          ],
          [
           "barking and dagenham",
           "E09000002",
           322.0,
           1907.0
          ],
          [
           "barking and dagenham",
           "E09000002",
           351.0,
           1833.0
          ],
          [
           "barking and dagenham",
           "E09000002",
           330.0,
           1769.0
          ],
          [
           "barking and dagenham",
           "E09000002",
           316.0,
           1717.0
          ],
          [
           "barking and dagenham",
           "E09000002",
           292.0,
           1693.0
          ],
          [
           "barking and dagenham",
           "E09000002",
           254.0,
           1711.0
          ],
          [
           "barking and dagenham",
           "E09000002",
           255.0,
           1701.0
          ],
          [
           "barking and dagenham",
           "E09000002",
           208.0,
           1515.0
          ],
          [
           "barking and dagenham",
           "E09000002",
           183.0,
           1694.0
          ],
          [
           "barking and dagenham",
           "E09000002",
           168.0,
           1584.0
          ],
          [
           "barking and dagenham",
           "E09000002",
           213.0,
           1822.0
          ],
          [
           "barking and dagenham",
           "E09000002",
           191.0,
           1713.0
          ],
          [
           "barking and dagenham",
           "E09000002",
           223.0,
           1846.0
          ],
          [
           "barking and dagenham",
           "E09000002",
           275.0,
           1634.0
          ],
          [
           "barking and dagenham",
           "E09000002",
           303.0,
           1802.0
          ],
          [
           "barking and dagenham",
           "E09000002",
           279.0,
           1877.0
          ],
          [
           "barking and dagenham",
           "E09000002",
           263.0,
           1622.0
          ],
          [
           "barking and dagenham",
           "E09000002",
           262.0,
           1842.0
          ],
          [
           "barking and dagenham",
           "E09000002",
           267.0,
           1737.0
          ],
          [
           "barking and dagenham",
           "E09000002",
           263.0,
           1542.0
          ],
          [
           "barking and dagenham",
           "E09000002",
           208.0,
           2002.0
          ],
          [
           "barking and dagenham",
           "E09000002",
           256.0,
           1675.0
          ],
          [
           "barking and dagenham",
           "E09000002",
           295.0,
           1863.0
          ],
          [
           "barking and dagenham",
           "E09000002",
           253.0,
           1811.0
          ],
          [
           "barking and dagenham",
           "E09000002",
           262.0,
           1909.0
          ],
          [
           "barking and dagenham",
           "E09000002",
           341.0,
           1825.0
          ],
          [
           "barking and dagenham",
           "E09000002",
           352.0,
           1808.0
          ],
          [
           "barking and dagenham",
           "E09000002",
           345.0,
           1756.0
          ],
          [
           "barking and dagenham",
           "E09000002",
           314.0,
           1760.0
          ],
          [
           "barking and dagenham",
           "E09000002",
           334.0,
           1853.0
          ],
          [
           "barking and dagenham",
           "E09000002",
           366.0,
           1872.0
          ],
          [
           "barking and dagenham",
           "E09000002",
           328.0,
           1493.0
          ],
          [
           "barking and dagenham",
           "E09000002",
           257.0,
           1790.0
          ],
          [
           "barking and dagenham",
           "E09000002",
           285.0,
           1526.0
          ],
          [
           "barking and dagenham",
           "E09000002",
           337.0,
           1754.0
          ],
          [
           "barking and dagenham",
           "E09000002",
           284.0,
           1716.0
          ],
          [
           "barking and dagenham",
           "E09000002",
           325.0,
           1679.0
          ],
          [
           "barking and dagenham",
           "E09000002",
           435.0,
           1607.0
          ],
          [
           "barking and dagenham",
           "E09000002",
           372.0,
           1569.0
          ],
          [
           "barking and dagenham",
           "E09000002",
           389.0,
           1559.0
          ],
          [
           "barking and dagenham",
           "E09000002",
           305.0,
           1585.0
          ],
          [
           "barking and dagenham",
           "E09000002",
           404.0,
           1721.0
          ],
          [
           "barking and dagenham",
           "E09000002",
           325.0,
           1630.0
          ],
          [
           "barking and dagenham",
           "E09000002",
           267.0,
           1518.0
          ],
          [
           "barking and dagenham",
           "E09000002",
           215.0,
           1667.0
          ],
          [
           "barking and dagenham",
           "E09000002",
           228.0,
           1626.0
          ],
          [
           "barking and dagenham",
           "E09000002",
           198.0,
           1588.0
          ],
          [
           "barking and dagenham",
           "E09000002",
           200.0,
           1731.0
          ],
          [
           "barking and dagenham",
           "E09000002",
           145.0,
           1609.0
          ],
          [
           "barking and dagenham",
           "E09000002",
           151.0,
           1659.0
          ],
          [
           "barking and dagenham",
           "E09000002",
           110.0,
           1790.0
          ],
          [
           "barking and dagenham",
           "E09000002",
           107.0,
           1689.0
          ],
          [
           "barking and dagenham",
           "E09000002",
           85.0,
           1430.0
          ],
          [
           "barking and dagenham",
           "E09000002",
           85.0,
           1630.0
          ],
          [
           "barking and dagenham",
           "E09000002",
           75.0,
           1602.0
          ],
          [
           "barking and dagenham",
           "E09000002",
           89.0,
           1506.0
          ],
          [
           "barking and dagenham",
           "E09000002",
           48.0,
           1660.0
          ],
          [
           "barking and dagenham",
           "E09000002",
           51.0,
           1631.0
          ],
          [
           "barking and dagenham",
           "E09000002",
           54.0,
           1892.0
          ],
          [
           "barking and dagenham",
           "E09000002",
           63.0,
           1735.0
          ],
          [
           "barking and dagenham",
           "E09000002",
           67.0,
           1707.0
          ],
          [
           "barking and dagenham",
           "E09000002",
           88.0,
           1649.0
          ],
          [
           "barking and dagenham",
           "E09000002",
           110.0,
           1705.0
          ],
          [
           "barking and dagenham",
           "E09000002",
           120.0,
           1622.0
          ],
          [
           "barking and dagenham",
           "E09000002",
           171.0,
           1618.0
          ],
          [
           "barking and dagenham",
           "E09000002",
           145.0,
           1600.0
          ],
          [
           "barking and dagenham",
           "E09000002",
           158.0,
           1554.0
          ],
          [
           "barking and dagenham",
           "E09000002",
           187.0,
           1425.0
          ],
          [
           "barking and dagenham",
           "E09000002",
           73.0,
           1603.0
          ],
          [
           "barking and dagenham",
           "E09000002",
           105.0,
           1521.0
          ],
          [
           "barking and dagenham",
           "E09000002",
           134.0,
           1752.0
          ],
          [
           "barking and dagenham",
           "E09000002",
           123.0,
           1669.0
          ],
          [
           "barking and dagenham",
           "E09000002",
           124.0,
           1655.0
          ],
          [
           "barking and dagenham",
           "E09000002",
           146.0,
           1757.0
          ],
          [
           "barking and dagenham",
           "E09000002",
           156.0,
           1783.0
          ],
          [
           "barking and dagenham",
           "E09000002",
           124.0,
           1684.0
          ],
          [
           "barking and dagenham",
           "E09000002",
           113.0,
           1609.0
          ],
          [
           "barking and dagenham",
           "E09000002",
           116.0,
           1608.0
          ],
          [
           "barking and dagenham",
           "E09000002",
           118.0,
           1620.0
          ],
          [
           "barking and dagenham",
           "E09000002",
           121.0,
           1221.0
          ],
          [
           "barking and dagenham",
           "E09000002",
           92.0,
           1485.0
          ],
          [
           "barking and dagenham",
           "E09000002",
           94.0,
           1438.0
          ],
          [
           "barking and dagenham",
           "E09000002",
           136.0,
           1648.0
          ],
          [
           "barking and dagenham",
           "E09000002",
           117.0,
           1635.0
          ],
          [
           "barking and dagenham",
           "E09000002",
           109.0,
           1744.0
          ],
          [
           "barking and dagenham",
           "E09000002",
           135.0,
           1631.0
          ],
          [
           "barking and dagenham",
           "E09000002",
           127.0,
           1635.0
          ],
          [
           "barking and dagenham",
           "E09000002",
           127.0,
           1695.0
          ],
          [
           "barking and dagenham",
           "E09000002",
           145.0,
           1427.0
          ],
          [
           "barking and dagenham",
           "E09000002",
           141.0,
           1430.0
          ],
          [
           "barking and dagenham",
           "E09000002",
           124.0,
           1518.0
          ],
          [
           "barking and dagenham",
           "E09000002",
           111.0,
           1444.0
          ],
          [
           "barking and dagenham",
           "E09000002",
           81.0,
           1538.0
          ],
          [
           "barking and dagenham",
           "E09000002",
           122.0,
           1402.0
          ],
          [
           "barking and dagenham",
           "E09000002",
           162.0,
           1683.0
          ],
          [
           "barking and dagenham",
           "E09000002",
           68.0,
           1363.0
          ],
          [
           "barking and dagenham",
           "E09000002",
           101.0,
           1500.0
          ],
          [
           "barking and dagenham",
           "E09000002",
           127.0,
           1412.0
          ],
          [
           "barking and dagenham",
           "E09000002",
           134.0,
           1450.0
          ],
          [
           "barking and dagenham",
           "E09000002",
           122.0,
           1402.0
          ],
          [
           "barking and dagenham",
           "E09000002",
           90.0,
           1304.0
          ],
          [
           "barking and dagenham",
           "E09000002",
           102.0,
           1431.0
          ],
          [
           "barking and dagenham",
           "E09000002",
           119.0,
           1516.0
          ],
          [
           "barking and dagenham",
           "E09000002",
           114.0,
           1363.0
          ],
          [
           "barking and dagenham",
           "E09000002",
           92.0,
           1558.0
          ],
          [
           "barking and dagenham",
           "E09000002",
           120.0,
           1492.0
          ],
          [
           "barking and dagenham",
           "E09000002",
           96.0,
           1449.0
          ],
          [
           "barking and dagenham",
           "E09000002",
           107.0,
           1359.0
          ],
          [
           "barking and dagenham",
           "E09000002",
           135.0,
           1363.0
          ],
          [
           "barking and dagenham",
           "E09000002",
           132.0,
           1265.0
          ],
          [
           "barking and dagenham",
           "E09000002",
           165.0,
           1500.0
          ],
          [
           "barking and dagenham",
           "E09000002",
           192.0,
           1279.0
          ],
          [
           "barking and dagenham",
           "E09000002",
           147.0,
           1265.0
          ],
          [
           "barking and dagenham",
           "E09000002",
           175.0,
           1372.0
          ],
          [
           "barking and dagenham",
           "E09000002",
           215.0,
           1416.0
          ],
          [
           "barking and dagenham",
           "E09000002",
           212.0,
           1217.0
          ],
          [
           "barking and dagenham",
           "E09000002",
           127.0,
           1311.0
          ],
          [
           "barking and dagenham",
           "E09000002",
           156.0,
           1253.0
          ],
          [
           "barking and dagenham",
           "E09000002",
           158.0,
           1507.0
          ],
          [
           "barking and dagenham",
           "E09000002",
           157.0,
           1253.0
          ],
          [
           "barking and dagenham",
           "E09000002",
           166.0,
           1324.0
          ],
          [
           "barking and dagenham",
           "E09000002",
           162.0,
           1353.0
          ],
          [
           "barking and dagenham",
           "E09000002",
           209.0,
           1403.0
          ],
          [
           "barking and dagenham",
           "E09000002",
           202.0,
           1289.0
          ],
          [
           "barking and dagenham",
           "E09000002",
           185.0,
           1414.0
          ],
          [
           "barking and dagenham",
           "E09000002",
           237.0,
           1359.0
          ],
          [
           "barking and dagenham",
           "E09000002",
           201.0,
           1477.0
          ],
          [
           "barking and dagenham",
           "E09000002",
           299.0,
           1285.0
          ],
          [
           "barking and dagenham",
           "E09000002",
           204.0,
           1308.0
          ],
          [
           "barking and dagenham",
           "E09000002",
           184.0,
           1221.0
          ],
          [
           "barking and dagenham",
           "E09000002",
           183.0,
           1549.0
          ],
          [
           "barking and dagenham",
           "E09000002",
           162.0,
           1342.0
          ],
          [
           "barking and dagenham",
           "E09000002",
           167.0,
           1496.0
          ],
          [
           "barking and dagenham",
           "E09000002",
           218.0,
           1440.0
          ],
          [
           "barking and dagenham",
           "E09000002",
           200.0,
           1584.0
          ],
          [
           "barking and dagenham",
           "E09000002",
           185.0,
           1411.0
          ],
          [
           "barking and dagenham",
           "E09000002",
           209.0,
           1436.0
          ],
          [
           "barking and dagenham",
           "E09000002",
           235.0,
           1395.0
          ],
          [
           "barking and dagenham",
           "E09000002",
           221.0,
           1517.0
          ],
          [
           "barking and dagenham",
           "E09000002",
           237.0,
           1481.0
          ],
          [
           "barking and dagenham",
           "E09000002",
           158.0,
           1423.0
          ],
          [
           "barking and dagenham",
           "E09000002",
           214.0,
           1417.0
          ],
          [
           "barking and dagenham",
           "E09000002",
           351.0,
           1555.0
          ],
          [
           "barking and dagenham",
           "E09000002",
           137.0,
           1414.0
          ],
          [
           "barking and dagenham",
           "E09000002",
           144.0,
           1649.0
          ],
          [
           "barking and dagenham",
           "E09000002",
           179.0,
           1552.0
          ],
          [
           "barking and dagenham",
           "E09000002",
           182.0,
           1621.0
          ],
          [
           "barking and dagenham",
           "E09000002",
           159.0,
           1445.0
          ],
          [
           "barking and dagenham",
           "E09000002",
           187.0,
           1460.0
          ],
          [
           "barking and dagenham",
           "E09000002",
           160.0,
           1411.0
          ],
          [
           "barking and dagenham",
           "E09000002",
           178.0,
           1394.0
          ],
          [
           "barking and dagenham",
           "E09000002",
           154.0,
           1349.0
          ],
          [
           "barking and dagenham",
           "E09000002",
           129.0,
           1379.0
          ],
          [
           "barking and dagenham",
           "E09000002",
           146.0,
           1412.0
          ],
          [
           "barking and dagenham",
           "E09000002",
           223.0,
           1603.0
          ],
          [
           "barking and dagenham",
           "E09000002",
           125.0,
           1497.0
          ],
          [
           "barking and dagenham",
           "E09000002",
           174.0,
           1706.0
          ],
          [
           "barking and dagenham",
           "E09000002",
           192.0,
           1581.0
          ],
          [
           "barking and dagenham",
           "E09000002",
           160.0,
           1718.0
          ],
          [
           "barking and dagenham",
           "E09000002",
           164.0,
           1606.0
          ],
          [
           "barking and dagenham",
           "E09000002",
           178.0,
           1553.0
          ],
          [
           "barking and dagenham",
           "E09000002",
           206.0,
           1633.0
          ],
          [
           "barking and dagenham",
           "E09000002",
           193.0,
           1523.0
          ],
          [
           "barking and dagenham",
           "E09000002",
           180.0,
           1463.0
          ],
          [
           "barking and dagenham",
           "E09000002",
           154.0,
           1502.0
          ],
          [
           "barking and dagenham",
           "E09000002",
           150.0,
           1423.0
          ],
          [
           "barking and dagenham",
           "E09000002",
           160.0,
           1605.0
          ],
          [
           "barking and dagenham",
           "E09000002",
           150.0,
           1453.0
          ],
          [
           "barking and dagenham",
           "E09000002",
           166.0,
           1504.0
          ],
          [
           "barking and dagenham",
           "E09000002",
           172.0,
           1569.0
          ],
          [
           "barking and dagenham",
           "E09000002",
           211.0,
           1612.0
          ],
          [
           "barking and dagenham",
           "E09000002",
           151.0,
           1460.0
          ],
          [
           "barking and dagenham",
           "E09000002",
           148.0,
           1467.0
          ],
          [
           "barking and dagenham",
           "E09000002",
           161.0,
           1582.0
          ],
          [
           "barking and dagenham",
           "E09000002",
           169.0,
           1560.0
          ],
          [
           "barking and dagenham",
           "E09000002",
           141.0,
           1544.0
          ],
          [
           "barking and dagenham",
           "E09000002",
           119.0,
           1576.0
          ],
          [
           "barking and dagenham",
           "E09000002",
           139.0,
           1576.0
          ],
          [
           "barking and dagenham",
           "E09000002",
           154.0,
           1711.0
          ],
          [
           "barking and dagenham",
           "E09000002",
           119.0,
           1681.0
          ],
          [
           "barking and dagenham",
           "E09000002",
           109.0,
           1830.0
          ],
          [
           "barking and dagenham",
           "E09000002",
           124.0,
           1698.0
          ],
          [
           "barking and dagenham",
           "E09000002",
           141.0,
           1820.0
          ],
          [
           "barking and dagenham",
           "E09000002",
           154.0,
           1550.0
          ],
          [
           "barking and dagenham",
           "E09000002",
           125.0,
           1649.0
          ],
          [
           "barking and dagenham",
           "E09000002",
           131.0,
           1794.0
          ],
          [
           "barking and dagenham",
           "E09000002",
           124.0,
           1653.0
          ]
         ],
         "hovertemplate": "area=%{customdata[0]}<br>date=%{x}<br>average_price=%{y}<br>code=%{customdata[1]}<br>houses_sold=%{customdata[2]}<br>no_of_crimes=%{customdata[3]}<extra></extra>",
         "legendgroup": "barking and dagenham",
         "line": {
          "color": "#636efa",
          "dash": "solid"
         },
         "marker": {
          "symbol": "circle"
         },
         "mode": "lines",
         "name": "barking and dagenham",
         "orientation": "v",
         "showlegend": true,
         "x": [
          "2001-01-01",
          "2001-02-01",
          "2001-03-01",
          "2001-04-01",
          "2001-05-01",
          "2001-06-01",
          "2001-07-01",
          "2001-08-01",
          "2001-09-01",
          "2001-10-01",
          "2001-11-01",
          "2001-12-01",
          "2002-01-01",
          "2002-02-01",
          "2002-03-01",
          "2002-04-01",
          "2002-05-01",
          "2002-06-01",
          "2002-07-01",
          "2002-08-01",
          "2002-09-01",
          "2002-10-01",
          "2002-11-01",
          "2002-12-01",
          "2003-01-01",
          "2003-02-01",
          "2003-03-01",
          "2003-04-01",
          "2003-05-01",
          "2003-06-01",
          "2003-07-01",
          "2003-08-01",
          "2003-09-01",
          "2003-10-01",
          "2003-11-01",
          "2003-12-01",
          "2004-01-01",
          "2004-02-01",
          "2004-03-01",
          "2004-04-01",
          "2004-05-01",
          "2004-06-01",
          "2004-07-01",
          "2004-08-01",
          "2004-09-01",
          "2004-10-01",
          "2004-11-01",
          "2004-12-01",
          "2005-01-01",
          "2005-02-01",
          "2005-03-01",
          "2005-04-01",
          "2005-05-01",
          "2005-06-01",
          "2005-07-01",
          "2005-08-01",
          "2005-09-01",
          "2005-10-01",
          "2005-11-01",
          "2005-12-01",
          "2006-01-01",
          "2006-02-01",
          "2006-03-01",
          "2006-04-01",
          "2006-05-01",
          "2006-06-01",
          "2006-07-01",
          "2006-08-01",
          "2006-09-01",
          "2006-10-01",
          "2006-11-01",
          "2006-12-01",
          "2007-01-01",
          "2007-02-01",
          "2007-03-01",
          "2007-04-01",
          "2007-05-01",
          "2007-06-01",
          "2007-07-01",
          "2007-08-01",
          "2007-09-01",
          "2007-10-01",
          "2007-11-01",
          "2007-12-01",
          "2008-01-01",
          "2008-02-01",
          "2008-03-01",
          "2008-04-01",
          "2008-05-01",
          "2008-06-01",
          "2008-07-01",
          "2008-08-01",
          "2008-09-01",
          "2008-10-01",
          "2008-11-01",
          "2008-12-01",
          "2009-01-01",
          "2009-02-01",
          "2009-03-01",
          "2009-04-01",
          "2009-05-01",
          "2009-06-01",
          "2009-07-01",
          "2009-08-01",
          "2009-09-01",
          "2009-10-01",
          "2009-11-01",
          "2009-12-01",
          "2010-01-01",
          "2010-02-01",
          "2010-03-01",
          "2010-04-01",
          "2010-05-01",
          "2010-06-01",
          "2010-07-01",
          "2010-08-01",
          "2010-09-01",
          "2010-10-01",
          "2010-11-01",
          "2010-12-01",
          "2011-01-01",
          "2011-02-01",
          "2011-03-01",
          "2011-04-01",
          "2011-05-01",
          "2011-06-01",
          "2011-07-01",
          "2011-08-01",
          "2011-09-01",
          "2011-10-01",
          "2011-11-01",
          "2011-12-01",
          "2012-01-01",
          "2012-02-01",
          "2012-03-01",
          "2012-04-01",
          "2012-05-01",
          "2012-06-01",
          "2012-07-01",
          "2012-08-01",
          "2012-09-01",
          "2012-10-01",
          "2012-11-01",
          "2012-12-01",
          "2013-01-01",
          "2013-02-01",
          "2013-03-01",
          "2013-04-01",
          "2013-05-01",
          "2013-06-01",
          "2013-07-01",
          "2013-08-01",
          "2013-09-01",
          "2013-10-01",
          "2013-11-01",
          "2013-12-01",
          "2014-01-01",
          "2014-02-01",
          "2014-03-01",
          "2014-04-01",
          "2014-05-01",
          "2014-06-01",
          "2014-07-01",
          "2014-08-01",
          "2014-09-01",
          "2014-10-01",
          "2014-11-01",
          "2014-12-01",
          "2015-01-01",
          "2015-02-01",
          "2015-03-01",
          "2015-04-01",
          "2015-05-01",
          "2015-06-01",
          "2015-07-01",
          "2015-08-01",
          "2015-09-01",
          "2015-10-01",
          "2015-11-01",
          "2015-12-01",
          "2016-01-01",
          "2016-02-01",
          "2016-03-01",
          "2016-04-01",
          "2016-05-01",
          "2016-06-01",
          "2016-07-01",
          "2016-08-01",
          "2016-09-01",
          "2016-10-01",
          "2016-11-01",
          "2016-12-01",
          "2017-01-01",
          "2017-02-01",
          "2017-03-01",
          "2017-04-01",
          "2017-05-01",
          "2017-06-01",
          "2017-07-01",
          "2017-08-01",
          "2017-09-01",
          "2017-10-01",
          "2017-11-01",
          "2017-12-01",
          "2018-01-01",
          "2018-02-01",
          "2018-03-01",
          "2018-04-01",
          "2018-05-01",
          "2018-06-01",
          "2018-07-01",
          "2018-08-01",
          "2018-09-01",
          "2018-10-01",
          "2018-11-01",
          "2018-12-01",
          "2019-01-01",
          "2019-02-01",
          "2019-03-01",
          "2019-04-01",
          "2019-05-01",
          "2019-06-01",
          "2019-07-01",
          "2019-08-01",
          "2019-09-01",
          "2019-10-01",
          "2019-11-01"
         ],
         "xaxis": "x",
         "y": [
          82343,
          83266,
          84058,
          83965,
          85124,
          86732,
          89194,
          90462,
          92610,
          93584,
          95918,
          96712,
          98713,
          100229,
          101633,
          103885,
          105761,
          108615,
          111983,
          115548,
          118331,
          122940,
          127316,
          131709,
          134750,
          138195,
          142207,
          142192,
          142797,
          141957,
          142223,
          142792,
          141707,
          145136,
          146331,
          149701,
          150115,
          152688,
          153591,
          154014,
          154361,
          156951,
          159227,
          160620,
          162821,
          164422,
          165172,
          164130,
          164484,
          162324,
          161927,
          162771,
          164000,
          165770,
          162428,
          164000,
          163111,
          164179,
          162695,
          162642,
          162340,
          163024,
          162004,
          164204,
          166048,
          169013,
          170204,
          171177,
          170251,
          170091,
          171598,
          174285,
          176577,
          177051,
          179011,
          179847,
          181828,
          183476,
          185929,
          187337,
          190223,
          191576,
          193603,
          192458,
          194235,
          193699,
          196257,
          192932,
          193573,
          190727,
          191067,
          189100,
          184659,
          177921,
          174390,
          169722,
          166798,
          161879,
          156811,
          152209,
          148433,
          150194,
          154105,
          156272,
          155827,
          156674,
          157272,
          160889,
          162905,
          163023,
          162831,
          162756,
          164903,
          167148,
          168661,
          170216,
          170253,
          170298,
          169250,
          166485,
          163821,
          162484,
          161660,
          162401,
          162703,
          162304,
          160895,
          163477,
          166865,
          167493,
          164847,
          162631,
          163899,
          163607,
          164438,
          164731,
          166503,
          168049,
          168007,
          166180,
          165304,
          165328,
          166508,
          167813,
          167919,
          169461,
          169414,
          169968,
          170475,
          172652,
          174604,
          173720,
          174761,
          176821,
          181910,
          183099,
          184884,
          185428,
          189877,
          193077,
          196620,
          198040,
          201936,
          204974,
          210412,
          213903,
          216631,
          218285,
          220070,
          222919,
          222417,
          222176,
          221826,
          227558,
          235702,
          241735,
          243479,
          243539,
          246955,
          253145,
          258758,
          262861,
          266209,
          266744,
          268081,
          269318,
          274243,
          279484,
          283654,
          286210,
          285853,
          285622,
          282441,
          280698,
          278213,
          280567,
          286018,
          289569,
          291727,
          290965,
          292519,
          293390,
          293796,
          292915,
          291548,
          292777,
          291723,
          291184,
          290239,
          294236,
          294953,
          295908,
          296424,
          299648,
          302606,
          301114,
          297181,
          293881,
          294585,
          296360,
          296555,
          295600,
          299538,
          300702,
          305277,
          304153,
          305882
         ],
         "yaxis": "y",
         "type": "scatter"
        },
        {
         "customdata": [
          [
           "camden",
           "E09000007",
           275.0,
           3530.0
          ],
          [
           "camden",
           "E09000007",
           210.0,
           3374.0
          ],
          [
           "camden",
           "E09000007",
           263.0,
           3791.0
          ],
          [
           "camden",
           "E09000007",
           267.0,
           3564.0
          ],
          [
           "camden",
           "E09000007",
           308.0,
           3857.0
          ],
          [
           "camden",
           "E09000007",
           352.0,
           3907.0
          ],
          [
           "camden",
           "E09000007",
           333.0,
           4067.0
          ],
          [
           "camden",
           "E09000007",
           389.0,
           4026.0
          ],
          [
           "camden",
           "E09000007",
           350.0,
           3859.0
          ],
          [
           "camden",
           "E09000007",
           281.0,
           4558.0
          ],
          [
           "camden",
           "E09000007",
           291.0,
           4353.0
          ],
          [
           "camden",
           "E09000007",
           271.0,
           3828.0
          ],
          [
           "camden",
           "E09000007",
           237.0,
           4303.0
          ],
          [
           "camden",
           "E09000007",
           243.0,
           3846.0
          ],
          [
           "camden",
           "E09000007",
           296.0,
           3810.0
          ],
          [
           "camden",
           "E09000007",
           341.0,
           3945.0
          ],
          [
           "camden",
           "E09000007",
           406.0,
           4121.0
          ],
          [
           "camden",
           "E09000007",
           325.0,
           4076.0
          ],
          [
           "camden",
           "E09000007",
           386.0,
           4157.0
          ],
          [
           "camden",
           "E09000007",
           379.0,
           4058.0
          ],
          [
           "camden",
           "E09000007",
           331.0,
           4039.0
          ],
          [
           "camden",
           "E09000007",
           323.0,
           4398.0
          ],
          [
           "camden",
           "E09000007",
           301.0,
           4157.0
          ],
          [
           "camden",
           "E09000007",
           283.0,
           3471.0
          ],
          [
           "camden",
           "E09000007",
           265.0,
           4000.0
          ],
          [
           "camden",
           "E09000007",
           205.0,
           3689.0
          ],
          [
           "camden",
           "E09000007",
           235.0,
           3908.0
          ],
          [
           "camden",
           "E09000007",
           198.0,
           3548.0
          ],
          [
           "camden",
           "E09000007",
           203.0,
           3801.0
          ],
          [
           "camden",
           "E09000007",
           250.0,
           4055.0
          ],
          [
           "camden",
           "E09000007",
           277.0,
           4204.0
          ],
          [
           "camden",
           "E09000007",
           296.0,
           3944.0
          ],
          [
           "camden",
           "E09000007",
           342.0,
           3806.0
          ],
          [
           "camden",
           "E09000007",
           305.0,
           4053.0
          ],
          [
           "camden",
           "E09000007",
           310.0,
           3803.0
          ],
          [
           "camden",
           "E09000007",
           264.0,
           3342.0
          ],
          [
           "camden",
           "E09000007",
           282.0,
           3682.0
          ],
          [
           "camden",
           "E09000007",
           274.0,
           3601.0
          ],
          [
           "camden",
           "E09000007",
           321.0,
           3715.0
          ],
          [
           "camden",
           "E09000007",
           346.0,
           3443.0
          ],
          [
           "camden",
           "E09000007",
           304.0,
           3703.0
          ],
          [
           "camden",
           "E09000007",
           396.0,
           3486.0
          ],
          [
           "camden",
           "E09000007",
           409.0,
           3432.0
          ],
          [
           "camden",
           "E09000007",
           384.0,
           3504.0
          ],
          [
           "camden",
           "E09000007",
           310.0,
           3443.0
          ],
          [
           "camden",
           "E09000007",
           267.0,
           3506.0
          ],
          [
           "camden",
           "E09000007",
           254.0,
           3412.0
          ],
          [
           "camden",
           "E09000007",
           213.0,
           2863.0
          ],
          [
           "camden",
           "E09000007",
           228.0,
           3049.0
          ],
          [
           "camden",
           "E09000007",
           198.0,
           2895.0
          ],
          [
           "camden",
           "E09000007",
           216.0,
           3182.0
          ],
          [
           "camden",
           "E09000007",
           257.0,
           3492.0
          ],
          [
           "camden",
           "E09000007",
           260.0,
           3393.0
          ],
          [
           "camden",
           "E09000007",
           317.0,
           3324.0
          ],
          [
           "camden",
           "E09000007",
           316.0,
           3128.0
          ],
          [
           "camden",
           "E09000007",
           295.0,
           3041.0
          ],
          [
           "camden",
           "E09000007",
           336.0,
           3037.0
          ],
          [
           "camden",
           "E09000007",
           299.0,
           3343.0
          ],
          [
           "camden",
           "E09000007",
           301.0,
           3403.0
          ],
          [
           "camden",
           "E09000007",
           296.0,
           2965.0
          ],
          [
           "camden",
           "E09000007",
           313.0,
           3095.0
          ],
          [
           "camden",
           "E09000007",
           267.0,
           2799.0
          ],
          [
           "camden",
           "E09000007",
           361.0,
           3131.0
          ],
          [
           "camden",
           "E09000007",
           310.0,
           2940.0
          ],
          [
           "camden",
           "E09000007",
           328.0,
           3355.0
          ],
          [
           "camden",
           "E09000007",
           360.0,
           3470.0
          ],
          [
           "camden",
           "E09000007",
           384.0,
           3526.0
          ],
          [
           "camden",
           "E09000007",
           429.0,
           3315.0
          ],
          [
           "camden",
           "E09000007",
           391.0,
           3448.0
          ],
          [
           "camden",
           "E09000007",
           342.0,
           3550.0
          ],
          [
           "camden",
           "E09000007",
           331.0,
           3671.0
          ],
          [
           "camden",
           "E09000007",
           340.0,
           2938.0
          ],
          [
           "camden",
           "E09000007",
           297.0,
           3374.0
          ],
          [
           "camden",
           "E09000007",
           283.0,
           3007.0
          ],
          [
           "camden",
           "E09000007",
           327.0,
           3578.0
          ],
          [
           "camden",
           "E09000007",
           265.0,
           3074.0
          ],
          [
           "camden",
           "E09000007",
           310.0,
           3108.0
          ],
          [
           "camden",
           "E09000007",
           330.0,
           2968.0
          ],
          [
           "camden",
           "E09000007",
           340.0,
           3056.0
          ],
          [
           "camden",
           "E09000007",
           368.0,
           2826.0
          ],
          [
           "camden",
           "E09000007",
           300.0,
           2807.0
          ],
          [
           "camden",
           "E09000007",
           303.0,
           3029.0
          ],
          [
           "camden",
           "E09000007",
           267.0,
           2920.0
          ],
          [
           "camden",
           "E09000007",
           240.0,
           2360.0
          ],
          [
           "camden",
           "E09000007",
           217.0,
           2611.0
          ],
          [
           "camden",
           "E09000007",
           189.0,
           2605.0
          ],
          [
           "camden",
           "E09000007",
           162.0,
           2803.0
          ],
          [
           "camden",
           "E09000007",
           162.0,
           2636.0
          ],
          [
           "camden",
           "E09000007",
           206.0,
           2745.0
          ],
          [
           "camden",
           "E09000007",
           237.0,
           2865.0
          ],
          [
           "camden",
           "E09000007",
           200.0,
           3010.0
          ],
          [
           "camden",
           "E09000007",
           164.0,
           2635.0
          ],
          [
           "camden",
           "E09000007",
           159.0,
           2598.0
          ],
          [
           "camden",
           "E09000007",
           117.0,
           2937.0
          ],
          [
           "camden",
           "E09000007",
           117.0,
           2848.0
          ],
          [
           "camden",
           "E09000007",
           122.0,
           2571.0
          ],
          [
           "camden",
           "E09000007",
           96.0,
           2661.0
          ],
          [
           "camden",
           "E09000007",
           89.0,
           2458.0
          ],
          [
           "camden",
           "E09000007",
           118.0,
           2947.0
          ],
          [
           "camden",
           "E09000007",
           125.0,
           2604.0
          ],
          [
           "camden",
           "E09000007",
           157.0,
           2755.0
          ],
          [
           "camden",
           "E09000007",
           181.0,
           2782.0
          ],
          [
           "camden",
           "E09000007",
           224.0,
           2995.0
          ],
          [
           "camden",
           "E09000007",
           214.0,
           2539.0
          ],
          [
           "camden",
           "E09000007",
           251.0,
           2527.0
          ],
          [
           "camden",
           "E09000007",
           241.0,
           2990.0
          ],
          [
           "camden",
           "E09000007",
           212.0,
           2888.0
          ],
          [
           "camden",
           "E09000007",
           278.0,
           2503.0
          ],
          [
           "camden",
           "E09000007",
           210.0,
           2532.0
          ],
          [
           "camden",
           "E09000007",
           185.0,
           2577.0
          ],
          [
           "camden",
           "E09000007",
           218.0,
           2911.0
          ],
          [
           "camden",
           "E09000007",
           163.0,
           2903.0
          ],
          [
           "camden",
           "E09000007",
           181.0,
           3013.0
          ],
          [
           "camden",
           "E09000007",
           231.0,
           2807.0
          ],
          [
           "camden",
           "E09000007",
           304.0,
           2788.0
          ],
          [
           "camden",
           "E09000007",
           273.0,
           2694.0
          ],
          [
           "camden",
           "E09000007",
           270.0,
           2688.0
          ],
          [
           "camden",
           "E09000007",
           228.0,
           2959.0
          ],
          [
           "camden",
           "E09000007",
           249.0,
           3175.0
          ],
          [
           "camden",
           "E09000007",
           221.0,
           2533.0
          ],
          [
           "camden",
           "E09000007",
           221.0,
           2661.0
          ],
          [
           "camden",
           "E09000007",
           177.0,
           2631.0
          ],
          [
           "camden",
           "E09000007",
           190.0,
           3385.0
          ],
          [
           "camden",
           "E09000007",
           212.0,
           2990.0
          ],
          [
           "camden",
           "E09000007",
           162.0,
           3350.0
          ],
          [
           "camden",
           "E09000007",
           227.0,
           3280.0
          ],
          [
           "camden",
           "E09000007",
           256.0,
           3238.0
          ],
          [
           "camden",
           "E09000007",
           263.0,
           2774.0
          ],
          [
           "camden",
           "E09000007",
           267.0,
           2867.0
          ],
          [
           "camden",
           "E09000007",
           249.0,
           3112.0
          ],
          [
           "camden",
           "E09000007",
           204.0,
           3168.0
          ],
          [
           "camden",
           "E09000007",
           192.0,
           2765.0
          ],
          [
           "camden",
           "E09000007",
           174.0,
           2743.0
          ],
          [
           "camden",
           "E09000007",
           165.0,
           2521.0
          ],
          [
           "camden",
           "E09000007",
           210.0,
           3076.0
          ],
          [
           "camden",
           "E09000007",
           153.0,
           2759.0
          ],
          [
           "camden",
           "E09000007",
           198.0,
           3166.0
          ],
          [
           "camden",
           "E09000007",
           204.0,
           2871.0
          ],
          [
           "camden",
           "E09000007",
           259.0,
           3053.0
          ],
          [
           "camden",
           "E09000007",
           245.0,
           2688.0
          ],
          [
           "camden",
           "E09000007",
           224.0,
           2480.0
          ],
          [
           "camden",
           "E09000007",
           172.0,
           2789.0
          ],
          [
           "camden",
           "E09000007",
           211.0,
           2827.0
          ],
          [
           "camden",
           "E09000007",
           198.0,
           2699.0
          ],
          [
           "camden",
           "E09000007",
           235.0,
           2734.0
          ],
          [
           "camden",
           "E09000007",
           156.0,
           2366.0
          ],
          [
           "camden",
           "E09000007",
           169.0,
           2413.0
          ],
          [
           "camden",
           "E09000007",
           214.0,
           2404.0
          ],
          [
           "camden",
           "E09000007",
           253.0,
           2505.0
          ],
          [
           "camden",
           "E09000007",
           213.0,
           2568.0
          ],
          [
           "camden",
           "E09000007",
           318.0,
           2596.0
          ],
          [
           "camden",
           "E09000007",
           289.0,
           2552.0
          ],
          [
           "camden",
           "E09000007",
           282.0,
           2345.0
          ],
          [
           "camden",
           "E09000007",
           243.0,
           2593.0
          ],
          [
           "camden",
           "E09000007",
           263.0,
           2148.0
          ],
          [
           "camden",
           "E09000007",
           295.0,
           2079.0
          ],
          [
           "camden",
           "E09000007",
           245.0,
           2302.0
          ],
          [
           "camden",
           "E09000007",
           187.0,
           2135.0
          ],
          [
           "camden",
           "E09000007",
           242.0,
           2420.0
          ],
          [
           "camden",
           "E09000007",
           293.0,
           2181.0
          ],
          [
           "camden",
           "E09000007",
           228.0,
           2330.0
          ],
          [
           "camden",
           "E09000007",
           225.0,
           2305.0
          ],
          [
           "camden",
           "E09000007",
           281.0,
           2262.0
          ],
          [
           "camden",
           "E09000007",
           261.0,
           2142.0
          ],
          [
           "camden",
           "E09000007",
           232.0,
           2306.0
          ],
          [
           "camden",
           "E09000007",
           232.0,
           2524.0
          ],
          [
           "camden",
           "E09000007",
           164.0,
           2533.0
          ],
          [
           "camden",
           "E09000007",
           190.0,
           2499.0
          ],
          [
           "camden",
           "E09000007",
           181.0,
           2429.0
          ],
          [
           "camden",
           "E09000007",
           153.0,
           2313.0
          ],
          [
           "camden",
           "E09000007",
           224.0,
           2608.0
          ],
          [
           "camden",
           "E09000007",
           160.0,
           2516.0
          ],
          [
           "camden",
           "E09000007",
           187.0,
           2802.0
          ],
          [
           "camden",
           "E09000007",
           199.0,
           2662.0
          ],
          [
           "camden",
           "E09000007",
           273.0,
           2582.0
          ],
          [
           "camden",
           "E09000007",
           214.0,
           2307.0
          ],
          [
           "camden",
           "E09000007",
           243.0,
           2453.0
          ],
          [
           "camden",
           "E09000007",
           216.0,
           2640.0
          ],
          [
           "camden",
           "E09000007",
           249.0,
           2569.0
          ],
          [
           "camden",
           "E09000007",
           188.0,
           2464.0
          ],
          [
           "camden",
           "E09000007",
           171.0,
           2398.0
          ],
          [
           "camden",
           "E09000007",
           169.0,
           2430.0
          ],
          [
           "camden",
           "E09000007",
           438.0,
           2375.0
          ],
          [
           "camden",
           "E09000007",
           133.0,
           2316.0
          ],
          [
           "camden",
           "E09000007",
           114.0,
           2568.0
          ],
          [
           "camden",
           "E09000007",
           193.0,
           2449.0
          ],
          [
           "camden",
           "E09000007",
           163.0,
           2701.0
          ],
          [
           "camden",
           "E09000007",
           136.0,
           2579.0
          ],
          [
           "camden",
           "E09000007",
           157.0,
           2512.0
          ],
          [
           "camden",
           "E09000007",
           162.0,
           2623.0
          ],
          [
           "camden",
           "E09000007",
           152.0,
           2503.0
          ],
          [
           "camden",
           "E09000007",
           209.0,
           2720.0
          ],
          [
           "camden",
           "E09000007",
           154.0,
           2461.0
          ],
          [
           "camden",
           "E09000007",
           149.0,
           2578.0
          ],
          [
           "camden",
           "E09000007",
           221.0,
           3035.0
          ],
          [
           "camden",
           "E09000007",
           177.0,
           2916.0
          ],
          [
           "camden",
           "E09000007",
           161.0,
           3379.0
          ],
          [
           "camden",
           "E09000007",
           244.0,
           3391.0
          ],
          [
           "camden",
           "E09000007",
           153.0,
           3521.0
          ],
          [
           "camden",
           "E09000007",
           198.0,
           3383.0
          ],
          [
           "camden",
           "E09000007",
           187.0,
           3297.0
          ],
          [
           "camden",
           "E09000007",
           184.0,
           3613.0
          ],
          [
           "camden",
           "E09000007",
           194.0,
           3414.0
          ],
          [
           "camden",
           "E09000007",
           173.0,
           2956.0
          ],
          [
           "camden",
           "E09000007",
           127.0,
           3100.0
          ],
          [
           "camden",
           "E09000007",
           152.0,
           2766.0
          ],
          [
           "camden",
           "E09000007",
           153.0,
           2931.0
          ],
          [
           "camden",
           "E09000007",
           132.0,
           2831.0
          ],
          [
           "camden",
           "E09000007",
           142.0,
           2976.0
          ],
          [
           "camden",
           "E09000007",
           160.0,
           3024.0
          ],
          [
           "camden",
           "E09000007",
           161.0,
           3114.0
          ],
          [
           "camden",
           "E09000007",
           189.0,
           2860.0
          ],
          [
           "camden",
           "E09000007",
           137.0,
           2893.0
          ],
          [
           "camden",
           "E09000007",
           127.0,
           3057.0
          ],
          [
           "camden",
           "E09000007",
           163.0,
           3137.0
          ],
          [
           "camden",
           "E09000007",
           196.0,
           2965.0
          ],
          [
           "camden",
           "E09000007",
           102.0,
           3057.0
          ],
          [
           "camden",
           "E09000007",
           119.0,
           3170.0
          ],
          [
           "camden",
           "E09000007",
           132.0,
           3457.0
          ],
          [
           "camden",
           "E09000007",
           126.0,
           3234.0
          ],
          [
           "camden",
           "E09000007",
           104.0,
           3294.0
          ],
          [
           "camden",
           "E09000007",
           146.0,
           3162.0
          ],
          [
           "camden",
           "E09000007",
           152.0,
           3461.0
          ],
          [
           "camden",
           "E09000007",
           121.0,
           3210.0
          ],
          [
           "camden",
           "E09000007",
           127.0,
           3342.0
          ],
          [
           "camden",
           "E09000007",
           137.0,
           3736.0
          ],
          [
           "camden",
           "E09000007",
           125.0,
           3447.0
          ]
         ],
         "hovertemplate": "area=%{customdata[0]}<br>date=%{x}<br>average_price=%{y}<br>code=%{customdata[1]}<br>houses_sold=%{customdata[2]}<br>no_of_crimes=%{customdata[3]}<extra></extra>",
         "legendgroup": "camden",
         "line": {
          "color": "#EF553B",
          "dash": "solid"
         },
         "marker": {
          "symbol": "circle"
         },
         "mode": "lines",
         "name": "camden",
         "orientation": "v",
         "showlegend": true,
         "x": [
          "2001-01-01",
          "2001-02-01",
          "2001-03-01",
          "2001-04-01",
          "2001-05-01",
          "2001-06-01",
          "2001-07-01",
          "2001-08-01",
          "2001-09-01",
          "2001-10-01",
          "2001-11-01",
          "2001-12-01",
          "2002-01-01",
          "2002-02-01",
          "2002-03-01",
          "2002-04-01",
          "2002-05-01",
          "2002-06-01",
          "2002-07-01",
          "2002-08-01",
          "2002-09-01",
          "2002-10-01",
          "2002-11-01",
          "2002-12-01",
          "2003-01-01",
          "2003-02-01",
          "2003-03-01",
          "2003-04-01",
          "2003-05-01",
          "2003-06-01",
          "2003-07-01",
          "2003-08-01",
          "2003-09-01",
          "2003-10-01",
          "2003-11-01",
          "2003-12-01",
          "2004-01-01",
          "2004-02-01",
          "2004-03-01",
          "2004-04-01",
          "2004-05-01",
          "2004-06-01",
          "2004-07-01",
          "2004-08-01",
          "2004-09-01",
          "2004-10-01",
          "2004-11-01",
          "2004-12-01",
          "2005-01-01",
          "2005-02-01",
          "2005-03-01",
          "2005-04-01",
          "2005-05-01",
          "2005-06-01",
          "2005-07-01",
          "2005-08-01",
          "2005-09-01",
          "2005-10-01",
          "2005-11-01",
          "2005-12-01",
          "2006-01-01",
          "2006-02-01",
          "2006-03-01",
          "2006-04-01",
          "2006-05-01",
          "2006-06-01",
          "2006-07-01",
          "2006-08-01",
          "2006-09-01",
          "2006-10-01",
          "2006-11-01",
          "2006-12-01",
          "2007-01-01",
          "2007-02-01",
          "2007-03-01",
          "2007-04-01",
          "2007-05-01",
          "2007-06-01",
          "2007-07-01",
          "2007-08-01",
          "2007-09-01",
          "2007-10-01",
          "2007-11-01",
          "2007-12-01",
          "2008-01-01",
          "2008-02-01",
          "2008-03-01",
          "2008-04-01",
          "2008-05-01",
          "2008-06-01",
          "2008-07-01",
          "2008-08-01",
          "2008-09-01",
          "2008-10-01",
          "2008-11-01",
          "2008-12-01",
          "2009-01-01",
          "2009-02-01",
          "2009-03-01",
          "2009-04-01",
          "2009-05-01",
          "2009-06-01",
          "2009-07-01",
          "2009-08-01",
          "2009-09-01",
          "2009-10-01",
          "2009-11-01",
          "2009-12-01",
          "2010-01-01",
          "2010-02-01",
          "2010-03-01",
          "2010-04-01",
          "2010-05-01",
          "2010-06-01",
          "2010-07-01",
          "2010-08-01",
          "2010-09-01",
          "2010-10-01",
          "2010-11-01",
          "2010-12-01",
          "2011-01-01",
          "2011-02-01",
          "2011-03-01",
          "2011-04-01",
          "2011-05-01",
          "2011-06-01",
          "2011-07-01",
          "2011-08-01",
          "2011-09-01",
          "2011-10-01",
          "2011-11-01",
          "2011-12-01",
          "2012-01-01",
          "2012-02-01",
          "2012-03-01",
          "2012-04-01",
          "2012-05-01",
          "2012-06-01",
          "2012-07-01",
          "2012-08-01",
          "2012-09-01",
          "2012-10-01",
          "2012-11-01",
          "2012-12-01",
          "2013-01-01",
          "2013-02-01",
          "2013-03-01",
          "2013-04-01",
          "2013-05-01",
          "2013-06-01",
          "2013-07-01",
          "2013-08-01",
          "2013-09-01",
          "2013-10-01",
          "2013-11-01",
          "2013-12-01",
          "2014-01-01",
          "2014-02-01",
          "2014-03-01",
          "2014-04-01",
          "2014-05-01",
          "2014-06-01",
          "2014-07-01",
          "2014-08-01",
          "2014-09-01",
          "2014-10-01",
          "2014-11-01",
          "2014-12-01",
          "2015-01-01",
          "2015-02-01",
          "2015-03-01",
          "2015-04-01",
          "2015-05-01",
          "2015-06-01",
          "2015-07-01",
          "2015-08-01",
          "2015-09-01",
          "2015-10-01",
          "2015-11-01",
          "2015-12-01",
          "2016-01-01",
          "2016-02-01",
          "2016-03-01",
          "2016-04-01",
          "2016-05-01",
          "2016-06-01",
          "2016-07-01",
          "2016-08-01",
          "2016-09-01",
          "2016-10-01",
          "2016-11-01",
          "2016-12-01",
          "2017-01-01",
          "2017-02-01",
          "2017-03-01",
          "2017-04-01",
          "2017-05-01",
          "2017-06-01",
          "2017-07-01",
          "2017-08-01",
          "2017-09-01",
          "2017-10-01",
          "2017-11-01",
          "2017-12-01",
          "2018-01-01",
          "2018-02-01",
          "2018-03-01",
          "2018-04-01",
          "2018-05-01",
          "2018-06-01",
          "2018-07-01",
          "2018-08-01",
          "2018-09-01",
          "2018-10-01",
          "2018-11-01",
          "2018-12-01",
          "2019-01-01",
          "2019-02-01",
          "2019-03-01",
          "2019-04-01",
          "2019-05-01",
          "2019-06-01",
          "2019-07-01",
          "2019-08-01",
          "2019-09-01",
          "2019-10-01",
          "2019-11-01"
         ],
         "xaxis": "x",
         "y": [
          265515,
          267786,
          273059,
          268947,
          269837,
          271558,
          280482,
          286872,
          287807,
          288837,
          290868,
          291559,
          290461,
          289270,
          289615,
          296979,
          308913,
          319466,
          323154,
          325074,
          332370,
          333820,
          332036,
          328996,
          322511,
          306183,
          299760,
          306134,
          321380,
          327338,
          334896,
          337758,
          338320,
          331384,
          327200,
          323782,
          329660,
          332300,
          339717,
          336670,
          343102,
          354540,
          368811,
          370139,
          364530,
          361902,
          364408,
          356394,
          345132,
          341746,
          348785,
          359728,
          369411,
          379377,
          380976,
          391166,
          386496,
          383714,
          366351,
          367259,
          368710,
          373670,
          377340,
          382933,
          389596,
          392849,
          400432,
          406666,
          406025,
          403221,
          407617,
          428775,
          433901,
          441611,
          439974,
          451966,
          441267,
          454121,
          466114,
          490494,
          499913,
          500648,
          495249,
          482569,
          486659,
          505472,
          510059,
          510072,
          505894,
          506171,
          521992,
          525296,
          515019,
          498394,
          472362,
          457290,
          446897,
          453141,
          465563,
          451643,
          442606,
          434898,
          451204,
          467171,
          475211,
          471298,
          449490,
          446413,
          454547,
          480598,
          498893,
          499767,
          490244,
          492592,
          524202,
          549963,
          550372,
          540612,
          532976,
          543887,
          540301,
          542726,
          547549,
          556409,
          544622,
          545294,
          547387,
          563690,
          576482,
          573535,
          567064,
          547657,
          548416,
          550841,
          568979,
          574962,
          575996,
          575350,
          600406,
          614424,
          613483,
          594506,
          596278,
          620351,
          627541,
          651998,
          635099,
          649540,
          651476,
          671439,
          685330,
          707359,
          705755,
          689918,
          662701,
          671215,
          695470,
          719848,
          720064,
          728942,
          746938,
          769628,
          787361,
          794040,
          803461,
          780638,
          769852,
          761594,
          769724,
          769171,
          756915,
          749621,
          745684,
          770154,
          793213,
          819744,
          833334,
          828316,
          816648,
          796767,
          808531,
          827590,
          854686,
          838254,
          807401,
          770905,
          753956,
          769512,
          786866,
          805146,
          830455,
          832126,
          856070,
          824403,
          813907,
          799226,
          815494,
          843239,
          865076,
          864580,
          864603,
          834802,
          846354,
          844416,
          859593,
          875078,
          853396,
          866438,
          837928,
          850613,
          837712,
          827363,
          817464,
          808321,
          807225,
          867795,
          867808,
          864136,
          807895,
          822533,
          836880,
          871354,
          881212,
          855721,
          828560,
          799950,
          818880
         ],
         "yaxis": "y",
         "type": "scatter"
        },
        {
         "customdata": [
          [
           "hammersmith and fulham",
           "E09000013",
           253.0,
           2234.0
          ],
          [
           "hammersmith and fulham",
           "E09000013",
           222.0,
           2130.0
          ],
          [
           "hammersmith and fulham",
           "E09000013",
           271.0,
           2440.0
          ],
          [
           "hammersmith and fulham",
           "E09000013",
           306.0,
           2385.0
          ],
          [
           "hammersmith and fulham",
           "E09000013",
           305.0,
           2645.0
          ],
          [
           "hammersmith and fulham",
           "E09000013",
           357.0,
           2329.0
          ],
          [
           "hammersmith and fulham",
           "E09000013",
           354.0,
           2276.0
          ],
          [
           "hammersmith and fulham",
           "E09000013",
           415.0,
           2196.0
          ],
          [
           "hammersmith and fulham",
           "E09000013",
           302.0,
           2065.0
          ],
          [
           "hammersmith and fulham",
           "E09000013",
           289.0,
           2262.0
          ],
          [
           "hammersmith and fulham",
           "E09000013",
           312.0,
           2238.0
          ],
          [
           "hammersmith and fulham",
           "E09000013",
           206.0,
           1932.0
          ],
          [
           "hammersmith and fulham",
           "E09000013",
           227.0,
           2140.0
          ],
          [
           "hammersmith and fulham",
           "E09000013",
           229.0,
           1868.0
          ],
          [
           "hammersmith and fulham",
           "E09000013",
           313.0,
           2216.0
          ],
          [
           "hammersmith and fulham",
           "E09000013",
           315.0,
           2184.0
          ],
          [
           "hammersmith and fulham",
           "E09000013",
           456.0,
           2288.0
          ],
          [
           "hammersmith and fulham",
           "E09000013",
           317.0,
           2148.0
          ],
          [
           "hammersmith and fulham",
           "E09000013",
           449.0,
           2215.0
          ],
          [
           "hammersmith and fulham",
           "E09000013",
           387.0,
           2125.0
          ],
          [
           "hammersmith and fulham",
           "E09000013",
           343.0,
           2242.0
          ],
          [
           "hammersmith and fulham",
           "E09000013",
           313.0,
           2361.0
          ],
          [
           "hammersmith and fulham",
           "E09000013",
           314.0,
           2267.0
          ],
          [
           "hammersmith and fulham",
           "E09000013",
           282.0,
           1934.0
          ],
          [
           "hammersmith and fulham",
           "E09000013",
           223.0,
           2245.0
          ],
          [
           "hammersmith and fulham",
           "E09000013",
           218.0,
           2004.0
          ],
          [
           "hammersmith and fulham",
           "E09000013",
           207.0,
           2272.0
          ],
          [
           "hammersmith and fulham",
           "E09000013",
           213.0,
           2158.0
          ],
          [
           "hammersmith and fulham",
           "E09000013",
           215.0,
           2384.0
          ],
          [
           "hammersmith and fulham",
           "E09000013",
           286.0,
           2288.0
          ],
          [
           "hammersmith and fulham",
           "E09000013",
           321.0,
           2222.0
          ],
          [
           "hammersmith and fulham",
           "E09000013",
           367.0,
           2125.0
          ],
          [
           "hammersmith and fulham",
           "E09000013",
           347.0,
           2083.0
          ],
          [
           "hammersmith and fulham",
           "E09000013",
           331.0,
           2184.0
          ],
          [
           "hammersmith and fulham",
           "E09000013",
           321.0,
           2086.0
          ],
          [
           "hammersmith and fulham",
           "E09000013",
           283.0,
           1856.0
          ],
          [
           "hammersmith and fulham",
           "E09000013",
           306.0,
           1954.0
          ],
          [
           "hammersmith and fulham",
           "E09000013",
           276.0,
           1940.0
          ],
          [
           "hammersmith and fulham",
           "E09000013",
           336.0,
           2268.0
          ],
          [
           "hammersmith and fulham",
           "E09000013",
           359.0,
           2088.0
          ],
          [
           "hammersmith and fulham",
           "E09000013",
           317.0,
           2283.0
          ],
          [
           "hammersmith and fulham",
           "E09000013",
           345.0,
           2219.0
          ],
          [
           "hammersmith and fulham",
           "E09000013",
           408.0,
           2346.0
          ],
          [
           "hammersmith and fulham",
           "E09000013",
           337.0,
           2077.0
          ],
          [
           "hammersmith and fulham",
           "E09000013",
           299.0,
           2087.0
          ],
          [
           "hammersmith and fulham",
           "E09000013",
           253.0,
           2065.0
          ],
          [
           "hammersmith and fulham",
           "E09000013",
           225.0,
           2054.0
          ],
          [
           "hammersmith and fulham",
           "E09000013",
           231.0,
           1867.0
          ],
          [
           "hammersmith and fulham",
           "E09000013",
           196.0,
           1927.0
          ],
          [
           "hammersmith and fulham",
           "E09000013",
           160.0,
           1654.0
          ],
          [
           "hammersmith and fulham",
           "E09000013",
           214.0,
           2005.0
          ],
          [
           "hammersmith and fulham",
           "E09000013",
           263.0,
           1805.0
          ],
          [
           "hammersmith and fulham",
           "E09000013",
           260.0,
           1999.0
          ],
          [
           "hammersmith and fulham",
           "E09000013",
           282.0,
           1879.0
          ],
          [
           "hammersmith and fulham",
           "E09000013",
           337.0,
           1884.0
          ],
          [
           "hammersmith and fulham",
           "E09000013",
           329.0,
           1819.0
          ],
          [
           "hammersmith and fulham",
           "E09000013",
           316.0,
           2029.0
          ],
          [
           "hammersmith and fulham",
           "E09000013",
           274.0,
           2304.0
          ],
          [
           "hammersmith and fulham",
           "E09000013",
           269.0,
           2074.0
          ],
          [
           "hammersmith and fulham",
           "E09000013",
           289.0,
           1822.0
          ],
          [
           "hammersmith and fulham",
           "E09000013",
           266.0,
           2015.0
          ],
          [
           "hammersmith and fulham",
           "E09000013",
           240.0,
           1783.0
          ],
          [
           "hammersmith and fulham",
           "E09000013",
           326.0,
           2067.0
          ],
          [
           "hammersmith and fulham",
           "E09000013",
           341.0,
           2009.0
          ],
          [
           "hammersmith and fulham",
           "E09000013",
           336.0,
           2127.0
          ],
          [
           "hammersmith and fulham",
           "E09000013",
           416.0,
           2074.0
          ],
          [
           "hammersmith and fulham",
           "E09000013",
           413.0,
           1979.0
          ],
          [
           "hammersmith and fulham",
           "E09000013",
           407.0,
           1856.0
          ],
          [
           "hammersmith and fulham",
           "E09000013",
           328.0,
           1975.0
          ],
          [
           "hammersmith and fulham",
           "E09000013",
           323.0,
           2108.0
          ],
          [
           "hammersmith and fulham",
           "E09000013",
           347.0,
           2032.0
          ],
          [
           "hammersmith and fulham",
           "E09000013",
           362.0,
           1886.0
          ],
          [
           "hammersmith and fulham",
           "E09000013",
           284.0,
           2176.0
          ],
          [
           "hammersmith and fulham",
           "E09000013",
           295.0,
           1637.0
          ],
          [
           "hammersmith and fulham",
           "E09000013",
           362.0,
           1870.0
          ],
          [
           "hammersmith and fulham",
           "E09000013",
           307.0,
           1914.0
          ],
          [
           "hammersmith and fulham",
           "E09000013",
           347.0,
           2008.0
          ],
          [
           "hammersmith and fulham",
           "E09000013",
           397.0,
           1868.0
          ],
          [
           "hammersmith and fulham",
           "E09000013",
           391.0,
           1906.0
          ],
          [
           "hammersmith and fulham",
           "E09000013",
           386.0,
           1794.0
          ],
          [
           "hammersmith and fulham",
           "E09000013",
           296.0,
           1982.0
          ],
          [
           "hammersmith and fulham",
           "E09000013",
           270.0,
           2030.0
          ],
          [
           "hammersmith and fulham",
           "E09000013",
           259.0,
           1836.0
          ],
          [
           "hammersmith and fulham",
           "E09000013",
           182.0,
           1701.0
          ],
          [
           "hammersmith and fulham",
           "E09000013",
           187.0,
           1913.0
          ],
          [
           "hammersmith and fulham",
           "E09000013",
           177.0,
           1791.0
          ],
          [
           "hammersmith and fulham",
           "E09000013",
           160.0,
           1703.0
          ],
          [
           "hammersmith and fulham",
           "E09000013",
           182.0,
           1809.0
          ],
          [
           "hammersmith and fulham",
           "E09000013",
           142.0,
           1833.0
          ],
          [
           "hammersmith and fulham",
           "E09000013",
           116.0,
           1881.0
          ],
          [
           "hammersmith and fulham",
           "E09000013",
           153.0,
           1843.0
          ],
          [
           "hammersmith and fulham",
           "E09000013",
           138.0,
           1810.0
          ],
          [
           "hammersmith and fulham",
           "E09000013",
           97.0,
           1756.0
          ],
          [
           "hammersmith and fulham",
           "E09000013",
           115.0,
           1993.0
          ],
          [
           "hammersmith and fulham",
           "E09000013",
           81.0,
           1938.0
          ],
          [
           "hammersmith and fulham",
           "E09000013",
           78.0,
           1763.0
          ],
          [
           "hammersmith and fulham",
           "E09000013",
           71.0,
           1937.0
          ],
          [
           "hammersmith and fulham",
           "E09000013",
           63.0,
           1619.0
          ],
          [
           "hammersmith and fulham",
           "E09000013",
           90.0,
           1987.0
          ],
          [
           "hammersmith and fulham",
           "E09000013",
           87.0,
           1916.0
          ],
          [
           "hammersmith and fulham",
           "E09000013",
           129.0,
           1892.0
          ],
          [
           "hammersmith and fulham",
           "E09000013",
           156.0,
           1952.0
          ],
          [
           "hammersmith and fulham",
           "E09000013",
           209.0,
           1957.0
          ],
          [
           "hammersmith and fulham",
           "E09000013",
           230.0,
           1795.0
          ],
          [
           "hammersmith and fulham",
           "E09000013",
           243.0,
           1824.0
          ],
          [
           "hammersmith and fulham",
           "E09000013",
           196.0,
           2027.0
          ],
          [
           "hammersmith and fulham",
           "E09000013",
           205.0,
           1831.0
          ],
          [
           "hammersmith and fulham",
           "E09000013",
           239.0,
           1694.0
          ],
          [
           "hammersmith and fulham",
           "E09000013",
           184.0,
           1648.0
          ],
          [
           "hammersmith and fulham",
           "E09000013",
           153.0,
           1648.0
          ],
          [
           "hammersmith and fulham",
           "E09000013",
           203.0,
           1923.0
          ],
          [
           "hammersmith and fulham",
           "E09000013",
           203.0,
           2100.0
          ],
          [
           "hammersmith and fulham",
           "E09000013",
           197.0,
           2051.0
          ],
          [
           "hammersmith and fulham",
           "E09000013",
           242.0,
           2121.0
          ],
          [
           "hammersmith and fulham",
           "E09000013",
           278.0,
           2165.0
          ],
          [
           "hammersmith and fulham",
           "E09000013",
           227.0,
           1946.0
          ],
          [
           "hammersmith and fulham",
           "E09000013",
           235.0,
           1993.0
          ],
          [
           "hammersmith and fulham",
           "E09000013",
           193.0,
           2046.0
          ],
          [
           "hammersmith and fulham",
           "E09000013",
           183.0,
           2078.0
          ],
          [
           "hammersmith and fulham",
           "E09000013",
           191.0,
           1833.0
          ],
          [
           "hammersmith and fulham",
           "E09000013",
           181.0,
           2019.0
          ],
          [
           "hammersmith and fulham",
           "E09000013",
           181.0,
           1744.0
          ],
          [
           "hammersmith and fulham",
           "E09000013",
           233.0,
           2086.0
          ],
          [
           "hammersmith and fulham",
           "E09000013",
           234.0,
           1942.0
          ],
          [
           "hammersmith and fulham",
           "E09000013",
           204.0,
           2123.0
          ],
          [
           "hammersmith and fulham",
           "E09000013",
           209.0,
           2068.0
          ],
          [
           "hammersmith and fulham",
           "E09000013",
           247.0,
           2031.0
          ],
          [
           "hammersmith and fulham",
           "E09000013",
           266.0,
           1966.0
          ],
          [
           "hammersmith and fulham",
           "E09000013",
           233.0,
           1862.0
          ],
          [
           "hammersmith and fulham",
           "E09000013",
           244.0,
           1916.0
          ],
          [
           "hammersmith and fulham",
           "E09000013",
           253.0,
           1995.0
          ],
          [
           "hammersmith and fulham",
           "E09000013",
           206.0,
           1923.0
          ],
          [
           "hammersmith and fulham",
           "E09000013",
           185.0,
           1802.0
          ],
          [
           "hammersmith and fulham",
           "E09000013",
           155.0,
           1787.0
          ],
          [
           "hammersmith and fulham",
           "E09000013",
           225.0,
           1958.0
          ],
          [
           "hammersmith and fulham",
           "E09000013",
           232.0,
           1896.0
          ],
          [
           "hammersmith and fulham",
           "E09000013",
           209.0,
           2048.0
          ],
          [
           "hammersmith and fulham",
           "E09000013",
           220.0,
           1875.0
          ],
          [
           "hammersmith and fulham",
           "E09000013",
           265.0,
           1938.0
          ],
          [
           "hammersmith and fulham",
           "E09000013",
           258.0,
           1876.0
          ],
          [
           "hammersmith and fulham",
           "E09000013",
           222.0,
           1839.0
          ],
          [
           "hammersmith and fulham",
           "E09000013",
           213.0,
           1917.0
          ],
          [
           "hammersmith and fulham",
           "E09000013",
           216.0,
           1866.0
          ],
          [
           "hammersmith and fulham",
           "E09000013",
           196.0,
           1747.0
          ],
          [
           "hammersmith and fulham",
           "E09000013",
           213.0,
           1702.0
          ],
          [
           "hammersmith and fulham",
           "E09000013",
           166.0,
           1530.0
          ],
          [
           "hammersmith and fulham",
           "E09000013",
           202.0,
           1548.0
          ],
          [
           "hammersmith and fulham",
           "E09000013",
           221.0,
           1552.0
          ],
          [
           "hammersmith and fulham",
           "E09000013",
           225.0,
           1654.0
          ],
          [
           "hammersmith and fulham",
           "E09000013",
           251.0,
           1553.0
          ],
          [
           "hammersmith and fulham",
           "E09000013",
           342.0,
           1635.0
          ],
          [
           "hammersmith and fulham",
           "E09000013",
           306.0,
           1581.0
          ],
          [
           "hammersmith and fulham",
           "E09000013",
           306.0,
           1574.0
          ],
          [
           "hammersmith and fulham",
           "E09000013",
           258.0,
           1738.0
          ],
          [
           "hammersmith and fulham",
           "E09000013",
           254.0,
           1737.0
          ],
          [
           "hammersmith and fulham",
           "E09000013",
           269.0,
           1539.0
          ],
          [
           "hammersmith and fulham",
           "E09000013",
           289.0,
           1595.0
          ],
          [
           "hammersmith and fulham",
           "E09000013",
           207.0,
           1323.0
          ],
          [
           "hammersmith and fulham",
           "E09000013",
           186.0,
           1515.0
          ],
          [
           "hammersmith and fulham",
           "E09000013",
           253.0,
           1574.0
          ],
          [
           "hammersmith and fulham",
           "E09000013",
           240.0,
           1793.0
          ],
          [
           "hammersmith and fulham",
           "E09000013",
           277.0,
           1649.0
          ],
          [
           "hammersmith and fulham",
           "E09000013",
           288.0,
           1624.0
          ],
          [
           "hammersmith and fulham",
           "E09000013",
           296.0,
           1655.0
          ],
          [
           "hammersmith and fulham",
           "E09000013",
           233.0,
           1632.0
          ],
          [
           "hammersmith and fulham",
           "E09000013",
           232.0,
           1792.0
          ],
          [
           "hammersmith and fulham",
           "E09000013",
           182.0,
           1878.0
          ],
          [
           "hammersmith and fulham",
           "E09000013",
           187.0,
           1722.0
          ],
          [
           "hammersmith and fulham",
           "E09000013",
           160.0,
           1679.0
          ],
          [
           "hammersmith and fulham",
           "E09000013",
           148.0,
           1505.0
          ],
          [
           "hammersmith and fulham",
           "E09000013",
           162.0,
           1763.0
          ],
          [
           "hammersmith and fulham",
           "E09000013",
           192.0,
           1720.0
          ],
          [
           "hammersmith and fulham",
           "E09000013",
           223.0,
           1788.0
          ],
          [
           "hammersmith and fulham",
           "E09000013",
           255.0,
           1662.0
          ],
          [
           "hammersmith and fulham",
           "E09000013",
           262.0,
           1739.0
          ],
          [
           "hammersmith and fulham",
           "E09000013",
           218.0,
           1604.0
          ],
          [
           "hammersmith and fulham",
           "E09000013",
           237.0,
           1603.0
          ],
          [
           "hammersmith and fulham",
           "E09000013",
           229.0,
           1834.0
          ],
          [
           "hammersmith and fulham",
           "E09000013",
           186.0,
           1818.0
          ],
          [
           "hammersmith and fulham",
           "E09000013",
           176.0,
           1764.0
          ],
          [
           "hammersmith and fulham",
           "E09000013",
           152.0,
           1637.0
          ],
          [
           "hammersmith and fulham",
           "E09000013",
           184.0,
           1645.0
          ],
          [
           "hammersmith and fulham",
           "E09000013",
           427.0,
           1701.0
          ],
          [
           "hammersmith and fulham",
           "E09000013",
           133.0,
           1746.0
          ],
          [
           "hammersmith and fulham",
           "E09000013",
           145.0,
           1970.0
          ],
          [
           "hammersmith and fulham",
           "E09000013",
           176.0,
           1799.0
          ],
          [
           "hammersmith and fulham",
           "E09000013",
           206.0,
           1747.0
          ],
          [
           "hammersmith and fulham",
           "E09000013",
           149.0,
           1841.0
          ],
          [
           "hammersmith and fulham",
           "E09000013",
           166.0,
           1694.0
          ],
          [
           "hammersmith and fulham",
           "E09000013",
           160.0,
           1782.0
          ],
          [
           "hammersmith and fulham",
           "E09000013",
           147.0,
           1633.0
          ],
          [
           "hammersmith and fulham",
           "E09000013",
           158.0,
           1704.0
          ],
          [
           "hammersmith and fulham",
           "E09000013",
           162.0,
           1622.0
          ],
          [
           "hammersmith and fulham",
           "E09000013",
           157.0,
           1536.0
          ],
          [
           "hammersmith and fulham",
           "E09000013",
           174.0,
           1892.0
          ],
          [
           "hammersmith and fulham",
           "E09000013",
           184.0,
           1668.0
          ],
          [
           "hammersmith and fulham",
           "E09000013",
           174.0,
           1865.0
          ],
          [
           "hammersmith and fulham",
           "E09000013",
           200.0,
           1826.0
          ],
          [
           "hammersmith and fulham",
           "E09000013",
           197.0,
           1894.0
          ],
          [
           "hammersmith and fulham",
           "E09000013",
           162.0,
           1881.0
          ],
          [
           "hammersmith and fulham",
           "E09000013",
           151.0,
           1682.0
          ],
          [
           "hammersmith and fulham",
           "E09000013",
           191.0,
           1865.0
          ],
          [
           "hammersmith and fulham",
           "E09000013",
           198.0,
           2086.0
          ],
          [
           "hammersmith and fulham",
           "E09000013",
           200.0,
           1901.0
          ],
          [
           "hammersmith and fulham",
           "E09000013",
           171.0,
           1756.0
          ],
          [
           "hammersmith and fulham",
           "E09000013",
           190.0,
           1723.0
          ],
          [
           "hammersmith and fulham",
           "E09000013",
           230.0,
           1777.0
          ],
          [
           "hammersmith and fulham",
           "E09000013",
           178.0,
           1734.0
          ],
          [
           "hammersmith and fulham",
           "E09000013",
           204.0,
           1911.0
          ],
          [
           "hammersmith and fulham",
           "E09000013",
           171.0,
           1818.0
          ],
          [
           "hammersmith and fulham",
           "E09000013",
           212.0,
           1958.0
          ],
          [
           "hammersmith and fulham",
           "E09000013",
           183.0,
           1796.0
          ],
          [
           "hammersmith and fulham",
           "E09000013",
           184.0,
           1937.0
          ],
          [
           "hammersmith and fulham",
           "E09000013",
           187.0,
           1951.0
          ],
          [
           "hammersmith and fulham",
           "E09000013",
           163.0,
           1908.0
          ],
          [
           "hammersmith and fulham",
           "E09000013",
           154.0,
           1858.0
          ],
          [
           "hammersmith and fulham",
           "E09000013",
           110.0,
           1803.0
          ],
          [
           "hammersmith and fulham",
           "E09000013",
           113.0,
           1826.0
          ],
          [
           "hammersmith and fulham",
           "E09000013",
           127.0,
           2006.0
          ],
          [
           "hammersmith and fulham",
           "E09000013",
           128.0,
           2050.0
          ],
          [
           "hammersmith and fulham",
           "E09000013",
           136.0,
           2039.0
          ],
          [
           "hammersmith and fulham",
           "E09000013",
           116.0,
           1989.0
          ],
          [
           "hammersmith and fulham",
           "E09000013",
           178.0,
           2192.0
          ],
          [
           "hammersmith and fulham",
           "E09000013",
           179.0,
           2048.0
          ],
          [
           "hammersmith and fulham",
           "E09000013",
           143.0,
           1958.0
          ],
          [
           "hammersmith and fulham",
           "E09000013",
           174.0,
           2101.0
          ],
          [
           "hammersmith and fulham",
           "E09000013",
           136.0,
           2019.0
          ]
         ],
         "hovertemplate": "area=%{customdata[0]}<br>date=%{x}<br>average_price=%{y}<br>code=%{customdata[1]}<br>houses_sold=%{customdata[2]}<br>no_of_crimes=%{customdata[3]}<extra></extra>",
         "legendgroup": "hammersmith and fulham",
         "line": {
          "color": "#00cc96",
          "dash": "solid"
         },
         "marker": {
          "symbol": "circle"
         },
         "mode": "lines",
         "name": "hammersmith and fulham",
         "orientation": "v",
         "showlegend": true,
         "x": [
          "2001-01-01",
          "2001-02-01",
          "2001-03-01",
          "2001-04-01",
          "2001-05-01",
          "2001-06-01",
          "2001-07-01",
          "2001-08-01",
          "2001-09-01",
          "2001-10-01",
          "2001-11-01",
          "2001-12-01",
          "2002-01-01",
          "2002-02-01",
          "2002-03-01",
          "2002-04-01",
          "2002-05-01",
          "2002-06-01",
          "2002-07-01",
          "2002-08-01",
          "2002-09-01",
          "2002-10-01",
          "2002-11-01",
          "2002-12-01",
          "2003-01-01",
          "2003-02-01",
          "2003-03-01",
          "2003-04-01",
          "2003-05-01",
          "2003-06-01",
          "2003-07-01",
          "2003-08-01",
          "2003-09-01",
          "2003-10-01",
          "2003-11-01",
          "2003-12-01",
          "2004-01-01",
          "2004-02-01",
          "2004-03-01",
          "2004-04-01",
          "2004-05-01",
          "2004-06-01",
          "2004-07-01",
          "2004-08-01",
          "2004-09-01",
          "2004-10-01",
          "2004-11-01",
          "2004-12-01",
          "2005-01-01",
          "2005-02-01",
          "2005-03-01",
          "2005-04-01",
          "2005-05-01",
          "2005-06-01",
          "2005-07-01",
          "2005-08-01",
          "2005-09-01",
          "2005-10-01",
          "2005-11-01",
          "2005-12-01",
          "2006-01-01",
          "2006-02-01",
          "2006-03-01",
          "2006-04-01",
          "2006-05-01",
          "2006-06-01",
          "2006-07-01",
          "2006-08-01",
          "2006-09-01",
          "2006-10-01",
          "2006-11-01",
          "2006-12-01",
          "2007-01-01",
          "2007-02-01",
          "2007-03-01",
          "2007-04-01",
          "2007-05-01",
          "2007-06-01",
          "2007-07-01",
          "2007-08-01",
          "2007-09-01",
          "2007-10-01",
          "2007-11-01",
          "2007-12-01",
          "2008-01-01",
          "2008-02-01",
          "2008-03-01",
          "2008-04-01",
          "2008-05-01",
          "2008-06-01",
          "2008-07-01",
          "2008-08-01",
          "2008-09-01",
          "2008-10-01",
          "2008-11-01",
          "2008-12-01",
          "2009-01-01",
          "2009-02-01",
          "2009-03-01",
          "2009-04-01",
          "2009-05-01",
          "2009-06-01",
          "2009-07-01",
          "2009-08-01",
          "2009-09-01",
          "2009-10-01",
          "2009-11-01",
          "2009-12-01",
          "2010-01-01",
          "2010-02-01",
          "2010-03-01",
          "2010-04-01",
          "2010-05-01",
          "2010-06-01",
          "2010-07-01",
          "2010-08-01",
          "2010-09-01",
          "2010-10-01",
          "2010-11-01",
          "2010-12-01",
          "2011-01-01",
          "2011-02-01",
          "2011-03-01",
          "2011-04-01",
          "2011-05-01",
          "2011-06-01",
          "2011-07-01",
          "2011-08-01",
          "2011-09-01",
          "2011-10-01",
          "2011-11-01",
          "2011-12-01",
          "2012-01-01",
          "2012-02-01",
          "2012-03-01",
          "2012-04-01",
          "2012-05-01",
          "2012-06-01",
          "2012-07-01",
          "2012-08-01",
          "2012-09-01",
          "2012-10-01",
          "2012-11-01",
          "2012-12-01",
          "2013-01-01",
          "2013-02-01",
          "2013-03-01",
          "2013-04-01",
          "2013-05-01",
          "2013-06-01",
          "2013-07-01",
          "2013-08-01",
          "2013-09-01",
          "2013-10-01",
          "2013-11-01",
          "2013-12-01",
          "2014-01-01",
          "2014-02-01",
          "2014-03-01",
          "2014-04-01",
          "2014-05-01",
          "2014-06-01",
          "2014-07-01",
          "2014-08-01",
          "2014-09-01",
          "2014-10-01",
          "2014-11-01",
          "2014-12-01",
          "2015-01-01",
          "2015-02-01",
          "2015-03-01",
          "2015-04-01",
          "2015-05-01",
          "2015-06-01",
          "2015-07-01",
          "2015-08-01",
          "2015-09-01",
          "2015-10-01",
          "2015-11-01",
          "2015-12-01",
          "2016-01-01",
          "2016-02-01",
          "2016-03-01",
          "2016-04-01",
          "2016-05-01",
          "2016-06-01",
          "2016-07-01",
          "2016-08-01",
          "2016-09-01",
          "2016-10-01",
          "2016-11-01",
          "2016-12-01",
          "2017-01-01",
          "2017-02-01",
          "2017-03-01",
          "2017-04-01",
          "2017-05-01",
          "2017-06-01",
          "2017-07-01",
          "2017-08-01",
          "2017-09-01",
          "2017-10-01",
          "2017-11-01",
          "2017-12-01",
          "2018-01-01",
          "2018-02-01",
          "2018-03-01",
          "2018-04-01",
          "2018-05-01",
          "2018-06-01",
          "2018-07-01",
          "2018-08-01",
          "2018-09-01",
          "2018-10-01",
          "2018-11-01",
          "2018-12-01",
          "2019-01-01",
          "2019-02-01",
          "2019-03-01",
          "2019-04-01",
          "2019-05-01",
          "2019-06-01",
          "2019-07-01",
          "2019-08-01",
          "2019-09-01",
          "2019-10-01",
          "2019-11-01"
         ],
         "xaxis": "x",
         "y": [
          259723,
          262334,
          261777,
          266792,
          266686,
          273159,
          277209,
          283705,
          280671,
          278128,
          275412,
          277431,
          280576,
          278990,
          278959,
          284501,
          293491,
          302987,
          314411,
          317689,
          320564,
          315646,
          319143,
          322552,
          329178,
          321415,
          316027,
          301625,
          307257,
          309347,
          321781,
          322322,
          321219,
          319898,
          324283,
          331317,
          328761,
          327738,
          331533,
          340684,
          347520,
          349700,
          355963,
          358497,
          357918,
          348945,
          338637,
          334676,
          336816,
          346280,
          349363,
          362157,
          360542,
          369193,
          369952,
          379162,
          374904,
          368196,
          367354,
          366988,
          374797,
          367483,
          378032,
          381058,
          394582,
          401934,
          409231,
          414495,
          417455,
          417621,
          412029,
          402320,
          407093,
          422518,
          443098,
          454434,
          460662,
          470556,
          485738,
          502895,
          512596,
          519192,
          510196,
          500711,
          487907,
          494452,
          500204,
          486032,
          484647,
          478043,
          485893,
          487355,
          474370,
          456204,
          427747,
          436520,
          437667,
          431609,
          408519,
          413985,
          412346,
          413659,
          420388,
          441605,
          459258,
          459307,
          459311,
          467825,
          484953,
          490933,
          486871,
          488087,
          493877,
          507768,
          516558,
          527536,
          529332,
          516386,
          498875,
          485906,
          485394,
          489560,
          501662,
          517488,
          529410,
          531488,
          521991,
          520571,
          525124,
          534270,
          538787,
          527140,
          509472,
          518105,
          530217,
          554482,
          552495,
          568853,
          580568,
          592532,
          588824,
          603876,
          594073,
          611487,
          601380,
          618330,
          616967,
          610841,
          619405,
          608411,
          626507,
          625932,
          656485,
          663808,
          663613,
          666670,
          666572,
          682454,
          681088,
          691362,
          696569,
          713339,
          740943,
          762631,
          773678,
          763041,
          746424,
          735096,
          732364,
          735010,
          743179,
          751604,
          763257,
          770977,
          772832,
          780423,
          779596,
          766034,
          762769,
          771960,
          770697,
          773193,
          765505,
          778280,
          774019,
          778276,
          759729,
          749875,
          730646,
          720857,
          723130,
          736963,
          755421,
          764387,
          751021,
          773941,
          755143,
          755917,
          751824,
          781175,
          758911,
          750648,
          741539,
          742878,
          724501,
          711087,
          728771,
          710090,
          712342,
          712979,
          736864,
          738219,
          730652,
          738746,
          728693,
          733360,
          722045,
          718622,
          718008,
          713365,
          713548,
          712179,
          722627,
          729313,
          733133,
          720882,
          718071
         ],
         "yaxis": "y",
         "type": "scatter"
        },
        {
         "customdata": [
          [
           "kensington and chelsea",
           "E09000020",
           276.0,
           2137.0
          ],
          [
           "kensington and chelsea",
           "E09000020",
           277.0,
           1955.0
          ],
          [
           "kensington and chelsea",
           "E09000020",
           394.0,
           2314.0
          ],
          [
           "kensington and chelsea",
           "E09000020",
           335.0,
           2129.0
          ],
          [
           "kensington and chelsea",
           "E09000020",
           364.0,
           2242.0
          ],
          [
           "kensington and chelsea",
           "E09000020",
           341.0,
           2149.0
          ],
          [
           "kensington and chelsea",
           "E09000020",
           424.0,
           2196.0
          ],
          [
           "kensington and chelsea",
           "E09000020",
           367.0,
           2242.0
          ],
          [
           "kensington and chelsea",
           "E09000020",
           321.0,
           1995.0
          ],
          [
           "kensington and chelsea",
           "E09000020",
           300.0,
           2272.0
          ],
          [
           "kensington and chelsea",
           "E09000020",
           295.0,
           2197.0
          ],
          [
           "kensington and chelsea",
           "E09000020",
           246.0,
           2034.0
          ],
          [
           "kensington and chelsea",
           "E09000020",
           281.0,
           2176.0
          ],
          [
           "kensington and chelsea",
           "E09000020",
           264.0,
           1875.0
          ],
          [
           "kensington and chelsea",
           "E09000020",
           442.0,
           2209.0
          ],
          [
           "kensington and chelsea",
           "E09000020",
           401.0,
           2395.0
          ],
          [
           "kensington and chelsea",
           "E09000020",
           470.0,
           2333.0
          ],
          [
           "kensington and chelsea",
           "E09000020",
           406.0,
           2170.0
          ],
          [
           "kensington and chelsea",
           "E09000020",
           415.0,
           2322.0
          ],
          [
           "kensington and chelsea",
           "E09000020",
           445.0,
           2454.0
          ],
          [
           "kensington and chelsea",
           "E09000020",
           345.0,
           2164.0
          ],
          [
           "kensington and chelsea",
           "E09000020",
           350.0,
           2261.0
          ],
          [
           "kensington and chelsea",
           "E09000020",
           302.0,
           2018.0
          ],
          [
           "kensington and chelsea",
           "E09000020",
           282.0,
           1999.0
          ],
          [
           "kensington and chelsea",
           "E09000020",
           285.0,
           2159.0
          ],
          [
           "kensington and chelsea",
           "E09000020",
           206.0,
           1864.0
          ],
          [
           "kensington and chelsea",
           "E09000020",
           205.0,
           2060.0
          ],
          [
           "kensington and chelsea",
           "E09000020",
           178.0,
           1958.0
          ],
          [
           "kensington and chelsea",
           "E09000020",
           226.0,
           2028.0
          ],
          [
           "kensington and chelsea",
           "E09000020",
           207.0,
           2164.0
          ],
          [
           "kensington and chelsea",
           "E09000020",
           282.0,
           2121.0
          ],
          [
           "kensington and chelsea",
           "E09000020",
           333.0,
           2363.0
          ],
          [
           "kensington and chelsea",
           "E09000020",
           417.0,
           2017.0
          ],
          [
           "kensington and chelsea",
           "E09000020",
           360.0,
           2045.0
          ],
          [
           "kensington and chelsea",
           "E09000020",
           386.0,
           1948.0
          ],
          [
           "kensington and chelsea",
           "E09000020",
           366.0,
           1873.0
          ],
          [
           "kensington and chelsea",
           "E09000020",
           340.0,
           2034.0
          ],
          [
           "kensington and chelsea",
           "E09000020",
           308.0,
           1921.0
          ],
          [
           "kensington and chelsea",
           "E09000020",
           354.0,
           2180.0
          ],
          [
           "kensington and chelsea",
           "E09000020",
           401.0,
           1983.0
          ],
          [
           "kensington and chelsea",
           "E09000020",
           360.0,
           2112.0
          ],
          [
           "kensington and chelsea",
           "E09000020",
           363.0,
           2082.0
          ],
          [
           "kensington and chelsea",
           "E09000020",
           423.0,
           2145.0
          ],
          [
           "kensington and chelsea",
           "E09000020",
           317.0,
           2176.0
          ],
          [
           "kensington and chelsea",
           "E09000020",
           340.0,
           1901.0
          ],
          [
           "kensington and chelsea",
           "E09000020",
           275.0,
           2158.0
          ],
          [
           "kensington and chelsea",
           "E09000020",
           247.0,
           1898.0
          ],
          [
           "kensington and chelsea",
           "E09000020",
           278.0,
           1691.0
          ],
          [
           "kensington and chelsea",
           "E09000020",
           257.0,
           1683.0
          ],
          [
           "kensington and chelsea",
           "E09000020",
           189.0,
           1545.0
          ],
          [
           "kensington and chelsea",
           "E09000020",
           274.0,
           1792.0
          ],
          [
           "kensington and chelsea",
           "E09000020",
           294.0,
           1824.0
          ],
          [
           "kensington and chelsea",
           "E09000020",
           274.0,
           1945.0
          ],
          [
           "kensington and chelsea",
           "E09000020",
           315.0,
           1841.0
          ],
          [
           "kensington and chelsea",
           "E09000020",
           327.0,
           1920.0
          ],
          [
           "kensington and chelsea",
           "E09000020",
           286.0,
           2136.0
          ],
          [
           "kensington and chelsea",
           "E09000020",
           331.0,
           1828.0
          ],
          [
           "kensington and chelsea",
           "E09000020",
           231.0,
           1866.0
          ],
          [
           "kensington and chelsea",
           "E09000020",
           273.0,
           1767.0
          ],
          [
           "kensington and chelsea",
           "E09000020",
           299.0,
           1736.0
          ],
          [
           "kensington and chelsea",
           "E09000020",
           319.0,
           1759.0
          ],
          [
           "kensington and chelsea",
           "E09000020",
           233.0,
           1536.0
          ],
          [
           "kensington and chelsea",
           "E09000020",
           371.0,
           1809.0
          ],
          [
           "kensington and chelsea",
           "E09000020",
           347.0,
           1636.0
          ],
          [
           "kensington and chelsea",
           "E09000020",
           338.0,
           1788.0
          ],
          [
           "kensington and chelsea",
           "E09000020",
           400.0,
           1869.0
          ],
          [
           "kensington and chelsea",
           "E09000020",
           366.0,
           1877.0
          ],
          [
           "kensington and chelsea",
           "E09000020",
           355.0,
           2113.0
          ],
          [
           "kensington and chelsea",
           "E09000020",
           394.0,
           1873.0
          ],
          [
           "kensington and chelsea",
           "E09000020",
           360.0,
           1951.0
          ],
          [
           "kensington and chelsea",
           "E09000020",
           350.0,
           2150.0
          ],
          [
           "kensington and chelsea",
           "E09000020",
           375.0,
           1771.0
          ],
          [
           "kensington and chelsea",
           "E09000020",
           397.0,
           2096.0
          ],
          [
           "kensington and chelsea",
           "E09000020",
           317.0,
           1800.0
          ],
          [
           "kensington and chelsea",
           "E09000020",
           352.0,
           2030.0
          ],
          [
           "kensington and chelsea",
           "E09000020",
           311.0,
           1980.0
          ],
          [
           "kensington and chelsea",
           "E09000020",
           320.0,
           1977.0
          ],
          [
           "kensington and chelsea",
           "E09000020",
           327.0,
           1956.0
          ],
          [
           "kensington and chelsea",
           "E09000020",
           372.0,
           1926.0
          ],
          [
           "kensington and chelsea",
           "E09000020",
           328.0,
           2309.0
          ],
          [
           "kensington and chelsea",
           "E09000020",
           275.0,
           1674.0
          ],
          [
           "kensington and chelsea",
           "E09000020",
           226.0,
           1780.0
          ],
          [
           "kensington and chelsea",
           "E09000020",
           299.0,
           1810.0
          ],
          [
           "kensington and chelsea",
           "E09000020",
           168.0,
           1623.0
          ],
          [
           "kensington and chelsea",
           "E09000020",
           186.0,
           1737.0
          ],
          [
           "kensington and chelsea",
           "E09000020",
           149.0,
           1608.0
          ],
          [
           "kensington and chelsea",
           "E09000020",
           133.0,
           1835.0
          ],
          [
           "kensington and chelsea",
           "E09000020",
           186.0,
           1759.0
          ],
          [
           "kensington and chelsea",
           "E09000020",
           162.0,
           1870.0
          ],
          [
           "kensington and chelsea",
           "E09000020",
           133.0,
           1757.0
          ],
          [
           "kensington and chelsea",
           "E09000020",
           164.0,
           1832.0
          ],
          [
           "kensington and chelsea",
           "E09000020",
           117.0,
           2364.0
          ],
          [
           "kensington and chelsea",
           "E09000020",
           155.0,
           1656.0
          ],
          [
           "kensington and chelsea",
           "E09000020",
           117.0,
           1755.0
          ],
          [
           "kensington and chelsea",
           "E09000020",
           90.0,
           1694.0
          ],
          [
           "kensington and chelsea",
           "E09000020",
           105.0,
           1579.0
          ],
          [
           "kensington and chelsea",
           "E09000020",
           78.0,
           1523.0
          ],
          [
           "kensington and chelsea",
           "E09000020",
           95.0,
           1462.0
          ],
          [
           "kensington and chelsea",
           "E09000020",
           121.0,
           1630.0
          ],
          [
           "kensington and chelsea",
           "E09000020",
           137.0,
           1557.0
          ],
          [
           "kensington and chelsea",
           "E09000020",
           137.0,
           1671.0
          ],
          [
           "kensington and chelsea",
           "E09000020",
           173.0,
           1754.0
          ],
          [
           "kensington and chelsea",
           "E09000020",
           232.0,
           1716.0
          ],
          [
           "kensington and chelsea",
           "E09000020",
           187.0,
           1837.0
          ],
          [
           "kensington and chelsea",
           "E09000020",
           228.0,
           1787.0
          ],
          [
           "kensington and chelsea",
           "E09000020",
           229.0,
           1760.0
          ],
          [
           "kensington and chelsea",
           "E09000020",
           226.0,
           1558.0
          ],
          [
           "kensington and chelsea",
           "E09000020",
           176.0,
           1528.0
          ],
          [
           "kensington and chelsea",
           "E09000020",
           202.0,
           1477.0
          ],
          [
           "kensington and chelsea",
           "E09000020",
           151.0,
           1493.0
          ],
          [
           "kensington and chelsea",
           "E09000020",
           207.0,
           1719.0
          ],
          [
           "kensington and chelsea",
           "E09000020",
           221.0,
           1630.0
          ],
          [
           "kensington and chelsea",
           "E09000020",
           181.0,
           1773.0
          ],
          [
           "kensington and chelsea",
           "E09000020",
           224.0,
           1785.0
          ],
          [
           "kensington and chelsea",
           "E09000020",
           253.0,
           1939.0
          ],
          [
           "kensington and chelsea",
           "E09000020",
           198.0,
           2092.0
          ],
          [
           "kensington and chelsea",
           "E09000020",
           218.0,
           1972.0
          ],
          [
           "kensington and chelsea",
           "E09000020",
           197.0,
           1811.0
          ],
          [
           "kensington and chelsea",
           "E09000020",
           177.0,
           1628.0
          ],
          [
           "kensington and chelsea",
           "E09000020",
           201.0,
           1595.0
          ],
          [
           "kensington and chelsea",
           "E09000020",
           182.0,
           1685.0
          ],
          [
           "kensington and chelsea",
           "E09000020",
           164.0,
           1487.0
          ],
          [
           "kensington and chelsea",
           "E09000020",
           235.0,
           1785.0
          ],
          [
           "kensington and chelsea",
           "E09000020",
           266.0,
           1645.0
          ],
          [
           "kensington and chelsea",
           "E09000020",
           158.0,
           1950.0
          ],
          [
           "kensington and chelsea",
           "E09000020",
           187.0,
           1671.0
          ],
          [
           "kensington and chelsea",
           "E09000020",
           245.0,
           1672.0
          ],
          [
           "kensington and chelsea",
           "E09000020",
           235.0,
           1995.0
          ],
          [
           "kensington and chelsea",
           "E09000020",
           238.0,
           1534.0
          ],
          [
           "kensington and chelsea",
           "E09000020",
           184.0,
           1555.0
          ],
          [
           "kensington and chelsea",
           "E09000020",
           202.0,
           1836.0
          ],
          [
           "kensington and chelsea",
           "E09000020",
           167.0,
           1754.0
          ],
          [
           "kensington and chelsea",
           "E09000020",
           187.0,
           1748.0
          ],
          [
           "kensington and chelsea",
           "E09000020",
           167.0,
           1536.0
          ],
          [
           "kensington and chelsea",
           "E09000020",
           159.0,
           1887.0
          ],
          [
           "kensington and chelsea",
           "E09000020",
           170.0,
           1720.0
          ],
          [
           "kensington and chelsea",
           "E09000020",
           190.0,
           1801.0
          ],
          [
           "kensington and chelsea",
           "E09000020",
           190.0,
           1676.0
          ],
          [
           "kensington and chelsea",
           "E09000020",
           234.0,
           1713.0
          ],
          [
           "kensington and chelsea",
           "E09000020",
           173.0,
           2458.0
          ],
          [
           "kensington and chelsea",
           "E09000020",
           196.0,
           1635.0
          ],
          [
           "kensington and chelsea",
           "E09000020",
           181.0,
           1778.0
          ],
          [
           "kensington and chelsea",
           "E09000020",
           184.0,
           1683.0
          ],
          [
           "kensington and chelsea",
           "E09000020",
           189.0,
           1723.0
          ],
          [
           "kensington and chelsea",
           "E09000020",
           181.0,
           1663.0
          ],
          [
           "kensington and chelsea",
           "E09000020",
           145.0,
           1583.0
          ],
          [
           "kensington and chelsea",
           "E09000020",
           206.0,
           1412.0
          ],
          [
           "kensington and chelsea",
           "E09000020",
           174.0,
           1455.0
          ],
          [
           "kensington and chelsea",
           "E09000020",
           221.0,
           1405.0
          ],
          [
           "kensington and chelsea",
           "E09000020",
           219.0,
           1415.0
          ],
          [
           "kensington and chelsea",
           "E09000020",
           280.0,
           1487.0
          ],
          [
           "kensington and chelsea",
           "E09000020",
           249.0,
           2167.0
          ],
          [
           "kensington and chelsea",
           "E09000020",
           258.0,
           1465.0
          ],
          [
           "kensington and chelsea",
           "E09000020",
           221.0,
           1476.0
          ],
          [
           "kensington and chelsea",
           "E09000020",
           262.0,
           1482.0
          ],
          [
           "kensington and chelsea",
           "E09000020",
           230.0,
           1399.0
          ],
          [
           "kensington and chelsea",
           "E09000020",
           280.0,
           1402.0
          ],
          [
           "kensington and chelsea",
           "E09000020",
           222.0,
           1347.0
          ],
          [
           "kensington and chelsea",
           "E09000020",
           222.0,
           1473.0
          ],
          [
           "kensington and chelsea",
           "E09000020",
           267.0,
           1531.0
          ],
          [
           "kensington and chelsea",
           "E09000020",
           269.0,
           1492.0
          ],
          [
           "kensington and chelsea",
           "E09000020",
           213.0,
           1453.0
          ],
          [
           "kensington and chelsea",
           "E09000020",
           251.0,
           1460.0
          ],
          [
           "kensington and chelsea",
           "E09000020",
           217.0,
           2089.0
          ],
          [
           "kensington and chelsea",
           "E09000020",
           208.0,
           1429.0
          ],
          [
           "kensington and chelsea",
           "E09000020",
           228.0,
           1610.0
          ],
          [
           "kensington and chelsea",
           "E09000020",
           158.0,
           1555.0
          ],
          [
           "kensington and chelsea",
           "E09000020",
           169.0,
           1619.0
          ],
          [
           "kensington and chelsea",
           "E09000020",
           187.0,
           1566.0
          ],
          [
           "kensington and chelsea",
           "E09000020",
           180.0,
           1413.0
          ],
          [
           "kensington and chelsea",
           "E09000020",
           195.0,
           1620.0
          ],
          [
           "kensington and chelsea",
           "E09000020",
           156.0,
           1475.0
          ],
          [
           "kensington and chelsea",
           "E09000020",
           170.0,
           1637.0
          ],
          [
           "kensington and chelsea",
           "E09000020",
           182.0,
           1637.0
          ],
          [
           "kensington and chelsea",
           "E09000020",
           201.0,
           1650.0
          ],
          [
           "kensington and chelsea",
           "E09000020",
           169.0,
           1752.0
          ],
          [
           "kensington and chelsea",
           "E09000020",
           190.0,
           1809.0
          ],
          [
           "kensington and chelsea",
           "E09000020",
           171.0,
           1762.0
          ],
          [
           "kensington and chelsea",
           "E09000020",
           160.0,
           1672.0
          ],
          [
           "kensington and chelsea",
           "E09000020",
           217.0,
           1724.0
          ],
          [
           "kensington and chelsea",
           "E09000020",
           170.0,
           1565.0
          ],
          [
           "kensington and chelsea",
           "E09000020",
           141.0,
           1417.0
          ],
          [
           "kensington and chelsea",
           "E09000020",
           491.0,
           1565.0
          ],
          [
           "kensington and chelsea",
           "E09000020",
           95.0,
           1471.0
          ],
          [
           "kensington and chelsea",
           "E09000020",
           90.0,
           1677.0
          ],
          [
           "kensington and chelsea",
           "E09000020",
           124.0,
           1678.0
          ],
          [
           "kensington and chelsea",
           "E09000020",
           105.0,
           1698.0
          ],
          [
           "kensington and chelsea",
           "E09000020",
           96.0,
           2506.0
          ],
          [
           "kensington and chelsea",
           "E09000020",
           114.0,
           1760.0
          ],
          [
           "kensington and chelsea",
           "E09000020",
           104.0,
           1650.0
          ],
          [
           "kensington and chelsea",
           "E09000020",
           125.0,
           1588.0
          ],
          [
           "kensington and chelsea",
           "E09000020",
           172.0,
           1681.0
          ],
          [
           "kensington and chelsea",
           "E09000020",
           136.0,
           1534.0
          ],
          [
           "kensington and chelsea",
           "E09000020",
           109.0,
           1367.0
          ],
          [
           "kensington and chelsea",
           "E09000020",
           152.0,
           1824.0
          ],
          [
           "kensington and chelsea",
           "E09000020",
           124.0,
           1723.0
          ],
          [
           "kensington and chelsea",
           "E09000020",
           125.0,
           1828.0
          ],
          [
           "kensington and chelsea",
           "E09000020",
           171.0,
           1748.0
          ],
          [
           "kensington and chelsea",
           "E09000020",
           123.0,
           1962.0
          ],
          [
           "kensington and chelsea",
           "E09000020",
           124.0,
           2418.0
          ],
          [
           "kensington and chelsea",
           "E09000020",
           137.0,
           1780.0
          ],
          [
           "kensington and chelsea",
           "E09000020",
           111.0,
           1755.0
          ],
          [
           "kensington and chelsea",
           "E09000020",
           115.0,
           1842.0
          ],
          [
           "kensington and chelsea",
           "E09000020",
           138.0,
           1736.0
          ],
          [
           "kensington and chelsea",
           "E09000020",
           129.0,
           1737.0
          ],
          [
           "kensington and chelsea",
           "E09000020",
           89.0,
           1737.0
          ],
          [
           "kensington and chelsea",
           "E09000020",
           125.0,
           1681.0
          ],
          [
           "kensington and chelsea",
           "E09000020",
           117.0,
           1644.0
          ],
          [
           "kensington and chelsea",
           "E09000020",
           86.0,
           1771.0
          ],
          [
           "kensington and chelsea",
           "E09000020",
           133.0,
           1831.0
          ],
          [
           "kensington and chelsea",
           "E09000020",
           119.0,
           1915.0
          ],
          [
           "kensington and chelsea",
           "E09000020",
           103.0,
           2339.0
          ],
          [
           "kensington and chelsea",
           "E09000020",
           117.0,
           1787.0
          ],
          [
           "kensington and chelsea",
           "E09000020",
           133.0,
           1803.0
          ],
          [
           "kensington and chelsea",
           "E09000020",
           91.0,
           1898.0
          ],
          [
           "kensington and chelsea",
           "E09000020",
           84.0,
           1922.0
          ],
          [
           "kensington and chelsea",
           "E09000020",
           117.0,
           1808.0
          ],
          [
           "kensington and chelsea",
           "E09000020",
           94.0,
           1765.0
          ],
          [
           "kensington and chelsea",
           "E09000020",
           107.0,
           2023.0
          ],
          [
           "kensington and chelsea",
           "E09000020",
           101.0,
           1873.0
          ],
          [
           "kensington and chelsea",
           "E09000020",
           112.0,
           1933.0
          ],
          [
           "kensington and chelsea",
           "E09000020",
           110.0,
           2120.0
          ],
          [
           "kensington and chelsea",
           "E09000020",
           133.0,
           2233.0
          ],
          [
           "kensington and chelsea",
           "E09000020",
           124.0,
           2778.0
          ],
          [
           "kensington and chelsea",
           "E09000020",
           109.0,
           2056.0
          ],
          [
           "kensington and chelsea",
           "E09000020",
           105.0,
           2206.0
          ],
          [
           "kensington and chelsea",
           "E09000020",
           113.0,
           2240.0
          ]
         ],
         "hovertemplate": "area=%{customdata[0]}<br>date=%{x}<br>average_price=%{y}<br>code=%{customdata[1]}<br>houses_sold=%{customdata[2]}<br>no_of_crimes=%{customdata[3]}<extra></extra>",
         "legendgroup": "kensington and chelsea",
         "line": {
          "color": "#ab63fa",
          "dash": "solid"
         },
         "marker": {
          "symbol": "circle"
         },
         "mode": "lines",
         "name": "kensington and chelsea",
         "orientation": "v",
         "showlegend": true,
         "x": [
          "2001-01-01",
          "2001-02-01",
          "2001-03-01",
          "2001-04-01",
          "2001-05-01",
          "2001-06-01",
          "2001-07-01",
          "2001-08-01",
          "2001-09-01",
          "2001-10-01",
          "2001-11-01",
          "2001-12-01",
          "2002-01-01",
          "2002-02-01",
          "2002-03-01",
          "2002-04-01",
          "2002-05-01",
          "2002-06-01",
          "2002-07-01",
          "2002-08-01",
          "2002-09-01",
          "2002-10-01",
          "2002-11-01",
          "2002-12-01",
          "2003-01-01",
          "2003-02-01",
          "2003-03-01",
          "2003-04-01",
          "2003-05-01",
          "2003-06-01",
          "2003-07-01",
          "2003-08-01",
          "2003-09-01",
          "2003-10-01",
          "2003-11-01",
          "2003-12-01",
          "2004-01-01",
          "2004-02-01",
          "2004-03-01",
          "2004-04-01",
          "2004-05-01",
          "2004-06-01",
          "2004-07-01",
          "2004-08-01",
          "2004-09-01",
          "2004-10-01",
          "2004-11-01",
          "2004-12-01",
          "2005-01-01",
          "2005-02-01",
          "2005-03-01",
          "2005-04-01",
          "2005-05-01",
          "2005-06-01",
          "2005-07-01",
          "2005-08-01",
          "2005-09-01",
          "2005-10-01",
          "2005-11-01",
          "2005-12-01",
          "2006-01-01",
          "2006-02-01",
          "2006-03-01",
          "2006-04-01",
          "2006-05-01",
          "2006-06-01",
          "2006-07-01",
          "2006-08-01",
          "2006-09-01",
          "2006-10-01",
          "2006-11-01",
          "2006-12-01",
          "2007-01-01",
          "2007-02-01",
          "2007-03-01",
          "2007-04-01",
          "2007-05-01",
          "2007-06-01",
          "2007-07-01",
          "2007-08-01",
          "2007-09-01",
          "2007-10-01",
          "2007-11-01",
          "2007-12-01",
          "2008-01-01",
          "2008-02-01",
          "2008-03-01",
          "2008-04-01",
          "2008-05-01",
          "2008-06-01",
          "2008-07-01",
          "2008-08-01",
          "2008-09-01",
          "2008-10-01",
          "2008-11-01",
          "2008-12-01",
          "2009-01-01",
          "2009-02-01",
          "2009-03-01",
          "2009-04-01",
          "2009-05-01",
          "2009-06-01",
          "2009-07-01",
          "2009-08-01",
          "2009-09-01",
          "2009-10-01",
          "2009-11-01",
          "2009-12-01",
          "2010-01-01",
          "2010-02-01",
          "2010-03-01",
          "2010-04-01",
          "2010-05-01",
          "2010-06-01",
          "2010-07-01",
          "2010-08-01",
          "2010-09-01",
          "2010-10-01",
          "2010-11-01",
          "2010-12-01",
          "2011-01-01",
          "2011-02-01",
          "2011-03-01",
          "2011-04-01",
          "2011-05-01",
          "2011-06-01",
          "2011-07-01",
          "2011-08-01",
          "2011-09-01",
          "2011-10-01",
          "2011-11-01",
          "2011-12-01",
          "2012-01-01",
          "2012-02-01",
          "2012-03-01",
          "2012-04-01",
          "2012-05-01",
          "2012-06-01",
          "2012-07-01",
          "2012-08-01",
          "2012-09-01",
          "2012-10-01",
          "2012-11-01",
          "2012-12-01",
          "2013-01-01",
          "2013-02-01",
          "2013-03-01",
          "2013-04-01",
          "2013-05-01",
          "2013-06-01",
          "2013-07-01",
          "2013-08-01",
          "2013-09-01",
          "2013-10-01",
          "2013-11-01",
          "2013-12-01",
          "2014-01-01",
          "2014-02-01",
          "2014-03-01",
          "2014-04-01",
          "2014-05-01",
          "2014-06-01",
          "2014-07-01",
          "2014-08-01",
          "2014-09-01",
          "2014-10-01",
          "2014-11-01",
          "2014-12-01",
          "2015-01-01",
          "2015-02-01",
          "2015-03-01",
          "2015-04-01",
          "2015-05-01",
          "2015-06-01",
          "2015-07-01",
          "2015-08-01",
          "2015-09-01",
          "2015-10-01",
          "2015-11-01",
          "2015-12-01",
          "2016-01-01",
          "2016-02-01",
          "2016-03-01",
          "2016-04-01",
          "2016-05-01",
          "2016-06-01",
          "2016-07-01",
          "2016-08-01",
          "2016-09-01",
          "2016-10-01",
          "2016-11-01",
          "2016-12-01",
          "2017-01-01",
          "2017-02-01",
          "2017-03-01",
          "2017-04-01",
          "2017-05-01",
          "2017-06-01",
          "2017-07-01",
          "2017-08-01",
          "2017-09-01",
          "2017-10-01",
          "2017-11-01",
          "2017-12-01",
          "2018-01-01",
          "2018-02-01",
          "2018-03-01",
          "2018-04-01",
          "2018-05-01",
          "2018-06-01",
          "2018-07-01",
          "2018-08-01",
          "2018-09-01",
          "2018-10-01",
          "2018-11-01",
          "2018-12-01",
          "2019-01-01",
          "2019-02-01",
          "2019-03-01",
          "2019-04-01",
          "2019-05-01",
          "2019-06-01",
          "2019-07-01",
          "2019-08-01",
          "2019-09-01",
          "2019-10-01",
          "2019-11-01"
         ],
         "xaxis": "x",
         "y": [
          407739,
          394886,
          406200,
          418016,
          417771,
          423411,
          434521,
          451028,
          438215,
          424833,
          412659,
          412275,
          407492,
          406516,
          414376,
          440746,
          467441,
          486673,
          497538,
          490267,
          486338,
          474862,
          484175,
          468164,
          466463,
          452671,
          455466,
          456330,
          452104,
          464442,
          455925,
          454476,
          448908,
          459283,
          471114,
          488704,
          495894,
          506469,
          504555,
          490464,
          488594,
          492778,
          534860,
          547674,
          559286,
          523246,
          517540,
          484880,
          477958,
          480086,
          489291,
          507964,
          518054,
          527082,
          540566,
          529996,
          542761,
          532195,
          540675,
          555847,
          565247,
          569195,
          570415,
          581164,
          590768,
          599841,
          606796,
          609829,
          603462,
          604626,
          630206,
          644541,
          682118,
          695308,
          712066,
          718862,
          718509,
          723633,
          746127,
          779957,
          830950,
          808270,
          777268,
          767083,
          810781,
          832753,
          808429,
          762673,
          760593,
          766472,
          822508,
          806857,
          811950,
          754939,
          754636,
          725424,
          668546,
          627150,
          598430,
          622563,
          664598,
          719453,
          770240,
          782459,
          763330,
          736741,
          753693,
          755047,
          794620,
          778622,
          820954,
          818816,
          855775,
          821510,
          845614,
          826390,
          863878,
          859065,
          877861,
          884674,
          860460,
          844014,
          879557,
          959520,
          939202,
          911740,
          877358,
          912819,
          931099,
          916676,
          950767,
          919569,
          929644,
          933654,
          941251,
          970715,
          974635,
          1030803,
          1032875,
          1042777,
          1058206,
          1077366,
          1071778,
          1044834,
          1067550,
          1060810,
          1076419,
          1043141,
          1086593,
          1122471,
          1159559,
          1189245,
          1217729,
          1172514,
          1168770,
          1154073,
          1204771,
          1198222,
          1209578,
          1231111,
          1263468,
          1297755,
          1345616,
          1347030,
          1344464,
          1334423,
          1365050,
          1319380,
          1313357,
          1287616,
          1306557,
          1291645,
          1306192,
          1293028,
          1328276,
          1316116,
          1353679,
          1268780,
          1295078,
          1264909,
          1335351,
          1294603,
          1319174,
          1303324,
          1282708,
          1246352,
          1229599,
          1206813,
          1226681,
          1217676,
          1295310,
          1357231,
          1394421,
          1412255,
          1380049,
          1399839,
          1388174,
          1341276,
          1304186,
          1257578,
          1270090,
          1278113,
          1344311,
          1364185,
          1463378,
          1378878,
          1392610,
          1325081,
          1301729,
          1306556,
          1334876,
          1418032,
          1388037,
          1348121,
          1363458,
          1345805,
          1285331,
          1259725,
          1218687,
          1266556,
          1237349,
          1294113,
          1288940,
          1262257,
          1246384,
          1191209,
          1193336
         ],
         "yaxis": "y",
         "type": "scatter"
        }
       ],
       "layout": {
        "template": {
         "data": {
          "histogram2dcontour": [
           {
            "type": "histogram2dcontour",
            "colorbar": {
             "outlinewidth": 0,
             "ticks": ""
            },
            "colorscale": [
             [
              0.0,
              "#0d0887"
             ],
             [
              0.1111111111111111,
              "#46039f"
             ],
             [
              0.2222222222222222,
              "#7201a8"
             ],
             [
              0.3333333333333333,
              "#9c179e"
             ],
             [
              0.4444444444444444,
              "#bd3786"
             ],
             [
              0.5555555555555556,
              "#d8576b"
             ],
             [
              0.6666666666666666,
              "#ed7953"
             ],
             [
              0.7777777777777778,
              "#fb9f3a"
             ],
             [
              0.8888888888888888,
              "#fdca26"
             ],
             [
              1.0,
              "#f0f921"
             ]
            ]
           }
          ],
          "choropleth": [
           {
            "type": "choropleth",
            "colorbar": {
             "outlinewidth": 0,
             "ticks": ""
            }
           }
          ],
          "histogram2d": [
           {
            "type": "histogram2d",
            "colorbar": {
             "outlinewidth": 0,
             "ticks": ""
            },
            "colorscale": [
             [
              0.0,
              "#0d0887"
             ],
             [
              0.1111111111111111,
              "#46039f"
             ],
             [
              0.2222222222222222,
              "#7201a8"
             ],
             [
              0.3333333333333333,
              "#9c179e"
             ],
             [
              0.4444444444444444,
              "#bd3786"
             ],
             [
              0.5555555555555556,
              "#d8576b"
             ],
             [
              0.6666666666666666,
              "#ed7953"
             ],
             [
              0.7777777777777778,
              "#fb9f3a"
             ],
             [
              0.8888888888888888,
              "#fdca26"
             ],
             [
              1.0,
              "#f0f921"
             ]
            ]
           }
          ],
          "heatmap": [
           {
            "type": "heatmap",
            "colorbar": {
             "outlinewidth": 0,
             "ticks": ""
            },
            "colorscale": [
             [
              0.0,
              "#0d0887"
             ],
             [
              0.1111111111111111,
              "#46039f"
             ],
             [
              0.2222222222222222,
              "#7201a8"
             ],
             [
              0.3333333333333333,
              "#9c179e"
             ],
             [
              0.4444444444444444,
              "#bd3786"
             ],
             [
              0.5555555555555556,
              "#d8576b"
             ],
             [
              0.6666666666666666,
              "#ed7953"
             ],
             [
              0.7777777777777778,
              "#fb9f3a"
             ],
             [
              0.8888888888888888,
              "#fdca26"
             ],
             [
              1.0,
              "#f0f921"
             ]
            ]
           }
          ],
          "heatmapgl": [
           {
            "type": "heatmapgl",
            "colorbar": {
             "outlinewidth": 0,
             "ticks": ""
            },
            "colorscale": [
             [
              0.0,
              "#0d0887"
             ],
             [
              0.1111111111111111,
              "#46039f"
             ],
             [
              0.2222222222222222,
              "#7201a8"
             ],
             [
              0.3333333333333333,
              "#9c179e"
             ],
             [
              0.4444444444444444,
              "#bd3786"
             ],
             [
              0.5555555555555556,
              "#d8576b"
             ],
             [
              0.6666666666666666,
              "#ed7953"
             ],
             [
              0.7777777777777778,
              "#fb9f3a"
             ],
             [
              0.8888888888888888,
              "#fdca26"
             ],
             [
              1.0,
              "#f0f921"
             ]
            ]
           }
          ],
          "contourcarpet": [
           {
            "type": "contourcarpet",
            "colorbar": {
             "outlinewidth": 0,
             "ticks": ""
            }
           }
          ],
          "contour": [
           {
            "type": "contour",
            "colorbar": {
             "outlinewidth": 0,
             "ticks": ""
            },
            "colorscale": [
             [
              0.0,
              "#0d0887"
             ],
             [
              0.1111111111111111,
              "#46039f"
             ],
             [
              0.2222222222222222,
              "#7201a8"
             ],
             [
              0.3333333333333333,
              "#9c179e"
             ],
             [
              0.4444444444444444,
              "#bd3786"
             ],
             [
              0.5555555555555556,
              "#d8576b"
             ],
             [
              0.6666666666666666,
              "#ed7953"
             ],
             [
              0.7777777777777778,
              "#fb9f3a"
             ],
             [
              0.8888888888888888,
              "#fdca26"
             ],
             [
              1.0,
              "#f0f921"
             ]
            ]
           }
          ],
          "surface": [
           {
            "type": "surface",
            "colorbar": {
             "outlinewidth": 0,
             "ticks": ""
            },
            "colorscale": [
             [
              0.0,
              "#0d0887"
             ],
             [
              0.1111111111111111,
              "#46039f"
             ],
             [
              0.2222222222222222,
              "#7201a8"
             ],
             [
              0.3333333333333333,
              "#9c179e"
             ],
             [
              0.4444444444444444,
              "#bd3786"
             ],
             [
              0.5555555555555556,
              "#d8576b"
             ],
             [
              0.6666666666666666,
              "#ed7953"
             ],
             [
              0.7777777777777778,
              "#fb9f3a"
             ],
             [
              0.8888888888888888,
              "#fdca26"
             ],
             [
              1.0,
              "#f0f921"
             ]
            ]
           }
          ],
          "mesh3d": [
           {
            "type": "mesh3d",
            "colorbar": {
             "outlinewidth": 0,
             "ticks": ""
            }
           }
          ],
          "scatter": [
           {
            "fillpattern": {
             "fillmode": "overlay",
             "size": 10,
             "solidity": 0.2
            },
            "type": "scatter"
           }
          ],
          "parcoords": [
           {
            "type": "parcoords",
            "line": {
             "colorbar": {
              "outlinewidth": 0,
              "ticks": ""
             }
            }
           }
          ],
          "scatterpolargl": [
           {
            "type": "scatterpolargl",
            "marker": {
             "colorbar": {
              "outlinewidth": 0,
              "ticks": ""
             }
            }
           }
          ],
          "bar": [
           {
            "error_x": {
             "color": "#2a3f5f"
            },
            "error_y": {
             "color": "#2a3f5f"
            },
            "marker": {
             "line": {
              "color": "#E5ECF6",
              "width": 0.5
             },
             "pattern": {
              "fillmode": "overlay",
              "size": 10,
              "solidity": 0.2
             }
            },
            "type": "bar"
           }
          ],
          "scattergeo": [
           {
            "type": "scattergeo",
            "marker": {
             "colorbar": {
              "outlinewidth": 0,
              "ticks": ""
             }
            }
           }
          ],
          "scatterpolar": [
           {
            "type": "scatterpolar",
            "marker": {
             "colorbar": {
              "outlinewidth": 0,
              "ticks": ""
             }
            }
           }
          ],
          "histogram": [
           {
            "marker": {
             "pattern": {
              "fillmode": "overlay",
              "size": 10,
              "solidity": 0.2
             }
            },
            "type": "histogram"
           }
          ],
          "scattergl": [
           {
            "type": "scattergl",
            "marker": {
             "colorbar": {
              "outlinewidth": 0,
              "ticks": ""
             }
            }
           }
          ],
          "scatter3d": [
           {
            "type": "scatter3d",
            "line": {
             "colorbar": {
              "outlinewidth": 0,
              "ticks": ""
             }
            },
            "marker": {
             "colorbar": {
              "outlinewidth": 0,
              "ticks": ""
             }
            }
           }
          ],
          "scattermapbox": [
           {
            "type": "scattermapbox",
            "marker": {
             "colorbar": {
              "outlinewidth": 0,
              "ticks": ""
             }
            }
           }
          ],
          "scatterternary": [
           {
            "type": "scatterternary",
            "marker": {
             "colorbar": {
              "outlinewidth": 0,
              "ticks": ""
             }
            }
           }
          ],
          "scattercarpet": [
           {
            "type": "scattercarpet",
            "marker": {
             "colorbar": {
              "outlinewidth": 0,
              "ticks": ""
             }
            }
           }
          ],
          "carpet": [
           {
            "aaxis": {
             "endlinecolor": "#2a3f5f",
             "gridcolor": "white",
             "linecolor": "white",
             "minorgridcolor": "white",
             "startlinecolor": "#2a3f5f"
            },
            "baxis": {
             "endlinecolor": "#2a3f5f",
             "gridcolor": "white",
             "linecolor": "white",
             "minorgridcolor": "white",
             "startlinecolor": "#2a3f5f"
            },
            "type": "carpet"
           }
          ],
          "table": [
           {
            "cells": {
             "fill": {
              "color": "#EBF0F8"
             },
             "line": {
              "color": "white"
             }
            },
            "header": {
             "fill": {
              "color": "#C8D4E3"
             },
             "line": {
              "color": "white"
             }
            },
            "type": "table"
           }
          ],
          "barpolar": [
           {
            "marker": {
             "line": {
              "color": "#E5ECF6",
              "width": 0.5
             },
             "pattern": {
              "fillmode": "overlay",
              "size": 10,
              "solidity": 0.2
             }
            },
            "type": "barpolar"
           }
          ],
          "pie": [
           {
            "automargin": true,
            "type": "pie"
           }
          ]
         },
         "layout": {
          "autotypenumbers": "strict",
          "colorway": [
           "#636efa",
           "#EF553B",
           "#00cc96",
           "#ab63fa",
           "#FFA15A",
           "#19d3f3",
           "#FF6692",
           "#B6E880",
           "#FF97FF",
           "#FECB52"
          ],
          "font": {
           "color": "#2a3f5f"
          },
          "hovermode": "closest",
          "hoverlabel": {
           "align": "left"
          },
          "paper_bgcolor": "white",
          "plot_bgcolor": "#E5ECF6",
          "polar": {
           "bgcolor": "#E5ECF6",
           "angularaxis": {
            "gridcolor": "white",
            "linecolor": "white",
            "ticks": ""
           },
           "radialaxis": {
            "gridcolor": "white",
            "linecolor": "white",
            "ticks": ""
           }
          },
          "ternary": {
           "bgcolor": "#E5ECF6",
           "aaxis": {
            "gridcolor": "white",
            "linecolor": "white",
            "ticks": ""
           },
           "baxis": {
            "gridcolor": "white",
            "linecolor": "white",
            "ticks": ""
           },
           "caxis": {
            "gridcolor": "white",
            "linecolor": "white",
            "ticks": ""
           }
          },
          "coloraxis": {
           "colorbar": {
            "outlinewidth": 0,
            "ticks": ""
           }
          },
          "colorscale": {
           "sequential": [
            [
             0.0,
             "#0d0887"
            ],
            [
             0.1111111111111111,
             "#46039f"
            ],
            [
             0.2222222222222222,
             "#7201a8"
            ],
            [
             0.3333333333333333,
             "#9c179e"
            ],
            [
             0.4444444444444444,
             "#bd3786"
            ],
            [
             0.5555555555555556,
             "#d8576b"
            ],
            [
             0.6666666666666666,
             "#ed7953"
            ],
            [
             0.7777777777777778,
             "#fb9f3a"
            ],
            [
             0.8888888888888888,
             "#fdca26"
            ],
            [
             1.0,
             "#f0f921"
            ]
           ],
           "sequentialminus": [
            [
             0.0,
             "#0d0887"
            ],
            [
             0.1111111111111111,
             "#46039f"
            ],
            [
             0.2222222222222222,
             "#7201a8"
            ],
            [
             0.3333333333333333,
             "#9c179e"
            ],
            [
             0.4444444444444444,
             "#bd3786"
            ],
            [
             0.5555555555555556,
             "#d8576b"
            ],
            [
             0.6666666666666666,
             "#ed7953"
            ],
            [
             0.7777777777777778,
             "#fb9f3a"
            ],
            [
             0.8888888888888888,
             "#fdca26"
            ],
            [
             1.0,
             "#f0f921"
            ]
           ],
           "diverging": [
            [
             0,
             "#8e0152"
            ],
            [
             0.1,
             "#c51b7d"
            ],
            [
             0.2,
             "#de77ae"
            ],
            [
             0.3,
             "#f1b6da"
            ],
            [
             0.4,
             "#fde0ef"
            ],
            [
             0.5,
             "#f7f7f7"
            ],
            [
             0.6,
             "#e6f5d0"
            ],
            [
             0.7,
             "#b8e186"
            ],
            [
             0.8,
             "#7fbc41"
            ],
            [
             0.9,
             "#4d9221"
            ],
            [
             1,
             "#276419"
            ]
           ]
          },
          "xaxis": {
           "gridcolor": "white",
           "linecolor": "white",
           "ticks": "",
           "title": {
            "standoff": 15
           },
           "zerolinecolor": "white",
           "automargin": true,
           "zerolinewidth": 2
          },
          "yaxis": {
           "gridcolor": "white",
           "linecolor": "white",
           "ticks": "",
           "title": {
            "standoff": 15
           },
           "zerolinecolor": "white",
           "automargin": true,
           "zerolinewidth": 2
          },
          "scene": {
           "xaxis": {
            "backgroundcolor": "#E5ECF6",
            "gridcolor": "white",
            "linecolor": "white",
            "showbackground": true,
            "ticks": "",
            "zerolinecolor": "white",
            "gridwidth": 2
           },
           "yaxis": {
            "backgroundcolor": "#E5ECF6",
            "gridcolor": "white",
            "linecolor": "white",
            "showbackground": true,
            "ticks": "",
            "zerolinecolor": "white",
            "gridwidth": 2
           },
           "zaxis": {
            "backgroundcolor": "#E5ECF6",
            "gridcolor": "white",
            "linecolor": "white",
            "showbackground": true,
            "ticks": "",
            "zerolinecolor": "white",
            "gridwidth": 2
           }
          },
          "shapedefaults": {
           "line": {
            "color": "#2a3f5f"
           }
          },
          "annotationdefaults": {
           "arrowcolor": "#2a3f5f",
           "arrowhead": 0,
           "arrowwidth": 1
          },
          "geo": {
           "bgcolor": "white",
           "landcolor": "#E5ECF6",
           "subunitcolor": "white",
           "showland": true,
           "showlakes": true,
           "lakecolor": "white"
          },
          "title": {
           "x": 0.05
          },
          "mapbox": {
           "style": "light"
          }
         }
        },
        "xaxis": {
         "anchor": "y",
         "domain": [
          0.0,
          1.0
         ],
         "title": {
          "text": "date"
         }
        },
        "yaxis": {
         "anchor": "x",
         "domain": [
          0.0,
          1.0
         ],
         "title": {
          "text": "average_price"
         }
        },
        "legend": {
         "title": {
          "text": "area"
         },
         "tracegroupgap": 0
        },
        "title": {
         "text": "Household Prices"
        }
       },
       "config": {
        "plotlyServerURL": "https://plot.ly"
       }
      },
      "text/html": [
       "<div>                            <div id=\"096ae708-04c8-49ac-a5b9-8c5862ec35f3\" class=\"plotly-graph-div\" style=\"height:525px; width:100%;\"></div>            <script type=\"text/javascript\">                require([\"plotly\"], function(Plotly) {                    window.PLOTLYENV=window.PLOTLYENV || {};                                    if (document.getElementById(\"096ae708-04c8-49ac-a5b9-8c5862ec35f3\")) {                    Plotly.newPlot(                        \"096ae708-04c8-49ac-a5b9-8c5862ec35f3\",                        [{\"customdata\":[[\"barking and dagenham\",\"E09000002\",215.0,1771.0],[\"barking and dagenham\",\"E09000002\",238.0,1600.0],[\"barking and dagenham\",\"E09000002\",274.0,1759.0],[\"barking and dagenham\",\"E09000002\",241.0,1643.0],[\"barking and dagenham\",\"E09000002\",283.0,1809.0],[\"barking and dagenham\",\"E09000002\",292.0,1835.0],[\"barking and dagenham\",\"E09000002\",289.0,1774.0],[\"barking and dagenham\",\"E09000002\",321.0,1828.0],[\"barking and dagenham\",\"E09000002\",251.0,1692.0],[\"barking and dagenham\",\"E09000002\",270.0,1743.0],[\"barking and dagenham\",\"E09000002\",282.0,1601.0],[\"barking and dagenham\",\"E09000002\",247.0,1421.0],[\"barking and dagenham\",\"E09000002\",216.0,1751.0],[\"barking and dagenham\",\"E09000002\",198.0,1529.0],[\"barking and dagenham\",\"E09000002\",261.0,1626.0],[\"barking and dagenham\",\"E09000002\",285.0,1685.0],[\"barking and dagenham\",\"E09000002\",335.0,1872.0],[\"barking and dagenham\",\"E09000002\",307.0,1630.0],[\"barking and dagenham\",\"E09000002\",347.0,1757.0],[\"barking and dagenham\",\"E09000002\",350.0,1651.0],[\"barking and dagenham\",\"E09000002\",268.0,1600.0],[\"barking and dagenham\",\"E09000002\",312.0,1753.0],[\"barking and dagenham\",\"E09000002\",300.0,1631.0],[\"barking and dagenham\",\"E09000002\",270.0,1555.0],[\"barking and dagenham\",\"E09000002\",254.0,1652.0],[\"barking and dagenham\",\"E09000002\",219.0,1473.0],[\"barking and dagenham\",\"E09000002\",247.0,1786.0],[\"barking and dagenham\",\"E09000002\",254.0,1620.0],[\"barking and dagenham\",\"E09000002\",248.0,1887.0],[\"barking and dagenham\",\"E09000002\",325.0,1782.0],[\"barking and dagenham\",\"E09000002\",329.0,1832.0],[\"barking and dagenham\",\"E09000002\",339.0,1774.0],[\"barking and dagenham\",\"E09000002\",361.0,1711.0],[\"barking and dagenham\",\"E09000002\",347.0,2049.0],[\"barking and dagenham\",\"E09000002\",318.0,1940.0],[\"barking and dagenham\",\"E09000002\",374.0,1579.0],[\"barking and dagenham\",\"E09000002\",321.0,1768.0],[\"barking and dagenham\",\"E09000002\",297.0,1823.0],[\"barking and dagenham\",\"E09000002\",368.0,1974.0],[\"barking and dagenham\",\"E09000002\",302.0,1860.0],[\"barking and dagenham\",\"E09000002\",322.0,1907.0],[\"barking and dagenham\",\"E09000002\",351.0,1833.0],[\"barking and dagenham\",\"E09000002\",330.0,1769.0],[\"barking and dagenham\",\"E09000002\",316.0,1717.0],[\"barking and dagenham\",\"E09000002\",292.0,1693.0],[\"barking and dagenham\",\"E09000002\",254.0,1711.0],[\"barking and dagenham\",\"E09000002\",255.0,1701.0],[\"barking and dagenham\",\"E09000002\",208.0,1515.0],[\"barking and dagenham\",\"E09000002\",183.0,1694.0],[\"barking and dagenham\",\"E09000002\",168.0,1584.0],[\"barking and dagenham\",\"E09000002\",213.0,1822.0],[\"barking and dagenham\",\"E09000002\",191.0,1713.0],[\"barking and dagenham\",\"E09000002\",223.0,1846.0],[\"barking and dagenham\",\"E09000002\",275.0,1634.0],[\"barking and dagenham\",\"E09000002\",303.0,1802.0],[\"barking and dagenham\",\"E09000002\",279.0,1877.0],[\"barking and dagenham\",\"E09000002\",263.0,1622.0],[\"barking and dagenham\",\"E09000002\",262.0,1842.0],[\"barking and dagenham\",\"E09000002\",267.0,1737.0],[\"barking and dagenham\",\"E09000002\",263.0,1542.0],[\"barking and dagenham\",\"E09000002\",208.0,2002.0],[\"barking and dagenham\",\"E09000002\",256.0,1675.0],[\"barking and dagenham\",\"E09000002\",295.0,1863.0],[\"barking and dagenham\",\"E09000002\",253.0,1811.0],[\"barking and dagenham\",\"E09000002\",262.0,1909.0],[\"barking and dagenham\",\"E09000002\",341.0,1825.0],[\"barking and dagenham\",\"E09000002\",352.0,1808.0],[\"barking and dagenham\",\"E09000002\",345.0,1756.0],[\"barking and dagenham\",\"E09000002\",314.0,1760.0],[\"barking and dagenham\",\"E09000002\",334.0,1853.0],[\"barking and dagenham\",\"E09000002\",366.0,1872.0],[\"barking and dagenham\",\"E09000002\",328.0,1493.0],[\"barking and dagenham\",\"E09000002\",257.0,1790.0],[\"barking and dagenham\",\"E09000002\",285.0,1526.0],[\"barking and dagenham\",\"E09000002\",337.0,1754.0],[\"barking and dagenham\",\"E09000002\",284.0,1716.0],[\"barking and dagenham\",\"E09000002\",325.0,1679.0],[\"barking and dagenham\",\"E09000002\",435.0,1607.0],[\"barking and dagenham\",\"E09000002\",372.0,1569.0],[\"barking and dagenham\",\"E09000002\",389.0,1559.0],[\"barking and dagenham\",\"E09000002\",305.0,1585.0],[\"barking and dagenham\",\"E09000002\",404.0,1721.0],[\"barking and dagenham\",\"E09000002\",325.0,1630.0],[\"barking and dagenham\",\"E09000002\",267.0,1518.0],[\"barking and dagenham\",\"E09000002\",215.0,1667.0],[\"barking and dagenham\",\"E09000002\",228.0,1626.0],[\"barking and dagenham\",\"E09000002\",198.0,1588.0],[\"barking and dagenham\",\"E09000002\",200.0,1731.0],[\"barking and dagenham\",\"E09000002\",145.0,1609.0],[\"barking and dagenham\",\"E09000002\",151.0,1659.0],[\"barking and dagenham\",\"E09000002\",110.0,1790.0],[\"barking and dagenham\",\"E09000002\",107.0,1689.0],[\"barking and dagenham\",\"E09000002\",85.0,1430.0],[\"barking and dagenham\",\"E09000002\",85.0,1630.0],[\"barking and dagenham\",\"E09000002\",75.0,1602.0],[\"barking and dagenham\",\"E09000002\",89.0,1506.0],[\"barking and dagenham\",\"E09000002\",48.0,1660.0],[\"barking and dagenham\",\"E09000002\",51.0,1631.0],[\"barking and dagenham\",\"E09000002\",54.0,1892.0],[\"barking and dagenham\",\"E09000002\",63.0,1735.0],[\"barking and dagenham\",\"E09000002\",67.0,1707.0],[\"barking and dagenham\",\"E09000002\",88.0,1649.0],[\"barking and dagenham\",\"E09000002\",110.0,1705.0],[\"barking and dagenham\",\"E09000002\",120.0,1622.0],[\"barking and dagenham\",\"E09000002\",171.0,1618.0],[\"barking and dagenham\",\"E09000002\",145.0,1600.0],[\"barking and dagenham\",\"E09000002\",158.0,1554.0],[\"barking and dagenham\",\"E09000002\",187.0,1425.0],[\"barking and dagenham\",\"E09000002\",73.0,1603.0],[\"barking and dagenham\",\"E09000002\",105.0,1521.0],[\"barking and dagenham\",\"E09000002\",134.0,1752.0],[\"barking and dagenham\",\"E09000002\",123.0,1669.0],[\"barking and dagenham\",\"E09000002\",124.0,1655.0],[\"barking and dagenham\",\"E09000002\",146.0,1757.0],[\"barking and dagenham\",\"E09000002\",156.0,1783.0],[\"barking and dagenham\",\"E09000002\",124.0,1684.0],[\"barking and dagenham\",\"E09000002\",113.0,1609.0],[\"barking and dagenham\",\"E09000002\",116.0,1608.0],[\"barking and dagenham\",\"E09000002\",118.0,1620.0],[\"barking and dagenham\",\"E09000002\",121.0,1221.0],[\"barking and dagenham\",\"E09000002\",92.0,1485.0],[\"barking and dagenham\",\"E09000002\",94.0,1438.0],[\"barking and dagenham\",\"E09000002\",136.0,1648.0],[\"barking and dagenham\",\"E09000002\",117.0,1635.0],[\"barking and dagenham\",\"E09000002\",109.0,1744.0],[\"barking and dagenham\",\"E09000002\",135.0,1631.0],[\"barking and dagenham\",\"E09000002\",127.0,1635.0],[\"barking and dagenham\",\"E09000002\",127.0,1695.0],[\"barking and dagenham\",\"E09000002\",145.0,1427.0],[\"barking and dagenham\",\"E09000002\",141.0,1430.0],[\"barking and dagenham\",\"E09000002\",124.0,1518.0],[\"barking and dagenham\",\"E09000002\",111.0,1444.0],[\"barking and dagenham\",\"E09000002\",81.0,1538.0],[\"barking and dagenham\",\"E09000002\",122.0,1402.0],[\"barking and dagenham\",\"E09000002\",162.0,1683.0],[\"barking and dagenham\",\"E09000002\",68.0,1363.0],[\"barking and dagenham\",\"E09000002\",101.0,1500.0],[\"barking and dagenham\",\"E09000002\",127.0,1412.0],[\"barking and dagenham\",\"E09000002\",134.0,1450.0],[\"barking and dagenham\",\"E09000002\",122.0,1402.0],[\"barking and dagenham\",\"E09000002\",90.0,1304.0],[\"barking and dagenham\",\"E09000002\",102.0,1431.0],[\"barking and dagenham\",\"E09000002\",119.0,1516.0],[\"barking and dagenham\",\"E09000002\",114.0,1363.0],[\"barking and dagenham\",\"E09000002\",92.0,1558.0],[\"barking and dagenham\",\"E09000002\",120.0,1492.0],[\"barking and dagenham\",\"E09000002\",96.0,1449.0],[\"barking and dagenham\",\"E09000002\",107.0,1359.0],[\"barking and dagenham\",\"E09000002\",135.0,1363.0],[\"barking and dagenham\",\"E09000002\",132.0,1265.0],[\"barking and dagenham\",\"E09000002\",165.0,1500.0],[\"barking and dagenham\",\"E09000002\",192.0,1279.0],[\"barking and dagenham\",\"E09000002\",147.0,1265.0],[\"barking and dagenham\",\"E09000002\",175.0,1372.0],[\"barking and dagenham\",\"E09000002\",215.0,1416.0],[\"barking and dagenham\",\"E09000002\",212.0,1217.0],[\"barking and dagenham\",\"E09000002\",127.0,1311.0],[\"barking and dagenham\",\"E09000002\",156.0,1253.0],[\"barking and dagenham\",\"E09000002\",158.0,1507.0],[\"barking and dagenham\",\"E09000002\",157.0,1253.0],[\"barking and dagenham\",\"E09000002\",166.0,1324.0],[\"barking and dagenham\",\"E09000002\",162.0,1353.0],[\"barking and dagenham\",\"E09000002\",209.0,1403.0],[\"barking and dagenham\",\"E09000002\",202.0,1289.0],[\"barking and dagenham\",\"E09000002\",185.0,1414.0],[\"barking and dagenham\",\"E09000002\",237.0,1359.0],[\"barking and dagenham\",\"E09000002\",201.0,1477.0],[\"barking and dagenham\",\"E09000002\",299.0,1285.0],[\"barking and dagenham\",\"E09000002\",204.0,1308.0],[\"barking and dagenham\",\"E09000002\",184.0,1221.0],[\"barking and dagenham\",\"E09000002\",183.0,1549.0],[\"barking and dagenham\",\"E09000002\",162.0,1342.0],[\"barking and dagenham\",\"E09000002\",167.0,1496.0],[\"barking and dagenham\",\"E09000002\",218.0,1440.0],[\"barking and dagenham\",\"E09000002\",200.0,1584.0],[\"barking and dagenham\",\"E09000002\",185.0,1411.0],[\"barking and dagenham\",\"E09000002\",209.0,1436.0],[\"barking and dagenham\",\"E09000002\",235.0,1395.0],[\"barking and dagenham\",\"E09000002\",221.0,1517.0],[\"barking and dagenham\",\"E09000002\",237.0,1481.0],[\"barking and dagenham\",\"E09000002\",158.0,1423.0],[\"barking and dagenham\",\"E09000002\",214.0,1417.0],[\"barking and dagenham\",\"E09000002\",351.0,1555.0],[\"barking and dagenham\",\"E09000002\",137.0,1414.0],[\"barking and dagenham\",\"E09000002\",144.0,1649.0],[\"barking and dagenham\",\"E09000002\",179.0,1552.0],[\"barking and dagenham\",\"E09000002\",182.0,1621.0],[\"barking and dagenham\",\"E09000002\",159.0,1445.0],[\"barking and dagenham\",\"E09000002\",187.0,1460.0],[\"barking and dagenham\",\"E09000002\",160.0,1411.0],[\"barking and dagenham\",\"E09000002\",178.0,1394.0],[\"barking and dagenham\",\"E09000002\",154.0,1349.0],[\"barking and dagenham\",\"E09000002\",129.0,1379.0],[\"barking and dagenham\",\"E09000002\",146.0,1412.0],[\"barking and dagenham\",\"E09000002\",223.0,1603.0],[\"barking and dagenham\",\"E09000002\",125.0,1497.0],[\"barking and dagenham\",\"E09000002\",174.0,1706.0],[\"barking and dagenham\",\"E09000002\",192.0,1581.0],[\"barking and dagenham\",\"E09000002\",160.0,1718.0],[\"barking and dagenham\",\"E09000002\",164.0,1606.0],[\"barking and dagenham\",\"E09000002\",178.0,1553.0],[\"barking and dagenham\",\"E09000002\",206.0,1633.0],[\"barking and dagenham\",\"E09000002\",193.0,1523.0],[\"barking and dagenham\",\"E09000002\",180.0,1463.0],[\"barking and dagenham\",\"E09000002\",154.0,1502.0],[\"barking and dagenham\",\"E09000002\",150.0,1423.0],[\"barking and dagenham\",\"E09000002\",160.0,1605.0],[\"barking and dagenham\",\"E09000002\",150.0,1453.0],[\"barking and dagenham\",\"E09000002\",166.0,1504.0],[\"barking and dagenham\",\"E09000002\",172.0,1569.0],[\"barking and dagenham\",\"E09000002\",211.0,1612.0],[\"barking and dagenham\",\"E09000002\",151.0,1460.0],[\"barking and dagenham\",\"E09000002\",148.0,1467.0],[\"barking and dagenham\",\"E09000002\",161.0,1582.0],[\"barking and dagenham\",\"E09000002\",169.0,1560.0],[\"barking and dagenham\",\"E09000002\",141.0,1544.0],[\"barking and dagenham\",\"E09000002\",119.0,1576.0],[\"barking and dagenham\",\"E09000002\",139.0,1576.0],[\"barking and dagenham\",\"E09000002\",154.0,1711.0],[\"barking and dagenham\",\"E09000002\",119.0,1681.0],[\"barking and dagenham\",\"E09000002\",109.0,1830.0],[\"barking and dagenham\",\"E09000002\",124.0,1698.0],[\"barking and dagenham\",\"E09000002\",141.0,1820.0],[\"barking and dagenham\",\"E09000002\",154.0,1550.0],[\"barking and dagenham\",\"E09000002\",125.0,1649.0],[\"barking and dagenham\",\"E09000002\",131.0,1794.0],[\"barking and dagenham\",\"E09000002\",124.0,1653.0]],\"hovertemplate\":\"area=%{customdata[0]}\\u003cbr\\u003edate=%{x}\\u003cbr\\u003eaverage_price=%{y}\\u003cbr\\u003ecode=%{customdata[1]}\\u003cbr\\u003ehouses_sold=%{customdata[2]}\\u003cbr\\u003eno_of_crimes=%{customdata[3]}\\u003cextra\\u003e\\u003c\\u002fextra\\u003e\",\"legendgroup\":\"barking and dagenham\",\"line\":{\"color\":\"#636efa\",\"dash\":\"solid\"},\"marker\":{\"symbol\":\"circle\"},\"mode\":\"lines\",\"name\":\"barking and dagenham\",\"orientation\":\"v\",\"showlegend\":true,\"x\":[\"2001-01-01\",\"2001-02-01\",\"2001-03-01\",\"2001-04-01\",\"2001-05-01\",\"2001-06-01\",\"2001-07-01\",\"2001-08-01\",\"2001-09-01\",\"2001-10-01\",\"2001-11-01\",\"2001-12-01\",\"2002-01-01\",\"2002-02-01\",\"2002-03-01\",\"2002-04-01\",\"2002-05-01\",\"2002-06-01\",\"2002-07-01\",\"2002-08-01\",\"2002-09-01\",\"2002-10-01\",\"2002-11-01\",\"2002-12-01\",\"2003-01-01\",\"2003-02-01\",\"2003-03-01\",\"2003-04-01\",\"2003-05-01\",\"2003-06-01\",\"2003-07-01\",\"2003-08-01\",\"2003-09-01\",\"2003-10-01\",\"2003-11-01\",\"2003-12-01\",\"2004-01-01\",\"2004-02-01\",\"2004-03-01\",\"2004-04-01\",\"2004-05-01\",\"2004-06-01\",\"2004-07-01\",\"2004-08-01\",\"2004-09-01\",\"2004-10-01\",\"2004-11-01\",\"2004-12-01\",\"2005-01-01\",\"2005-02-01\",\"2005-03-01\",\"2005-04-01\",\"2005-05-01\",\"2005-06-01\",\"2005-07-01\",\"2005-08-01\",\"2005-09-01\",\"2005-10-01\",\"2005-11-01\",\"2005-12-01\",\"2006-01-01\",\"2006-02-01\",\"2006-03-01\",\"2006-04-01\",\"2006-05-01\",\"2006-06-01\",\"2006-07-01\",\"2006-08-01\",\"2006-09-01\",\"2006-10-01\",\"2006-11-01\",\"2006-12-01\",\"2007-01-01\",\"2007-02-01\",\"2007-03-01\",\"2007-04-01\",\"2007-05-01\",\"2007-06-01\",\"2007-07-01\",\"2007-08-01\",\"2007-09-01\",\"2007-10-01\",\"2007-11-01\",\"2007-12-01\",\"2008-01-01\",\"2008-02-01\",\"2008-03-01\",\"2008-04-01\",\"2008-05-01\",\"2008-06-01\",\"2008-07-01\",\"2008-08-01\",\"2008-09-01\",\"2008-10-01\",\"2008-11-01\",\"2008-12-01\",\"2009-01-01\",\"2009-02-01\",\"2009-03-01\",\"2009-04-01\",\"2009-05-01\",\"2009-06-01\",\"2009-07-01\",\"2009-08-01\",\"2009-09-01\",\"2009-10-01\",\"2009-11-01\",\"2009-12-01\",\"2010-01-01\",\"2010-02-01\",\"2010-03-01\",\"2010-04-01\",\"2010-05-01\",\"2010-06-01\",\"2010-07-01\",\"2010-08-01\",\"2010-09-01\",\"2010-10-01\",\"2010-11-01\",\"2010-12-01\",\"2011-01-01\",\"2011-02-01\",\"2011-03-01\",\"2011-04-01\",\"2011-05-01\",\"2011-06-01\",\"2011-07-01\",\"2011-08-01\",\"2011-09-01\",\"2011-10-01\",\"2011-11-01\",\"2011-12-01\",\"2012-01-01\",\"2012-02-01\",\"2012-03-01\",\"2012-04-01\",\"2012-05-01\",\"2012-06-01\",\"2012-07-01\",\"2012-08-01\",\"2012-09-01\",\"2012-10-01\",\"2012-11-01\",\"2012-12-01\",\"2013-01-01\",\"2013-02-01\",\"2013-03-01\",\"2013-04-01\",\"2013-05-01\",\"2013-06-01\",\"2013-07-01\",\"2013-08-01\",\"2013-09-01\",\"2013-10-01\",\"2013-11-01\",\"2013-12-01\",\"2014-01-01\",\"2014-02-01\",\"2014-03-01\",\"2014-04-01\",\"2014-05-01\",\"2014-06-01\",\"2014-07-01\",\"2014-08-01\",\"2014-09-01\",\"2014-10-01\",\"2014-11-01\",\"2014-12-01\",\"2015-01-01\",\"2015-02-01\",\"2015-03-01\",\"2015-04-01\",\"2015-05-01\",\"2015-06-01\",\"2015-07-01\",\"2015-08-01\",\"2015-09-01\",\"2015-10-01\",\"2015-11-01\",\"2015-12-01\",\"2016-01-01\",\"2016-02-01\",\"2016-03-01\",\"2016-04-01\",\"2016-05-01\",\"2016-06-01\",\"2016-07-01\",\"2016-08-01\",\"2016-09-01\",\"2016-10-01\",\"2016-11-01\",\"2016-12-01\",\"2017-01-01\",\"2017-02-01\",\"2017-03-01\",\"2017-04-01\",\"2017-05-01\",\"2017-06-01\",\"2017-07-01\",\"2017-08-01\",\"2017-09-01\",\"2017-10-01\",\"2017-11-01\",\"2017-12-01\",\"2018-01-01\",\"2018-02-01\",\"2018-03-01\",\"2018-04-01\",\"2018-05-01\",\"2018-06-01\",\"2018-07-01\",\"2018-08-01\",\"2018-09-01\",\"2018-10-01\",\"2018-11-01\",\"2018-12-01\",\"2019-01-01\",\"2019-02-01\",\"2019-03-01\",\"2019-04-01\",\"2019-05-01\",\"2019-06-01\",\"2019-07-01\",\"2019-08-01\",\"2019-09-01\",\"2019-10-01\",\"2019-11-01\"],\"xaxis\":\"x\",\"y\":[82343,83266,84058,83965,85124,86732,89194,90462,92610,93584,95918,96712,98713,100229,101633,103885,105761,108615,111983,115548,118331,122940,127316,131709,134750,138195,142207,142192,142797,141957,142223,142792,141707,145136,146331,149701,150115,152688,153591,154014,154361,156951,159227,160620,162821,164422,165172,164130,164484,162324,161927,162771,164000,165770,162428,164000,163111,164179,162695,162642,162340,163024,162004,164204,166048,169013,170204,171177,170251,170091,171598,174285,176577,177051,179011,179847,181828,183476,185929,187337,190223,191576,193603,192458,194235,193699,196257,192932,193573,190727,191067,189100,184659,177921,174390,169722,166798,161879,156811,152209,148433,150194,154105,156272,155827,156674,157272,160889,162905,163023,162831,162756,164903,167148,168661,170216,170253,170298,169250,166485,163821,162484,161660,162401,162703,162304,160895,163477,166865,167493,164847,162631,163899,163607,164438,164731,166503,168049,168007,166180,165304,165328,166508,167813,167919,169461,169414,169968,170475,172652,174604,173720,174761,176821,181910,183099,184884,185428,189877,193077,196620,198040,201936,204974,210412,213903,216631,218285,220070,222919,222417,222176,221826,227558,235702,241735,243479,243539,246955,253145,258758,262861,266209,266744,268081,269318,274243,279484,283654,286210,285853,285622,282441,280698,278213,280567,286018,289569,291727,290965,292519,293390,293796,292915,291548,292777,291723,291184,290239,294236,294953,295908,296424,299648,302606,301114,297181,293881,294585,296360,296555,295600,299538,300702,305277,304153,305882],\"yaxis\":\"y\",\"type\":\"scatter\"},{\"customdata\":[[\"camden\",\"E09000007\",275.0,3530.0],[\"camden\",\"E09000007\",210.0,3374.0],[\"camden\",\"E09000007\",263.0,3791.0],[\"camden\",\"E09000007\",267.0,3564.0],[\"camden\",\"E09000007\",308.0,3857.0],[\"camden\",\"E09000007\",352.0,3907.0],[\"camden\",\"E09000007\",333.0,4067.0],[\"camden\",\"E09000007\",389.0,4026.0],[\"camden\",\"E09000007\",350.0,3859.0],[\"camden\",\"E09000007\",281.0,4558.0],[\"camden\",\"E09000007\",291.0,4353.0],[\"camden\",\"E09000007\",271.0,3828.0],[\"camden\",\"E09000007\",237.0,4303.0],[\"camden\",\"E09000007\",243.0,3846.0],[\"camden\",\"E09000007\",296.0,3810.0],[\"camden\",\"E09000007\",341.0,3945.0],[\"camden\",\"E09000007\",406.0,4121.0],[\"camden\",\"E09000007\",325.0,4076.0],[\"camden\",\"E09000007\",386.0,4157.0],[\"camden\",\"E09000007\",379.0,4058.0],[\"camden\",\"E09000007\",331.0,4039.0],[\"camden\",\"E09000007\",323.0,4398.0],[\"camden\",\"E09000007\",301.0,4157.0],[\"camden\",\"E09000007\",283.0,3471.0],[\"camden\",\"E09000007\",265.0,4000.0],[\"camden\",\"E09000007\",205.0,3689.0],[\"camden\",\"E09000007\",235.0,3908.0],[\"camden\",\"E09000007\",198.0,3548.0],[\"camden\",\"E09000007\",203.0,3801.0],[\"camden\",\"E09000007\",250.0,4055.0],[\"camden\",\"E09000007\",277.0,4204.0],[\"camden\",\"E09000007\",296.0,3944.0],[\"camden\",\"E09000007\",342.0,3806.0],[\"camden\",\"E09000007\",305.0,4053.0],[\"camden\",\"E09000007\",310.0,3803.0],[\"camden\",\"E09000007\",264.0,3342.0],[\"camden\",\"E09000007\",282.0,3682.0],[\"camden\",\"E09000007\",274.0,3601.0],[\"camden\",\"E09000007\",321.0,3715.0],[\"camden\",\"E09000007\",346.0,3443.0],[\"camden\",\"E09000007\",304.0,3703.0],[\"camden\",\"E09000007\",396.0,3486.0],[\"camden\",\"E09000007\",409.0,3432.0],[\"camden\",\"E09000007\",384.0,3504.0],[\"camden\",\"E09000007\",310.0,3443.0],[\"camden\",\"E09000007\",267.0,3506.0],[\"camden\",\"E09000007\",254.0,3412.0],[\"camden\",\"E09000007\",213.0,2863.0],[\"camden\",\"E09000007\",228.0,3049.0],[\"camden\",\"E09000007\",198.0,2895.0],[\"camden\",\"E09000007\",216.0,3182.0],[\"camden\",\"E09000007\",257.0,3492.0],[\"camden\",\"E09000007\",260.0,3393.0],[\"camden\",\"E09000007\",317.0,3324.0],[\"camden\",\"E09000007\",316.0,3128.0],[\"camden\",\"E09000007\",295.0,3041.0],[\"camden\",\"E09000007\",336.0,3037.0],[\"camden\",\"E09000007\",299.0,3343.0],[\"camden\",\"E09000007\",301.0,3403.0],[\"camden\",\"E09000007\",296.0,2965.0],[\"camden\",\"E09000007\",313.0,3095.0],[\"camden\",\"E09000007\",267.0,2799.0],[\"camden\",\"E09000007\",361.0,3131.0],[\"camden\",\"E09000007\",310.0,2940.0],[\"camden\",\"E09000007\",328.0,3355.0],[\"camden\",\"E09000007\",360.0,3470.0],[\"camden\",\"E09000007\",384.0,3526.0],[\"camden\",\"E09000007\",429.0,3315.0],[\"camden\",\"E09000007\",391.0,3448.0],[\"camden\",\"E09000007\",342.0,3550.0],[\"camden\",\"E09000007\",331.0,3671.0],[\"camden\",\"E09000007\",340.0,2938.0],[\"camden\",\"E09000007\",297.0,3374.0],[\"camden\",\"E09000007\",283.0,3007.0],[\"camden\",\"E09000007\",327.0,3578.0],[\"camden\",\"E09000007\",265.0,3074.0],[\"camden\",\"E09000007\",310.0,3108.0],[\"camden\",\"E09000007\",330.0,2968.0],[\"camden\",\"E09000007\",340.0,3056.0],[\"camden\",\"E09000007\",368.0,2826.0],[\"camden\",\"E09000007\",300.0,2807.0],[\"camden\",\"E09000007\",303.0,3029.0],[\"camden\",\"E09000007\",267.0,2920.0],[\"camden\",\"E09000007\",240.0,2360.0],[\"camden\",\"E09000007\",217.0,2611.0],[\"camden\",\"E09000007\",189.0,2605.0],[\"camden\",\"E09000007\",162.0,2803.0],[\"camden\",\"E09000007\",162.0,2636.0],[\"camden\",\"E09000007\",206.0,2745.0],[\"camden\",\"E09000007\",237.0,2865.0],[\"camden\",\"E09000007\",200.0,3010.0],[\"camden\",\"E09000007\",164.0,2635.0],[\"camden\",\"E09000007\",159.0,2598.0],[\"camden\",\"E09000007\",117.0,2937.0],[\"camden\",\"E09000007\",117.0,2848.0],[\"camden\",\"E09000007\",122.0,2571.0],[\"camden\",\"E09000007\",96.0,2661.0],[\"camden\",\"E09000007\",89.0,2458.0],[\"camden\",\"E09000007\",118.0,2947.0],[\"camden\",\"E09000007\",125.0,2604.0],[\"camden\",\"E09000007\",157.0,2755.0],[\"camden\",\"E09000007\",181.0,2782.0],[\"camden\",\"E09000007\",224.0,2995.0],[\"camden\",\"E09000007\",214.0,2539.0],[\"camden\",\"E09000007\",251.0,2527.0],[\"camden\",\"E09000007\",241.0,2990.0],[\"camden\",\"E09000007\",212.0,2888.0],[\"camden\",\"E09000007\",278.0,2503.0],[\"camden\",\"E09000007\",210.0,2532.0],[\"camden\",\"E09000007\",185.0,2577.0],[\"camden\",\"E09000007\",218.0,2911.0],[\"camden\",\"E09000007\",163.0,2903.0],[\"camden\",\"E09000007\",181.0,3013.0],[\"camden\",\"E09000007\",231.0,2807.0],[\"camden\",\"E09000007\",304.0,2788.0],[\"camden\",\"E09000007\",273.0,2694.0],[\"camden\",\"E09000007\",270.0,2688.0],[\"camden\",\"E09000007\",228.0,2959.0],[\"camden\",\"E09000007\",249.0,3175.0],[\"camden\",\"E09000007\",221.0,2533.0],[\"camden\",\"E09000007\",221.0,2661.0],[\"camden\",\"E09000007\",177.0,2631.0],[\"camden\",\"E09000007\",190.0,3385.0],[\"camden\",\"E09000007\",212.0,2990.0],[\"camden\",\"E09000007\",162.0,3350.0],[\"camden\",\"E09000007\",227.0,3280.0],[\"camden\",\"E09000007\",256.0,3238.0],[\"camden\",\"E09000007\",263.0,2774.0],[\"camden\",\"E09000007\",267.0,2867.0],[\"camden\",\"E09000007\",249.0,3112.0],[\"camden\",\"E09000007\",204.0,3168.0],[\"camden\",\"E09000007\",192.0,2765.0],[\"camden\",\"E09000007\",174.0,2743.0],[\"camden\",\"E09000007\",165.0,2521.0],[\"camden\",\"E09000007\",210.0,3076.0],[\"camden\",\"E09000007\",153.0,2759.0],[\"camden\",\"E09000007\",198.0,3166.0],[\"camden\",\"E09000007\",204.0,2871.0],[\"camden\",\"E09000007\",259.0,3053.0],[\"camden\",\"E09000007\",245.0,2688.0],[\"camden\",\"E09000007\",224.0,2480.0],[\"camden\",\"E09000007\",172.0,2789.0],[\"camden\",\"E09000007\",211.0,2827.0],[\"camden\",\"E09000007\",198.0,2699.0],[\"camden\",\"E09000007\",235.0,2734.0],[\"camden\",\"E09000007\",156.0,2366.0],[\"camden\",\"E09000007\",169.0,2413.0],[\"camden\",\"E09000007\",214.0,2404.0],[\"camden\",\"E09000007\",253.0,2505.0],[\"camden\",\"E09000007\",213.0,2568.0],[\"camden\",\"E09000007\",318.0,2596.0],[\"camden\",\"E09000007\",289.0,2552.0],[\"camden\",\"E09000007\",282.0,2345.0],[\"camden\",\"E09000007\",243.0,2593.0],[\"camden\",\"E09000007\",263.0,2148.0],[\"camden\",\"E09000007\",295.0,2079.0],[\"camden\",\"E09000007\",245.0,2302.0],[\"camden\",\"E09000007\",187.0,2135.0],[\"camden\",\"E09000007\",242.0,2420.0],[\"camden\",\"E09000007\",293.0,2181.0],[\"camden\",\"E09000007\",228.0,2330.0],[\"camden\",\"E09000007\",225.0,2305.0],[\"camden\",\"E09000007\",281.0,2262.0],[\"camden\",\"E09000007\",261.0,2142.0],[\"camden\",\"E09000007\",232.0,2306.0],[\"camden\",\"E09000007\",232.0,2524.0],[\"camden\",\"E09000007\",164.0,2533.0],[\"camden\",\"E09000007\",190.0,2499.0],[\"camden\",\"E09000007\",181.0,2429.0],[\"camden\",\"E09000007\",153.0,2313.0],[\"camden\",\"E09000007\",224.0,2608.0],[\"camden\",\"E09000007\",160.0,2516.0],[\"camden\",\"E09000007\",187.0,2802.0],[\"camden\",\"E09000007\",199.0,2662.0],[\"camden\",\"E09000007\",273.0,2582.0],[\"camden\",\"E09000007\",214.0,2307.0],[\"camden\",\"E09000007\",243.0,2453.0],[\"camden\",\"E09000007\",216.0,2640.0],[\"camden\",\"E09000007\",249.0,2569.0],[\"camden\",\"E09000007\",188.0,2464.0],[\"camden\",\"E09000007\",171.0,2398.0],[\"camden\",\"E09000007\",169.0,2430.0],[\"camden\",\"E09000007\",438.0,2375.0],[\"camden\",\"E09000007\",133.0,2316.0],[\"camden\",\"E09000007\",114.0,2568.0],[\"camden\",\"E09000007\",193.0,2449.0],[\"camden\",\"E09000007\",163.0,2701.0],[\"camden\",\"E09000007\",136.0,2579.0],[\"camden\",\"E09000007\",157.0,2512.0],[\"camden\",\"E09000007\",162.0,2623.0],[\"camden\",\"E09000007\",152.0,2503.0],[\"camden\",\"E09000007\",209.0,2720.0],[\"camden\",\"E09000007\",154.0,2461.0],[\"camden\",\"E09000007\",149.0,2578.0],[\"camden\",\"E09000007\",221.0,3035.0],[\"camden\",\"E09000007\",177.0,2916.0],[\"camden\",\"E09000007\",161.0,3379.0],[\"camden\",\"E09000007\",244.0,3391.0],[\"camden\",\"E09000007\",153.0,3521.0],[\"camden\",\"E09000007\",198.0,3383.0],[\"camden\",\"E09000007\",187.0,3297.0],[\"camden\",\"E09000007\",184.0,3613.0],[\"camden\",\"E09000007\",194.0,3414.0],[\"camden\",\"E09000007\",173.0,2956.0],[\"camden\",\"E09000007\",127.0,3100.0],[\"camden\",\"E09000007\",152.0,2766.0],[\"camden\",\"E09000007\",153.0,2931.0],[\"camden\",\"E09000007\",132.0,2831.0],[\"camden\",\"E09000007\",142.0,2976.0],[\"camden\",\"E09000007\",160.0,3024.0],[\"camden\",\"E09000007\",161.0,3114.0],[\"camden\",\"E09000007\",189.0,2860.0],[\"camden\",\"E09000007\",137.0,2893.0],[\"camden\",\"E09000007\",127.0,3057.0],[\"camden\",\"E09000007\",163.0,3137.0],[\"camden\",\"E09000007\",196.0,2965.0],[\"camden\",\"E09000007\",102.0,3057.0],[\"camden\",\"E09000007\",119.0,3170.0],[\"camden\",\"E09000007\",132.0,3457.0],[\"camden\",\"E09000007\",126.0,3234.0],[\"camden\",\"E09000007\",104.0,3294.0],[\"camden\",\"E09000007\",146.0,3162.0],[\"camden\",\"E09000007\",152.0,3461.0],[\"camden\",\"E09000007\",121.0,3210.0],[\"camden\",\"E09000007\",127.0,3342.0],[\"camden\",\"E09000007\",137.0,3736.0],[\"camden\",\"E09000007\",125.0,3447.0]],\"hovertemplate\":\"area=%{customdata[0]}\\u003cbr\\u003edate=%{x}\\u003cbr\\u003eaverage_price=%{y}\\u003cbr\\u003ecode=%{customdata[1]}\\u003cbr\\u003ehouses_sold=%{customdata[2]}\\u003cbr\\u003eno_of_crimes=%{customdata[3]}\\u003cextra\\u003e\\u003c\\u002fextra\\u003e\",\"legendgroup\":\"camden\",\"line\":{\"color\":\"#EF553B\",\"dash\":\"solid\"},\"marker\":{\"symbol\":\"circle\"},\"mode\":\"lines\",\"name\":\"camden\",\"orientation\":\"v\",\"showlegend\":true,\"x\":[\"2001-01-01\",\"2001-02-01\",\"2001-03-01\",\"2001-04-01\",\"2001-05-01\",\"2001-06-01\",\"2001-07-01\",\"2001-08-01\",\"2001-09-01\",\"2001-10-01\",\"2001-11-01\",\"2001-12-01\",\"2002-01-01\",\"2002-02-01\",\"2002-03-01\",\"2002-04-01\",\"2002-05-01\",\"2002-06-01\",\"2002-07-01\",\"2002-08-01\",\"2002-09-01\",\"2002-10-01\",\"2002-11-01\",\"2002-12-01\",\"2003-01-01\",\"2003-02-01\",\"2003-03-01\",\"2003-04-01\",\"2003-05-01\",\"2003-06-01\",\"2003-07-01\",\"2003-08-01\",\"2003-09-01\",\"2003-10-01\",\"2003-11-01\",\"2003-12-01\",\"2004-01-01\",\"2004-02-01\",\"2004-03-01\",\"2004-04-01\",\"2004-05-01\",\"2004-06-01\",\"2004-07-01\",\"2004-08-01\",\"2004-09-01\",\"2004-10-01\",\"2004-11-01\",\"2004-12-01\",\"2005-01-01\",\"2005-02-01\",\"2005-03-01\",\"2005-04-01\",\"2005-05-01\",\"2005-06-01\",\"2005-07-01\",\"2005-08-01\",\"2005-09-01\",\"2005-10-01\",\"2005-11-01\",\"2005-12-01\",\"2006-01-01\",\"2006-02-01\",\"2006-03-01\",\"2006-04-01\",\"2006-05-01\",\"2006-06-01\",\"2006-07-01\",\"2006-08-01\",\"2006-09-01\",\"2006-10-01\",\"2006-11-01\",\"2006-12-01\",\"2007-01-01\",\"2007-02-01\",\"2007-03-01\",\"2007-04-01\",\"2007-05-01\",\"2007-06-01\",\"2007-07-01\",\"2007-08-01\",\"2007-09-01\",\"2007-10-01\",\"2007-11-01\",\"2007-12-01\",\"2008-01-01\",\"2008-02-01\",\"2008-03-01\",\"2008-04-01\",\"2008-05-01\",\"2008-06-01\",\"2008-07-01\",\"2008-08-01\",\"2008-09-01\",\"2008-10-01\",\"2008-11-01\",\"2008-12-01\",\"2009-01-01\",\"2009-02-01\",\"2009-03-01\",\"2009-04-01\",\"2009-05-01\",\"2009-06-01\",\"2009-07-01\",\"2009-08-01\",\"2009-09-01\",\"2009-10-01\",\"2009-11-01\",\"2009-12-01\",\"2010-01-01\",\"2010-02-01\",\"2010-03-01\",\"2010-04-01\",\"2010-05-01\",\"2010-06-01\",\"2010-07-01\",\"2010-08-01\",\"2010-09-01\",\"2010-10-01\",\"2010-11-01\",\"2010-12-01\",\"2011-01-01\",\"2011-02-01\",\"2011-03-01\",\"2011-04-01\",\"2011-05-01\",\"2011-06-01\",\"2011-07-01\",\"2011-08-01\",\"2011-09-01\",\"2011-10-01\",\"2011-11-01\",\"2011-12-01\",\"2012-01-01\",\"2012-02-01\",\"2012-03-01\",\"2012-04-01\",\"2012-05-01\",\"2012-06-01\",\"2012-07-01\",\"2012-08-01\",\"2012-09-01\",\"2012-10-01\",\"2012-11-01\",\"2012-12-01\",\"2013-01-01\",\"2013-02-01\",\"2013-03-01\",\"2013-04-01\",\"2013-05-01\",\"2013-06-01\",\"2013-07-01\",\"2013-08-01\",\"2013-09-01\",\"2013-10-01\",\"2013-11-01\",\"2013-12-01\",\"2014-01-01\",\"2014-02-01\",\"2014-03-01\",\"2014-04-01\",\"2014-05-01\",\"2014-06-01\",\"2014-07-01\",\"2014-08-01\",\"2014-09-01\",\"2014-10-01\",\"2014-11-01\",\"2014-12-01\",\"2015-01-01\",\"2015-02-01\",\"2015-03-01\",\"2015-04-01\",\"2015-05-01\",\"2015-06-01\",\"2015-07-01\",\"2015-08-01\",\"2015-09-01\",\"2015-10-01\",\"2015-11-01\",\"2015-12-01\",\"2016-01-01\",\"2016-02-01\",\"2016-03-01\",\"2016-04-01\",\"2016-05-01\",\"2016-06-01\",\"2016-07-01\",\"2016-08-01\",\"2016-09-01\",\"2016-10-01\",\"2016-11-01\",\"2016-12-01\",\"2017-01-01\",\"2017-02-01\",\"2017-03-01\",\"2017-04-01\",\"2017-05-01\",\"2017-06-01\",\"2017-07-01\",\"2017-08-01\",\"2017-09-01\",\"2017-10-01\",\"2017-11-01\",\"2017-12-01\",\"2018-01-01\",\"2018-02-01\",\"2018-03-01\",\"2018-04-01\",\"2018-05-01\",\"2018-06-01\",\"2018-07-01\",\"2018-08-01\",\"2018-09-01\",\"2018-10-01\",\"2018-11-01\",\"2018-12-01\",\"2019-01-01\",\"2019-02-01\",\"2019-03-01\",\"2019-04-01\",\"2019-05-01\",\"2019-06-01\",\"2019-07-01\",\"2019-08-01\",\"2019-09-01\",\"2019-10-01\",\"2019-11-01\"],\"xaxis\":\"x\",\"y\":[265515,267786,273059,268947,269837,271558,280482,286872,287807,288837,290868,291559,290461,289270,289615,296979,308913,319466,323154,325074,332370,333820,332036,328996,322511,306183,299760,306134,321380,327338,334896,337758,338320,331384,327200,323782,329660,332300,339717,336670,343102,354540,368811,370139,364530,361902,364408,356394,345132,341746,348785,359728,369411,379377,380976,391166,386496,383714,366351,367259,368710,373670,377340,382933,389596,392849,400432,406666,406025,403221,407617,428775,433901,441611,439974,451966,441267,454121,466114,490494,499913,500648,495249,482569,486659,505472,510059,510072,505894,506171,521992,525296,515019,498394,472362,457290,446897,453141,465563,451643,442606,434898,451204,467171,475211,471298,449490,446413,454547,480598,498893,499767,490244,492592,524202,549963,550372,540612,532976,543887,540301,542726,547549,556409,544622,545294,547387,563690,576482,573535,567064,547657,548416,550841,568979,574962,575996,575350,600406,614424,613483,594506,596278,620351,627541,651998,635099,649540,651476,671439,685330,707359,705755,689918,662701,671215,695470,719848,720064,728942,746938,769628,787361,794040,803461,780638,769852,761594,769724,769171,756915,749621,745684,770154,793213,819744,833334,828316,816648,796767,808531,827590,854686,838254,807401,770905,753956,769512,786866,805146,830455,832126,856070,824403,813907,799226,815494,843239,865076,864580,864603,834802,846354,844416,859593,875078,853396,866438,837928,850613,837712,827363,817464,808321,807225,867795,867808,864136,807895,822533,836880,871354,881212,855721,828560,799950,818880],\"yaxis\":\"y\",\"type\":\"scatter\"},{\"customdata\":[[\"hammersmith and fulham\",\"E09000013\",253.0,2234.0],[\"hammersmith and fulham\",\"E09000013\",222.0,2130.0],[\"hammersmith and fulham\",\"E09000013\",271.0,2440.0],[\"hammersmith and fulham\",\"E09000013\",306.0,2385.0],[\"hammersmith and fulham\",\"E09000013\",305.0,2645.0],[\"hammersmith and fulham\",\"E09000013\",357.0,2329.0],[\"hammersmith and fulham\",\"E09000013\",354.0,2276.0],[\"hammersmith and fulham\",\"E09000013\",415.0,2196.0],[\"hammersmith and fulham\",\"E09000013\",302.0,2065.0],[\"hammersmith and fulham\",\"E09000013\",289.0,2262.0],[\"hammersmith and fulham\",\"E09000013\",312.0,2238.0],[\"hammersmith and fulham\",\"E09000013\",206.0,1932.0],[\"hammersmith and fulham\",\"E09000013\",227.0,2140.0],[\"hammersmith and fulham\",\"E09000013\",229.0,1868.0],[\"hammersmith and fulham\",\"E09000013\",313.0,2216.0],[\"hammersmith and fulham\",\"E09000013\",315.0,2184.0],[\"hammersmith and fulham\",\"E09000013\",456.0,2288.0],[\"hammersmith and fulham\",\"E09000013\",317.0,2148.0],[\"hammersmith and fulham\",\"E09000013\",449.0,2215.0],[\"hammersmith and fulham\",\"E09000013\",387.0,2125.0],[\"hammersmith and fulham\",\"E09000013\",343.0,2242.0],[\"hammersmith and fulham\",\"E09000013\",313.0,2361.0],[\"hammersmith and fulham\",\"E09000013\",314.0,2267.0],[\"hammersmith and fulham\",\"E09000013\",282.0,1934.0],[\"hammersmith and fulham\",\"E09000013\",223.0,2245.0],[\"hammersmith and fulham\",\"E09000013\",218.0,2004.0],[\"hammersmith and fulham\",\"E09000013\",207.0,2272.0],[\"hammersmith and fulham\",\"E09000013\",213.0,2158.0],[\"hammersmith and fulham\",\"E09000013\",215.0,2384.0],[\"hammersmith and fulham\",\"E09000013\",286.0,2288.0],[\"hammersmith and fulham\",\"E09000013\",321.0,2222.0],[\"hammersmith and fulham\",\"E09000013\",367.0,2125.0],[\"hammersmith and fulham\",\"E09000013\",347.0,2083.0],[\"hammersmith and fulham\",\"E09000013\",331.0,2184.0],[\"hammersmith and fulham\",\"E09000013\",321.0,2086.0],[\"hammersmith and fulham\",\"E09000013\",283.0,1856.0],[\"hammersmith and fulham\",\"E09000013\",306.0,1954.0],[\"hammersmith and fulham\",\"E09000013\",276.0,1940.0],[\"hammersmith and fulham\",\"E09000013\",336.0,2268.0],[\"hammersmith and fulham\",\"E09000013\",359.0,2088.0],[\"hammersmith and fulham\",\"E09000013\",317.0,2283.0],[\"hammersmith and fulham\",\"E09000013\",345.0,2219.0],[\"hammersmith and fulham\",\"E09000013\",408.0,2346.0],[\"hammersmith and fulham\",\"E09000013\",337.0,2077.0],[\"hammersmith and fulham\",\"E09000013\",299.0,2087.0],[\"hammersmith and fulham\",\"E09000013\",253.0,2065.0],[\"hammersmith and fulham\",\"E09000013\",225.0,2054.0],[\"hammersmith and fulham\",\"E09000013\",231.0,1867.0],[\"hammersmith and fulham\",\"E09000013\",196.0,1927.0],[\"hammersmith and fulham\",\"E09000013\",160.0,1654.0],[\"hammersmith and fulham\",\"E09000013\",214.0,2005.0],[\"hammersmith and fulham\",\"E09000013\",263.0,1805.0],[\"hammersmith and fulham\",\"E09000013\",260.0,1999.0],[\"hammersmith and fulham\",\"E09000013\",282.0,1879.0],[\"hammersmith and fulham\",\"E09000013\",337.0,1884.0],[\"hammersmith and fulham\",\"E09000013\",329.0,1819.0],[\"hammersmith and fulham\",\"E09000013\",316.0,2029.0],[\"hammersmith and fulham\",\"E09000013\",274.0,2304.0],[\"hammersmith and fulham\",\"E09000013\",269.0,2074.0],[\"hammersmith and fulham\",\"E09000013\",289.0,1822.0],[\"hammersmith and fulham\",\"E09000013\",266.0,2015.0],[\"hammersmith and fulham\",\"E09000013\",240.0,1783.0],[\"hammersmith and fulham\",\"E09000013\",326.0,2067.0],[\"hammersmith and fulham\",\"E09000013\",341.0,2009.0],[\"hammersmith and fulham\",\"E09000013\",336.0,2127.0],[\"hammersmith and fulham\",\"E09000013\",416.0,2074.0],[\"hammersmith and fulham\",\"E09000013\",413.0,1979.0],[\"hammersmith and fulham\",\"E09000013\",407.0,1856.0],[\"hammersmith and fulham\",\"E09000013\",328.0,1975.0],[\"hammersmith and fulham\",\"E09000013\",323.0,2108.0],[\"hammersmith and fulham\",\"E09000013\",347.0,2032.0],[\"hammersmith and fulham\",\"E09000013\",362.0,1886.0],[\"hammersmith and fulham\",\"E09000013\",284.0,2176.0],[\"hammersmith and fulham\",\"E09000013\",295.0,1637.0],[\"hammersmith and fulham\",\"E09000013\",362.0,1870.0],[\"hammersmith and fulham\",\"E09000013\",307.0,1914.0],[\"hammersmith and fulham\",\"E09000013\",347.0,2008.0],[\"hammersmith and fulham\",\"E09000013\",397.0,1868.0],[\"hammersmith and fulham\",\"E09000013\",391.0,1906.0],[\"hammersmith and fulham\",\"E09000013\",386.0,1794.0],[\"hammersmith and fulham\",\"E09000013\",296.0,1982.0],[\"hammersmith and fulham\",\"E09000013\",270.0,2030.0],[\"hammersmith and fulham\",\"E09000013\",259.0,1836.0],[\"hammersmith and fulham\",\"E09000013\",182.0,1701.0],[\"hammersmith and fulham\",\"E09000013\",187.0,1913.0],[\"hammersmith and fulham\",\"E09000013\",177.0,1791.0],[\"hammersmith and fulham\",\"E09000013\",160.0,1703.0],[\"hammersmith and fulham\",\"E09000013\",182.0,1809.0],[\"hammersmith and fulham\",\"E09000013\",142.0,1833.0],[\"hammersmith and fulham\",\"E09000013\",116.0,1881.0],[\"hammersmith and fulham\",\"E09000013\",153.0,1843.0],[\"hammersmith and fulham\",\"E09000013\",138.0,1810.0],[\"hammersmith and fulham\",\"E09000013\",97.0,1756.0],[\"hammersmith and fulham\",\"E09000013\",115.0,1993.0],[\"hammersmith and fulham\",\"E09000013\",81.0,1938.0],[\"hammersmith and fulham\",\"E09000013\",78.0,1763.0],[\"hammersmith and fulham\",\"E09000013\",71.0,1937.0],[\"hammersmith and fulham\",\"E09000013\",63.0,1619.0],[\"hammersmith and fulham\",\"E09000013\",90.0,1987.0],[\"hammersmith and fulham\",\"E09000013\",87.0,1916.0],[\"hammersmith and fulham\",\"E09000013\",129.0,1892.0],[\"hammersmith and fulham\",\"E09000013\",156.0,1952.0],[\"hammersmith and fulham\",\"E09000013\",209.0,1957.0],[\"hammersmith and fulham\",\"E09000013\",230.0,1795.0],[\"hammersmith and fulham\",\"E09000013\",243.0,1824.0],[\"hammersmith and fulham\",\"E09000013\",196.0,2027.0],[\"hammersmith and fulham\",\"E09000013\",205.0,1831.0],[\"hammersmith and fulham\",\"E09000013\",239.0,1694.0],[\"hammersmith and fulham\",\"E09000013\",184.0,1648.0],[\"hammersmith and fulham\",\"E09000013\",153.0,1648.0],[\"hammersmith and fulham\",\"E09000013\",203.0,1923.0],[\"hammersmith and fulham\",\"E09000013\",203.0,2100.0],[\"hammersmith and fulham\",\"E09000013\",197.0,2051.0],[\"hammersmith and fulham\",\"E09000013\",242.0,2121.0],[\"hammersmith and fulham\",\"E09000013\",278.0,2165.0],[\"hammersmith and fulham\",\"E09000013\",227.0,1946.0],[\"hammersmith and fulham\",\"E09000013\",235.0,1993.0],[\"hammersmith and fulham\",\"E09000013\",193.0,2046.0],[\"hammersmith and fulham\",\"E09000013\",183.0,2078.0],[\"hammersmith and fulham\",\"E09000013\",191.0,1833.0],[\"hammersmith and fulham\",\"E09000013\",181.0,2019.0],[\"hammersmith and fulham\",\"E09000013\",181.0,1744.0],[\"hammersmith and fulham\",\"E09000013\",233.0,2086.0],[\"hammersmith and fulham\",\"E09000013\",234.0,1942.0],[\"hammersmith and fulham\",\"E09000013\",204.0,2123.0],[\"hammersmith and fulham\",\"E09000013\",209.0,2068.0],[\"hammersmith and fulham\",\"E09000013\",247.0,2031.0],[\"hammersmith and fulham\",\"E09000013\",266.0,1966.0],[\"hammersmith and fulham\",\"E09000013\",233.0,1862.0],[\"hammersmith and fulham\",\"E09000013\",244.0,1916.0],[\"hammersmith and fulham\",\"E09000013\",253.0,1995.0],[\"hammersmith and fulham\",\"E09000013\",206.0,1923.0],[\"hammersmith and fulham\",\"E09000013\",185.0,1802.0],[\"hammersmith and fulham\",\"E09000013\",155.0,1787.0],[\"hammersmith and fulham\",\"E09000013\",225.0,1958.0],[\"hammersmith and fulham\",\"E09000013\",232.0,1896.0],[\"hammersmith and fulham\",\"E09000013\",209.0,2048.0],[\"hammersmith and fulham\",\"E09000013\",220.0,1875.0],[\"hammersmith and fulham\",\"E09000013\",265.0,1938.0],[\"hammersmith and fulham\",\"E09000013\",258.0,1876.0],[\"hammersmith and fulham\",\"E09000013\",222.0,1839.0],[\"hammersmith and fulham\",\"E09000013\",213.0,1917.0],[\"hammersmith and fulham\",\"E09000013\",216.0,1866.0],[\"hammersmith and fulham\",\"E09000013\",196.0,1747.0],[\"hammersmith and fulham\",\"E09000013\",213.0,1702.0],[\"hammersmith and fulham\",\"E09000013\",166.0,1530.0],[\"hammersmith and fulham\",\"E09000013\",202.0,1548.0],[\"hammersmith and fulham\",\"E09000013\",221.0,1552.0],[\"hammersmith and fulham\",\"E09000013\",225.0,1654.0],[\"hammersmith and fulham\",\"E09000013\",251.0,1553.0],[\"hammersmith and fulham\",\"E09000013\",342.0,1635.0],[\"hammersmith and fulham\",\"E09000013\",306.0,1581.0],[\"hammersmith and fulham\",\"E09000013\",306.0,1574.0],[\"hammersmith and fulham\",\"E09000013\",258.0,1738.0],[\"hammersmith and fulham\",\"E09000013\",254.0,1737.0],[\"hammersmith and fulham\",\"E09000013\",269.0,1539.0],[\"hammersmith and fulham\",\"E09000013\",289.0,1595.0],[\"hammersmith and fulham\",\"E09000013\",207.0,1323.0],[\"hammersmith and fulham\",\"E09000013\",186.0,1515.0],[\"hammersmith and fulham\",\"E09000013\",253.0,1574.0],[\"hammersmith and fulham\",\"E09000013\",240.0,1793.0],[\"hammersmith and fulham\",\"E09000013\",277.0,1649.0],[\"hammersmith and fulham\",\"E09000013\",288.0,1624.0],[\"hammersmith and fulham\",\"E09000013\",296.0,1655.0],[\"hammersmith and fulham\",\"E09000013\",233.0,1632.0],[\"hammersmith and fulham\",\"E09000013\",232.0,1792.0],[\"hammersmith and fulham\",\"E09000013\",182.0,1878.0],[\"hammersmith and fulham\",\"E09000013\",187.0,1722.0],[\"hammersmith and fulham\",\"E09000013\",160.0,1679.0],[\"hammersmith and fulham\",\"E09000013\",148.0,1505.0],[\"hammersmith and fulham\",\"E09000013\",162.0,1763.0],[\"hammersmith and fulham\",\"E09000013\",192.0,1720.0],[\"hammersmith and fulham\",\"E09000013\",223.0,1788.0],[\"hammersmith and fulham\",\"E09000013\",255.0,1662.0],[\"hammersmith and fulham\",\"E09000013\",262.0,1739.0],[\"hammersmith and fulham\",\"E09000013\",218.0,1604.0],[\"hammersmith and fulham\",\"E09000013\",237.0,1603.0],[\"hammersmith and fulham\",\"E09000013\",229.0,1834.0],[\"hammersmith and fulham\",\"E09000013\",186.0,1818.0],[\"hammersmith and fulham\",\"E09000013\",176.0,1764.0],[\"hammersmith and fulham\",\"E09000013\",152.0,1637.0],[\"hammersmith and fulham\",\"E09000013\",184.0,1645.0],[\"hammersmith and fulham\",\"E09000013\",427.0,1701.0],[\"hammersmith and fulham\",\"E09000013\",133.0,1746.0],[\"hammersmith and fulham\",\"E09000013\",145.0,1970.0],[\"hammersmith and fulham\",\"E09000013\",176.0,1799.0],[\"hammersmith and fulham\",\"E09000013\",206.0,1747.0],[\"hammersmith and fulham\",\"E09000013\",149.0,1841.0],[\"hammersmith and fulham\",\"E09000013\",166.0,1694.0],[\"hammersmith and fulham\",\"E09000013\",160.0,1782.0],[\"hammersmith and fulham\",\"E09000013\",147.0,1633.0],[\"hammersmith and fulham\",\"E09000013\",158.0,1704.0],[\"hammersmith and fulham\",\"E09000013\",162.0,1622.0],[\"hammersmith and fulham\",\"E09000013\",157.0,1536.0],[\"hammersmith and fulham\",\"E09000013\",174.0,1892.0],[\"hammersmith and fulham\",\"E09000013\",184.0,1668.0],[\"hammersmith and fulham\",\"E09000013\",174.0,1865.0],[\"hammersmith and fulham\",\"E09000013\",200.0,1826.0],[\"hammersmith and fulham\",\"E09000013\",197.0,1894.0],[\"hammersmith and fulham\",\"E09000013\",162.0,1881.0],[\"hammersmith and fulham\",\"E09000013\",151.0,1682.0],[\"hammersmith and fulham\",\"E09000013\",191.0,1865.0],[\"hammersmith and fulham\",\"E09000013\",198.0,2086.0],[\"hammersmith and fulham\",\"E09000013\",200.0,1901.0],[\"hammersmith and fulham\",\"E09000013\",171.0,1756.0],[\"hammersmith and fulham\",\"E09000013\",190.0,1723.0],[\"hammersmith and fulham\",\"E09000013\",230.0,1777.0],[\"hammersmith and fulham\",\"E09000013\",178.0,1734.0],[\"hammersmith and fulham\",\"E09000013\",204.0,1911.0],[\"hammersmith and fulham\",\"E09000013\",171.0,1818.0],[\"hammersmith and fulham\",\"E09000013\",212.0,1958.0],[\"hammersmith and fulham\",\"E09000013\",183.0,1796.0],[\"hammersmith and fulham\",\"E09000013\",184.0,1937.0],[\"hammersmith and fulham\",\"E09000013\",187.0,1951.0],[\"hammersmith and fulham\",\"E09000013\",163.0,1908.0],[\"hammersmith and fulham\",\"E09000013\",154.0,1858.0],[\"hammersmith and fulham\",\"E09000013\",110.0,1803.0],[\"hammersmith and fulham\",\"E09000013\",113.0,1826.0],[\"hammersmith and fulham\",\"E09000013\",127.0,2006.0],[\"hammersmith and fulham\",\"E09000013\",128.0,2050.0],[\"hammersmith and fulham\",\"E09000013\",136.0,2039.0],[\"hammersmith and fulham\",\"E09000013\",116.0,1989.0],[\"hammersmith and fulham\",\"E09000013\",178.0,2192.0],[\"hammersmith and fulham\",\"E09000013\",179.0,2048.0],[\"hammersmith and fulham\",\"E09000013\",143.0,1958.0],[\"hammersmith and fulham\",\"E09000013\",174.0,2101.0],[\"hammersmith and fulham\",\"E09000013\",136.0,2019.0]],\"hovertemplate\":\"area=%{customdata[0]}\\u003cbr\\u003edate=%{x}\\u003cbr\\u003eaverage_price=%{y}\\u003cbr\\u003ecode=%{customdata[1]}\\u003cbr\\u003ehouses_sold=%{customdata[2]}\\u003cbr\\u003eno_of_crimes=%{customdata[3]}\\u003cextra\\u003e\\u003c\\u002fextra\\u003e\",\"legendgroup\":\"hammersmith and fulham\",\"line\":{\"color\":\"#00cc96\",\"dash\":\"solid\"},\"marker\":{\"symbol\":\"circle\"},\"mode\":\"lines\",\"name\":\"hammersmith and fulham\",\"orientation\":\"v\",\"showlegend\":true,\"x\":[\"2001-01-01\",\"2001-02-01\",\"2001-03-01\",\"2001-04-01\",\"2001-05-01\",\"2001-06-01\",\"2001-07-01\",\"2001-08-01\",\"2001-09-01\",\"2001-10-01\",\"2001-11-01\",\"2001-12-01\",\"2002-01-01\",\"2002-02-01\",\"2002-03-01\",\"2002-04-01\",\"2002-05-01\",\"2002-06-01\",\"2002-07-01\",\"2002-08-01\",\"2002-09-01\",\"2002-10-01\",\"2002-11-01\",\"2002-12-01\",\"2003-01-01\",\"2003-02-01\",\"2003-03-01\",\"2003-04-01\",\"2003-05-01\",\"2003-06-01\",\"2003-07-01\",\"2003-08-01\",\"2003-09-01\",\"2003-10-01\",\"2003-11-01\",\"2003-12-01\",\"2004-01-01\",\"2004-02-01\",\"2004-03-01\",\"2004-04-01\",\"2004-05-01\",\"2004-06-01\",\"2004-07-01\",\"2004-08-01\",\"2004-09-01\",\"2004-10-01\",\"2004-11-01\",\"2004-12-01\",\"2005-01-01\",\"2005-02-01\",\"2005-03-01\",\"2005-04-01\",\"2005-05-01\",\"2005-06-01\",\"2005-07-01\",\"2005-08-01\",\"2005-09-01\",\"2005-10-01\",\"2005-11-01\",\"2005-12-01\",\"2006-01-01\",\"2006-02-01\",\"2006-03-01\",\"2006-04-01\",\"2006-05-01\",\"2006-06-01\",\"2006-07-01\",\"2006-08-01\",\"2006-09-01\",\"2006-10-01\",\"2006-11-01\",\"2006-12-01\",\"2007-01-01\",\"2007-02-01\",\"2007-03-01\",\"2007-04-01\",\"2007-05-01\",\"2007-06-01\",\"2007-07-01\",\"2007-08-01\",\"2007-09-01\",\"2007-10-01\",\"2007-11-01\",\"2007-12-01\",\"2008-01-01\",\"2008-02-01\",\"2008-03-01\",\"2008-04-01\",\"2008-05-01\",\"2008-06-01\",\"2008-07-01\",\"2008-08-01\",\"2008-09-01\",\"2008-10-01\",\"2008-11-01\",\"2008-12-01\",\"2009-01-01\",\"2009-02-01\",\"2009-03-01\",\"2009-04-01\",\"2009-05-01\",\"2009-06-01\",\"2009-07-01\",\"2009-08-01\",\"2009-09-01\",\"2009-10-01\",\"2009-11-01\",\"2009-12-01\",\"2010-01-01\",\"2010-02-01\",\"2010-03-01\",\"2010-04-01\",\"2010-05-01\",\"2010-06-01\",\"2010-07-01\",\"2010-08-01\",\"2010-09-01\",\"2010-10-01\",\"2010-11-01\",\"2010-12-01\",\"2011-01-01\",\"2011-02-01\",\"2011-03-01\",\"2011-04-01\",\"2011-05-01\",\"2011-06-01\",\"2011-07-01\",\"2011-08-01\",\"2011-09-01\",\"2011-10-01\",\"2011-11-01\",\"2011-12-01\",\"2012-01-01\",\"2012-02-01\",\"2012-03-01\",\"2012-04-01\",\"2012-05-01\",\"2012-06-01\",\"2012-07-01\",\"2012-08-01\",\"2012-09-01\",\"2012-10-01\",\"2012-11-01\",\"2012-12-01\",\"2013-01-01\",\"2013-02-01\",\"2013-03-01\",\"2013-04-01\",\"2013-05-01\",\"2013-06-01\",\"2013-07-01\",\"2013-08-01\",\"2013-09-01\",\"2013-10-01\",\"2013-11-01\",\"2013-12-01\",\"2014-01-01\",\"2014-02-01\",\"2014-03-01\",\"2014-04-01\",\"2014-05-01\",\"2014-06-01\",\"2014-07-01\",\"2014-08-01\",\"2014-09-01\",\"2014-10-01\",\"2014-11-01\",\"2014-12-01\",\"2015-01-01\",\"2015-02-01\",\"2015-03-01\",\"2015-04-01\",\"2015-05-01\",\"2015-06-01\",\"2015-07-01\",\"2015-08-01\",\"2015-09-01\",\"2015-10-01\",\"2015-11-01\",\"2015-12-01\",\"2016-01-01\",\"2016-02-01\",\"2016-03-01\",\"2016-04-01\",\"2016-05-01\",\"2016-06-01\",\"2016-07-01\",\"2016-08-01\",\"2016-09-01\",\"2016-10-01\",\"2016-11-01\",\"2016-12-01\",\"2017-01-01\",\"2017-02-01\",\"2017-03-01\",\"2017-04-01\",\"2017-05-01\",\"2017-06-01\",\"2017-07-01\",\"2017-08-01\",\"2017-09-01\",\"2017-10-01\",\"2017-11-01\",\"2017-12-01\",\"2018-01-01\",\"2018-02-01\",\"2018-03-01\",\"2018-04-01\",\"2018-05-01\",\"2018-06-01\",\"2018-07-01\",\"2018-08-01\",\"2018-09-01\",\"2018-10-01\",\"2018-11-01\",\"2018-12-01\",\"2019-01-01\",\"2019-02-01\",\"2019-03-01\",\"2019-04-01\",\"2019-05-01\",\"2019-06-01\",\"2019-07-01\",\"2019-08-01\",\"2019-09-01\",\"2019-10-01\",\"2019-11-01\"],\"xaxis\":\"x\",\"y\":[259723,262334,261777,266792,266686,273159,277209,283705,280671,278128,275412,277431,280576,278990,278959,284501,293491,302987,314411,317689,320564,315646,319143,322552,329178,321415,316027,301625,307257,309347,321781,322322,321219,319898,324283,331317,328761,327738,331533,340684,347520,349700,355963,358497,357918,348945,338637,334676,336816,346280,349363,362157,360542,369193,369952,379162,374904,368196,367354,366988,374797,367483,378032,381058,394582,401934,409231,414495,417455,417621,412029,402320,407093,422518,443098,454434,460662,470556,485738,502895,512596,519192,510196,500711,487907,494452,500204,486032,484647,478043,485893,487355,474370,456204,427747,436520,437667,431609,408519,413985,412346,413659,420388,441605,459258,459307,459311,467825,484953,490933,486871,488087,493877,507768,516558,527536,529332,516386,498875,485906,485394,489560,501662,517488,529410,531488,521991,520571,525124,534270,538787,527140,509472,518105,530217,554482,552495,568853,580568,592532,588824,603876,594073,611487,601380,618330,616967,610841,619405,608411,626507,625932,656485,663808,663613,666670,666572,682454,681088,691362,696569,713339,740943,762631,773678,763041,746424,735096,732364,735010,743179,751604,763257,770977,772832,780423,779596,766034,762769,771960,770697,773193,765505,778280,774019,778276,759729,749875,730646,720857,723130,736963,755421,764387,751021,773941,755143,755917,751824,781175,758911,750648,741539,742878,724501,711087,728771,710090,712342,712979,736864,738219,730652,738746,728693,733360,722045,718622,718008,713365,713548,712179,722627,729313,733133,720882,718071],\"yaxis\":\"y\",\"type\":\"scatter\"},{\"customdata\":[[\"kensington and chelsea\",\"E09000020\",276.0,2137.0],[\"kensington and chelsea\",\"E09000020\",277.0,1955.0],[\"kensington and chelsea\",\"E09000020\",394.0,2314.0],[\"kensington and chelsea\",\"E09000020\",335.0,2129.0],[\"kensington and chelsea\",\"E09000020\",364.0,2242.0],[\"kensington and chelsea\",\"E09000020\",341.0,2149.0],[\"kensington and chelsea\",\"E09000020\",424.0,2196.0],[\"kensington and chelsea\",\"E09000020\",367.0,2242.0],[\"kensington and chelsea\",\"E09000020\",321.0,1995.0],[\"kensington and chelsea\",\"E09000020\",300.0,2272.0],[\"kensington and chelsea\",\"E09000020\",295.0,2197.0],[\"kensington and chelsea\",\"E09000020\",246.0,2034.0],[\"kensington and chelsea\",\"E09000020\",281.0,2176.0],[\"kensington and chelsea\",\"E09000020\",264.0,1875.0],[\"kensington and chelsea\",\"E09000020\",442.0,2209.0],[\"kensington and chelsea\",\"E09000020\",401.0,2395.0],[\"kensington and chelsea\",\"E09000020\",470.0,2333.0],[\"kensington and chelsea\",\"E09000020\",406.0,2170.0],[\"kensington and chelsea\",\"E09000020\",415.0,2322.0],[\"kensington and chelsea\",\"E09000020\",445.0,2454.0],[\"kensington and chelsea\",\"E09000020\",345.0,2164.0],[\"kensington and chelsea\",\"E09000020\",350.0,2261.0],[\"kensington and chelsea\",\"E09000020\",302.0,2018.0],[\"kensington and chelsea\",\"E09000020\",282.0,1999.0],[\"kensington and chelsea\",\"E09000020\",285.0,2159.0],[\"kensington and chelsea\",\"E09000020\",206.0,1864.0],[\"kensington and chelsea\",\"E09000020\",205.0,2060.0],[\"kensington and chelsea\",\"E09000020\",178.0,1958.0],[\"kensington and chelsea\",\"E09000020\",226.0,2028.0],[\"kensington and chelsea\",\"E09000020\",207.0,2164.0],[\"kensington and chelsea\",\"E09000020\",282.0,2121.0],[\"kensington and chelsea\",\"E09000020\",333.0,2363.0],[\"kensington and chelsea\",\"E09000020\",417.0,2017.0],[\"kensington and chelsea\",\"E09000020\",360.0,2045.0],[\"kensington and chelsea\",\"E09000020\",386.0,1948.0],[\"kensington and chelsea\",\"E09000020\",366.0,1873.0],[\"kensington and chelsea\",\"E09000020\",340.0,2034.0],[\"kensington and chelsea\",\"E09000020\",308.0,1921.0],[\"kensington and chelsea\",\"E09000020\",354.0,2180.0],[\"kensington and chelsea\",\"E09000020\",401.0,1983.0],[\"kensington and chelsea\",\"E09000020\",360.0,2112.0],[\"kensington and chelsea\",\"E09000020\",363.0,2082.0],[\"kensington and chelsea\",\"E09000020\",423.0,2145.0],[\"kensington and chelsea\",\"E09000020\",317.0,2176.0],[\"kensington and chelsea\",\"E09000020\",340.0,1901.0],[\"kensington and chelsea\",\"E09000020\",275.0,2158.0],[\"kensington and chelsea\",\"E09000020\",247.0,1898.0],[\"kensington and chelsea\",\"E09000020\",278.0,1691.0],[\"kensington and chelsea\",\"E09000020\",257.0,1683.0],[\"kensington and chelsea\",\"E09000020\",189.0,1545.0],[\"kensington and chelsea\",\"E09000020\",274.0,1792.0],[\"kensington and chelsea\",\"E09000020\",294.0,1824.0],[\"kensington and chelsea\",\"E09000020\",274.0,1945.0],[\"kensington and chelsea\",\"E09000020\",315.0,1841.0],[\"kensington and chelsea\",\"E09000020\",327.0,1920.0],[\"kensington and chelsea\",\"E09000020\",286.0,2136.0],[\"kensington and chelsea\",\"E09000020\",331.0,1828.0],[\"kensington and chelsea\",\"E09000020\",231.0,1866.0],[\"kensington and chelsea\",\"E09000020\",273.0,1767.0],[\"kensington and chelsea\",\"E09000020\",299.0,1736.0],[\"kensington and chelsea\",\"E09000020\",319.0,1759.0],[\"kensington and chelsea\",\"E09000020\",233.0,1536.0],[\"kensington and chelsea\",\"E09000020\",371.0,1809.0],[\"kensington and chelsea\",\"E09000020\",347.0,1636.0],[\"kensington and chelsea\",\"E09000020\",338.0,1788.0],[\"kensington and chelsea\",\"E09000020\",400.0,1869.0],[\"kensington and chelsea\",\"E09000020\",366.0,1877.0],[\"kensington and chelsea\",\"E09000020\",355.0,2113.0],[\"kensington and chelsea\",\"E09000020\",394.0,1873.0],[\"kensington and chelsea\",\"E09000020\",360.0,1951.0],[\"kensington and chelsea\",\"E09000020\",350.0,2150.0],[\"kensington and chelsea\",\"E09000020\",375.0,1771.0],[\"kensington and chelsea\",\"E09000020\",397.0,2096.0],[\"kensington and chelsea\",\"E09000020\",317.0,1800.0],[\"kensington and chelsea\",\"E09000020\",352.0,2030.0],[\"kensington and chelsea\",\"E09000020\",311.0,1980.0],[\"kensington and chelsea\",\"E09000020\",320.0,1977.0],[\"kensington and chelsea\",\"E09000020\",327.0,1956.0],[\"kensington and chelsea\",\"E09000020\",372.0,1926.0],[\"kensington and chelsea\",\"E09000020\",328.0,2309.0],[\"kensington and chelsea\",\"E09000020\",275.0,1674.0],[\"kensington and chelsea\",\"E09000020\",226.0,1780.0],[\"kensington and chelsea\",\"E09000020\",299.0,1810.0],[\"kensington and chelsea\",\"E09000020\",168.0,1623.0],[\"kensington and chelsea\",\"E09000020\",186.0,1737.0],[\"kensington and chelsea\",\"E09000020\",149.0,1608.0],[\"kensington and chelsea\",\"E09000020\",133.0,1835.0],[\"kensington and chelsea\",\"E09000020\",186.0,1759.0],[\"kensington and chelsea\",\"E09000020\",162.0,1870.0],[\"kensington and chelsea\",\"E09000020\",133.0,1757.0],[\"kensington and chelsea\",\"E09000020\",164.0,1832.0],[\"kensington and chelsea\",\"E09000020\",117.0,2364.0],[\"kensington and chelsea\",\"E09000020\",155.0,1656.0],[\"kensington and chelsea\",\"E09000020\",117.0,1755.0],[\"kensington and chelsea\",\"E09000020\",90.0,1694.0],[\"kensington and chelsea\",\"E09000020\",105.0,1579.0],[\"kensington and chelsea\",\"E09000020\",78.0,1523.0],[\"kensington and chelsea\",\"E09000020\",95.0,1462.0],[\"kensington and chelsea\",\"E09000020\",121.0,1630.0],[\"kensington and chelsea\",\"E09000020\",137.0,1557.0],[\"kensington and chelsea\",\"E09000020\",137.0,1671.0],[\"kensington and chelsea\",\"E09000020\",173.0,1754.0],[\"kensington and chelsea\",\"E09000020\",232.0,1716.0],[\"kensington and chelsea\",\"E09000020\",187.0,1837.0],[\"kensington and chelsea\",\"E09000020\",228.0,1787.0],[\"kensington and chelsea\",\"E09000020\",229.0,1760.0],[\"kensington and chelsea\",\"E09000020\",226.0,1558.0],[\"kensington and chelsea\",\"E09000020\",176.0,1528.0],[\"kensington and chelsea\",\"E09000020\",202.0,1477.0],[\"kensington and chelsea\",\"E09000020\",151.0,1493.0],[\"kensington and chelsea\",\"E09000020\",207.0,1719.0],[\"kensington and chelsea\",\"E09000020\",221.0,1630.0],[\"kensington and chelsea\",\"E09000020\",181.0,1773.0],[\"kensington and chelsea\",\"E09000020\",224.0,1785.0],[\"kensington and chelsea\",\"E09000020\",253.0,1939.0],[\"kensington and chelsea\",\"E09000020\",198.0,2092.0],[\"kensington and chelsea\",\"E09000020\",218.0,1972.0],[\"kensington and chelsea\",\"E09000020\",197.0,1811.0],[\"kensington and chelsea\",\"E09000020\",177.0,1628.0],[\"kensington and chelsea\",\"E09000020\",201.0,1595.0],[\"kensington and chelsea\",\"E09000020\",182.0,1685.0],[\"kensington and chelsea\",\"E09000020\",164.0,1487.0],[\"kensington and chelsea\",\"E09000020\",235.0,1785.0],[\"kensington and chelsea\",\"E09000020\",266.0,1645.0],[\"kensington and chelsea\",\"E09000020\",158.0,1950.0],[\"kensington and chelsea\",\"E09000020\",187.0,1671.0],[\"kensington and chelsea\",\"E09000020\",245.0,1672.0],[\"kensington and chelsea\",\"E09000020\",235.0,1995.0],[\"kensington and chelsea\",\"E09000020\",238.0,1534.0],[\"kensington and chelsea\",\"E09000020\",184.0,1555.0],[\"kensington and chelsea\",\"E09000020\",202.0,1836.0],[\"kensington and chelsea\",\"E09000020\",167.0,1754.0],[\"kensington and chelsea\",\"E09000020\",187.0,1748.0],[\"kensington and chelsea\",\"E09000020\",167.0,1536.0],[\"kensington and chelsea\",\"E09000020\",159.0,1887.0],[\"kensington and chelsea\",\"E09000020\",170.0,1720.0],[\"kensington and chelsea\",\"E09000020\",190.0,1801.0],[\"kensington and chelsea\",\"E09000020\",190.0,1676.0],[\"kensington and chelsea\",\"E09000020\",234.0,1713.0],[\"kensington and chelsea\",\"E09000020\",173.0,2458.0],[\"kensington and chelsea\",\"E09000020\",196.0,1635.0],[\"kensington and chelsea\",\"E09000020\",181.0,1778.0],[\"kensington and chelsea\",\"E09000020\",184.0,1683.0],[\"kensington and chelsea\",\"E09000020\",189.0,1723.0],[\"kensington and chelsea\",\"E09000020\",181.0,1663.0],[\"kensington and chelsea\",\"E09000020\",145.0,1583.0],[\"kensington and chelsea\",\"E09000020\",206.0,1412.0],[\"kensington and chelsea\",\"E09000020\",174.0,1455.0],[\"kensington and chelsea\",\"E09000020\",221.0,1405.0],[\"kensington and chelsea\",\"E09000020\",219.0,1415.0],[\"kensington and chelsea\",\"E09000020\",280.0,1487.0],[\"kensington and chelsea\",\"E09000020\",249.0,2167.0],[\"kensington and chelsea\",\"E09000020\",258.0,1465.0],[\"kensington and chelsea\",\"E09000020\",221.0,1476.0],[\"kensington and chelsea\",\"E09000020\",262.0,1482.0],[\"kensington and chelsea\",\"E09000020\",230.0,1399.0],[\"kensington and chelsea\",\"E09000020\",280.0,1402.0],[\"kensington and chelsea\",\"E09000020\",222.0,1347.0],[\"kensington and chelsea\",\"E09000020\",222.0,1473.0],[\"kensington and chelsea\",\"E09000020\",267.0,1531.0],[\"kensington and chelsea\",\"E09000020\",269.0,1492.0],[\"kensington and chelsea\",\"E09000020\",213.0,1453.0],[\"kensington and chelsea\",\"E09000020\",251.0,1460.0],[\"kensington and chelsea\",\"E09000020\",217.0,2089.0],[\"kensington and chelsea\",\"E09000020\",208.0,1429.0],[\"kensington and chelsea\",\"E09000020\",228.0,1610.0],[\"kensington and chelsea\",\"E09000020\",158.0,1555.0],[\"kensington and chelsea\",\"E09000020\",169.0,1619.0],[\"kensington and chelsea\",\"E09000020\",187.0,1566.0],[\"kensington and chelsea\",\"E09000020\",180.0,1413.0],[\"kensington and chelsea\",\"E09000020\",195.0,1620.0],[\"kensington and chelsea\",\"E09000020\",156.0,1475.0],[\"kensington and chelsea\",\"E09000020\",170.0,1637.0],[\"kensington and chelsea\",\"E09000020\",182.0,1637.0],[\"kensington and chelsea\",\"E09000020\",201.0,1650.0],[\"kensington and chelsea\",\"E09000020\",169.0,1752.0],[\"kensington and chelsea\",\"E09000020\",190.0,1809.0],[\"kensington and chelsea\",\"E09000020\",171.0,1762.0],[\"kensington and chelsea\",\"E09000020\",160.0,1672.0],[\"kensington and chelsea\",\"E09000020\",217.0,1724.0],[\"kensington and chelsea\",\"E09000020\",170.0,1565.0],[\"kensington and chelsea\",\"E09000020\",141.0,1417.0],[\"kensington and chelsea\",\"E09000020\",491.0,1565.0],[\"kensington and chelsea\",\"E09000020\",95.0,1471.0],[\"kensington and chelsea\",\"E09000020\",90.0,1677.0],[\"kensington and chelsea\",\"E09000020\",124.0,1678.0],[\"kensington and chelsea\",\"E09000020\",105.0,1698.0],[\"kensington and chelsea\",\"E09000020\",96.0,2506.0],[\"kensington and chelsea\",\"E09000020\",114.0,1760.0],[\"kensington and chelsea\",\"E09000020\",104.0,1650.0],[\"kensington and chelsea\",\"E09000020\",125.0,1588.0],[\"kensington and chelsea\",\"E09000020\",172.0,1681.0],[\"kensington and chelsea\",\"E09000020\",136.0,1534.0],[\"kensington and chelsea\",\"E09000020\",109.0,1367.0],[\"kensington and chelsea\",\"E09000020\",152.0,1824.0],[\"kensington and chelsea\",\"E09000020\",124.0,1723.0],[\"kensington and chelsea\",\"E09000020\",125.0,1828.0],[\"kensington and chelsea\",\"E09000020\",171.0,1748.0],[\"kensington and chelsea\",\"E09000020\",123.0,1962.0],[\"kensington and chelsea\",\"E09000020\",124.0,2418.0],[\"kensington and chelsea\",\"E09000020\",137.0,1780.0],[\"kensington and chelsea\",\"E09000020\",111.0,1755.0],[\"kensington and chelsea\",\"E09000020\",115.0,1842.0],[\"kensington and chelsea\",\"E09000020\",138.0,1736.0],[\"kensington and chelsea\",\"E09000020\",129.0,1737.0],[\"kensington and chelsea\",\"E09000020\",89.0,1737.0],[\"kensington and chelsea\",\"E09000020\",125.0,1681.0],[\"kensington and chelsea\",\"E09000020\",117.0,1644.0],[\"kensington and chelsea\",\"E09000020\",86.0,1771.0],[\"kensington and chelsea\",\"E09000020\",133.0,1831.0],[\"kensington and chelsea\",\"E09000020\",119.0,1915.0],[\"kensington and chelsea\",\"E09000020\",103.0,2339.0],[\"kensington and chelsea\",\"E09000020\",117.0,1787.0],[\"kensington and chelsea\",\"E09000020\",133.0,1803.0],[\"kensington and chelsea\",\"E09000020\",91.0,1898.0],[\"kensington and chelsea\",\"E09000020\",84.0,1922.0],[\"kensington and chelsea\",\"E09000020\",117.0,1808.0],[\"kensington and chelsea\",\"E09000020\",94.0,1765.0],[\"kensington and chelsea\",\"E09000020\",107.0,2023.0],[\"kensington and chelsea\",\"E09000020\",101.0,1873.0],[\"kensington and chelsea\",\"E09000020\",112.0,1933.0],[\"kensington and chelsea\",\"E09000020\",110.0,2120.0],[\"kensington and chelsea\",\"E09000020\",133.0,2233.0],[\"kensington and chelsea\",\"E09000020\",124.0,2778.0],[\"kensington and chelsea\",\"E09000020\",109.0,2056.0],[\"kensington and chelsea\",\"E09000020\",105.0,2206.0],[\"kensington and chelsea\",\"E09000020\",113.0,2240.0]],\"hovertemplate\":\"area=%{customdata[0]}\\u003cbr\\u003edate=%{x}\\u003cbr\\u003eaverage_price=%{y}\\u003cbr\\u003ecode=%{customdata[1]}\\u003cbr\\u003ehouses_sold=%{customdata[2]}\\u003cbr\\u003eno_of_crimes=%{customdata[3]}\\u003cextra\\u003e\\u003c\\u002fextra\\u003e\",\"legendgroup\":\"kensington and chelsea\",\"line\":{\"color\":\"#ab63fa\",\"dash\":\"solid\"},\"marker\":{\"symbol\":\"circle\"},\"mode\":\"lines\",\"name\":\"kensington and chelsea\",\"orientation\":\"v\",\"showlegend\":true,\"x\":[\"2001-01-01\",\"2001-02-01\",\"2001-03-01\",\"2001-04-01\",\"2001-05-01\",\"2001-06-01\",\"2001-07-01\",\"2001-08-01\",\"2001-09-01\",\"2001-10-01\",\"2001-11-01\",\"2001-12-01\",\"2002-01-01\",\"2002-02-01\",\"2002-03-01\",\"2002-04-01\",\"2002-05-01\",\"2002-06-01\",\"2002-07-01\",\"2002-08-01\",\"2002-09-01\",\"2002-10-01\",\"2002-11-01\",\"2002-12-01\",\"2003-01-01\",\"2003-02-01\",\"2003-03-01\",\"2003-04-01\",\"2003-05-01\",\"2003-06-01\",\"2003-07-01\",\"2003-08-01\",\"2003-09-01\",\"2003-10-01\",\"2003-11-01\",\"2003-12-01\",\"2004-01-01\",\"2004-02-01\",\"2004-03-01\",\"2004-04-01\",\"2004-05-01\",\"2004-06-01\",\"2004-07-01\",\"2004-08-01\",\"2004-09-01\",\"2004-10-01\",\"2004-11-01\",\"2004-12-01\",\"2005-01-01\",\"2005-02-01\",\"2005-03-01\",\"2005-04-01\",\"2005-05-01\",\"2005-06-01\",\"2005-07-01\",\"2005-08-01\",\"2005-09-01\",\"2005-10-01\",\"2005-11-01\",\"2005-12-01\",\"2006-01-01\",\"2006-02-01\",\"2006-03-01\",\"2006-04-01\",\"2006-05-01\",\"2006-06-01\",\"2006-07-01\",\"2006-08-01\",\"2006-09-01\",\"2006-10-01\",\"2006-11-01\",\"2006-12-01\",\"2007-01-01\",\"2007-02-01\",\"2007-03-01\",\"2007-04-01\",\"2007-05-01\",\"2007-06-01\",\"2007-07-01\",\"2007-08-01\",\"2007-09-01\",\"2007-10-01\",\"2007-11-01\",\"2007-12-01\",\"2008-01-01\",\"2008-02-01\",\"2008-03-01\",\"2008-04-01\",\"2008-05-01\",\"2008-06-01\",\"2008-07-01\",\"2008-08-01\",\"2008-09-01\",\"2008-10-01\",\"2008-11-01\",\"2008-12-01\",\"2009-01-01\",\"2009-02-01\",\"2009-03-01\",\"2009-04-01\",\"2009-05-01\",\"2009-06-01\",\"2009-07-01\",\"2009-08-01\",\"2009-09-01\",\"2009-10-01\",\"2009-11-01\",\"2009-12-01\",\"2010-01-01\",\"2010-02-01\",\"2010-03-01\",\"2010-04-01\",\"2010-05-01\",\"2010-06-01\",\"2010-07-01\",\"2010-08-01\",\"2010-09-01\",\"2010-10-01\",\"2010-11-01\",\"2010-12-01\",\"2011-01-01\",\"2011-02-01\",\"2011-03-01\",\"2011-04-01\",\"2011-05-01\",\"2011-06-01\",\"2011-07-01\",\"2011-08-01\",\"2011-09-01\",\"2011-10-01\",\"2011-11-01\",\"2011-12-01\",\"2012-01-01\",\"2012-02-01\",\"2012-03-01\",\"2012-04-01\",\"2012-05-01\",\"2012-06-01\",\"2012-07-01\",\"2012-08-01\",\"2012-09-01\",\"2012-10-01\",\"2012-11-01\",\"2012-12-01\",\"2013-01-01\",\"2013-02-01\",\"2013-03-01\",\"2013-04-01\",\"2013-05-01\",\"2013-06-01\",\"2013-07-01\",\"2013-08-01\",\"2013-09-01\",\"2013-10-01\",\"2013-11-01\",\"2013-12-01\",\"2014-01-01\",\"2014-02-01\",\"2014-03-01\",\"2014-04-01\",\"2014-05-01\",\"2014-06-01\",\"2014-07-01\",\"2014-08-01\",\"2014-09-01\",\"2014-10-01\",\"2014-11-01\",\"2014-12-01\",\"2015-01-01\",\"2015-02-01\",\"2015-03-01\",\"2015-04-01\",\"2015-05-01\",\"2015-06-01\",\"2015-07-01\",\"2015-08-01\",\"2015-09-01\",\"2015-10-01\",\"2015-11-01\",\"2015-12-01\",\"2016-01-01\",\"2016-02-01\",\"2016-03-01\",\"2016-04-01\",\"2016-05-01\",\"2016-06-01\",\"2016-07-01\",\"2016-08-01\",\"2016-09-01\",\"2016-10-01\",\"2016-11-01\",\"2016-12-01\",\"2017-01-01\",\"2017-02-01\",\"2017-03-01\",\"2017-04-01\",\"2017-05-01\",\"2017-06-01\",\"2017-07-01\",\"2017-08-01\",\"2017-09-01\",\"2017-10-01\",\"2017-11-01\",\"2017-12-01\",\"2018-01-01\",\"2018-02-01\",\"2018-03-01\",\"2018-04-01\",\"2018-05-01\",\"2018-06-01\",\"2018-07-01\",\"2018-08-01\",\"2018-09-01\",\"2018-10-01\",\"2018-11-01\",\"2018-12-01\",\"2019-01-01\",\"2019-02-01\",\"2019-03-01\",\"2019-04-01\",\"2019-05-01\",\"2019-06-01\",\"2019-07-01\",\"2019-08-01\",\"2019-09-01\",\"2019-10-01\",\"2019-11-01\"],\"xaxis\":\"x\",\"y\":[407739,394886,406200,418016,417771,423411,434521,451028,438215,424833,412659,412275,407492,406516,414376,440746,467441,486673,497538,490267,486338,474862,484175,468164,466463,452671,455466,456330,452104,464442,455925,454476,448908,459283,471114,488704,495894,506469,504555,490464,488594,492778,534860,547674,559286,523246,517540,484880,477958,480086,489291,507964,518054,527082,540566,529996,542761,532195,540675,555847,565247,569195,570415,581164,590768,599841,606796,609829,603462,604626,630206,644541,682118,695308,712066,718862,718509,723633,746127,779957,830950,808270,777268,767083,810781,832753,808429,762673,760593,766472,822508,806857,811950,754939,754636,725424,668546,627150,598430,622563,664598,719453,770240,782459,763330,736741,753693,755047,794620,778622,820954,818816,855775,821510,845614,826390,863878,859065,877861,884674,860460,844014,879557,959520,939202,911740,877358,912819,931099,916676,950767,919569,929644,933654,941251,970715,974635,1030803,1032875,1042777,1058206,1077366,1071778,1044834,1067550,1060810,1076419,1043141,1086593,1122471,1159559,1189245,1217729,1172514,1168770,1154073,1204771,1198222,1209578,1231111,1263468,1297755,1345616,1347030,1344464,1334423,1365050,1319380,1313357,1287616,1306557,1291645,1306192,1293028,1328276,1316116,1353679,1268780,1295078,1264909,1335351,1294603,1319174,1303324,1282708,1246352,1229599,1206813,1226681,1217676,1295310,1357231,1394421,1412255,1380049,1399839,1388174,1341276,1304186,1257578,1270090,1278113,1344311,1364185,1463378,1378878,1392610,1325081,1301729,1306556,1334876,1418032,1388037,1348121,1363458,1345805,1285331,1259725,1218687,1266556,1237349,1294113,1288940,1262257,1246384,1191209,1193336],\"yaxis\":\"y\",\"type\":\"scatter\"}],                        {\"template\":{\"data\":{\"histogram2dcontour\":[{\"type\":\"histogram2dcontour\",\"colorbar\":{\"outlinewidth\":0,\"ticks\":\"\"},\"colorscale\":[[0.0,\"#0d0887\"],[0.1111111111111111,\"#46039f\"],[0.2222222222222222,\"#7201a8\"],[0.3333333333333333,\"#9c179e\"],[0.4444444444444444,\"#bd3786\"],[0.5555555555555556,\"#d8576b\"],[0.6666666666666666,\"#ed7953\"],[0.7777777777777778,\"#fb9f3a\"],[0.8888888888888888,\"#fdca26\"],[1.0,\"#f0f921\"]]}],\"choropleth\":[{\"type\":\"choropleth\",\"colorbar\":{\"outlinewidth\":0,\"ticks\":\"\"}}],\"histogram2d\":[{\"type\":\"histogram2d\",\"colorbar\":{\"outlinewidth\":0,\"ticks\":\"\"},\"colorscale\":[[0.0,\"#0d0887\"],[0.1111111111111111,\"#46039f\"],[0.2222222222222222,\"#7201a8\"],[0.3333333333333333,\"#9c179e\"],[0.4444444444444444,\"#bd3786\"],[0.5555555555555556,\"#d8576b\"],[0.6666666666666666,\"#ed7953\"],[0.7777777777777778,\"#fb9f3a\"],[0.8888888888888888,\"#fdca26\"],[1.0,\"#f0f921\"]]}],\"heatmap\":[{\"type\":\"heatmap\",\"colorbar\":{\"outlinewidth\":0,\"ticks\":\"\"},\"colorscale\":[[0.0,\"#0d0887\"],[0.1111111111111111,\"#46039f\"],[0.2222222222222222,\"#7201a8\"],[0.3333333333333333,\"#9c179e\"],[0.4444444444444444,\"#bd3786\"],[0.5555555555555556,\"#d8576b\"],[0.6666666666666666,\"#ed7953\"],[0.7777777777777778,\"#fb9f3a\"],[0.8888888888888888,\"#fdca26\"],[1.0,\"#f0f921\"]]}],\"heatmapgl\":[{\"type\":\"heatmapgl\",\"colorbar\":{\"outlinewidth\":0,\"ticks\":\"\"},\"colorscale\":[[0.0,\"#0d0887\"],[0.1111111111111111,\"#46039f\"],[0.2222222222222222,\"#7201a8\"],[0.3333333333333333,\"#9c179e\"],[0.4444444444444444,\"#bd3786\"],[0.5555555555555556,\"#d8576b\"],[0.6666666666666666,\"#ed7953\"],[0.7777777777777778,\"#fb9f3a\"],[0.8888888888888888,\"#fdca26\"],[1.0,\"#f0f921\"]]}],\"contourcarpet\":[{\"type\":\"contourcarpet\",\"colorbar\":{\"outlinewidth\":0,\"ticks\":\"\"}}],\"contour\":[{\"type\":\"contour\",\"colorbar\":{\"outlinewidth\":0,\"ticks\":\"\"},\"colorscale\":[[0.0,\"#0d0887\"],[0.1111111111111111,\"#46039f\"],[0.2222222222222222,\"#7201a8\"],[0.3333333333333333,\"#9c179e\"],[0.4444444444444444,\"#bd3786\"],[0.5555555555555556,\"#d8576b\"],[0.6666666666666666,\"#ed7953\"],[0.7777777777777778,\"#fb9f3a\"],[0.8888888888888888,\"#fdca26\"],[1.0,\"#f0f921\"]]}],\"surface\":[{\"type\":\"surface\",\"colorbar\":{\"outlinewidth\":0,\"ticks\":\"\"},\"colorscale\":[[0.0,\"#0d0887\"],[0.1111111111111111,\"#46039f\"],[0.2222222222222222,\"#7201a8\"],[0.3333333333333333,\"#9c179e\"],[0.4444444444444444,\"#bd3786\"],[0.5555555555555556,\"#d8576b\"],[0.6666666666666666,\"#ed7953\"],[0.7777777777777778,\"#fb9f3a\"],[0.8888888888888888,\"#fdca26\"],[1.0,\"#f0f921\"]]}],\"mesh3d\":[{\"type\":\"mesh3d\",\"colorbar\":{\"outlinewidth\":0,\"ticks\":\"\"}}],\"scatter\":[{\"fillpattern\":{\"fillmode\":\"overlay\",\"size\":10,\"solidity\":0.2},\"type\":\"scatter\"}],\"parcoords\":[{\"type\":\"parcoords\",\"line\":{\"colorbar\":{\"outlinewidth\":0,\"ticks\":\"\"}}}],\"scatterpolargl\":[{\"type\":\"scatterpolargl\",\"marker\":{\"colorbar\":{\"outlinewidth\":0,\"ticks\":\"\"}}}],\"bar\":[{\"error_x\":{\"color\":\"#2a3f5f\"},\"error_y\":{\"color\":\"#2a3f5f\"},\"marker\":{\"line\":{\"color\":\"#E5ECF6\",\"width\":0.5},\"pattern\":{\"fillmode\":\"overlay\",\"size\":10,\"solidity\":0.2}},\"type\":\"bar\"}],\"scattergeo\":[{\"type\":\"scattergeo\",\"marker\":{\"colorbar\":{\"outlinewidth\":0,\"ticks\":\"\"}}}],\"scatterpolar\":[{\"type\":\"scatterpolar\",\"marker\":{\"colorbar\":{\"outlinewidth\":0,\"ticks\":\"\"}}}],\"histogram\":[{\"marker\":{\"pattern\":{\"fillmode\":\"overlay\",\"size\":10,\"solidity\":0.2}},\"type\":\"histogram\"}],\"scattergl\":[{\"type\":\"scattergl\",\"marker\":{\"colorbar\":{\"outlinewidth\":0,\"ticks\":\"\"}}}],\"scatter3d\":[{\"type\":\"scatter3d\",\"line\":{\"colorbar\":{\"outlinewidth\":0,\"ticks\":\"\"}},\"marker\":{\"colorbar\":{\"outlinewidth\":0,\"ticks\":\"\"}}}],\"scattermapbox\":[{\"type\":\"scattermapbox\",\"marker\":{\"colorbar\":{\"outlinewidth\":0,\"ticks\":\"\"}}}],\"scatterternary\":[{\"type\":\"scatterternary\",\"marker\":{\"colorbar\":{\"outlinewidth\":0,\"ticks\":\"\"}}}],\"scattercarpet\":[{\"type\":\"scattercarpet\",\"marker\":{\"colorbar\":{\"outlinewidth\":0,\"ticks\":\"\"}}}],\"carpet\":[{\"aaxis\":{\"endlinecolor\":\"#2a3f5f\",\"gridcolor\":\"white\",\"linecolor\":\"white\",\"minorgridcolor\":\"white\",\"startlinecolor\":\"#2a3f5f\"},\"baxis\":{\"endlinecolor\":\"#2a3f5f\",\"gridcolor\":\"white\",\"linecolor\":\"white\",\"minorgridcolor\":\"white\",\"startlinecolor\":\"#2a3f5f\"},\"type\":\"carpet\"}],\"table\":[{\"cells\":{\"fill\":{\"color\":\"#EBF0F8\"},\"line\":{\"color\":\"white\"}},\"header\":{\"fill\":{\"color\":\"#C8D4E3\"},\"line\":{\"color\":\"white\"}},\"type\":\"table\"}],\"barpolar\":[{\"marker\":{\"line\":{\"color\":\"#E5ECF6\",\"width\":0.5},\"pattern\":{\"fillmode\":\"overlay\",\"size\":10,\"solidity\":0.2}},\"type\":\"barpolar\"}],\"pie\":[{\"automargin\":true,\"type\":\"pie\"}]},\"layout\":{\"autotypenumbers\":\"strict\",\"colorway\":[\"#636efa\",\"#EF553B\",\"#00cc96\",\"#ab63fa\",\"#FFA15A\",\"#19d3f3\",\"#FF6692\",\"#B6E880\",\"#FF97FF\",\"#FECB52\"],\"font\":{\"color\":\"#2a3f5f\"},\"hovermode\":\"closest\",\"hoverlabel\":{\"align\":\"left\"},\"paper_bgcolor\":\"white\",\"plot_bgcolor\":\"#E5ECF6\",\"polar\":{\"bgcolor\":\"#E5ECF6\",\"angularaxis\":{\"gridcolor\":\"white\",\"linecolor\":\"white\",\"ticks\":\"\"},\"radialaxis\":{\"gridcolor\":\"white\",\"linecolor\":\"white\",\"ticks\":\"\"}},\"ternary\":{\"bgcolor\":\"#E5ECF6\",\"aaxis\":{\"gridcolor\":\"white\",\"linecolor\":\"white\",\"ticks\":\"\"},\"baxis\":{\"gridcolor\":\"white\",\"linecolor\":\"white\",\"ticks\":\"\"},\"caxis\":{\"gridcolor\":\"white\",\"linecolor\":\"white\",\"ticks\":\"\"}},\"coloraxis\":{\"colorbar\":{\"outlinewidth\":0,\"ticks\":\"\"}},\"colorscale\":{\"sequential\":[[0.0,\"#0d0887\"],[0.1111111111111111,\"#46039f\"],[0.2222222222222222,\"#7201a8\"],[0.3333333333333333,\"#9c179e\"],[0.4444444444444444,\"#bd3786\"],[0.5555555555555556,\"#d8576b\"],[0.6666666666666666,\"#ed7953\"],[0.7777777777777778,\"#fb9f3a\"],[0.8888888888888888,\"#fdca26\"],[1.0,\"#f0f921\"]],\"sequentialminus\":[[0.0,\"#0d0887\"],[0.1111111111111111,\"#46039f\"],[0.2222222222222222,\"#7201a8\"],[0.3333333333333333,\"#9c179e\"],[0.4444444444444444,\"#bd3786\"],[0.5555555555555556,\"#d8576b\"],[0.6666666666666666,\"#ed7953\"],[0.7777777777777778,\"#fb9f3a\"],[0.8888888888888888,\"#fdca26\"],[1.0,\"#f0f921\"]],\"diverging\":[[0,\"#8e0152\"],[0.1,\"#c51b7d\"],[0.2,\"#de77ae\"],[0.3,\"#f1b6da\"],[0.4,\"#fde0ef\"],[0.5,\"#f7f7f7\"],[0.6,\"#e6f5d0\"],[0.7,\"#b8e186\"],[0.8,\"#7fbc41\"],[0.9,\"#4d9221\"],[1,\"#276419\"]]},\"xaxis\":{\"gridcolor\":\"white\",\"linecolor\":\"white\",\"ticks\":\"\",\"title\":{\"standoff\":15},\"zerolinecolor\":\"white\",\"automargin\":true,\"zerolinewidth\":2},\"yaxis\":{\"gridcolor\":\"white\",\"linecolor\":\"white\",\"ticks\":\"\",\"title\":{\"standoff\":15},\"zerolinecolor\":\"white\",\"automargin\":true,\"zerolinewidth\":2},\"scene\":{\"xaxis\":{\"backgroundcolor\":\"#E5ECF6\",\"gridcolor\":\"white\",\"linecolor\":\"white\",\"showbackground\":true,\"ticks\":\"\",\"zerolinecolor\":\"white\",\"gridwidth\":2},\"yaxis\":{\"backgroundcolor\":\"#E5ECF6\",\"gridcolor\":\"white\",\"linecolor\":\"white\",\"showbackground\":true,\"ticks\":\"\",\"zerolinecolor\":\"white\",\"gridwidth\":2},\"zaxis\":{\"backgroundcolor\":\"#E5ECF6\",\"gridcolor\":\"white\",\"linecolor\":\"white\",\"showbackground\":true,\"ticks\":\"\",\"zerolinecolor\":\"white\",\"gridwidth\":2}},\"shapedefaults\":{\"line\":{\"color\":\"#2a3f5f\"}},\"annotationdefaults\":{\"arrowcolor\":\"#2a3f5f\",\"arrowhead\":0,\"arrowwidth\":1},\"geo\":{\"bgcolor\":\"white\",\"landcolor\":\"#E5ECF6\",\"subunitcolor\":\"white\",\"showland\":true,\"showlakes\":true,\"lakecolor\":\"white\"},\"title\":{\"x\":0.05},\"mapbox\":{\"style\":\"light\"}}},\"xaxis\":{\"anchor\":\"y\",\"domain\":[0.0,1.0],\"title\":{\"text\":\"date\"}},\"yaxis\":{\"anchor\":\"x\",\"domain\":[0.0,1.0],\"title\":{\"text\":\"average_price\"}},\"legend\":{\"title\":{\"text\":\"area\"},\"tracegroupgap\":0},\"title\":{\"text\":\"Household Prices\"}},                        {\"responsive\": true}                    ).then(function(){\n",
       "                            \n",
       "var gd = document.getElementById('096ae708-04c8-49ac-a5b9-8c5862ec35f3');\n",
       "var x = new MutationObserver(function (mutations, observer) {{\n",
       "        var display = window.getComputedStyle(gd).display;\n",
       "        if (!display || display === 'none') {{\n",
       "            console.log([gd, 'removed!']);\n",
       "            Plotly.purge(gd);\n",
       "            observer.disconnect();\n",
       "        }}\n",
       "}});\n",
       "\n",
       "// Listen for the removal of the full notebook cells\n",
       "var notebookContainer = gd.closest('#notebook-container');\n",
       "if (notebookContainer) {{\n",
       "    x.observe(notebookContainer, {childList: true});\n",
       "}}\n",
       "\n",
       "// Listen for the clearing of the current output cell\n",
       "var outputEl = gd.closest('.output');\n",
       "if (outputEl) {{\n",
       "    x.observe(outputEl, {childList: true});\n",
       "}}\n",
       "\n",
       "                        })                };                });            </script>        </div>"
      ]
     },
     "metadata": {},
     "output_type": "display_data"
    }
   ],
   "execution_count": 15
  }
 ],
 "metadata": {
  "kernelspec": {
   "display_name": "Python 3",
   "language": "python",
   "name": "python3"
  },
  "language_info": {
   "codemirror_mode": {
    "name": "ipython",
    "version": 2
   },
   "file_extension": ".py",
   "mimetype": "text/x-python",
   "name": "python",
   "nbconvert_exporter": "python",
   "pygments_lexer": "ipython2",
   "version": "2.7.6"
  }
 },
 "nbformat": 4,
 "nbformat_minor": 5
}
