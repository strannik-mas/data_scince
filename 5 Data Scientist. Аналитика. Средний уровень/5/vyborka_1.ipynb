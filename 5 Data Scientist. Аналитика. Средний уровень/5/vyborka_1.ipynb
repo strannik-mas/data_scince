{
 "cells": [
  {
   "metadata": {},
   "cell_type": "markdown",
   "source": "Задача: понять какого размера выборку взять, если нас интересует вычисление конверсии с погрешностью (ошибкой) не более 3% на 95% уровне доверия. При этом, исходя из содержательных соображений, мы считаем, что ожидаемая доля конверсии равна 0.6",
   "id": "fd6c427764c8938a"
  },
  {
   "metadata": {
    "ExecuteTime": {
     "end_time": "2024-11-22T16:12:52.841306Z",
     "start_time": "2024-11-22T16:12:52.834538Z"
    }
   },
   "cell_type": "code",
   "source": [
    "p = 0.6\n",
    "z = 1.96\n",
    "error = 0.03"
   ],
   "id": "25dfd7bebf6075d4",
   "outputs": [],
   "execution_count": 2
  },
  {
   "metadata": {
    "ExecuteTime": {
     "end_time": "2024-11-22T16:18:54.009946Z",
     "start_time": "2024-11-22T16:18:53.999946Z"
    }
   },
   "cell_type": "code",
   "source": "z**2*p*(1-p)/(error**2)",
   "id": "3d840d9498b4b5fa",
   "outputs": [
    {
     "data": {
      "text/plain": [
       "1024.4266666666667"
      ]
     },
     "execution_count": 4,
     "metadata": {},
     "output_type": "execute_result"
    }
   ],
   "execution_count": 4
  },
  {
   "metadata": {
    "ExecuteTime": {
     "end_time": "2024-11-22T16:19:54.884506Z",
     "start_time": "2024-11-22T16:19:54.880264Z"
    }
   },
   "cell_type": "code",
   "source": [
    "#hw\n",
    "z= 1.65\n",
    "p = 0.7\n",
    "error = 0.02"
   ],
   "id": "951979e7d25ed0e9",
   "outputs": [],
   "execution_count": 5
  },
  {
   "metadata": {
    "ExecuteTime": {
     "end_time": "2024-11-22T16:20:03.294548Z",
     "start_time": "2024-11-22T16:20:03.288366Z"
    }
   },
   "cell_type": "code",
   "source": "z**2*p*(1-p)/(error**2)",
   "id": "f8fda6ffe3d27f4e",
   "outputs": [
    {
     "data": {
      "text/plain": [
       "1429.3124999999998"
      ]
     },
     "execution_count": 6,
     "metadata": {},
     "output_type": "execute_result"
    }
   ],
   "execution_count": 6
  }
 ],
 "metadata": {
  "kernelspec": {
   "display_name": "Python 3",
   "language": "python",
   "name": "python3"
  },
  "language_info": {
   "codemirror_mode": {
    "name": "ipython",
    "version": 2
   },
   "file_extension": ".py",
   "mimetype": "text/x-python",
   "name": "python",
   "nbconvert_exporter": "python",
   "pygments_lexer": "ipython2",
   "version": "2.7.6"
  }
 },
 "nbformat": 4,
 "nbformat_minor": 5
}
