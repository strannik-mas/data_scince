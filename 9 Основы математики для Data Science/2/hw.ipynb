{
 "cells": [
  {
   "cell_type": "code",
   "id": "initial_id",
   "metadata": {
    "collapsed": true,
    "ExecuteTime": {
     "end_time": "2025-01-05T19:09:15.227002Z",
     "start_time": "2025-01-05T19:09:15.218Z"
    }
   },
   "source": [
    "import math\n",
    "\n",
    "def sumRyadov(n):\n",
    "    sum = 0\n",
    "    for i in range(1, n):\n",
    "        sum = sum + math.log(i)\n",
    "        \n",
    "    return sum\n",
    "\n",
    "def proizv(n):\n",
    "    p = 1\n",
    "    for i in range(1, n):\n",
    "        p = p * i\n",
    "        \n",
    "    return math.log(p)"
   ],
   "outputs": [],
   "execution_count": 1
  },
  {
   "metadata": {
    "ExecuteTime": {
     "end_time": "2025-01-05T19:24:35.239965Z",
     "start_time": "2025-01-05T19:24:35.234209Z"
    }
   },
   "cell_type": "code",
   "source": [
    "resSum = sumRyadov(5)\n",
    "resSum"
   ],
   "id": "da6a68c797d5467c",
   "outputs": [
    {
     "data": {
      "text/plain": [
       "3.1780538303479453"
      ]
     },
     "execution_count": 6,
     "metadata": {},
     "output_type": "execute_result"
    }
   ],
   "execution_count": 6
  },
  {
   "metadata": {
    "ExecuteTime": {
     "end_time": "2025-01-05T19:24:37.850779Z",
     "start_time": "2025-01-05T19:24:37.840176Z"
    }
   },
   "cell_type": "code",
   "source": [
    "resProizv = proizv(5)\n",
    "resProizv"
   ],
   "id": "e0dd5e8fef326edf",
   "outputs": [
    {
     "data": {
      "text/plain": [
       "3.1780538303479458"
      ]
     },
     "execution_count": 7,
     "metadata": {},
     "output_type": "execute_result"
    }
   ],
   "execution_count": 7
  }
 ],
 "metadata": {
  "kernelspec": {
   "display_name": "Python 3",
   "language": "python",
   "name": "python3"
  },
  "language_info": {
   "codemirror_mode": {
    "name": "ipython",
    "version": 2
   },
   "file_extension": ".py",
   "mimetype": "text/x-python",
   "name": "python",
   "nbconvert_exporter": "python",
   "pygments_lexer": "ipython2",
   "version": "2.7.6"
  }
 },
 "nbformat": 4,
 "nbformat_minor": 5
}
