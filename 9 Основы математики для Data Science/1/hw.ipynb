{
 "cells": [
  {
   "cell_type": "code",
   "id": "initial_id",
   "metadata": {
    "collapsed": true,
    "ExecuteTime": {
     "end_time": "2025-01-04T20:08:50.507867Z",
     "start_time": "2025-01-04T20:08:49.954544Z"
    }
   },
   "source": [
    "from sympy import *\n",
    "init_printing(use_unicode=False, wrap_line=False, no_global=True)\n",
    "x = Symbol('x')\n",
    "y = Symbol('y')\n",
    "a = Symbol('a')\n",
    "b = Symbol('b')\n",
    "k = Symbol('k')\n",
    "c = Symbol('c')"
   ],
   "outputs": [],
   "execution_count": 1
  },
  {
   "metadata": {
    "ExecuteTime": {
     "end_time": "2025-01-04T20:16:30.448216Z",
     "start_time": "2025-01-04T20:16:30.408463Z"
    }
   },
   "cell_type": "code",
   "source": [
    "exp1 = (2*x + 3*y)**2 - 3*x*(4*x/3 + 4*y)\n",
    "print(exp1)\n",
    "simplify(exp1)"
   ],
   "id": "aa034324a5cdf505",
   "outputs": [
    {
     "name": "stdout",
     "output_type": "stream",
     "text": [
      "-3*x*(4*x/3 + 4*y) + (2*x + 3*y)**2\n"
     ]
    },
    {
     "data": {
      "text/plain": [
       "   2\n",
       "9*y "
      ],
      "image/png": "[encoded data removed]",
      "text/latex": "$\\displaystyle 9 y^{2}$"
     },
     "execution_count": 3,
     "metadata": {},
     "output_type": "execute_result"
    }
   ],
   "execution_count": 3
  },
  {
   "metadata": {
    "ExecuteTime": {
     "end_time": "2025-01-04T20:17:49.651559Z",
     "start_time": "2025-01-04T20:17:49.587570Z"
    }
   },
   "cell_type": "code",
   "source": [
    "exp2 = 28*a*b + (2*a - 7 * b)**2\n",
    "simplify(exp2)"
   ],
   "id": "1ffd6e84b0dc760",
   "outputs": [
    {
     "data": {
      "text/plain": [
       "   2       2\n",
       "4*a  + 49*b "
      ],
      "image/png": "[encoded data removed]",
      "text/latex": "$\\displaystyle 4 a^{2} + 49 b^{2}$"
     },
     "execution_count": 4,
     "metadata": {},
     "output_type": "execute_result"
    }
   ],
   "execution_count": 4
  },
  {
   "metadata": {
    "ExecuteTime": {
     "end_time": "2025-01-04T20:19:31.599684Z",
     "start_time": "2025-01-04T20:19:31.544410Z"
    }
   },
   "cell_type": "code",
   "source": [
    "exp3 = (a/2 + a/5)*1/a**2\n",
    "simplify(exp3)"
   ],
   "id": "9b5aec27a6fdecb2",
   "outputs": [
    {
     "data": {
      "text/plain": [
       " 7  \n",
       "----\n",
       "10*a"
      ],
      "image/png": "[encoded data removed]",
      "text/latex": "$\\displaystyle \\frac{7}{10 a}$"
     },
     "execution_count": 5,
     "metadata": {},
     "output_type": "execute_result"
    }
   ],
   "execution_count": 5
  },
  {
   "metadata": {
    "ExecuteTime": {
     "end_time": "2025-01-04T20:22:04.630854Z",
     "start_time": "2025-01-04T20:22:04.512054Z"
    }
   },
   "cell_type": "code",
   "source": [
    "exp4 = (x - 6*x/(x+2))/((x-4)/(x+2))\n",
    "exp4"
   ],
   "id": "236a9c8be77a7d7d",
   "outputs": [
    {
     "data": {
      "text/plain": [
       "        /     6*x \\\n",
       "(x + 2)*|x - -----|\n",
       "        \\    x + 2/\n",
       "-------------------\n",
       "       x - 4       "
      ],
      "image/png": "[encoded data removed]",
      "text/latex": "$\\displaystyle \\frac{\\left(x + 2\\right) \\left(x - \\frac{6 x}{x + 2}\\right)}{x - 4}$"
     },
     "execution_count": 6,
     "metadata": {},
     "output_type": "execute_result"
    }
   ],
   "execution_count": 6
  },
  {
   "metadata": {
    "ExecuteTime": {
     "end_time": "2025-01-04T20:22:37.843744Z",
     "start_time": "2025-01-04T20:22:37.803255Z"
    }
   },
   "cell_type": "code",
   "source": "simplify(exp4)",
   "id": "337f3f060dd5e5ca",
   "outputs": [
    {
     "data": {
      "text/plain": [
       "x"
      ],
      "image/png": "[encoded data removed]",
      "text/latex": "$\\displaystyle x$"
     },
     "execution_count": 7,
     "metadata": {},
     "output_type": "execute_result"
    }
   ],
   "execution_count": 7
  },
  {
   "metadata": {
    "ExecuteTime": {
     "end_time": "2025-01-04T20:24:56.837443Z",
     "start_time": "2025-01-04T20:24:56.774599Z"
    }
   },
   "cell_type": "code",
   "source": [
    "exp5 = (4/a**2 + 9/b**2)*(a*b)**2\n",
    "exp5"
   ],
   "id": "3870c6e5c923c40b",
   "outputs": [
    {
     "data": {
      "text/plain": [
       " 2  2 /9    4 \\\n",
       "a *b *|-- + --|\n",
       "      | 2    2|\n",
       "      \\b    a /"
      ],
      "image/png": "[encoded data removed]",
      "text/latex": "$\\displaystyle a^{2} b^{2} \\left(\\frac{9}{b^{2}} + \\frac{4}{a^{2}}\\right)$"
     },
     "execution_count": 8,
     "metadata": {},
     "output_type": "execute_result"
    }
   ],
   "execution_count": 8
  },
  {
   "metadata": {
    "ExecuteTime": {
     "end_time": "2025-01-04T20:25:14.020616Z",
     "start_time": "2025-01-04T20:25:13.977191Z"
    }
   },
   "cell_type": "code",
   "source": "simplify(exp5)",
   "id": "bab5d7555358a382",
   "outputs": [
    {
     "data": {
      "text/plain": [
       "   2      2\n",
       "9*a  + 4*b "
      ],
      "image/png": "[encoded data removed]",
      "text/latex": "$\\displaystyle 9 a^{2} + 4 b^{2}$"
     },
     "execution_count": 9,
     "metadata": {},
     "output_type": "execute_result"
    }
   ],
   "execution_count": 9
  },
  {
   "metadata": {
    "ExecuteTime": {
     "end_time": "2025-01-04T20:26:53.431090Z",
     "start_time": "2025-01-04T20:26:53.407256Z"
    }
   },
   "cell_type": "code",
   "source": [
    "exp6 = 5/(c*k**2) * k**3 * c - (10*k+1)/2\n",
    "exp6"
   ],
   "id": "28c4690c1e46071a",
   "outputs": [
    {
     "data": {
      "text/plain": [
       "-1/2"
      ],
      "image/png": "[encoded data removed]",
      "text/latex": "$\\displaystyle - \\frac{1}{2}$"
     },
     "execution_count": 10,
     "metadata": {},
     "output_type": "execute_result"
    }
   ],
   "execution_count": 10
  },
  {
   "metadata": {
    "ExecuteTime": {
     "end_time": "2025-01-04T20:29:18.829128Z",
     "start_time": "2025-01-04T20:29:18.706232Z"
    }
   },
   "cell_type": "code",
   "source": [
    "exp7 = ((3*x**2+4*x)/(x**2-2*x)) - (2*x+7)/x - ((x+8)/(x-2))\n",
    "exp7"
   ],
   "id": "8c4d3d9d9423ed9c",
   "outputs": [
    {
     "data": {
      "text/plain": [
       "   2                        \n",
       "3*x  + 4*x   x + 8   2*x + 7\n",
       "---------- - ----- - -------\n",
       "  2          x - 2      x   \n",
       " x  - 2*x                   "
      ],
      "image/png": "[encoded data removed]",
      "text/latex": "$\\displaystyle \\frac{3 x^{2} + 4 x}{x^{2} - 2 x} - \\frac{x + 8}{x - 2} - \\frac{2 x + 7}{x}$"
     },
     "execution_count": 11,
     "metadata": {},
     "output_type": "execute_result"
    }
   ],
   "execution_count": 11
  },
  {
   "metadata": {
    "ExecuteTime": {
     "end_time": "2025-01-04T20:29:43.210150Z",
     "start_time": "2025-01-04T20:29:43.108403Z"
    }
   },
   "cell_type": "code",
   "source": "simplify(exp7)",
   "id": "2093a40b1d9ad4a4",
   "outputs": [
    {
     "data": {
      "text/plain": [
       "-7 \n",
       "---\n",
       " x "
      ],
      "image/png": "[encoded data removed]",
      "text/latex": "$\\displaystyle - \\frac{7}{x}$"
     },
     "execution_count": 12,
     "metadata": {},
     "output_type": "execute_result"
    }
   ],
   "execution_count": 12
  }
 ],
 "metadata": {
  "kernelspec": {
   "display_name": "Python 3",
   "language": "python",
   "name": "python3"
  },
  "language_info": {
   "codemirror_mode": {
    "name": "ipython",
    "version": 2
   },
   "file_extension": ".py",
   "mimetype": "text/x-python",
   "name": "python",
   "nbconvert_exporter": "python",
   "pygments_lexer": "ipython2",
   "version": "2.7.6"
  }
 },
 "nbformat": 4,
 "nbformat_minor": 5
}
