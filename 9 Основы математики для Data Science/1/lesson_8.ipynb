{
 "cells": [
  {
   "cell_type": "code",
   "id": "initial_id",
   "metadata": {
    "collapsed": true,
    "ExecuteTime": {
     "end_time": "2025-01-04T19:21:11.811937Z",
     "start_time": "2025-01-04T19:21:10.964606Z"
    }
   },
   "source": [
    "from sympy import *\n",
    "init_printing(use_unicode=False, wrap_line=False, no_global=True)"
   ],
   "outputs": [],
   "execution_count": 1
  },
  {
   "metadata": {
    "ExecuteTime": {
     "end_time": "2025-01-04T19:21:28.448879Z",
     "start_time": "2025-01-04T19:21:28.443844Z"
    }
   },
   "cell_type": "code",
   "source": "x = Symbol('x')",
   "id": "881910e937c15223",
   "outputs": [],
   "execution_count": 2
  },
  {
   "metadata": {
    "ExecuteTime": {
     "end_time": "2025-01-04T19:21:43.706419Z",
     "start_time": "2025-01-04T19:21:41.857518Z"
    }
   },
   "cell_type": "code",
   "source": "x**2/2",
   "id": "4deb97039f9e0d46",
   "outputs": [
    {
     "data": {
      "text/plain": [
       " 2\n",
       "x \n",
       "--\n",
       "2 "
      ],
      "image/png": "[encoded data removed]",
      "text/latex": "$\\displaystyle \\frac{x^{2}}{2}$"
     },
     "execution_count": 3,
     "metadata": {},
     "output_type": "execute_result"
    }
   ],
   "execution_count": 3
  },
  {
   "metadata": {
    "ExecuteTime": {
     "end_time": "2025-01-04T19:24:09.007354Z",
     "start_time": "2025-01-04T19:24:08.984463Z"
    }
   },
   "cell_type": "code",
   "source": [
    "y = Symbol('y')\n",
    "y"
   ],
   "id": "79408c62b4673169",
   "outputs": [
    {
     "data": {
      "text/plain": [
       "y"
      ],
      "image/png": "[encoded data removed]",
      "text/latex": "$\\displaystyle y$"
     },
     "execution_count": 4,
     "metadata": {},
     "output_type": "execute_result"
    }
   ],
   "execution_count": 4
  },
  {
   "metadata": {
    "ExecuteTime": {
     "end_time": "2025-01-04T19:25:04.764415Z",
     "start_time": "2025-01-04T19:25:04.714839Z"
    }
   },
   "cell_type": "code",
   "source": [
    "expression = (x**2 - y**2)/(x**2 + 2*x*y + y**2)\n",
    "expression"
   ],
   "id": "90574fbac9f38c61",
   "outputs": [
    {
     "data": {
      "text/plain": [
       "     2    2    \n",
       "    x  - y     \n",
       "---------------\n",
       " 2            2\n",
       "x  + 2*x*y + y "
      ],
      "image/png": "[encoded data removed]",
      "text/latex": "$\\displaystyle \\frac{x^{2} - y^{2}}{x^{2} + 2 x y + y^{2}}$"
     },
     "execution_count": 5,
     "metadata": {},
     "output_type": "execute_result"
    }
   ],
   "execution_count": 5
  },
  {
   "metadata": {
    "ExecuteTime": {
     "end_time": "2025-01-04T19:25:26.993163Z",
     "start_time": "2025-01-04T19:25:26.920519Z"
    }
   },
   "cell_type": "code",
   "source": "simplify(expression)",
   "id": "b83029936d749b6d",
   "outputs": [
    {
     "data": {
      "text/plain": [
       "x - y\n",
       "-----\n",
       "x + y"
      ],
      "image/png": "[encoded data removed]",
      "text/latex": "$\\displaystyle \\frac{x - y}{x + y}$"
     },
     "execution_count": 6,
     "metadata": {},
     "output_type": "execute_result"
    }
   ],
   "execution_count": 6
  },
  {
   "metadata": {
    "ExecuteTime": {
     "end_time": "2025-01-04T19:34:59.538900Z",
     "start_time": "2025-01-04T19:34:59.404934Z"
    }
   },
   "cell_type": "code",
   "source": [
    "m = Symbol('m')\n",
    "exp = ((10*m**2)/(3+2*m)-5*m)/((30*m**2-15*m)/(8*m**3+27))\n",
    "exp"
   ],
   "id": "cb68d26de08dbee3",
   "outputs": [
    {
     "data": {
      "text/plain": [
       "            /     2       \\\n",
       "/   3     \\ | 10*m        |\n",
       "\\8*m  + 27/*|------- - 5*m|\n",
       "            \\2*m + 3      /\n",
       "---------------------------\n",
       "           2               \n",
       "       30*m  - 15*m        "
      ],
      "image/png": "[encoded data removed]",
      "text/latex": "$\\displaystyle \\frac{\\left(8 m^{3} + 27\\right) \\left(\\frac{10 m^{2}}{2 m + 3} - 5 m\\right)}{30 m^{2} - 15 m}$"
     },
     "execution_count": 7,
     "metadata": {},
     "output_type": "execute_result"
    }
   ],
   "execution_count": 7
  },
  {
   "metadata": {
    "ExecuteTime": {
     "end_time": "2025-01-04T19:36:38.753549Z",
     "start_time": "2025-01-04T19:36:38.666978Z"
    }
   },
   "cell_type": "code",
   "source": "simplify(exp)",
   "id": "92d8c7758f39e697",
   "outputs": [
    {
     "data": {
      "text/plain": [
       "     2          \n",
       "- 4*m  + 6*m - 9\n",
       "----------------\n",
       "    2*m - 1     "
      ],
      "image/png": "[encoded data removed]",
      "text/latex": "$\\displaystyle \\frac{- 4 m^{2} + 6 m - 9}{2 m - 1}$"
     },
     "execution_count": 8,
     "metadata": {},
     "output_type": "execute_result"
    }
   ],
   "execution_count": 8
  },
  {
   "metadata": {},
   "cell_type": "code",
   "outputs": [],
   "execution_count": null,
   "source": "",
   "id": "f501d406dfc48b4a"
  }
 ],
 "metadata": {
  "kernelspec": {
   "display_name": "Python 3",
   "language": "python",
   "name": "python3"
  },
  "language_info": {
   "codemirror_mode": {
    "name": "ipython",
    "version": 2
   },
   "file_extension": ".py",
   "mimetype": "text/x-python",
   "name": "python",
   "nbconvert_exporter": "python",
   "pygments_lexer": "ipython2",
   "version": "2.7.6"
  }
 },
 "nbformat": 4,
 "nbformat_minor": 5
}
