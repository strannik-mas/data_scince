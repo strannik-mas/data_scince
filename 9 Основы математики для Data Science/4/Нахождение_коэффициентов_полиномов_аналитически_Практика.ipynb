{
 "nbformat": 4,
 "nbformat_minor": 0,
 "metadata": {
  "colab": {
   "provenance": []
  },
  "kernelspec": {
   "name": "python3",
   "display_name": "Python 3 (ipykernel)",
   "language": "python"
  }
 },
 "cells": [
  {
   "cell_type": "markdown",
   "metadata": {
    "id": "mEFNuokq2MMZ"
   },
   "source": [
    "## Нахождение коэффициентов полиномов аналитически. Практика\n",
    "\n",
    "Для закрепления пройденного материала найдите коэффициенты функции для данного набора точек, и затем проверьте с помощью подстановки, правильный ли у вас получился результат. Степень полинома для составления системы выберите сами, исходя из пройденного в первом уроке правила.\n",
    "\n",
    "1. $(-2.5, 15.0), (-2, 10), (-1.5, 7.0)$\n",
    "2. $(-0.5, -15.0), (-1, -31), (0, -7), (0.5, -4.0)$\n"
   ]
  },
  {
   "cell_type": "code",
   "metadata": {
    "id": "67VSSj5P12-l",
    "ExecuteTime": {
     "end_time": "2025-01-09T13:48:12.610079Z",
     "start_time": "2025-01-09T13:48:12.603462Z"
    }
   },
   "source": [
    "### YOUR CODE HERE ###\n",
    "from sympy import *\n",
    "import numpy as np\n",
    "import matplotlib.pyplot as plt\n",
    "\n",
    "a3, a2, a1, a0 = symbols('a3 a2 a1 a0')\n",
    "x = Symbol('x')"
   ],
   "outputs": [],
   "execution_count": 2
  },
  {
   "metadata": {
    "ExecuteTime": {
     "end_time": "2025-01-09T14:07:07.315266Z",
     "start_time": "2025-01-09T14:07:06.980051Z"
    }
   },
   "cell_type": "code",
   "source": [
    "# a2*6,25 - 2,5*a1 + a0 = 15\n",
    "eq1_lp = 6.25*a2 - 2.5*a1 + a0 - 15\n",
    "eq2_lp = 4*a2 - 2*a1 + a0 - 10\n",
    "eq3_lp = 2.25*a2 - 1.5*a1 + a0 - 7\n",
    "nonlinsolve([eq1_lp, eq2_lp, eq3_lp], [a2, a1, a0])"
   ],
   "outputs": [
    {
     "data": {
      "text/plain": [
       "{(4.0, 8.0, 10.0)}"
      ],
      "text/latex": "$\\displaystyle \\left\\{\\left( 4.0, \\  8.0, \\  10.0\\right)\\right\\}$"
     },
     "execution_count": 3,
     "metadata": {},
     "output_type": "execute_result"
    }
   ],
   "execution_count": 3
  },
  {
   "metadata": {
    "ExecuteTime": {
     "end_time": "2025-01-09T16:21:44.788914Z",
     "start_time": "2025-01-09T16:21:44.777894Z"
    }
   },
   "cell_type": "code",
   "source": "f1 = 4*x**2 + 8*x + 10",
   "outputs": [],
   "execution_count": 4
  },
  {
   "metadata": {
    "ExecuteTime": {
     "end_time": "2025-01-09T16:22:22.805844Z",
     "start_time": "2025-01-09T16:22:22.795532Z"
    }
   },
   "cell_type": "code",
   "source": "f1.subs(x, -2.5)",
   "outputs": [
    {
     "data": {
      "text/plain": [
       "15.0000000000000"
      ],
      "text/latex": "$\\displaystyle 15.0$"
     },
     "execution_count": 5,
     "metadata": {},
     "output_type": "execute_result"
    }
   ],
   "execution_count": 5
  },
  {
   "metadata": {
    "ExecuteTime": {
     "end_time": "2025-01-09T16:22:40.113677Z",
     "start_time": "2025-01-09T16:22:40.106736Z"
    }
   },
   "cell_type": "code",
   "source": "f1.subs(x, -2)",
   "outputs": [
    {
     "data": {
      "text/plain": [
       "10"
      ],
      "text/latex": "$\\displaystyle 10$"
     },
     "execution_count": 6,
     "metadata": {},
     "output_type": "execute_result"
    }
   ],
   "execution_count": 6
  },
  {
   "metadata": {
    "ExecuteTime": {
     "end_time": "2025-01-09T16:22:49.039130Z",
     "start_time": "2025-01-09T16:22:49.032921Z"
    }
   },
   "cell_type": "code",
   "source": "f1.subs(x, -1.5)",
   "outputs": [
    {
     "data": {
      "text/plain": [
       "7.00000000000000"
      ],
      "text/latex": "$\\displaystyle 7.0$"
     },
     "execution_count": 7,
     "metadata": {},
     "output_type": "execute_result"
    }
   ],
   "execution_count": 7
  },
  {
   "metadata": {
    "ExecuteTime": {
     "end_time": "2025-01-09T17:21:36.972500Z",
     "start_time": "2025-01-09T17:21:36.780215Z"
    }
   },
   "cell_type": "code",
   "source": [
    "# -a3*0.125 + a2*0,25 - a1*0.5 + a0 = -15\n",
    "eq1_lp = -0.125*a3 + 0.25*a2 - 0.5*a1 + a0 + 15\n",
    "eq2_lp = -a3 + a2 - a1 + a0 + 31\n",
    "eq3_lp = a0 + 7\n",
    "eq4_lp = 0.125*a3 + 0.25*a2 + 0.5*a1 + a0 + 4\n",
    "nonlinsolve([eq1_lp, eq2_lp, eq3_lp, eq4_lp], [a3, a2, a1, a0])"
   ],
   "outputs": [
    {
     "data": {
      "text/plain": [
       "{(4.0, -10.0, 10.0, -7.0)}"
      ],
      "text/latex": "$\\displaystyle \\left\\{\\left( 4.0, \\  -10.0, \\  10.0, \\  -7.0\\right)\\right\\}$"
     },
     "execution_count": 8,
     "metadata": {},
     "output_type": "execute_result"
    }
   ],
   "execution_count": 8
  },
  {
   "metadata": {
    "ExecuteTime": {
     "end_time": "2025-01-09T17:22:57.002238Z",
     "start_time": "2025-01-09T17:22:56.996278Z"
    }
   },
   "cell_type": "code",
   "source": "f2 = 4*x**3 - 10*x**2 + 10*x - 7",
   "outputs": [],
   "execution_count": 9
  },
  {
   "metadata": {
    "ExecuteTime": {
     "end_time": "2025-01-09T17:23:20.270549Z",
     "start_time": "2025-01-09T17:23:20.259846Z"
    }
   },
   "cell_type": "code",
   "source": "f2.subs(x, -0.5)",
   "outputs": [
    {
     "data": {
      "text/plain": [
       "-15.0000000000000"
      ],
      "text/latex": "$\\displaystyle -15.0$"
     },
     "execution_count": 10,
     "metadata": {},
     "output_type": "execute_result"
    }
   ],
   "execution_count": 10
  },
  {
   "metadata": {
    "ExecuteTime": {
     "end_time": "2025-01-09T17:23:53.780768Z",
     "start_time": "2025-01-09T17:23:53.773480Z"
    }
   },
   "cell_type": "code",
   "source": "f2.subs(x, -1)",
   "outputs": [
    {
     "data": {
      "text/plain": [
       "-31"
      ],
      "text/latex": "$\\displaystyle -31$"
     },
     "execution_count": 11,
     "metadata": {},
     "output_type": "execute_result"
    }
   ],
   "execution_count": 11
  },
  {
   "metadata": {
    "ExecuteTime": {
     "end_time": "2025-01-09T17:24:02.762164Z",
     "start_time": "2025-01-09T17:24:02.754509Z"
    }
   },
   "cell_type": "code",
   "source": "f2.subs(x, 0)",
   "outputs": [
    {
     "data": {
      "text/plain": [
       "-7"
      ],
      "text/latex": "$\\displaystyle -7$"
     },
     "execution_count": 12,
     "metadata": {},
     "output_type": "execute_result"
    }
   ],
   "execution_count": 12
  },
  {
   "metadata": {
    "ExecuteTime": {
     "end_time": "2025-01-09T17:24:19.046680Z",
     "start_time": "2025-01-09T17:24:19.036918Z"
    }
   },
   "cell_type": "code",
   "source": "f2.subs(x, 0.5)",
   "outputs": [
    {
     "data": {
      "text/plain": [
       "-4.00000000000000"
      ],
      "text/latex": "$\\displaystyle -4.0$"
     },
     "execution_count": 13,
     "metadata": {},
     "output_type": "execute_result"
    }
   ],
   "execution_count": 13
  },
  {
   "metadata": {
    "ExecuteTime": {
     "end_time": "2025-01-09T17:28:18.348217Z",
     "start_time": "2025-01-09T17:28:18.183015Z"
    }
   },
   "cell_type": "code",
   "source": [
    "import numpy as np\n",
    "import matplotlib.pyplot as plt\n",
    "\n",
    "x_range = np.linspace(-3, 2, num=100)\n",
    "fu = lambda x: 4*x**2 + 8*x + 10\n",
    "fu2 = lambda x: 4*x**3 - 10*x**2 + 10*x - 7\n",
    "plt.scatter([-2.5,-2,-1.5], [15,10,7], c='r')\n",
    "plt.scatter([-0.5,-1, 0, 0.5], [-15,-31,-7, -4], c='g')\n",
    "plt.axhline(0, color='black')\n",
    "plt.axvline(0, color='black')\n",
    "plt.plot(x_range, fu(x_range))\n",
    "plt.plot(x_range, fu2(x_range))"
   ],
   "outputs": [
    {
     "data": {
      "text/plain": [
       "[<matplotlib.lines.Line2D at 0x1d8c970a510>]"
      ]
     },
     "execution_count": 15,
     "metadata": {},
     "output_type": "execute_result"
    },
    {
     "data": {
      "text/plain": [
       "<Figure size 640x480 with 1 Axes>"
      ],
      "image/png": "[encoded data removed]"
     },
     "metadata": {},
     "output_type": "display_data"
    }
   ],
   "execution_count": 15
  }
 ]
}
