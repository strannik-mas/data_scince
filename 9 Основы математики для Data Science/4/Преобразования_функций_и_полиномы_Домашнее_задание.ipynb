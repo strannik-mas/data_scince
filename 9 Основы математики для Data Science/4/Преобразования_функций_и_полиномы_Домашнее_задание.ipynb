{
 "nbformat": 4,
 "nbformat_minor": 0,
 "metadata": {
  "colab": {
   "provenance": []
  },
  "kernelspec": {
   "name": "python3",
   "display_name": "Python 3 (ipykernel)",
   "language": "python"
  }
 },
 "cells": [
  {
   "cell_type": "markdown",
   "metadata": {
    "id": "yyo73hwFEoJt"
   },
   "source": [
    "## Преобразования функций и полиномы. Домашнее задание\n",
    "\n",
    "С помощью SymPy найдите полиномы, описывающие данные наборы точек. Затем проведите полное исследование каждого полученного полинома: проверьте четность/нечетность, найдите нули, промежутки знакопостоянства. Постройте их графики. С помощью изменения промежутка для х добейтесь того, чтобы все нули были отображены на графике функции.<br><br>\n",
    "Средний уровень <br><br>\n",
    "$(-2, 2), (-1, 1), (0, 0), (1, 1), (2, 2)$<br><br>\n",
    "Сложный уровень <br><br>\n",
    "$(-3, 33), (-2, 31), (-1, 18), (1, -18), (2, -31), (3, -33)$\n"
   ]
  },
  {
   "cell_type": "code",
   "metadata": {
    "id": "bVBLXKfjEiEA",
    "ExecuteTime": {
     "end_time": "2025-01-09T19:27:02.429447Z",
     "start_time": "2025-01-09T19:27:02.423136Z"
    }
   },
   "source": [
    "### YOUR CODE HERE ###\n",
    "from sympy import *\n",
    "import numpy as np\n",
    "import matplotlib.pyplot as plt\n",
    "from sympy.solvers.inequalities import solve_univariate_inequality\n",
    "\n",
    "a5, a4, a3, a2, a1, a0 = symbols('a5 a4 a3 a2 a1 a0')\n",
    "x = Symbol('x')"
   ],
   "outputs": [],
   "execution_count": 10
  },
  {
   "metadata": {
    "ExecuteTime": {
     "end_time": "2025-01-09T19:05:01.425112Z",
     "start_time": "2025-01-09T19:05:01.059475Z"
    }
   },
   "cell_type": "code",
   "source": [
    "eq1_lp = 16*a4 -8*a3 + 4*a2 - 2*a1 + a0 - 2\n",
    "eq2_lp = a4 -a3 + a2 - a1 + a0 - 1\n",
    "eq3_lp = a0\n",
    "eq4_lp = a4 + a3 + a2 + a1 + a0 - 1\n",
    "eq5_lp = 16*a4 + 8*a3 + 4*a2 + 2*a1 + a0 - 2\n",
    "nonlinsolve([eq1_lp, eq2_lp, eq3_lp, eq4_lp, eq5_lp], [a4, a3, a2, a1, a0])"
   ],
   "outputs": [
    {
     "data": {
      "text/plain": [
       "{(-1/6, 0, 7/6, 0, 0)}"
      ],
      "text/latex": "$\\displaystyle \\left\\{\\left( - \\frac{1}{6}, \\  0, \\  \\frac{7}{6}, \\  0, \\  0\\right)\\right\\}$"
     },
     "execution_count": 2,
     "metadata": {},
     "output_type": "execute_result"
    }
   ],
   "execution_count": 2
  },
  {
   "metadata": {
    "ExecuteTime": {
     "end_time": "2025-01-09T19:14:19.663616Z",
     "start_time": "2025-01-09T19:14:19.656071Z"
    }
   },
   "cell_type": "code",
   "source": "f1 = -x**4/6 + 7*x**2/6",
   "outputs": [],
   "execution_count": 3
  },
  {
   "metadata": {
    "ExecuteTime": {
     "end_time": "2025-01-09T19:14:33.900334Z",
     "start_time": "2025-01-09T19:14:33.893462Z"
    }
   },
   "cell_type": "code",
   "source": "f1.subs(x, -2)",
   "outputs": [
    {
     "data": {
      "text/plain": [
       "2"
      ],
      "text/latex": "$\\displaystyle 2$"
     },
     "execution_count": 4,
     "metadata": {},
     "output_type": "execute_result"
    }
   ],
   "execution_count": 4
  },
  {
   "metadata": {
    "ExecuteTime": {
     "end_time": "2025-01-09T19:14:50.590171Z",
     "start_time": "2025-01-09T19:14:50.583650Z"
    }
   },
   "cell_type": "code",
   "source": "f1.subs(x, -1)",
   "outputs": [
    {
     "data": {
      "text/plain": [
       "1"
      ],
      "text/latex": "$\\displaystyle 1$"
     },
     "execution_count": 5,
     "metadata": {},
     "output_type": "execute_result"
    }
   ],
   "execution_count": 5
  },
  {
   "metadata": {
    "ExecuteTime": {
     "end_time": "2025-01-09T19:15:05.272199Z",
     "start_time": "2025-01-09T19:15:05.258155Z"
    }
   },
   "cell_type": "code",
   "source": "f1.subs(x, 0)",
   "outputs": [
    {
     "data": {
      "text/plain": [
       "0"
      ],
      "text/latex": "$\\displaystyle 0$"
     },
     "execution_count": 6,
     "metadata": {},
     "output_type": "execute_result"
    }
   ],
   "execution_count": 6
  },
  {
   "metadata": {
    "ExecuteTime": {
     "end_time": "2025-01-09T19:15:46.771783Z",
     "start_time": "2025-01-09T19:15:46.764648Z"
    }
   },
   "cell_type": "code",
   "source": "f1.subs(x, 1)",
   "outputs": [
    {
     "data": {
      "text/plain": [
       "1"
      ],
      "text/latex": "$\\displaystyle 1$"
     },
     "execution_count": 7,
     "metadata": {},
     "output_type": "execute_result"
    }
   ],
   "execution_count": 7
  },
  {
   "metadata": {
    "ExecuteTime": {
     "end_time": "2025-01-09T19:15:55.713071Z",
     "start_time": "2025-01-09T19:15:55.707803Z"
    }
   },
   "cell_type": "code",
   "source": "f1.subs(x, 2)",
   "outputs": [
    {
     "data": {
      "text/plain": [
       "2"
      ],
      "text/latex": "$\\displaystyle 2$"
     },
     "execution_count": 8,
     "metadata": {},
     "output_type": "execute_result"
    }
   ],
   "execution_count": 8
  },
  {
   "metadata": {
    "ExecuteTime": {
     "end_time": "2025-01-09T19:26:35.734400Z",
     "start_time": "2025-01-09T19:26:35.703006Z"
    }
   },
   "cell_type": "code",
   "source": "solve(f1)",
   "outputs": [
    {
     "data": {
      "text/plain": [
       "[0, -sqrt(7), sqrt(7)]"
      ]
     },
     "execution_count": 9,
     "metadata": {},
     "output_type": "execute_result"
    }
   ],
   "execution_count": 9
  },
  {
   "metadata": {
    "ExecuteTime": {
     "end_time": "2025-01-09T19:27:40.169354Z",
     "start_time": "2025-01-09T19:27:40.065729Z"
    }
   },
   "cell_type": "code",
   "source": "solve_univariate_inequality(f1>0, x)",
   "outputs": [
    {
     "data": {
      "text/plain": [
       "Ne(x, 0) & (x < sqrt(7)) & (x > -sqrt(7))"
      ],
      "text/latex": "$\\displaystyle x > - \\sqrt{7} \\wedge x < \\sqrt{7} \\wedge x \\neq 0$"
     },
     "execution_count": 11,
     "metadata": {},
     "output_type": "execute_result"
    }
   ],
   "execution_count": 11
  },
  {
   "metadata": {
    "ExecuteTime": {
     "end_time": "2025-01-09T19:27:59.674777Z",
     "start_time": "2025-01-09T19:27:59.598308Z"
    }
   },
   "cell_type": "code",
   "source": "solve_univariate_inequality(f1<0, x)",
   "outputs": [
    {
     "data": {
      "text/plain": [
       "((x < oo) & (sqrt(7) < x)) | ((-oo < x) & (x < -sqrt(7)))"
      ],
      "text/latex": "$\\displaystyle \\left(-\\infty < x \\wedge x < - \\sqrt{7}\\right) \\vee \\left(\\sqrt{7} < x \\wedge x < \\infty\\right)$"
     },
     "execution_count": 12,
     "metadata": {},
     "output_type": "execute_result"
    }
   ],
   "execution_count": 12
  },
  {
   "metadata": {
    "ExecuteTime": {
     "end_time": "2025-01-09T19:30:02.213100Z",
     "start_time": "2025-01-09T19:30:02.045636Z"
    }
   },
   "cell_type": "code",
   "source": [
    "x_range = np.linspace(-3, 3, num=100)\n",
    "fu = lambda x: -x**4/6 + 7*x**2/6\n",
    "plt.scatter([-2,-1,0,1,2], [2,1,0,1,2], c='r')\n",
    "plt.axhline(0, color='black')\n",
    "plt.axvline(0, color='black')\n",
    "plt.plot(x_range, fu(x_range))"
   ],
   "outputs": [
    {
     "data": {
      "text/plain": [
       "[<matplotlib.lines.Line2D at 0x1cd417e5d30>]"
      ]
     },
     "execution_count": 13,
     "metadata": {},
     "output_type": "execute_result"
    },
    {
     "data": {
      "text/plain": [
       "<Figure size 640x480 with 1 Axes>"
      ],
      "image/png": "[encoded data removed]"
     },
     "metadata": {},
     "output_type": "display_data"
    }
   ],
   "execution_count": 13
  },
  {
   "metadata": {
    "ExecuteTime": {
     "end_time": "2025-01-09T19:35:26.664373Z",
     "start_time": "2025-01-09T19:35:26.517654Z"
    }
   },
   "cell_type": "code",
   "source": [
    "eq1_lp = -243*a5 + 81*a4 - 27*a3 + 9*a2 - 3*a1 + a0 - 33\n",
    "eq2_lp = -32*a5 + 16*a4 -8*a3 + 4*a2 - 2*a1 + a0 - 31\n",
    "eq3_lp = -a5 + a4 -a3 + a2 - a1 + a0 - 18\n",
    "eq4_lp = a5 + a4 + a3 + a2 + a1 + a0 + 18\n",
    "eq5_lp = 32*a5 + 16*a4 + 8*a3 + 4*a2 + 2*a1 + a0 + 31\n",
    "eq6_lp = 243*a5 + 81*a4 + 27*a3 + 9*a2 + 3*a1 + a0 + 33\n",
    "nonlinsolve([eq1_lp, eq2_lp, eq3_lp, eq4_lp, eq5_lp, eq6_lp], [a5, a4, a3, a2, a1, a0])"
   ],
   "outputs": [
    {
     "data": {
      "text/plain": [
       "{(1/120, 0, 19/24, 0, -94/5, 0)}"
      ],
      "text/latex": "$\\displaystyle \\left\\{\\left( \\frac{1}{120}, \\  0, \\  \\frac{19}{24}, \\  0, \\  - \\frac{94}{5}, \\  0\\right)\\right\\}$"
     },
     "execution_count": 14,
     "metadata": {},
     "output_type": "execute_result"
    }
   ],
   "execution_count": 14
  },
  {
   "metadata": {
    "ExecuteTime": {
     "end_time": "2025-01-09T19:36:58.431121Z",
     "start_time": "2025-01-09T19:36:58.390234Z"
    }
   },
   "cell_type": "code",
   "source": [
    "f2 = x**5/120 + 19*x**3/24 - 94*x/5\n",
    "solve(f2)"
   ],
   "outputs": [
    {
     "data": {
      "text/plain": [
       "[0,\n",
       " -I*sqrt(95/2 + sqrt(18049)/2),\n",
       " I*sqrt(95/2 + sqrt(18049)/2),\n",
       " -sqrt(-95/2 + sqrt(18049)/2),\n",
       " sqrt(-95/2 + sqrt(18049)/2)]"
      ]
     },
     "execution_count": 15,
     "metadata": {},
     "output_type": "execute_result"
    }
   ],
   "execution_count": 15
  },
  {
   "metadata": {
    "ExecuteTime": {
     "end_time": "2025-01-09T19:37:46.767225Z",
     "start_time": "2025-01-09T19:37:46.757331Z"
    }
   },
   "cell_type": "code",
   "source": "f2.subs(x, -3)",
   "outputs": [
    {
     "data": {
      "text/plain": [
       "33"
      ],
      "text/latex": "$\\displaystyle 33$"
     },
     "execution_count": 16,
     "metadata": {},
     "output_type": "execute_result"
    }
   ],
   "execution_count": 16
  },
  {
   "metadata": {
    "ExecuteTime": {
     "end_time": "2025-01-09T19:37:58.255180Z",
     "start_time": "2025-01-09T19:37:58.248059Z"
    }
   },
   "cell_type": "code",
   "source": "f2.subs(x, 3)",
   "outputs": [
    {
     "data": {
      "text/plain": [
       "-33"
      ],
      "text/latex": "$\\displaystyle -33$"
     },
     "execution_count": 17,
     "metadata": {},
     "output_type": "execute_result"
    }
   ],
   "execution_count": 17
  },
  {
   "metadata": {
    "ExecuteTime": {
     "end_time": "2025-01-09T19:38:07.642127Z",
     "start_time": "2025-01-09T19:38:07.632951Z"
    }
   },
   "cell_type": "code",
   "source": "f2.subs(x, -2)",
   "outputs": [
    {
     "data": {
      "text/plain": [
       "31"
      ],
      "text/latex": "$\\displaystyle 31$"
     },
     "execution_count": 18,
     "metadata": {},
     "output_type": "execute_result"
    }
   ],
   "execution_count": 18
  },
  {
   "metadata": {
    "ExecuteTime": {
     "end_time": "2025-01-09T19:38:15.220184Z",
     "start_time": "2025-01-09T19:38:15.210259Z"
    }
   },
   "cell_type": "code",
   "source": "f2.subs(x, 2)",
   "outputs": [
    {
     "data": {
      "text/plain": [
       "-31"
      ],
      "text/latex": "$\\displaystyle -31$"
     },
     "execution_count": 19,
     "metadata": {},
     "output_type": "execute_result"
    }
   ],
   "execution_count": 19
  },
  {
   "metadata": {
    "ExecuteTime": {
     "end_time": "2025-01-09T19:38:28.063654Z",
     "start_time": "2025-01-09T19:38:28.048340Z"
    }
   },
   "cell_type": "code",
   "source": "f2.subs(x, -1)",
   "outputs": [
    {
     "data": {
      "text/plain": [
       "18"
      ],
      "text/latex": "$\\displaystyle 18$"
     },
     "execution_count": 20,
     "metadata": {},
     "output_type": "execute_result"
    }
   ],
   "execution_count": 20
  },
  {
   "metadata": {
    "ExecuteTime": {
     "end_time": "2025-01-09T19:38:40.242427Z",
     "start_time": "2025-01-09T19:38:40.233970Z"
    }
   },
   "cell_type": "code",
   "source": "f2.subs(x, 1)",
   "outputs": [
    {
     "data": {
      "text/plain": [
       "-18"
      ],
      "text/latex": "$\\displaystyle -18$"
     },
     "execution_count": 21,
     "metadata": {},
     "output_type": "execute_result"
    }
   ],
   "execution_count": 21
  },
  {
   "metadata": {
    "ExecuteTime": {
     "end_time": "2025-01-09T19:41:16.929616Z",
     "start_time": "2025-01-09T19:41:16.764686Z"
    }
   },
   "cell_type": "code",
   "source": "solve_univariate_inequality(f2>0, x)",
   "outputs": [
    {
     "data": {
      "text/plain": [
       "((x < oo) & (sqrt(-95/2 + sqrt(18049)/2) < x)) | ((x < 0) & (-sqrt(-95/2 + sqrt(18049)/2) < x))"
      ],
      "text/latex": "$\\displaystyle \\left(x < 0 \\wedge - \\sqrt{- \\frac{95}{2} + \\frac{\\sqrt{18049}}{2}} < x\\right) \\vee \\left(x < \\infty \\wedge \\sqrt{- \\frac{95}{2} + \\frac{\\sqrt{18049}}{2}} < x\\right)$"
     },
     "execution_count": 22,
     "metadata": {},
     "output_type": "execute_result"
    }
   ],
   "execution_count": 22
  },
  {
   "metadata": {
    "ExecuteTime": {
     "end_time": "2025-01-09T19:41:45.232066Z",
     "start_time": "2025-01-09T19:41:45.096540Z"
    }
   },
   "cell_type": "code",
   "source": "solve_univariate_inequality(f2<0, x)",
   "outputs": [
    {
     "data": {
      "text/plain": [
       "((0 < x) & (x < sqrt(-95/2 + sqrt(18049)/2))) | ((-oo < x) & (x < -sqrt(-95/2 + sqrt(18049)/2)))"
      ],
      "text/latex": "$\\displaystyle \\left(-\\infty < x \\wedge x < - \\sqrt{- \\frac{95}{2} + \\frac{\\sqrt{18049}}{2}}\\right) \\vee \\left(0 < x \\wedge x < \\sqrt{- \\frac{95}{2} + \\frac{\\sqrt{18049}}{2}}\\right)$"
     },
     "execution_count": 23,
     "metadata": {},
     "output_type": "execute_result"
    }
   ],
   "execution_count": 23
  },
  {
   "metadata": {
    "ExecuteTime": {
     "end_time": "2025-01-09T19:43:11.962782Z",
     "start_time": "2025-01-09T19:43:11.831674Z"
    }
   },
   "cell_type": "code",
   "source": [
    "x_range = np.linspace(-5, 5, num=100)\n",
    "fu = lambda x: x**5/120 + 19*x**3/24 - 94*x/5\n",
    "plt.scatter([-3,-2,-1,1,2,3], [33,31,18,-18,-31,-33], c='r')\n",
    "plt.axhline(0, color='black')\n",
    "plt.axvline(0, color='black')\n",
    "plt.plot(x_range, fu(x_range))"
   ],
   "outputs": [
    {
     "data": {
      "text/plain": [
       "[<matplotlib.lines.Line2D at 0x1cd439923c0>]"
      ]
     },
     "execution_count": 24,
     "metadata": {},
     "output_type": "execute_result"
    },
    {
     "data": {
      "text/plain": [
       "<Figure size 640x480 with 1 Axes>"
      ],
      "image/png": "[encoded data removed]"
     },
     "metadata": {},
     "output_type": "display_data"
    }
   ],
   "execution_count": 24
  }
 ]
}
